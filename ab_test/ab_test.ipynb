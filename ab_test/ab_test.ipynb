{
 "cells": [
  {
   "cell_type": "markdown",
   "id": "64197765",
   "metadata": {},
   "source": [
    "# Приоритизация гипотез и анализ результатов А/В-теста"
   ]
  },
  {
   "cell_type": "markdown",
   "id": "8b0b6160",
   "metadata": {},
   "source": [
    "## План работы"
   ]
  },
  {
   "cell_type": "markdown",
   "id": "e2065758",
   "metadata": {},
   "source": [
    "1. Приоритизация гипотез:\n",
    "- фреймворк ICE;\n",
    "- фреймворк RICE.\n",
    "\n",
    "2. Анализ А/В-теста.\n",
    "\n",
    "Анализ:\n",
    "\n",
    "- кумулятивной выручки по группам;\n",
    "- кумулятивного среднего чека по группам;\n",
    "- относительного изменения кумулятивного среднего чека группы B к группе A;\n",
    "- кумулятивной конверсии по группам;\n",
    "- относительного изменения кумулятивной конверсии группы B к группе A;\n",
    "- количества заказов по пользователям;\n",
    "- 95-го и 99-го перцентилей количества заказов на пользователя, определение границы для аномальных пользователей;\n",
    "- стоимостей заказов;\n",
    "- 95-го и 99-го перцентилей стоимости заказов, определение границы для аномальных заказов.\n",
    "\n",
    "Расчет статистической значимости различий:\n",
    "\n",
    "- в конверсии между группами по «сырым» данным;\n",
    "- в среднем чеке заказа между группами по «сырым» данным;\n",
    "- в конверсии между группами по «очищенным» данным;\n",
    "- в среднем чеке заказа между группами по «очищенным» данным.\n",
    "\n",
    "3. Выводы и решение по тесту"
   ]
  },
  {
   "cell_type": "markdown",
   "id": "0361a36d",
   "metadata": {},
   "source": [
    "## Приоритизация гипотез"
   ]
  },
  {
   "cell_type": "code",
   "execution_count": 1,
   "id": "87e6d21f",
   "metadata": {},
   "outputs": [],
   "source": [
    "import pandas as pd\n",
    "from scipy import stats as st\n",
    "import scipy.stats as stats\n",
    "import datetime as dt\n",
    "import numpy as np\n",
    "import matplotlib.pyplot as plt"
   ]
  },
  {
   "cell_type": "code",
   "execution_count": 2,
   "id": "fce1a02c",
   "metadata": {},
   "outputs": [],
   "source": [
    "# определяем переменные для датасетов\n",
    "visitors, orders, hypothesis = (\n",
    "    pd.read_csv('/datasets/visitors.csv'), # пользователи\n",
    "    pd.read_csv('/datasets/orders.csv'), # покупки\n",
    "    pd.read_csv('/datasets/hypothesis.csv') # гипотезы\n",
    ")"
   ]
  },
  {
   "cell_type": "code",
   "execution_count": 3,
   "id": "79c3903d",
   "metadata": {},
   "outputs": [
    {
     "data": {
      "text/html": [
       "<div>\n",
       "<style scoped>\n",
       "    .dataframe tbody tr th:only-of-type {\n",
       "        vertical-align: middle;\n",
       "    }\n",
       "\n",
       "    .dataframe tbody tr th {\n",
       "        vertical-align: top;\n",
       "    }\n",
       "\n",
       "    .dataframe thead th {\n",
       "        text-align: right;\n",
       "    }\n",
       "</style>\n",
       "<table border=\"1\" class=\"dataframe\">\n",
       "  <thead>\n",
       "    <tr style=\"text-align: right;\">\n",
       "      <th></th>\n",
       "      <th>Hypothesis</th>\n",
       "      <th>Reach</th>\n",
       "      <th>Impact</th>\n",
       "      <th>Confidence</th>\n",
       "      <th>Efforts</th>\n",
       "    </tr>\n",
       "  </thead>\n",
       "  <tbody>\n",
       "    <tr>\n",
       "      <th>0</th>\n",
       "      <td>Добавить два новых канала привлечения трафика, что позволит привлекать на 30% больше пользователей</td>\n",
       "      <td>3</td>\n",
       "      <td>10</td>\n",
       "      <td>8</td>\n",
       "      <td>6</td>\n",
       "    </tr>\n",
       "    <tr>\n",
       "      <th>1</th>\n",
       "      <td>Запустить собственную службу доставки, что сократит срок доставки заказов</td>\n",
       "      <td>2</td>\n",
       "      <td>5</td>\n",
       "      <td>4</td>\n",
       "      <td>10</td>\n",
       "    </tr>\n",
       "    <tr>\n",
       "      <th>2</th>\n",
       "      <td>Добавить блоки рекомендаций товаров на сайт интернет магазина, чтобы повысить конверсию и средний чек заказа</td>\n",
       "      <td>8</td>\n",
       "      <td>3</td>\n",
       "      <td>7</td>\n",
       "      <td>3</td>\n",
       "    </tr>\n",
       "    <tr>\n",
       "      <th>3</th>\n",
       "      <td>Изменить структура категорий, что увеличит конверсию, т.к. пользователи быстрее найдут нужный товар</td>\n",
       "      <td>8</td>\n",
       "      <td>3</td>\n",
       "      <td>3</td>\n",
       "      <td>8</td>\n",
       "    </tr>\n",
       "    <tr>\n",
       "      <th>4</th>\n",
       "      <td>Изменить цвет фона главной страницы, чтобы увеличить вовлеченность пользователей</td>\n",
       "      <td>3</td>\n",
       "      <td>1</td>\n",
       "      <td>1</td>\n",
       "      <td>1</td>\n",
       "    </tr>\n",
       "    <tr>\n",
       "      <th>5</th>\n",
       "      <td>Добавить страницу отзывов клиентов о магазине, что позволит увеличить количество заказов</td>\n",
       "      <td>3</td>\n",
       "      <td>2</td>\n",
       "      <td>2</td>\n",
       "      <td>3</td>\n",
       "    </tr>\n",
       "    <tr>\n",
       "      <th>6</th>\n",
       "      <td>Показать на главной странице баннеры с актуальными акциями и распродажами, чтобы увеличить конверсию</td>\n",
       "      <td>5</td>\n",
       "      <td>3</td>\n",
       "      <td>8</td>\n",
       "      <td>3</td>\n",
       "    </tr>\n",
       "    <tr>\n",
       "      <th>7</th>\n",
       "      <td>Добавить форму подписки на все основные страницы, чтобы собрать базу клиентов для email-рассылок</td>\n",
       "      <td>10</td>\n",
       "      <td>7</td>\n",
       "      <td>8</td>\n",
       "      <td>5</td>\n",
       "    </tr>\n",
       "    <tr>\n",
       "      <th>8</th>\n",
       "      <td>Запустить акцию, дающую скидку на товар в день рождения</td>\n",
       "      <td>1</td>\n",
       "      <td>9</td>\n",
       "      <td>9</td>\n",
       "      <td>5</td>\n",
       "    </tr>\n",
       "  </tbody>\n",
       "</table>\n",
       "</div>"
      ],
      "text/plain": [
       "                                                                                                     Hypothesis  \\\n",
       "0  Добавить два новых канала привлечения трафика, что позволит привлекать на 30% больше пользователей             \n",
       "1  Запустить собственную службу доставки, что сократит срок доставки заказов                                      \n",
       "2  Добавить блоки рекомендаций товаров на сайт интернет магазина, чтобы повысить конверсию и средний чек заказа   \n",
       "3  Изменить структура категорий, что увеличит конверсию, т.к. пользователи быстрее найдут нужный товар            \n",
       "4  Изменить цвет фона главной страницы, чтобы увеличить вовлеченность пользователей                               \n",
       "5  Добавить страницу отзывов клиентов о магазине, что позволит увеличить количество заказов                       \n",
       "6  Показать на главной странице баннеры с актуальными акциями и распродажами, чтобы увеличить конверсию           \n",
       "7  Добавить форму подписки на все основные страницы, чтобы собрать базу клиентов для email-рассылок               \n",
       "8  Запустить акцию, дающую скидку на товар в день рождения                                                        \n",
       "\n",
       "   Reach  Impact  Confidence  Efforts  \n",
       "0  3      10      8           6        \n",
       "1  2      5       4           10       \n",
       "2  8      3       7           3        \n",
       "3  8      3       3           8        \n",
       "4  3      1       1           1        \n",
       "5  3      2       2           3        \n",
       "6  5      3       8           3        \n",
       "7  10     7       8           5        \n",
       "8  1      9       9           5        "
      ]
     },
     "execution_count": 3,
     "metadata": {},
     "output_type": "execute_result"
    }
   ],
   "source": [
    "pd.options.display.max_colwidth = 1\n",
    "hypothesis"
   ]
  },
  {
   "cell_type": "markdown",
   "id": "4c88215f",
   "metadata": {},
   "source": [
    "- `Hypothesis` — краткое описание гипотезы;\n",
    "- `Reach` — охват пользователей по 10-балльной шкале;\n",
    "- `Impact` — влияние на пользователей по 10-балльной шкале;\n",
    "- `Confidence` — уверенность в гипотезе по 10-балльной шкале;\n",
    "- `Efforts` — затраты ресурсов на проверку гипотезы по 10-балльной шкале. \n",
    "Чем больше значение `Efforts`, тем дороже проверка гипотезы."
   ]
  },
  {
   "cell_type": "code",
   "execution_count": 4,
   "id": "3f13c3c5",
   "metadata": {},
   "outputs": [],
   "source": [
    "# уберем заглавные буквы из названий столбцов\n",
    "hypothesis.columns = hypothesis.columns.str.lower()"
   ]
  },
  {
   "cell_type": "code",
   "execution_count": 5,
   "id": "a7a11610",
   "metadata": {},
   "outputs": [
    {
     "data": {
      "text/html": [
       "<div>\n",
       "<style scoped>\n",
       "    .dataframe tbody tr th:only-of-type {\n",
       "        vertical-align: middle;\n",
       "    }\n",
       "\n",
       "    .dataframe tbody tr th {\n",
       "        vertical-align: top;\n",
       "    }\n",
       "\n",
       "    .dataframe thead th {\n",
       "        text-align: right;\n",
       "    }\n",
       "</style>\n",
       "<table border=\"1\" class=\"dataframe\">\n",
       "  <thead>\n",
       "    <tr style=\"text-align: right;\">\n",
       "      <th></th>\n",
       "      <th>hypothesis</th>\n",
       "      <th>ice</th>\n",
       "    </tr>\n",
       "  </thead>\n",
       "  <tbody>\n",
       "    <tr>\n",
       "      <th>8</th>\n",
       "      <td>Запустить акцию, дающую скидку на товар в день рождения</td>\n",
       "      <td>16.20</td>\n",
       "    </tr>\n",
       "    <tr>\n",
       "      <th>0</th>\n",
       "      <td>Добавить два новых канала привлечения трафика, что позволит привлекать на 30% больше пользователей</td>\n",
       "      <td>13.33</td>\n",
       "    </tr>\n",
       "    <tr>\n",
       "      <th>7</th>\n",
       "      <td>Добавить форму подписки на все основные страницы, чтобы собрать базу клиентов для email-рассылок</td>\n",
       "      <td>11.20</td>\n",
       "    </tr>\n",
       "    <tr>\n",
       "      <th>6</th>\n",
       "      <td>Показать на главной странице баннеры с актуальными акциями и распродажами, чтобы увеличить конверсию</td>\n",
       "      <td>8.00</td>\n",
       "    </tr>\n",
       "    <tr>\n",
       "      <th>2</th>\n",
       "      <td>Добавить блоки рекомендаций товаров на сайт интернет магазина, чтобы повысить конверсию и средний чек заказа</td>\n",
       "      <td>7.00</td>\n",
       "    </tr>\n",
       "    <tr>\n",
       "      <th>1</th>\n",
       "      <td>Запустить собственную службу доставки, что сократит срок доставки заказов</td>\n",
       "      <td>2.00</td>\n",
       "    </tr>\n",
       "    <tr>\n",
       "      <th>5</th>\n",
       "      <td>Добавить страницу отзывов клиентов о магазине, что позволит увеличить количество заказов</td>\n",
       "      <td>1.33</td>\n",
       "    </tr>\n",
       "    <tr>\n",
       "      <th>3</th>\n",
       "      <td>Изменить структура категорий, что увеличит конверсию, т.к. пользователи быстрее найдут нужный товар</td>\n",
       "      <td>1.12</td>\n",
       "    </tr>\n",
       "    <tr>\n",
       "      <th>4</th>\n",
       "      <td>Изменить цвет фона главной страницы, чтобы увеличить вовлеченность пользователей</td>\n",
       "      <td>1.00</td>\n",
       "    </tr>\n",
       "  </tbody>\n",
       "</table>\n",
       "</div>"
      ],
      "text/plain": [
       "                                                                                                     hypothesis  \\\n",
       "8  Запустить акцию, дающую скидку на товар в день рождения                                                        \n",
       "0  Добавить два новых канала привлечения трафика, что позволит привлекать на 30% больше пользователей             \n",
       "7  Добавить форму подписки на все основные страницы, чтобы собрать базу клиентов для email-рассылок               \n",
       "6  Показать на главной странице баннеры с актуальными акциями и распродажами, чтобы увеличить конверсию           \n",
       "2  Добавить блоки рекомендаций товаров на сайт интернет магазина, чтобы повысить конверсию и средний чек заказа   \n",
       "1  Запустить собственную службу доставки, что сократит срок доставки заказов                                      \n",
       "5  Добавить страницу отзывов клиентов о магазине, что позволит увеличить количество заказов                       \n",
       "3  Изменить структура категорий, что увеличит конверсию, т.к. пользователи быстрее найдут нужный товар            \n",
       "4  Изменить цвет фона главной страницы, чтобы увеличить вовлеченность пользователей                               \n",
       "\n",
       "     ice  \n",
       "8  16.20  \n",
       "0  13.33  \n",
       "7  11.20  \n",
       "6  8.00   \n",
       "2  7.00   \n",
       "1  2.00   \n",
       "5  1.33   \n",
       "3  1.12   \n",
       "4  1.00   "
      ]
     },
     "execution_count": 5,
     "metadata": {},
     "output_type": "execute_result"
    }
   ],
   "source": [
    "# посчитаем ICE\n",
    "hypothesis['ice'] = round((hypothesis['impact'] * hypothesis['confidence']) / hypothesis['efforts'], 2)\n",
    "hypothesis[['hypothesis', 'ice']].sort_values(by='ice', ascending=False).head(9)"
   ]
  },
  {
   "cell_type": "code",
   "execution_count": 6,
   "id": "7173f479",
   "metadata": {},
   "outputs": [
    {
     "data": {
      "text/html": [
       "<div>\n",
       "<style scoped>\n",
       "    .dataframe tbody tr th:only-of-type {\n",
       "        vertical-align: middle;\n",
       "    }\n",
       "\n",
       "    .dataframe tbody tr th {\n",
       "        vertical-align: top;\n",
       "    }\n",
       "\n",
       "    .dataframe thead th {\n",
       "        text-align: right;\n",
       "    }\n",
       "</style>\n",
       "<table border=\"1\" class=\"dataframe\">\n",
       "  <thead>\n",
       "    <tr style=\"text-align: right;\">\n",
       "      <th></th>\n",
       "      <th>hypothesis</th>\n",
       "      <th>rice</th>\n",
       "    </tr>\n",
       "  </thead>\n",
       "  <tbody>\n",
       "    <tr>\n",
       "      <th>7</th>\n",
       "      <td>Добавить форму подписки на все основные страницы, чтобы собрать базу клиентов для email-рассылок</td>\n",
       "      <td>112.0</td>\n",
       "    </tr>\n",
       "    <tr>\n",
       "      <th>2</th>\n",
       "      <td>Добавить блоки рекомендаций товаров на сайт интернет магазина, чтобы повысить конверсию и средний чек заказа</td>\n",
       "      <td>56.0</td>\n",
       "    </tr>\n",
       "    <tr>\n",
       "      <th>0</th>\n",
       "      <td>Добавить два новых канала привлечения трафика, что позволит привлекать на 30% больше пользователей</td>\n",
       "      <td>40.0</td>\n",
       "    </tr>\n",
       "    <tr>\n",
       "      <th>6</th>\n",
       "      <td>Показать на главной странице баннеры с актуальными акциями и распродажами, чтобы увеличить конверсию</td>\n",
       "      <td>40.0</td>\n",
       "    </tr>\n",
       "    <tr>\n",
       "      <th>8</th>\n",
       "      <td>Запустить акцию, дающую скидку на товар в день рождения</td>\n",
       "      <td>16.2</td>\n",
       "    </tr>\n",
       "    <tr>\n",
       "      <th>3</th>\n",
       "      <td>Изменить структура категорий, что увеличит конверсию, т.к. пользователи быстрее найдут нужный товар</td>\n",
       "      <td>9.0</td>\n",
       "    </tr>\n",
       "    <tr>\n",
       "      <th>1</th>\n",
       "      <td>Запустить собственную службу доставки, что сократит срок доставки заказов</td>\n",
       "      <td>4.0</td>\n",
       "    </tr>\n",
       "    <tr>\n",
       "      <th>5</th>\n",
       "      <td>Добавить страницу отзывов клиентов о магазине, что позволит увеличить количество заказов</td>\n",
       "      <td>4.0</td>\n",
       "    </tr>\n",
       "    <tr>\n",
       "      <th>4</th>\n",
       "      <td>Изменить цвет фона главной страницы, чтобы увеличить вовлеченность пользователей</td>\n",
       "      <td>3.0</td>\n",
       "    </tr>\n",
       "  </tbody>\n",
       "</table>\n",
       "</div>"
      ],
      "text/plain": [
       "                                                                                                     hypothesis  \\\n",
       "7  Добавить форму подписки на все основные страницы, чтобы собрать базу клиентов для email-рассылок               \n",
       "2  Добавить блоки рекомендаций товаров на сайт интернет магазина, чтобы повысить конверсию и средний чек заказа   \n",
       "0  Добавить два новых канала привлечения трафика, что позволит привлекать на 30% больше пользователей             \n",
       "6  Показать на главной странице баннеры с актуальными акциями и распродажами, чтобы увеличить конверсию           \n",
       "8  Запустить акцию, дающую скидку на товар в день рождения                                                        \n",
       "3  Изменить структура категорий, что увеличит конверсию, т.к. пользователи быстрее найдут нужный товар            \n",
       "1  Запустить собственную службу доставки, что сократит срок доставки заказов                                      \n",
       "5  Добавить страницу отзывов клиентов о магазине, что позволит увеличить количество заказов                       \n",
       "4  Изменить цвет фона главной страницы, чтобы увеличить вовлеченность пользователей                               \n",
       "\n",
       "    rice  \n",
       "7  112.0  \n",
       "2  56.0   \n",
       "0  40.0   \n",
       "6  40.0   \n",
       "8  16.2   \n",
       "3  9.0    \n",
       "1  4.0    \n",
       "5  4.0    \n",
       "4  3.0    "
      ]
     },
     "execution_count": 6,
     "metadata": {},
     "output_type": "execute_result"
    }
   ],
   "source": [
    "# посчитаем RICE\n",
    "hypothesis['rice'] = (hypothesis['impact'] * hypothesis['confidence'] * hypothesis['reach']) / hypothesis['efforts']\n",
    "hypothesis[['hypothesis', 'rice']].sort_values(by='rice', ascending=False).head(9)"
   ]
  },
  {
   "cell_type": "markdown",
   "id": "84aa3a3f",
   "metadata": {},
   "source": [
    "При приоритезировании с помощью фреймворка ICE учитывались показатели влияния на пользователей, уверенность в гипотезе и затрат ресурсов.\n",
    "\n",
    "При такой оценке лидером стала девятая гипотеза, у которой высокие показатели Impact и Confidence и средний показатель по затратности. На втором месте оказалась первая гипотеза с максимальным Impact, Confidence немногим ниже, чем у предыдущей гипотезы, но при этом чуть более затратной.\n",
    "\n",
    "При смене фреймворка учитываться стал также охват пользователей, поэтому на первое место вышла восьмая гипотеза с максимальным охватом, а второе место заняла гипотеза с довольно высокими Reach и Confidence, при этом с низким показателем Efforts. Первая гипотеза оказалась на третьем месте.\n",
    "\n",
    "Таким образом, наиболее подходящей для тестирования оказывается гипотеза с индексом 7, также можно рассмотреть гипотезу с индексом 0."
   ]
  },
  {
   "cell_type": "markdown",
   "id": "fc262157",
   "metadata": {},
   "source": [
    "## Анализ А/В-теста"
   ]
  },
  {
   "cell_type": "markdown",
   "id": "0f4d651c",
   "metadata": {},
   "source": [
    "### Предобработка данных"
   ]
  },
  {
   "cell_type": "code",
   "execution_count": 7,
   "id": "71920690",
   "metadata": {},
   "outputs": [],
   "source": [
    "# функция для оценки необходимости предобработки данных\n",
    "def describe(data, column):\n",
    "    display(data)\n",
    "    print('\\033[1m' + 'Информация о датафрейме' + '\\033[0m')\n",
    "    print(data.info())\n",
    "#     print('\\033[1m' + 'Количество пропусков' + '\\033[0m')\n",
    "#     print(data.isnull().sum())\n",
    "    print('\\033[1m' + 'Количество дубликатов' + '\\033[0m')\n",
    "    print(data.duplicated().sum())\n",
    "    print('\\033[1m' + 'Описание датафрейма' + '\\033[0m')\n",
    "    print(data.describe())\n",
    "    plt.boxplot(column)\n",
    "    plt.show()"
   ]
  },
  {
   "cell_type": "code",
   "execution_count": 8,
   "id": "046b4ed3",
   "metadata": {},
   "outputs": [
    {
     "data": {
      "text/html": [
       "<div>\n",
       "<style scoped>\n",
       "    .dataframe tbody tr th:only-of-type {\n",
       "        vertical-align: middle;\n",
       "    }\n",
       "\n",
       "    .dataframe tbody tr th {\n",
       "        vertical-align: top;\n",
       "    }\n",
       "\n",
       "    .dataframe thead th {\n",
       "        text-align: right;\n",
       "    }\n",
       "</style>\n",
       "<table border=\"1\" class=\"dataframe\">\n",
       "  <thead>\n",
       "    <tr style=\"text-align: right;\">\n",
       "      <th></th>\n",
       "      <th>date</th>\n",
       "      <th>group</th>\n",
       "      <th>visitors</th>\n",
       "    </tr>\n",
       "  </thead>\n",
       "  <tbody>\n",
       "    <tr>\n",
       "      <th>0</th>\n",
       "      <td>2019-08-01</td>\n",
       "      <td>A</td>\n",
       "      <td>719</td>\n",
       "    </tr>\n",
       "    <tr>\n",
       "      <th>1</th>\n",
       "      <td>2019-08-02</td>\n",
       "      <td>A</td>\n",
       "      <td>619</td>\n",
       "    </tr>\n",
       "    <tr>\n",
       "      <th>2</th>\n",
       "      <td>2019-08-03</td>\n",
       "      <td>A</td>\n",
       "      <td>507</td>\n",
       "    </tr>\n",
       "    <tr>\n",
       "      <th>3</th>\n",
       "      <td>2019-08-04</td>\n",
       "      <td>A</td>\n",
       "      <td>717</td>\n",
       "    </tr>\n",
       "    <tr>\n",
       "      <th>4</th>\n",
       "      <td>2019-08-05</td>\n",
       "      <td>A</td>\n",
       "      <td>756</td>\n",
       "    </tr>\n",
       "    <tr>\n",
       "      <th>...</th>\n",
       "      <td>...</td>\n",
       "      <td>...</td>\n",
       "      <td>...</td>\n",
       "    </tr>\n",
       "    <tr>\n",
       "      <th>57</th>\n",
       "      <td>2019-08-27</td>\n",
       "      <td>B</td>\n",
       "      <td>720</td>\n",
       "    </tr>\n",
       "    <tr>\n",
       "      <th>58</th>\n",
       "      <td>2019-08-28</td>\n",
       "      <td>B</td>\n",
       "      <td>654</td>\n",
       "    </tr>\n",
       "    <tr>\n",
       "      <th>59</th>\n",
       "      <td>2019-08-29</td>\n",
       "      <td>B</td>\n",
       "      <td>531</td>\n",
       "    </tr>\n",
       "    <tr>\n",
       "      <th>60</th>\n",
       "      <td>2019-08-30</td>\n",
       "      <td>B</td>\n",
       "      <td>490</td>\n",
       "    </tr>\n",
       "    <tr>\n",
       "      <th>61</th>\n",
       "      <td>2019-08-31</td>\n",
       "      <td>B</td>\n",
       "      <td>718</td>\n",
       "    </tr>\n",
       "  </tbody>\n",
       "</table>\n",
       "<p>62 rows × 3 columns</p>\n",
       "</div>"
      ],
      "text/plain": [
       "          date group  visitors\n",
       "0   2019-08-01  A     719     \n",
       "1   2019-08-02  A     619     \n",
       "2   2019-08-03  A     507     \n",
       "3   2019-08-04  A     717     \n",
       "4   2019-08-05  A     756     \n",
       "..         ... ..     ...     \n",
       "57  2019-08-27  B     720     \n",
       "58  2019-08-28  B     654     \n",
       "59  2019-08-29  B     531     \n",
       "60  2019-08-30  B     490     \n",
       "61  2019-08-31  B     718     \n",
       "\n",
       "[62 rows x 3 columns]"
      ]
     },
     "metadata": {},
     "output_type": "display_data"
    },
    {
     "name": "stdout",
     "output_type": "stream",
     "text": [
      "\u001b[1mИнформация о датафрейме\u001b[0m\n",
      "<class 'pandas.core.frame.DataFrame'>\n",
      "RangeIndex: 62 entries, 0 to 61\n",
      "Data columns (total 3 columns):\n",
      " #   Column    Non-Null Count  Dtype \n",
      "---  ------    --------------  ----- \n",
      " 0   date      62 non-null     object\n",
      " 1   group     62 non-null     object\n",
      " 2   visitors  62 non-null     int64 \n",
      "dtypes: int64(1), object(2)\n",
      "memory usage: 1.6+ KB\n",
      "None\n",
      "\u001b[1mКоличество дубликатов\u001b[0m\n",
      "0\n",
      "\u001b[1mОписание датафрейма\u001b[0m\n",
      "         visitors\n",
      "count  62.000000 \n",
      "mean   607.290323\n",
      "std    114.400560\n",
      "min    361.000000\n",
      "25%    534.000000\n",
      "50%    624.500000\n",
      "75%    710.500000\n",
      "max    770.000000\n"
     ]
    },
    {
     "data": {
      "image/png": "[encoded data removed]",
      "text/plain": [
       "<Figure size 432x288 with 1 Axes>"
      ]
     },
     "metadata": {
      "needs_background": "light"
     },
     "output_type": "display_data"
    }
   ],
   "source": [
    "describe(visitors, visitors['visitors'])"
   ]
  },
  {
   "cell_type": "markdown",
   "id": "7f3f6e22",
   "metadata": {},
   "source": [
    "- `date` — дата;\n",
    "- `group` — группа A/B-теста;\n",
    "- `visitors` — количество пользователей в указанную дату в указанной группе A/B-теста."
   ]
  },
  {
   "cell_type": "markdown",
   "id": "4fa8bcbc",
   "metadata": {},
   "source": [
    "Пропусков, дубликатов и выбросов в данных не обнаружено. \n",
    "\n",
    "Дату необходимо привести к правильному формату."
   ]
  },
  {
   "cell_type": "code",
   "execution_count": 9,
   "id": "56c94346",
   "metadata": {},
   "outputs": [
    {
     "name": "stdout",
     "output_type": "stream",
     "text": [
      "p-значение:  0.002020221436396241\n",
      "Отвергаем нулевую гипотезу: распределение не нормально\n"
     ]
    },
    {
     "data": {
      "image/png": "[encoded data removed]",
      "text/plain": [
       "<Figure size 432x288 with 1 Axes>"
      ]
     },
     "metadata": {
      "needs_background": "light"
     },
     "output_type": "display_data"
    }
   ],
   "source": [
    "# оценим распределение данных в датасете\n",
    "alpha = 0.05  \n",
    "\n",
    "results = st.shapiro(visitors['visitors'])\n",
    "p_value = results[\n",
    "    1\n",
    "]\n",
    "\n",
    "print('p-значение: ', p_value)\n",
    "\n",
    "if p_value < alpha:\n",
    "    print('Отвергаем нулевую гипотезу: распределение не нормально')\n",
    "else:\n",
    "    print('Не получилось отвергнуть нулевую гипотезу, всё нормально') \n",
    "\n",
    "# посмотрим на распределение на графике\n",
    "plt.hist(visitors['visitors'], bins=15)\n",
    "plt.show()"
   ]
  },
  {
   "cell_type": "code",
   "execution_count": 10,
   "id": "2bb20241",
   "metadata": {
    "scrolled": false
   },
   "outputs": [
    {
     "data": {
      "text/html": [
       "<div>\n",
       "<style scoped>\n",
       "    .dataframe tbody tr th:only-of-type {\n",
       "        vertical-align: middle;\n",
       "    }\n",
       "\n",
       "    .dataframe tbody tr th {\n",
       "        vertical-align: top;\n",
       "    }\n",
       "\n",
       "    .dataframe thead th {\n",
       "        text-align: right;\n",
       "    }\n",
       "</style>\n",
       "<table border=\"1\" class=\"dataframe\">\n",
       "  <thead>\n",
       "    <tr style=\"text-align: right;\">\n",
       "      <th></th>\n",
       "      <th>transactionId</th>\n",
       "      <th>visitorId</th>\n",
       "      <th>date</th>\n",
       "      <th>revenue</th>\n",
       "      <th>group</th>\n",
       "    </tr>\n",
       "  </thead>\n",
       "  <tbody>\n",
       "    <tr>\n",
       "      <th>0</th>\n",
       "      <td>3667963787</td>\n",
       "      <td>3312258926</td>\n",
       "      <td>2019-08-15</td>\n",
       "      <td>1650</td>\n",
       "      <td>B</td>\n",
       "    </tr>\n",
       "    <tr>\n",
       "      <th>1</th>\n",
       "      <td>2804400009</td>\n",
       "      <td>3642806036</td>\n",
       "      <td>2019-08-15</td>\n",
       "      <td>730</td>\n",
       "      <td>B</td>\n",
       "    </tr>\n",
       "    <tr>\n",
       "      <th>2</th>\n",
       "      <td>2961555356</td>\n",
       "      <td>4069496402</td>\n",
       "      <td>2019-08-15</td>\n",
       "      <td>400</td>\n",
       "      <td>A</td>\n",
       "    </tr>\n",
       "    <tr>\n",
       "      <th>3</th>\n",
       "      <td>3797467345</td>\n",
       "      <td>1196621759</td>\n",
       "      <td>2019-08-15</td>\n",
       "      <td>9759</td>\n",
       "      <td>B</td>\n",
       "    </tr>\n",
       "    <tr>\n",
       "      <th>4</th>\n",
       "      <td>2282983706</td>\n",
       "      <td>2322279887</td>\n",
       "      <td>2019-08-15</td>\n",
       "      <td>2308</td>\n",
       "      <td>B</td>\n",
       "    </tr>\n",
       "    <tr>\n",
       "      <th>...</th>\n",
       "      <td>...</td>\n",
       "      <td>...</td>\n",
       "      <td>...</td>\n",
       "      <td>...</td>\n",
       "      <td>...</td>\n",
       "    </tr>\n",
       "    <tr>\n",
       "      <th>1192</th>\n",
       "      <td>2662137336</td>\n",
       "      <td>3733762160</td>\n",
       "      <td>2019-08-14</td>\n",
       "      <td>6490</td>\n",
       "      <td>B</td>\n",
       "    </tr>\n",
       "    <tr>\n",
       "      <th>1193</th>\n",
       "      <td>2203539145</td>\n",
       "      <td>370388673</td>\n",
       "      <td>2019-08-14</td>\n",
       "      <td>3190</td>\n",
       "      <td>A</td>\n",
       "    </tr>\n",
       "    <tr>\n",
       "      <th>1194</th>\n",
       "      <td>1807773912</td>\n",
       "      <td>573423106</td>\n",
       "      <td>2019-08-14</td>\n",
       "      <td>10550</td>\n",
       "      <td>A</td>\n",
       "    </tr>\n",
       "    <tr>\n",
       "      <th>1195</th>\n",
       "      <td>1947021204</td>\n",
       "      <td>1614305549</td>\n",
       "      <td>2019-08-14</td>\n",
       "      <td>100</td>\n",
       "      <td>A</td>\n",
       "    </tr>\n",
       "    <tr>\n",
       "      <th>1196</th>\n",
       "      <td>3936777065</td>\n",
       "      <td>2108080724</td>\n",
       "      <td>2019-08-15</td>\n",
       "      <td>202740</td>\n",
       "      <td>B</td>\n",
       "    </tr>\n",
       "  </tbody>\n",
       "</table>\n",
       "<p>1197 rows × 5 columns</p>\n",
       "</div>"
      ],
      "text/plain": [
       "      transactionId   visitorId        date  revenue group\n",
       "0     3667963787     3312258926  2019-08-15  1650     B   \n",
       "1     2804400009     3642806036  2019-08-15  730      B   \n",
       "2     2961555356     4069496402  2019-08-15  400      A   \n",
       "3     3797467345     1196621759  2019-08-15  9759     B   \n",
       "4     2282983706     2322279887  2019-08-15  2308     B   \n",
       "...          ...            ...         ...   ...    ..   \n",
       "1192  2662137336     3733762160  2019-08-14  6490     B   \n",
       "1193  2203539145     370388673   2019-08-14  3190     A   \n",
       "1194  1807773912     573423106   2019-08-14  10550    A   \n",
       "1195  1947021204     1614305549  2019-08-14  100      A   \n",
       "1196  3936777065     2108080724  2019-08-15  202740   B   \n",
       "\n",
       "[1197 rows x 5 columns]"
      ]
     },
     "metadata": {},
     "output_type": "display_data"
    },
    {
     "name": "stdout",
     "output_type": "stream",
     "text": [
      "\u001b[1mИнформация о датафрейме\u001b[0m\n",
      "<class 'pandas.core.frame.DataFrame'>\n",
      "RangeIndex: 1197 entries, 0 to 1196\n",
      "Data columns (total 5 columns):\n",
      " #   Column         Non-Null Count  Dtype \n",
      "---  ------         --------------  ----- \n",
      " 0   transactionId  1197 non-null   int64 \n",
      " 1   visitorId      1197 non-null   int64 \n",
      " 2   date           1197 non-null   object\n",
      " 3   revenue        1197 non-null   int64 \n",
      " 4   group          1197 non-null   object\n",
      "dtypes: int64(3), object(2)\n",
      "memory usage: 46.9+ KB\n",
      "None\n",
      "\u001b[1mКоличество дубликатов\u001b[0m\n",
      "0\n",
      "\u001b[1mОписание датафрейма\u001b[0m\n",
      "       transactionId     visitorId       revenue\n",
      "count  1.197000e+03   1.197000e+03  1.197000e+03\n",
      "mean   2.155621e+09   2.165960e+09  8.348006e+03\n",
      "std    1.229085e+09   1.236014e+09  3.919113e+04\n",
      "min    1.062393e+06   5.114589e+06  5.000000e+01\n",
      "25%    1.166776e+09   1.111826e+09  1.220000e+03\n",
      "50%    2.145194e+09   2.217985e+09  2.978000e+03\n",
      "75%    3.237740e+09   3.177606e+09  8.290000e+03\n",
      "max    4.293856e+09   4.283872e+09  1.294500e+06\n"
     ]
    },
    {
     "data": {
      "image/png": "[encoded data removed]",
      "text/plain": [
       "<Figure size 432x288 with 1 Axes>"
      ]
     },
     "metadata": {
      "needs_background": "light"
     },
     "output_type": "display_data"
    }
   ],
   "source": [
    "describe(orders, orders['revenue'])"
   ]
  },
  {
   "cell_type": "markdown",
   "id": "ec43fe90",
   "metadata": {},
   "source": [
    "- `transactionId` — идентификатор заказа;\n",
    "- `visitorId` — идентификатор пользователя, совершившего заказ;\n",
    "- `date` — дата, когда был совершён заказ;\n",
    "- `revenue` — выручка заказа;\n",
    "- `group` — группа A/B-теста, в которую попал заказ."
   ]
  },
  {
   "cell_type": "markdown",
   "id": "ee730e5e",
   "metadata": {},
   "source": [
    "Пропусков и дубликатов в данных не обнаружено, но на boxplot видны выбросы. При выводе датафрейма также можно заметить выбивающиеся крупные заказы. Будем иметь это в виду при оценке результатов теста.\n",
    "\n",
    "Дату необходимо привести к правильному формату."
   ]
  },
  {
   "cell_type": "code",
   "execution_count": 11,
   "id": "69ad2a25",
   "metadata": {},
   "outputs": [
    {
     "name": "stdout",
     "output_type": "stream",
     "text": [
      "p-значение:  0.0\n",
      "Отвергаем нулевую гипотезу: распределение не нормально\n"
     ]
    },
    {
     "data": {
      "image/png": "[encoded data removed]",
      "text/plain": [
       "<Figure size 432x288 with 1 Axes>"
      ]
     },
     "metadata": {
      "needs_background": "light"
     },
     "output_type": "display_data"
    }
   ],
   "source": [
    "# оценим распределение данных в датасете\n",
    "alpha = 0.05  # критический уровень статистической значимости\n",
    "\n",
    "results = st.shapiro(orders['revenue'])\n",
    "p_value = results[\n",
    "    1\n",
    "]  # второе значение в массиве результатов (с индексом 1) - p-value\n",
    "\n",
    "print('p-значение: ', p_value)\n",
    "\n",
    "if p_value < alpha:\n",
    "    print('Отвергаем нулевую гипотезу: распределение не нормально')\n",
    "else:\n",
    "    print('Не получилось отвергнуть нулевую гипотезу, всё нормально')\n",
    "    \n",
    "# посмотрим на распределение на графике\n",
    "plt.hist(orders['revenue'], bins=150)\n",
    "plt.show()"
   ]
  },
  {
   "cell_type": "code",
   "execution_count": 12,
   "id": "a3b4fa1f",
   "metadata": {},
   "outputs": [],
   "source": [
    "# приведем даты к нужному типу\n",
    "visitors['date'] = visitors['date'].map(\n",
    "    lambda x: dt.datetime.strptime(x, '%Y-%m-%d')\n",
    ")\n",
    "\n",
    "orders['date'] = orders['date'].map(\n",
    "    lambda x: dt.datetime.strptime(x, '%Y-%m-%d')\n",
    ")"
   ]
  },
  {
   "cell_type": "code",
   "execution_count": 13,
   "id": "8d945e49",
   "metadata": {},
   "outputs": [
    {
     "name": "stdout",
     "output_type": "stream",
     "text": [
      "В группе А нашлось 304 пользователей, попавших также и в группу В.\n",
      "В группе B нашлось 294 пользователей, попавших также и в группу A.\n"
     ]
    }
   ],
   "source": [
    "# отберем пользователей по группам\n",
    "group_A = orders[orders['group'] == 'A']\n",
    "group_B = orders[orders['group'] == 'B']\n",
    "\n",
    "# назначим переменную и посчитаем совпадения ID пользователей из группы А с группой В\n",
    "counter_A = 0\n",
    "\n",
    "for i in range(len(group_B['visitorId'])):\n",
    "    if i in group_A['visitorId']:\n",
    "        counter_A += 1\n",
    "\n",
    "# аналогично сделаем с группой В\n",
    "counter_B = 0\n",
    "\n",
    "for i in range(len(group_A['visitorId'])):\n",
    "    if i in group_B['visitorId']:\n",
    "        counter_B += 1\n",
    "\n",
    "print('В группе А нашлось {0} пользователей, попавших также и в группу В.'.format(counter_A))\n",
    "print('В группе B нашлось {0} пользователей, попавших также и в группу A.'.format(counter_B))"
   ]
  },
  {
   "cell_type": "markdown",
   "id": "9de846d4",
   "metadata": {},
   "source": [
    "Пользователей, которые попали в обе группы, необходимо исключить из дальнейшего анализа. Мы не можем очистить от повторов таблицу visitors, так как там агрегированные данные, но исключим таких пользователей из таблицы orders. "
   ]
  },
  {
   "cell_type": "code",
   "execution_count": 14,
   "id": "9126a58a",
   "metadata": {},
   "outputs": [],
   "source": [
    "group_A_list = list(group_A['visitorId'])\n",
    "group_B_list = list(group_B['visitorId'])\n",
    "\n",
    "# отберем ID пользователей, попавших в оба списка и сформируем новый список\n",
    "groups = orders.query('visitorId in @group_A_list and visitorId in @group_B_list')\n",
    "groups_list = list(groups['visitorId'])\n",
    "\n",
    "# отфильтруем orders по этому списку\n",
    "orders = orders[~orders['visitorId'].isin(groups_list)]"
   ]
  },
  {
   "cell_type": "markdown",
   "id": "3678af57",
   "metadata": {},
   "source": [
    "### Кумулятивная выручка по группам"
   ]
  },
  {
   "cell_type": "markdown",
   "id": "3f9be2eb",
   "metadata": {},
   "source": [
    "Построим графики кумулятивных данных, чтобы исключить проблему подсматривания."
   ]
  },
  {
   "cell_type": "code",
   "execution_count": 15,
   "id": "260b79c0",
   "metadata": {},
   "outputs": [
    {
     "data": {
      "image/png": "[encoded data removed]",
      "text/plain": [
       "<Figure size 432x288 with 1 Axes>"
      ]
     },
     "metadata": {
      "needs_background": "light"
     },
     "output_type": "display_data"
    }
   ],
   "source": [
    "# создадим датафрейм с уникальными парами значений 'date' и 'group' таблицы orders и избавимся от дубликатов\n",
    "datesGroups = orders[['date', 'group']].drop_duplicates()\n",
    "\n",
    "# агрегируем значения заказов\n",
    "ordersAggregated = (\n",
    "    datesGroups\n",
    "    .apply(lambda x: orders[np.logical_and(orders['date'] <= x['date'], orders['group'] == x['group'])]\n",
    "           .agg({'date' : 'max', 'group' : 'max', 'transactionId' : 'nunique', 'visitorId' : 'nunique', 'revenue' : 'sum'}), axis=1)\n",
    "    .sort_values(by=['date','group'])\n",
    ")\n",
    "\n",
    "# агрегируем значения посещений\n",
    "visitorsAggregated = (\n",
    "    datesGroups\n",
    "    .apply(lambda x: visitors[np.logical_and(visitors['date'] <= x['date'], visitors['group'] == x['group'])]\n",
    "           .agg({'date' : 'max', 'group' : 'max', 'visitors' : 'sum'}), axis=1)\n",
    "    .sort_values(by=['date','group'])\n",
    ")\n",
    "\n",
    "# объединим кумулятивные данные в одной таблице и переименуем столбцы\n",
    "cumulativeData = ordersAggregated.merge(\n",
    "    visitorsAggregated, left_on=['date', 'group'], right_on=['date', 'group']\n",
    ")\n",
    "\n",
    "cumulativeData.columns = [\n",
    "    'date', \n",
    "    'group', \n",
    "    'orders', \n",
    "    'buyers', \n",
    "    'revenue', \n",
    "    'visitors'\n",
    "]\n",
    "\n",
    "# датафреймы с кумулятивным количеством заказов и кумулятивной выручкой по дням в каждой из групп\n",
    "cumulativeRevenueA = cumulativeData[cumulativeData['group']=='A'][\n",
    "    ['date','revenue', 'orders']\n",
    "]\n",
    "\n",
    "cumulativeRevenueB = cumulativeData[cumulativeData['group']=='B'][\n",
    "    ['date','revenue', 'orders']\n",
    "]\n",
    "\n",
    "# график комулятивной выручки по дням и группам А/В-теста\n",
    "plt.plot(cumulativeRevenueA['date'], cumulativeRevenueA['revenue'], label='A')\n",
    "plt.plot(cumulativeRevenueB['date'], cumulativeRevenueB['revenue'], label='B')\n",
    "plt.title('Кумулятивная выручка')\n",
    "plt.ylabel('Сумма')\n",
    "plt.xlabel('Дата')\n",
    "plt.xticks(rotation = 45)\n",
    "plt.legend();"
   ]
  },
  {
   "cell_type": "markdown",
   "id": "fef9abf4",
   "metadata": {},
   "source": [
    "Выручка группы А растет довольно плавно, тогда как выручка группы В имеет резкий скачок 18-го августа. На этот выброс нужно будет посмотреть внимательнее, так как он может исказить общее представление. В целом группа В показывает более хорошие результаты."
   ]
  },
  {
   "cell_type": "markdown",
   "id": "d8dc2828",
   "metadata": {},
   "source": [
    "### Кумулятивный средний чек по группам"
   ]
  },
  {
   "cell_type": "code",
   "execution_count": 16,
   "id": "e25b811b",
   "metadata": {},
   "outputs": [
    {
     "data": {
      "image/png": "[encoded data removed]",
      "text/plain": [
       "<Figure size 432x288 with 1 Axes>"
      ]
     },
     "metadata": {
      "needs_background": "light"
     },
     "output_type": "display_data"
    }
   ],
   "source": [
    "# график среднего чека по группам\n",
    "plt.plot(cumulativeRevenueA['date'], cumulativeRevenueA['revenue']/cumulativeRevenueA['orders'], label='A')\n",
    "plt.plot(cumulativeRevenueB['date'], cumulativeRevenueB['revenue']/cumulativeRevenueB['orders'], label='B')\n",
    "plt.xticks(rotation = 45)\n",
    "plt.title('Кумулятивный средний чек')\n",
    "plt.ylabel('Величина чека')\n",
    "plt.xlabel('Дата')\n",
    "plt.legend();"
   ]
  },
  {
   "cell_type": "markdown",
   "id": "8c51fe37",
   "metadata": {},
   "source": [
    "Ближе к концу теста средний чек группы А становится более равномерным, тогда как средний чек группы В резко подскакивает 18-го августа, когда, скорее всего, была совершена какая-то крупная покупка, замеченная нами ранее на графике выручки, после чего начинает снижаться. В таком случае группе В нужно больше времени, чтобы прийти к реальному среднему чеку и зафиксироваться, не стоит оценивать достижения группы В по этому графику."
   ]
  },
  {
   "cell_type": "markdown",
   "id": "e91d416c",
   "metadata": {},
   "source": [
    "### Относительное изменение кумулятивного среднего чека группы B к группе A"
   ]
  },
  {
   "cell_type": "code",
   "execution_count": 17,
   "id": "91d21f45",
   "metadata": {},
   "outputs": [
    {
     "data": {
      "image/png": "[encoded data removed]",
      "text/plain": [
       "<Figure size 432x288 with 1 Axes>"
      ]
     },
     "metadata": {
      "needs_background": "light"
     },
     "output_type": "display_data"
    }
   ],
   "source": [
    "# график относительного различия среднего чека\n",
    "mergedCumulativeRevenue = cumulativeRevenueA.merge(\n",
    "    cumulativeRevenueB, left_on='date', right_on='date', how='left', suffixes=['A', 'B']\n",
    ")\n",
    "\n",
    "\n",
    "plt.plot(\n",
    "    mergedCumulativeRevenue['date'],\n",
    "    (mergedCumulativeRevenue['revenueB']/mergedCumulativeRevenue['ordersB'])/(mergedCumulativeRevenue['revenueA']/mergedCumulativeRevenue['ordersA'])-1\n",
    ")\n",
    "\n",
    "plt.xticks(rotation = 45)\n",
    "plt.title('Относительное изменение кумулятивного среднего чека')\n",
    "plt.xlabel('Дата')\n",
    "plt.axhline(y=0, color='black', linestyle='--'); "
   ]
  },
  {
   "cell_type": "markdown",
   "id": "b4c4974d",
   "metadata": {},
   "source": [
    "Видим резкие скачки графика, которые опять же сигнализируют о выбросах: была совершена крупная покупка, после которой средний чек группы В начинает падать."
   ]
  },
  {
   "cell_type": "markdown",
   "id": "fa88b795",
   "metadata": {},
   "source": [
    "### Кумулятивная конверсия по группам"
   ]
  },
  {
   "cell_type": "code",
   "execution_count": 18,
   "id": "da1eb4d1",
   "metadata": {},
   "outputs": [
    {
     "data": {
      "image/png": "[encoded data removed]",
      "text/plain": [
       "<Figure size 432x288 with 1 Axes>"
      ]
     },
     "metadata": {
      "needs_background": "light"
     },
     "output_type": "display_data"
    }
   ],
   "source": [
    "# построим график кумулятивной конверсии\n",
    "cumulativeData['conversion'] = cumulativeData['orders']/cumulativeData['visitors']\n",
    "\n",
    "cumulativeDataA = cumulativeData[cumulativeData['group']=='A']\n",
    "\n",
    "cumulativeDataB = cumulativeData[cumulativeData['group']=='B']\n",
    "\n",
    "\n",
    "plt.plot(cumulativeDataA['date'], cumulativeDataA['conversion'], label='A')\n",
    "plt.plot(cumulativeDataB['date'], cumulativeDataB['conversion'], label='B')\n",
    "plt.legend()\n",
    "plt.xticks(rotation = 45)\n",
    "plt.title('Кумулятивная конверсия по группам теста')\n",
    "plt.xlabel('Дата')\n",
    "plt.axis([dt.datetime(2019, 8, 1), dt.datetime(2019, 9, 1), 0, 0.05]);"
   ]
  },
  {
   "cell_type": "markdown",
   "id": "3b25ba76",
   "metadata": {},
   "source": [
    "К концу теста показатели выравниваются. Конверсия группы В заметно выше, чем у группы А."
   ]
  },
  {
   "cell_type": "markdown",
   "id": "9044f039",
   "metadata": {},
   "source": [
    "### Относительное изменение кумулятивной конверсии группы B к группе A"
   ]
  },
  {
   "cell_type": "code",
   "execution_count": 19,
   "id": "c46829ce",
   "metadata": {},
   "outputs": [
    {
     "data": {
      "image/png": "[encoded data removed]",
      "text/plain": [
       "<Figure size 432x288 with 1 Axes>"
      ]
     },
     "metadata": {
      "needs_background": "light"
     },
     "output_type": "display_data"
    }
   ],
   "source": [
    "# построим график относительного различия кумулятивных конверсий\n",
    "mergedCumulativeConversions = cumulativeDataA[['date','conversion']].merge(\n",
    "    cumulativeDataB[['date','conversion']], left_on='date', right_on='date', how='left', suffixes=['A', 'B']\n",
    ")\n",
    "\n",
    "plt.plot(\n",
    "    mergedCumulativeConversions['date'], \n",
    "    mergedCumulativeConversions['conversionB']/mergedCumulativeConversions['conversionA']-1, \n",
    "    label=\"Относительный прирост конверсии группы B относительно группы A\"\n",
    ")\n",
    "plt.legend()\n",
    "plt.xticks(rotation = 45)\n",
    "plt.title('Относительное изменение кумулятивной конверсии группы B к группе A')\n",
    "plt.xlabel('Дата')\n",
    "plt.axhline(y=0, color='black', linestyle='--')\n",
    "plt.axhline(y=0.1, color='grey', linestyle='--')\n",
    "plt.axis([dt.datetime(2019, 8, 1), dt.datetime(2019, 9, 1), -0.5, 0.5]);"
   ]
  },
  {
   "cell_type": "markdown",
   "id": "a9886ba4",
   "metadata": {},
   "source": [
    "Здесь мы видим примерно ту же картину, что и на графике выше: в начале теста показатели группы В были неустойчивыми, но затем разница с группой А начала расти, достигла пикового значения около 21%, после чего снизилась и зафиксировалась на уровне около 10%."
   ]
  },
  {
   "cell_type": "markdown",
   "id": "5fce63d7",
   "metadata": {},
   "source": [
    "### Количество заказов по пользователям"
   ]
  },
  {
   "cell_type": "code",
   "execution_count": 20,
   "id": "d7de5c0f",
   "metadata": {},
   "outputs": [
    {
     "data": {
      "image/png": "[encoded data removed]",
      "text/plain": [
       "<Figure size 432x288 with 1 Axes>"
      ]
     },
     "metadata": {
      "needs_background": "light"
     },
     "output_type": "display_data"
    }
   ],
   "source": [
    "# сформируем сводную таблицу с кол-м заказов на пользователя\n",
    "ordersByUsers = (\n",
    "    orders.groupby('visitorId', as_index=False)\n",
    "    .agg({'transactionId': 'nunique'})\n",
    ")\n",
    "\n",
    "ordersByUsers.columns = ['userId', 'orders']\n",
    "\n",
    "# построим точечный график\n",
    "x_values = pd.Series(range(0,len(ordersByUsers)))\n",
    "plt.scatter(x_values, ordersByUsers['orders'])\n",
    "plt.title('Точечный график количества заказов по пользователям')\n",
    "plt.ylabel('Количество заказов')\n",
    "plt.xlabel('Индексы пользователей');"
   ]
  },
  {
   "cell_type": "markdown",
   "id": "d203fbc9",
   "metadata": {},
   "source": [
    "В основном пользователи совершают одну покупку, но также довольно много отметок двух и трех покупок. Посмотрим на перцентили."
   ]
  },
  {
   "cell_type": "markdown",
   "id": "79d65a9e",
   "metadata": {},
   "source": [
    "### 95-й и 99-й перцентили количества заказов на пользователя"
   ]
  },
  {
   "cell_type": "code",
   "execution_count": 21,
   "id": "ed02021f",
   "metadata": {},
   "outputs": [
    {
     "data": {
      "text/plain": [
       "array([1., 2.])"
      ]
     },
     "execution_count": 21,
     "metadata": {},
     "output_type": "execute_result"
    }
   ],
   "source": [
    "# посчитаем 95-й и 99-й перцентили \n",
    "np.percentile(ordersByUsers['orders'], [95, 99])"
   ]
  },
  {
   "cell_type": "markdown",
   "id": "ca3d760d",
   "metadata": {},
   "source": [
    "Не более 1% процентов покупаетелей совершает две покупки. В таком случае мы можем взять за нижнюю границу одну покупку."
   ]
  },
  {
   "cell_type": "markdown",
   "id": "114055d4",
   "metadata": {},
   "source": [
    "### Стоимость заказов"
   ]
  },
  {
   "cell_type": "code",
   "execution_count": 22,
   "id": "fd0b1212",
   "metadata": {},
   "outputs": [
    {
     "data": {
      "image/png": "[encoded data removed]",
      "text/plain": [
       "<Figure size 432x288 with 1 Axes>"
      ]
     },
     "metadata": {
      "needs_background": "light"
     },
     "output_type": "display_data"
    }
   ],
   "source": [
    "# исключим единичные выбросы\n",
    "orders_rev_without_anomaly = orders.query('revenue < 200000')\n",
    "\n",
    "x_values = pd.Series(range(0, len(orders_rev_without_anomaly['revenue'])))\n",
    "plt.scatter(x_values, orders_rev_without_anomaly['revenue'])\n",
    "plt.title('Точечный график стоимости заказов по пользователям')\n",
    "plt.ylabel('Стоимость заказов')\n",
    "plt.xlabel('Индексы пользователей');"
   ]
  },
  {
   "cell_type": "markdown",
   "id": "3ed029fc",
   "metadata": {},
   "source": [
    "Стоимость заказов обычно невысокая, выбиваются из общей картины заказы на 200 000 руб. и на 1 200 000 руб. Посмотрим на перцентили, чтобы точнее определить нижнюю границу."
   ]
  },
  {
   "cell_type": "markdown",
   "id": "14d9af1f",
   "metadata": {},
   "source": [
    "### 95-й и 99-й перцентили стоимости заказов"
   ]
  },
  {
   "cell_type": "code",
   "execution_count": 23,
   "id": "a2eeab77",
   "metadata": {},
   "outputs": [
    {
     "data": {
      "text/plain": [
       "array([26785., 53904.])"
      ]
     },
     "execution_count": 23,
     "metadata": {},
     "output_type": "execute_result"
    }
   ],
   "source": [
    "np.percentile(orders['revenue'], [95, 99])"
   ]
  },
  {
   "cell_type": "markdown",
   "id": "56d08b6f",
   "metadata": {},
   "source": [
    "Не более 5% пользователей оформляет покупку на 26 785 руб. Эту сумму мы и возьмем за нижнюю границу."
   ]
  },
  {
   "cell_type": "markdown",
   "id": "1636560a",
   "metadata": {},
   "source": [
    "### Статистическая значимость различий в конверсии между группами по «сырым» данным"
   ]
  },
  {
   "cell_type": "markdown",
   "id": "b554e000",
   "metadata": {},
   "source": [
    "Подготовим данные."
   ]
  },
  {
   "cell_type": "code",
   "execution_count": 24,
   "id": "996fdccd",
   "metadata": {},
   "outputs": [
    {
     "data": {
      "text/html": [
       "<div>\n",
       "<style scoped>\n",
       "    .dataframe tbody tr th:only-of-type {\n",
       "        vertical-align: middle;\n",
       "    }\n",
       "\n",
       "    .dataframe tbody tr th {\n",
       "        vertical-align: top;\n",
       "    }\n",
       "\n",
       "    .dataframe thead th {\n",
       "        text-align: right;\n",
       "    }\n",
       "</style>\n",
       "<table border=\"1\" class=\"dataframe\">\n",
       "  <thead>\n",
       "    <tr style=\"text-align: right;\">\n",
       "      <th></th>\n",
       "      <th>date</th>\n",
       "      <th>ordersPerDateA</th>\n",
       "      <th>revenuePerDateA</th>\n",
       "      <th>ordersPerDateB</th>\n",
       "      <th>revenuePerDateB</th>\n",
       "      <th>ordersCummulativeA</th>\n",
       "      <th>revenueCummulativeA</th>\n",
       "      <th>ordersCummulativeB</th>\n",
       "      <th>revenueCummulativeB</th>\n",
       "      <th>visitorsPerDateA</th>\n",
       "      <th>visitorsPerDateB</th>\n",
       "      <th>visitorsCummulativeA</th>\n",
       "      <th>visitorsCummulativeB</th>\n",
       "    </tr>\n",
       "  </thead>\n",
       "  <tbody>\n",
       "    <tr>\n",
       "      <th>0</th>\n",
       "      <td>2019-08-01</td>\n",
       "      <td>23</td>\n",
       "      <td>142779</td>\n",
       "      <td>17</td>\n",
       "      <td>59758</td>\n",
       "      <td>23</td>\n",
       "      <td>142779</td>\n",
       "      <td>17</td>\n",
       "      <td>59758</td>\n",
       "      <td>719</td>\n",
       "      <td>713</td>\n",
       "      <td>719</td>\n",
       "      <td>713</td>\n",
       "    </tr>\n",
       "    <tr>\n",
       "      <th>1</th>\n",
       "      <td>2019-08-02</td>\n",
       "      <td>19</td>\n",
       "      <td>91602</td>\n",
       "      <td>23</td>\n",
       "      <td>162043</td>\n",
       "      <td>42</td>\n",
       "      <td>234381</td>\n",
       "      <td>40</td>\n",
       "      <td>221801</td>\n",
       "      <td>619</td>\n",
       "      <td>581</td>\n",
       "      <td>1338</td>\n",
       "      <td>1294</td>\n",
       "    </tr>\n",
       "    <tr>\n",
       "      <th>2</th>\n",
       "      <td>2019-08-03</td>\n",
       "      <td>24</td>\n",
       "      <td>112473</td>\n",
       "      <td>14</td>\n",
       "      <td>67049</td>\n",
       "      <td>66</td>\n",
       "      <td>346854</td>\n",
       "      <td>54</td>\n",
       "      <td>288850</td>\n",
       "      <td>507</td>\n",
       "      <td>509</td>\n",
       "      <td>1845</td>\n",
       "      <td>1803</td>\n",
       "    </tr>\n",
       "    <tr>\n",
       "      <th>3</th>\n",
       "      <td>2019-08-04</td>\n",
       "      <td>11</td>\n",
       "      <td>41176</td>\n",
       "      <td>14</td>\n",
       "      <td>96890</td>\n",
       "      <td>77</td>\n",
       "      <td>388030</td>\n",
       "      <td>68</td>\n",
       "      <td>385740</td>\n",
       "      <td>717</td>\n",
       "      <td>770</td>\n",
       "      <td>2562</td>\n",
       "      <td>2573</td>\n",
       "    </tr>\n",
       "    <tr>\n",
       "      <th>4</th>\n",
       "      <td>2019-08-05</td>\n",
       "      <td>22</td>\n",
       "      <td>86383</td>\n",
       "      <td>21</td>\n",
       "      <td>89908</td>\n",
       "      <td>99</td>\n",
       "      <td>474413</td>\n",
       "      <td>89</td>\n",
       "      <td>475648</td>\n",
       "      <td>756</td>\n",
       "      <td>707</td>\n",
       "      <td>3318</td>\n",
       "      <td>3280</td>\n",
       "    </tr>\n",
       "  </tbody>\n",
       "</table>\n",
       "</div>"
      ],
      "text/plain": [
       "        date  ordersPerDateA  revenuePerDateA  ordersPerDateB  \\\n",
       "0 2019-08-01  23              142779           17               \n",
       "1 2019-08-02  19              91602            23               \n",
       "2 2019-08-03  24              112473           14               \n",
       "3 2019-08-04  11              41176            14               \n",
       "4 2019-08-05  22              86383            21               \n",
       "\n",
       "   revenuePerDateB  ordersCummulativeA  revenueCummulativeA  \\\n",
       "0  59758            23                  142779                \n",
       "1  162043           42                  234381                \n",
       "2  67049            66                  346854                \n",
       "3  96890            77                  388030                \n",
       "4  89908            99                  474413                \n",
       "\n",
       "   ordersCummulativeB  revenueCummulativeB  visitorsPerDateA  \\\n",
       "0  17                  59758                719                \n",
       "1  40                  221801               619                \n",
       "2  54                  288850               507                \n",
       "3  68                  385740               717                \n",
       "4  89                  475648               756                \n",
       "\n",
       "   visitorsPerDateB  visitorsCummulativeA  visitorsCummulativeB  \n",
       "0  713               719                   713                   \n",
       "1  581               1338                  1294                  \n",
       "2  509               1845                  1803                  \n",
       "3  770               2562                  2573                  \n",
       "4  707               3318                  3280                  "
      ]
     },
     "execution_count": 24,
     "metadata": {},
     "output_type": "execute_result"
    }
   ],
   "source": [
    "# сформируем таблицу посещений группы А\n",
    "visitorsADaily = visitors[visitors['group'] == 'A'][['date', 'visitors']]\n",
    "visitorsADaily.columns = ['date', 'visitorsPerDateA']\n",
    "\n",
    "# агрегируем значения посещений группы А и переименуем для удобства столбцы \n",
    "visitorsACummulative = visitorsADaily.apply(\n",
    "    lambda x: visitorsADaily[visitorsADaily['date'] <= x['date']].agg(\n",
    "        {'date': 'max', 'visitorsPerDateA': 'sum'}\n",
    "    ),\n",
    "    axis=1,\n",
    ")\n",
    "visitorsACummulative.columns = ['date', 'visitorsCummulativeA']\n",
    "\n",
    "# сформируем таблицу посещений группы В\n",
    "visitorsBDaily = visitors[visitors['group'] == 'B'][['date', 'visitors']]\n",
    "visitorsBDaily.columns = ['date', 'visitorsPerDateB']\n",
    "\n",
    "# агрегируем значения посещений группы В и переименуем для удобства столбцы \n",
    "visitorsBCummulative = visitorsBDaily.apply(\n",
    "    lambda x: visitorsBDaily[visitorsBDaily['date'] <= x['date']].agg(\n",
    "        {'date': 'max', 'visitorsPerDateB': 'sum'}\n",
    "    ),\n",
    "    axis=1,\n",
    ")\n",
    "visitorsBCummulative.columns = ['date', 'visitorsCummulativeB']\n",
    "\n",
    "# агрегируем значения заказов группы А и переименуем для удобства столбцы \n",
    "ordersADaily = (\n",
    "    orders[orders['group'] == 'A'][['date', 'transactionId', 'visitorId', 'revenue']]\n",
    "    .groupby('date', as_index=False)\n",
    "    .agg({'transactionId': pd.Series.nunique, 'revenue': 'sum'})\n",
    ")\n",
    "ordersADaily.columns = ['date', 'ordersPerDateA', 'revenuePerDateA']\n",
    "\n",
    "# соберем кумулятивные данные группы А\n",
    "ordersACummulative = ordersADaily.apply(\n",
    "    lambda x: ordersADaily[ordersADaily['date'] <= x['date']].agg(\n",
    "        {'date': 'max', 'ordersPerDateA': 'sum', 'revenuePerDateA': 'sum'}\n",
    "    ),\n",
    "    axis=1,\n",
    ").sort_values(by=['date'])\n",
    "ordersACummulative.columns = [\n",
    "    'date',\n",
    "    'ordersCummulativeA',\n",
    "    'revenueCummulativeA',\n",
    "]\n",
    "\n",
    "# агрегируем значения заказов группы В и переименуем для удобства столбцы \n",
    "ordersBDaily = (\n",
    "    orders[orders['group'] == 'B'][['date', 'transactionId', 'visitorId', 'revenue']]\n",
    "    .groupby('date', as_index=False)\n",
    "    .agg({'transactionId': pd.Series.nunique, 'revenue': 'sum'})\n",
    ")\n",
    "ordersBDaily.columns = ['date', 'ordersPerDateB', 'revenuePerDateB']\n",
    "\n",
    "# соберем кумулятивные данные группы В\n",
    "ordersBCummulative = ordersBDaily.apply(\n",
    "    lambda x: ordersBDaily[ordersBDaily['date'] <= x['date']].agg(\n",
    "        {'date': 'max', 'ordersPerDateB': 'sum', 'revenuePerDateB': 'sum'}\n",
    "    ),\n",
    "    axis=1,\n",
    ").sort_values(by=['date'])\n",
    "ordersBCummulative.columns = [\n",
    "    'date',\n",
    "    'ordersCummulativeB',\n",
    "    'revenueCummulativeB',\n",
    "]\n",
    "\n",
    "# объединим все в единый датафрейм\n",
    "data = (\n",
    "    ordersADaily.merge(\n",
    "        ordersBDaily, left_on='date', right_on='date', how='left'\n",
    "    )\n",
    "    .merge(ordersACummulative, left_on='date', right_on='date', how='left')\n",
    "    .merge(ordersBCummulative, left_on='date', right_on='date', how='left')\n",
    "    .merge(visitorsADaily, left_on='date', right_on='date', how='left')\n",
    "    .merge(visitorsBDaily, left_on='date', right_on='date', how='left')\n",
    "    .merge(visitorsACummulative, left_on='date', right_on='date', how='left')\n",
    "    .merge(visitorsBCummulative, left_on='date', right_on='date', how='left')\n",
    ")\n",
    "\n",
    "data.head()"
   ]
  },
  {
   "cell_type": "markdown",
   "id": "e010c837",
   "metadata": {},
   "source": [
    "Сформулируем гипотезы. \n",
    "\n",
    "**Нулевая:** различий в конверсии между группами нет. \n",
    "\n",
    "**Альтернативная:** различия в конверсии между группами есть."
   ]
  },
  {
   "cell_type": "markdown",
   "id": "f7ef8673",
   "metadata": {},
   "source": [
    "Проведем непараметрический тест Уилкоксона-Манна-Уитни:"
   ]
  },
  {
   "cell_type": "code",
   "execution_count": 25,
   "id": "1fd1bb09",
   "metadata": {},
   "outputs": [
    {
     "name": "stdout",
     "output_type": "stream",
     "text": [
      "alpha: 0.05\n",
      "p-value: 0.011\n",
      "относительный прирост конверсии группы B: 0.160\n"
     ]
    }
   ],
   "source": [
    "# сформируем таблицы с количеством заказов для каждой из групп\n",
    "ordersByUsersA = (\n",
    "    orders[orders['group'] == 'A']\n",
    "    .groupby('visitorId', as_index=False)\n",
    "    .agg({'transactionId': pd.Series.nunique})\n",
    ")\n",
    "ordersByUsersA.columns = ['userId', 'orders']\n",
    "\n",
    "ordersByUsersB = (\n",
    "    orders[orders['group'] == 'B']\n",
    "    .groupby('visitorId', as_index=False)\n",
    "    .agg({'transactionId': pd.Series.nunique})\n",
    ")\n",
    "ordersByUsersB.columns = ['userId', 'orders']\n",
    "\n",
    "# создадим выборки с числом заказов определенного пользователя\n",
    "sampleA = pd.concat(\n",
    "    [\n",
    "        ordersByUsersA['orders'],\n",
    "        pd.Series(\n",
    "            0,\n",
    "            index=np.arange(\n",
    "                data['visitorsPerDateA'].sum() - len(ordersByUsersA['orders'])\n",
    "            ),\n",
    "            name='orders',\n",
    "        ),\n",
    "    ],\n",
    "    axis=0,\n",
    ")\n",
    "\n",
    "sampleB = pd.concat(\n",
    "    [\n",
    "        ordersByUsersB['orders'],\n",
    "        pd.Series(\n",
    "            0,\n",
    "            index=np.arange(\n",
    "                data['visitorsPerDateB'].sum() - len(ordersByUsersB['orders'])\n",
    "            ),\n",
    "            name='orders',\n",
    "        ),\n",
    "    ],\n",
    "    axis=0,\n",
    ")\n",
    "\n",
    "print('alpha: 0.05')\n",
    "# применим статистический критерий Манна-Уитни\n",
    "print(\"p-value: {0:.3f}\".format(stats.mannwhitneyu(sampleA, sampleB)[1]))\n",
    "\n",
    "print(\"относительный прирост конверсии группы B: {0:.3f}\".format(sampleB.mean() / sampleA.mean() - 1))"
   ]
  },
  {
   "cell_type": "markdown",
   "id": "a7eac6f6",
   "metadata": {},
   "source": [
    "P-value = 0,011, значит, нулевую гипотезу о том, что статистически значимых различий в конверсии между группами нет, мы отвергаем. Группа B на 16% опережает группу А."
   ]
  },
  {
   "cell_type": "markdown",
   "id": "de57a77e",
   "metadata": {},
   "source": [
    "### Статистическая значимость различий в среднем чеке заказа между группами по «сырым» данным"
   ]
  },
  {
   "cell_type": "markdown",
   "id": "c018e1be",
   "metadata": {},
   "source": [
    "Сформулируем гипотезы. \n",
    "\n",
    "**Нулевая:** различий в среднем чеке между группами нет. \n",
    "\n",
    "**Альтернативная:** различия в среднем чеке между группами есть."
   ]
  },
  {
   "cell_type": "code",
   "execution_count": 26,
   "id": "a6974b69",
   "metadata": {},
   "outputs": [
    {
     "name": "stdout",
     "output_type": "stream",
     "text": [
      "p-value: 0.829\n",
      "относительный прирост среднего чека группы B: 0.287\n"
     ]
    }
   ],
   "source": [
    "print(\n",
    "    'p-value: {0:.3f}'.format(\n",
    "        stats.mannwhitneyu(\n",
    "            orders[\n",
    "                orders['group']=='A'\n",
    "            ]['revenue'], \n",
    "            orders[\n",
    "                orders['group']=='B'\n",
    "            ]['revenue'])[1])\n",
    ")\n",
    "print(\n",
    "    'относительный прирост среднего чека группы B: {0:.3f}'.format(\n",
    "        orders[\n",
    "            orders['group']=='B'\n",
    "        ]['revenue'].mean()\n",
    "        /orders[\n",
    "            orders['group']=='A'\n",
    "        ]['revenue'].mean()-1)\n",
    ")"
   ]
  },
  {
   "cell_type": "markdown",
   "id": "2cd16087",
   "metadata": {},
   "source": [
    "P-value значительно больше 0,05. Значит, причин отвергать нулевую гипотезу и считать, что в среднем чеке есть различия, нет. При этом средний чек группы B значительно выше среднего чека группы A — почти на 29%."
   ]
  },
  {
   "cell_type": "markdown",
   "id": "011c47e5",
   "metadata": {},
   "source": [
    "### Статистическая значимость различий в конверсии между группами по «очищенным» данным"
   ]
  },
  {
   "cell_type": "code",
   "execution_count": 27,
   "id": "b6f5a0ef",
   "metadata": {},
   "outputs": [
    {
     "data": {
      "text/plain": [
       "86"
      ]
     },
     "execution_count": 27,
     "metadata": {},
     "output_type": "execute_result"
    }
   ],
   "source": [
    "# посчитаем аномальных пользователей\n",
    "usersWithManyOrders = pd.concat(\n",
    "    [\n",
    "        ordersByUsersA[ordersByUsersA['orders'] > 1]['userId'],\n",
    "        ordersByUsersB[ordersByUsersB['orders'] > 1]['userId'],\n",
    "    ],\n",
    "    axis=0,\n",
    ")\n",
    "usersWithExpensiveOrders = orders[orders['revenue'] > 26785]['visitorId']\n",
    "abnormalUsers = (\n",
    "    pd.concat([usersWithManyOrders, usersWithExpensiveOrders], axis=0)\n",
    "    .drop_duplicates()\n",
    "    .sort_values()\n",
    ")\n",
    "\n",
    "abnormalUsers.shape[0]"
   ]
  },
  {
   "cell_type": "markdown",
   "id": "0d84c1b8",
   "metadata": {},
   "source": [
    "86 аномальных пользователя. Посмотрим, как их действия повлияли на результаты теста, исключив их из выборки."
   ]
  },
  {
   "cell_type": "markdown",
   "id": "5a79904e",
   "metadata": {},
   "source": [
    "Вернемся к нашим гипотезам. \n",
    "\n",
    "**Нулевая:** различий в конверсии между группами нет. \n",
    "\n",
    "**Альтернативная:** различия в конверсии между группами есть."
   ]
  },
  {
   "cell_type": "code",
   "execution_count": 28,
   "id": "f91c4f3d",
   "metadata": {},
   "outputs": [
    {
     "name": "stdout",
     "output_type": "stream",
     "text": [
      "alpha: 0.05\n",
      "p-value: 0.016\n",
      "относительный прирост конверсии группы B: 0.174\n"
     ]
    }
   ],
   "source": [
    "# сформируем выборки на группы А и В без аномальных пользователей\n",
    "sampleAFiltered = pd.concat(\n",
    "    [\n",
    "        ordersByUsersA[\n",
    "            np.logical_not(ordersByUsersA['userId'].isin(abnormalUsers))\n",
    "        ]['orders'],\n",
    "        pd.Series(\n",
    "            0,\n",
    "            index=np.arange(\n",
    "                data['visitorsPerDateA'].sum() - len(ordersByUsersA['orders'])\n",
    "            ),\n",
    "            name='orders',\n",
    "        ),\n",
    "    ],\n",
    "    axis=0,\n",
    ")\n",
    "\n",
    "sampleBFiltered = pd.concat(\n",
    "    [\n",
    "        ordersByUsersB[\n",
    "            np.logical_not(ordersByUsersB['userId'].isin(abnormalUsers))\n",
    "        ]['orders'],\n",
    "        pd.Series(\n",
    "            0,\n",
    "            index=np.arange(\n",
    "                data['visitorsPerDateB'].sum() - len(ordersByUsersB['orders'])\n",
    "            ),\n",
    "            name='orders',\n",
    "        ),\n",
    "    ],\n",
    "    axis=0,\n",
    ")\n",
    "print('alpha: 0.05')\n",
    "# применим статистический критерий Манна-Уитни\n",
    "print('p-value: {0:.3f}'.format(stats.mannwhitneyu(sampleAFiltered, sampleBFiltered)[1]))\n",
    "print('относительный прирост конверсии группы B: {0:.3f}'.format(sampleBFiltered.mean()/sampleAFiltered.mean()-1)) "
   ]
  },
  {
   "cell_type": "markdown",
   "id": "d967b7c6",
   "metadata": {},
   "source": [
    "После очистки данных p-value немного подрос, но нулевая гипотеза всё же отвергается, так же как и при проверке \"сырых\" данных. Группа В стала лидировать на 17,4% в сравнении с показанными ранее 16%."
   ]
  },
  {
   "cell_type": "markdown",
   "id": "6fc265d9",
   "metadata": {},
   "source": [
    "### Статистическая значимость различий в среднем чеке заказа между группами по «очищенным» данным"
   ]
  },
  {
   "cell_type": "markdown",
   "id": "bb9660f2",
   "metadata": {},
   "source": [
    "Вспомним наши гипотезы. \n",
    "\n",
    "**Нулевая:** различий в среднем чеке между группами нет. \n",
    "\n",
    "**Альтернативная:** различия в среднем чеке между группами есть."
   ]
  },
  {
   "cell_type": "code",
   "execution_count": 29,
   "id": "3a96c80d",
   "metadata": {},
   "outputs": [
    {
     "name": "stdout",
     "output_type": "stream",
     "text": [
      "alpha: 0.05\n",
      "p-value: 0.727\n",
      "относительный прирост среднего чека группы B: -0.034\n"
     ]
    }
   ],
   "source": [
    "print('alpha: 0.05')\n",
    "# применим критерий Манна-Уитни к выборке без аномальных пользователей\n",
    "print(\n",
    "    'p-value: {0:.3f}'.format(\n",
    "        stats.mannwhitneyu(\n",
    "            orders[\n",
    "                np.logical_and(\n",
    "                    orders['group'] == 'A',\n",
    "                    np.logical_not(orders['visitorId'].isin(abnormalUsers)),\n",
    "                )\n",
    "            ]['revenue'],\n",
    "            orders[\n",
    "                np.logical_and(\n",
    "                    orders['group'] == 'B',\n",
    "                    np.logical_not(orders['visitorId'].isin(abnormalUsers)),\n",
    "                )\n",
    "            ]['revenue'],\n",
    "        )[1]\n",
    "    )\n",
    ")\n",
    "\n",
    "print(\n",
    "    \"относительный прирост среднего чека группы B: {0:.3f}\".format(\n",
    "        orders[\n",
    "            np.logical_and(\n",
    "                orders['group'] == 'B',\n",
    "                np.logical_not(orders['visitorId'].isin(abnormalUsers)),\n",
    "            )\n",
    "        ]['revenue'].mean()\n",
    "        / orders[\n",
    "            np.logical_and(\n",
    "                orders['group'] == 'A',\n",
    "                np.logical_not(orders['visitorId'].isin(abnormalUsers)),\n",
    "            )\n",
    "        ]['revenue'].mean()\n",
    "        - 1\n",
    "    )\n",
    ")"
   ]
  },
  {
   "cell_type": "markdown",
   "id": "f6a66598",
   "metadata": {},
   "source": [
    "P-value еще вырос, значит нулевая гипотеза всё так же не может быть отвергнута, но средний чек группы B стал на 3% меньше, чем у группы А. Когда мы исключили \"выбросы\", слишком большие чеки исчезли из расчетов и чеки групп выравнялись."
   ]
  },
  {
   "cell_type": "markdown",
   "id": "08f18548",
   "metadata": {},
   "source": [
    "### Выводы"
   ]
  },
  {
   "cell_type": "markdown",
   "id": "35e186cb",
   "metadata": {},
   "source": [
    "1. По результатам теста мы видим, что различия в конверсии групп заметны и по \"сырым\", и по \"очищенным\" данным. Группа В лидирует по этому показателю в обеих выборках — на 16% по \"сырым\" и 17,4% по \"очищенным\" данным.\n",
    "\n",
    "\n",
    "2. По \"сырым\" данным различия в среднем чеке в пользу группы В — она опережает группу А почти на 29%, но после очистки от выбросов средний чек группы В стал на 3% ниже, чем у группы А.\n",
    "\n",
    "Мы можем сделать вывод, что несмотря на невысокий средний чек, группа В побеждает группу А по конверсии — меньший чек будет окуплен большим количеством покупателей.\n",
    "\n",
    "Таким образом, тест можно останавливать и зафиксировать победу группы В."
   ]
  },
  {
   "cell_type": "markdown",
   "id": "dca84fb7",
   "metadata": {},
   "source": [
    "## Вывод"
   ]
  },
  {
   "cell_type": "markdown",
   "id": "1a2d876f",
   "metadata": {},
   "source": [
    "1. Была проведена приоритизация гипотез с помощью фреймворков ICE и RICE, в результате, с учетом всех факторов, выявлены наиболее подходящие для тестирования гипотезы:\n",
    "\n",
    "- добавить форму подписки на все основные страницы, чтобы собрать базу клиентов для email-рассылок;\n",
    "\n",
    "- добавить два новых канала привлечения трафика, что позволит привлекать на 30% больше пользователей.\n",
    "\n",
    "2. При проверке групп тестирования были выявлены пользователи, попавшие в обе группы. Данные о таких пользователях были удалены из обеих групп.\n",
    "\n",
    "\n",
    "3. По результатам проведенного тестирования группа В показала лучшие результаты, несмотря на снижение среднего чека при тесте \"очищенных\" данных — высокая конверсия группы перекрывает этот недостаток.\n",
    "\n",
    "Тест признаем успешным и фиксируем победу группы В, а значит изменения можно раскатывать на всю аудиторию магазина."
   ]
  }
 ],
 "metadata": {
  "ExecuteTimeLog": [
   {
    "duration": 1298,
    "start_time": "2022-06-01T04:24:54.569Z"
   },
   {
    "duration": 190,
    "start_time": "2022-06-01T04:24:55.869Z"
   },
   {
    "duration": 14,
    "start_time": "2022-06-01T04:24:56.061Z"
   },
   {
    "duration": 4,
    "start_time": "2022-06-01T04:24:56.077Z"
   },
   {
    "duration": 130,
    "start_time": "2022-06-01T04:24:56.083Z"
   },
   {
    "duration": 0,
    "start_time": "2022-06-01T04:24:56.215Z"
   },
   {
    "duration": 0,
    "start_time": "2022-06-01T04:24:56.217Z"
   },
   {
    "duration": 0,
    "start_time": "2022-06-01T04:24:56.218Z"
   },
   {
    "duration": 0,
    "start_time": "2022-06-01T04:24:56.220Z"
   },
   {
    "duration": 0,
    "start_time": "2022-06-01T04:24:56.221Z"
   },
   {
    "duration": 0,
    "start_time": "2022-06-01T04:24:56.223Z"
   },
   {
    "duration": 0,
    "start_time": "2022-06-01T04:24:56.224Z"
   },
   {
    "duration": 0,
    "start_time": "2022-06-01T04:24:56.228Z"
   },
   {
    "duration": 1,
    "start_time": "2022-06-01T04:24:56.229Z"
   },
   {
    "duration": 0,
    "start_time": "2022-06-01T04:24:56.230Z"
   },
   {
    "duration": 0,
    "start_time": "2022-06-01T04:24:56.232Z"
   },
   {
    "duration": 0,
    "start_time": "2022-06-01T04:24:56.233Z"
   },
   {
    "duration": 0,
    "start_time": "2022-06-01T04:24:56.234Z"
   },
   {
    "duration": 0,
    "start_time": "2022-06-01T04:24:56.235Z"
   },
   {
    "duration": 0,
    "start_time": "2022-06-01T04:24:56.237Z"
   },
   {
    "duration": 0,
    "start_time": "2022-06-01T04:24:56.238Z"
   },
   {
    "duration": 0,
    "start_time": "2022-06-01T04:24:56.239Z"
   },
   {
    "duration": 0,
    "start_time": "2022-06-01T04:24:56.240Z"
   },
   {
    "duration": 0,
    "start_time": "2022-06-01T04:24:56.242Z"
   },
   {
    "duration": 0,
    "start_time": "2022-06-01T04:24:56.243Z"
   },
   {
    "duration": 0,
    "start_time": "2022-06-01T04:24:56.244Z"
   },
   {
    "duration": 0,
    "start_time": "2022-06-01T04:24:56.246Z"
   },
   {
    "duration": 1159,
    "start_time": "2022-06-01T04:34:33.043Z"
   },
   {
    "duration": 76,
    "start_time": "2022-06-01T04:34:34.203Z"
   },
   {
    "duration": 12,
    "start_time": "2022-06-01T04:34:34.280Z"
   },
   {
    "duration": 11,
    "start_time": "2022-06-01T04:34:34.294Z"
   },
   {
    "duration": 167,
    "start_time": "2022-06-01T04:34:34.307Z"
   },
   {
    "duration": 0,
    "start_time": "2022-06-01T04:34:34.476Z"
   },
   {
    "duration": 0,
    "start_time": "2022-06-01T04:34:34.477Z"
   },
   {
    "duration": 0,
    "start_time": "2022-06-01T04:34:34.478Z"
   },
   {
    "duration": 0,
    "start_time": "2022-06-01T04:34:34.479Z"
   },
   {
    "duration": 0,
    "start_time": "2022-06-01T04:34:34.480Z"
   },
   {
    "duration": 0,
    "start_time": "2022-06-01T04:34:34.482Z"
   },
   {
    "duration": 0,
    "start_time": "2022-06-01T04:34:34.483Z"
   },
   {
    "duration": 0,
    "start_time": "2022-06-01T04:34:34.484Z"
   },
   {
    "duration": 0,
    "start_time": "2022-06-01T04:34:34.485Z"
   },
   {
    "duration": 0,
    "start_time": "2022-06-01T04:34:34.487Z"
   },
   {
    "duration": 0,
    "start_time": "2022-06-01T04:34:34.488Z"
   },
   {
    "duration": 0,
    "start_time": "2022-06-01T04:34:34.489Z"
   },
   {
    "duration": 0,
    "start_time": "2022-06-01T04:34:34.490Z"
   },
   {
    "duration": 0,
    "start_time": "2022-06-01T04:34:34.491Z"
   },
   {
    "duration": 0,
    "start_time": "2022-06-01T04:34:34.492Z"
   },
   {
    "duration": 0,
    "start_time": "2022-06-01T04:34:34.494Z"
   },
   {
    "duration": 0,
    "start_time": "2022-06-01T04:34:34.495Z"
   },
   {
    "duration": 0,
    "start_time": "2022-06-01T04:34:34.496Z"
   },
   {
    "duration": 0,
    "start_time": "2022-06-01T04:34:34.497Z"
   },
   {
    "duration": 0,
    "start_time": "2022-06-01T04:34:34.527Z"
   },
   {
    "duration": 0,
    "start_time": "2022-06-01T04:34:34.532Z"
   },
   {
    "duration": 0,
    "start_time": "2022-06-01T04:34:34.534Z"
   },
   {
    "duration": 1166,
    "start_time": "2022-06-01T04:35:36.126Z"
   },
   {
    "duration": 76,
    "start_time": "2022-06-01T04:35:37.294Z"
   },
   {
    "duration": 13,
    "start_time": "2022-06-01T04:35:37.372Z"
   },
   {
    "duration": 5,
    "start_time": "2022-06-01T04:35:37.388Z"
   },
   {
    "duration": 125,
    "start_time": "2022-06-01T04:35:37.395Z"
   },
   {
    "duration": 0,
    "start_time": "2022-06-01T04:35:37.522Z"
   },
   {
    "duration": 0,
    "start_time": "2022-06-01T04:35:37.524Z"
   },
   {
    "duration": 0,
    "start_time": "2022-06-01T04:35:37.526Z"
   },
   {
    "duration": 0,
    "start_time": "2022-06-01T04:35:37.528Z"
   },
   {
    "duration": 0,
    "start_time": "2022-06-01T04:35:37.529Z"
   },
   {
    "duration": 0,
    "start_time": "2022-06-01T04:35:37.531Z"
   },
   {
    "duration": 0,
    "start_time": "2022-06-01T04:35:37.532Z"
   },
   {
    "duration": 0,
    "start_time": "2022-06-01T04:35:37.534Z"
   },
   {
    "duration": 0,
    "start_time": "2022-06-01T04:35:37.535Z"
   },
   {
    "duration": 0,
    "start_time": "2022-06-01T04:35:37.536Z"
   },
   {
    "duration": 0,
    "start_time": "2022-06-01T04:35:37.539Z"
   },
   {
    "duration": 0,
    "start_time": "2022-06-01T04:35:37.540Z"
   },
   {
    "duration": 0,
    "start_time": "2022-06-01T04:35:37.541Z"
   },
   {
    "duration": 0,
    "start_time": "2022-06-01T04:35:37.543Z"
   },
   {
    "duration": 0,
    "start_time": "2022-06-01T04:35:37.544Z"
   },
   {
    "duration": 0,
    "start_time": "2022-06-01T04:35:37.545Z"
   },
   {
    "duration": 0,
    "start_time": "2022-06-01T04:35:37.546Z"
   },
   {
    "duration": 0,
    "start_time": "2022-06-01T04:35:37.548Z"
   },
   {
    "duration": 0,
    "start_time": "2022-06-01T04:35:37.549Z"
   },
   {
    "duration": 0,
    "start_time": "2022-06-01T04:35:37.551Z"
   },
   {
    "duration": 0,
    "start_time": "2022-06-01T04:35:37.552Z"
   },
   {
    "duration": 0,
    "start_time": "2022-06-01T04:35:37.553Z"
   },
   {
    "duration": 1251,
    "start_time": "2022-06-01T10:16:01.267Z"
   },
   {
    "duration": 182,
    "start_time": "2022-06-01T10:16:03.096Z"
   },
   {
    "duration": 20,
    "start_time": "2022-06-01T10:16:04.432Z"
   },
   {
    "duration": 74,
    "start_time": "2022-06-01T10:16:23.942Z"
   },
   {
    "duration": 9,
    "start_time": "2022-06-01T10:16:24.806Z"
   },
   {
    "duration": 3,
    "start_time": "2022-06-01T10:16:46.365Z"
   },
   {
    "duration": 79,
    "start_time": "2022-06-01T10:16:46.372Z"
   },
   {
    "duration": 8,
    "start_time": "2022-06-01T10:16:46.453Z"
   },
   {
    "duration": 6,
    "start_time": "2022-06-01T10:16:46.462Z"
   },
   {
    "duration": 15,
    "start_time": "2022-06-01T10:16:46.470Z"
   },
   {
    "duration": 10,
    "start_time": "2022-06-01T10:16:46.487Z"
   },
   {
    "duration": 5,
    "start_time": "2022-06-01T10:16:46.498Z"
   },
   {
    "duration": 128,
    "start_time": "2022-06-01T10:16:46.504Z"
   },
   {
    "duration": 136,
    "start_time": "2022-06-01T10:16:46.634Z"
   },
   {
    "duration": 200,
    "start_time": "2022-06-01T10:16:46.771Z"
   },
   {
    "duration": 310,
    "start_time": "2022-06-01T10:16:46.974Z"
   },
   {
    "duration": 12,
    "start_time": "2022-06-01T10:16:47.286Z"
   },
   {
    "duration": 529,
    "start_time": "2022-06-01T10:16:47.300Z"
   },
   {
    "duration": 178,
    "start_time": "2022-06-01T10:16:47.830Z"
   },
   {
    "duration": 323,
    "start_time": "2022-06-01T10:16:48.010Z"
   },
   {
    "duration": 169,
    "start_time": "2022-06-01T10:16:48.334Z"
   },
   {
    "duration": 295,
    "start_time": "2022-06-01T10:16:48.504Z"
   },
   {
    "duration": 133,
    "start_time": "2022-06-01T10:16:48.801Z"
   },
   {
    "duration": 5,
    "start_time": "2022-06-01T10:16:48.936Z"
   },
   {
    "duration": 214,
    "start_time": "2022-06-01T10:16:48.943Z"
   },
   {
    "duration": 5,
    "start_time": "2022-06-01T10:16:49.158Z"
   },
   {
    "duration": 236,
    "start_time": "2022-06-01T10:16:49.165Z"
   },
   {
    "duration": 158,
    "start_time": "2022-06-01T10:16:49.402Z"
   },
   {
    "duration": 10,
    "start_time": "2022-06-01T10:16:49.562Z"
   },
   {
    "duration": 8,
    "start_time": "2022-06-01T10:16:49.573Z"
   },
   {
    "duration": 49,
    "start_time": "2022-06-01T10:16:49.583Z"
   },
   {
    "duration": 12,
    "start_time": "2022-06-01T10:16:49.633Z"
   },
   {
    "duration": 1160,
    "start_time": "2022-06-01T10:18:30.712Z"
   },
   {
    "duration": 75,
    "start_time": "2022-06-01T10:18:31.875Z"
   },
   {
    "duration": 13,
    "start_time": "2022-06-01T10:18:31.952Z"
   },
   {
    "duration": 114,
    "start_time": "2022-06-01T10:18:31.967Z"
   },
   {
    "duration": 114,
    "start_time": "2022-06-01T10:18:32.083Z"
   },
   {
    "duration": 105,
    "start_time": "2022-06-01T10:18:32.198Z"
   },
   {
    "duration": 163,
    "start_time": "2022-06-01T10:18:32.304Z"
   },
   {
    "duration": 249,
    "start_time": "2022-06-01T10:18:32.469Z"
   },
   {
    "duration": 159,
    "start_time": "2022-06-01T10:18:32.719Z"
   },
   {
    "duration": 204,
    "start_time": "2022-06-01T10:18:32.880Z"
   },
   {
    "duration": 281,
    "start_time": "2022-06-01T10:18:33.086Z"
   },
   {
    "duration": 13,
    "start_time": "2022-06-01T10:18:33.369Z"
   },
   {
    "duration": 631,
    "start_time": "2022-06-01T10:18:33.384Z"
   },
   {
    "duration": 168,
    "start_time": "2022-06-01T10:18:34.017Z"
   },
   {
    "duration": 294,
    "start_time": "2022-06-01T10:18:34.186Z"
   },
   {
    "duration": 169,
    "start_time": "2022-06-01T10:18:34.481Z"
   },
   {
    "duration": 251,
    "start_time": "2022-06-01T10:18:34.651Z"
   },
   {
    "duration": 124,
    "start_time": "2022-06-01T10:18:34.903Z"
   },
   {
    "duration": 5,
    "start_time": "2022-06-01T10:18:35.028Z"
   },
   {
    "duration": 318,
    "start_time": "2022-06-01T10:18:35.035Z"
   },
   {
    "duration": 10,
    "start_time": "2022-06-01T10:18:35.354Z"
   },
   {
    "duration": 302,
    "start_time": "2022-06-01T10:18:35.366Z"
   },
   {
    "duration": 189,
    "start_time": "2022-06-01T10:18:35.670Z"
   },
   {
    "duration": 19,
    "start_time": "2022-06-01T10:18:35.861Z"
   },
   {
    "duration": 126,
    "start_time": "2022-06-01T10:18:35.882Z"
   },
   {
    "duration": 215,
    "start_time": "2022-06-01T10:18:36.010Z"
   },
   {
    "duration": 105,
    "start_time": "2022-06-01T10:18:36.227Z"
   },
   {
    "duration": 1230,
    "start_time": "2022-06-02T06:34:44.849Z"
   },
   {
    "duration": 194,
    "start_time": "2022-06-02T06:34:46.081Z"
   },
   {
    "duration": 12,
    "start_time": "2022-06-02T06:34:46.277Z"
   },
   {
    "duration": 4,
    "start_time": "2022-06-02T06:34:46.291Z"
   },
   {
    "duration": 18,
    "start_time": "2022-06-02T06:34:46.296Z"
   },
   {
    "duration": 11,
    "start_time": "2022-06-02T06:34:46.316Z"
   },
   {
    "duration": 17,
    "start_time": "2022-06-02T06:34:46.329Z"
   },
   {
    "duration": 134,
    "start_time": "2022-06-02T06:34:46.347Z"
   },
   {
    "duration": 151,
    "start_time": "2022-06-02T06:34:46.483Z"
   },
   {
    "duration": 221,
    "start_time": "2022-06-02T06:34:46.646Z"
   },
   {
    "duration": 308,
    "start_time": "2022-06-02T06:34:46.869Z"
   },
   {
    "duration": 14,
    "start_time": "2022-06-02T06:34:47.179Z"
   },
   {
    "duration": 631,
    "start_time": "2022-06-02T06:34:47.195Z"
   },
   {
    "duration": 211,
    "start_time": "2022-06-02T06:34:47.828Z"
   },
   {
    "duration": 323,
    "start_time": "2022-06-02T06:34:48.044Z"
   },
   {
    "duration": 196,
    "start_time": "2022-06-02T06:34:48.369Z"
   },
   {
    "duration": 280,
    "start_time": "2022-06-02T06:34:48.567Z"
   },
   {
    "duration": 133,
    "start_time": "2022-06-02T06:34:48.849Z"
   },
   {
    "duration": 5,
    "start_time": "2022-06-02T06:34:48.983Z"
   },
   {
    "duration": 243,
    "start_time": "2022-06-02T06:34:48.990Z"
   },
   {
    "duration": 5,
    "start_time": "2022-06-02T06:34:49.235Z"
   },
   {
    "duration": 267,
    "start_time": "2022-06-02T06:34:49.244Z"
   },
   {
    "duration": 194,
    "start_time": "2022-06-02T06:34:49.513Z"
   },
   {
    "duration": 11,
    "start_time": "2022-06-02T06:34:49.709Z"
   },
   {
    "duration": 26,
    "start_time": "2022-06-02T06:34:49.722Z"
   },
   {
    "duration": 57,
    "start_time": "2022-06-02T06:34:49.750Z"
   },
   {
    "duration": 14,
    "start_time": "2022-06-02T06:34:49.809Z"
   },
   {
    "duration": 1199,
    "start_time": "2022-06-02T07:08:42.214Z"
   },
   {
    "duration": 87,
    "start_time": "2022-06-02T07:08:43.416Z"
   },
   {
    "duration": 13,
    "start_time": "2022-06-02T07:08:43.505Z"
   },
   {
    "duration": 12,
    "start_time": "2022-06-02T07:08:43.520Z"
   },
   {
    "duration": 51,
    "start_time": "2022-06-02T07:08:43.534Z"
   },
   {
    "duration": 12,
    "start_time": "2022-06-02T07:08:43.587Z"
   },
   {
    "duration": 17,
    "start_time": "2022-06-02T07:08:43.601Z"
   },
   {
    "duration": 164,
    "start_time": "2022-06-02T07:08:43.620Z"
   },
   {
    "duration": 171,
    "start_time": "2022-06-02T07:08:43.786Z"
   },
   {
    "duration": 222,
    "start_time": "2022-06-02T07:08:43.964Z"
   },
   {
    "duration": 366,
    "start_time": "2022-06-02T07:08:44.187Z"
   },
   {
    "duration": 26,
    "start_time": "2022-06-02T07:08:44.555Z"
   },
   {
    "duration": 712,
    "start_time": "2022-06-02T07:08:44.583Z"
   },
   {
    "duration": 223,
    "start_time": "2022-06-02T07:08:45.297Z"
   },
   {
    "duration": 355,
    "start_time": "2022-06-02T07:08:45.522Z"
   },
   {
    "duration": 204,
    "start_time": "2022-06-02T07:08:45.880Z"
   },
   {
    "duration": 320,
    "start_time": "2022-06-02T07:08:46.086Z"
   },
   {
    "duration": 149,
    "start_time": "2022-06-02T07:08:46.408Z"
   },
   {
    "duration": 8,
    "start_time": "2022-06-02T07:08:46.559Z"
   },
   {
    "duration": 263,
    "start_time": "2022-06-02T07:08:46.574Z"
   },
   {
    "duration": 12,
    "start_time": "2022-06-02T07:08:46.839Z"
   },
   {
    "duration": 312,
    "start_time": "2022-06-02T07:08:46.854Z"
   },
   {
    "duration": 263,
    "start_time": "2022-06-02T07:08:47.170Z"
   },
   {
    "duration": 36,
    "start_time": "2022-06-02T07:08:47.436Z"
   },
   {
    "duration": 18,
    "start_time": "2022-06-02T07:08:47.474Z"
   },
   {
    "duration": 62,
    "start_time": "2022-06-02T07:08:47.494Z"
   },
   {
    "duration": 19,
    "start_time": "2022-06-02T07:08:47.561Z"
   },
   {
    "duration": 1132,
    "start_time": "2022-06-02T07:09:56.977Z"
   },
   {
    "duration": 88,
    "start_time": "2022-06-02T07:09:58.112Z"
   },
   {
    "duration": 15,
    "start_time": "2022-06-02T07:09:58.202Z"
   },
   {
    "duration": 31,
    "start_time": "2022-06-02T07:09:58.218Z"
   },
   {
    "duration": 42,
    "start_time": "2022-06-02T07:09:58.256Z"
   },
   {
    "duration": 27,
    "start_time": "2022-06-02T07:09:58.300Z"
   },
   {
    "duration": 70,
    "start_time": "2022-06-02T07:09:58.328Z"
   },
   {
    "duration": 167,
    "start_time": "2022-06-02T07:09:58.400Z"
   },
   {
    "duration": 168,
    "start_time": "2022-06-02T07:09:58.569Z"
   },
   {
    "duration": 224,
    "start_time": "2022-06-02T07:09:58.739Z"
   },
   {
    "duration": 336,
    "start_time": "2022-06-02T07:09:58.965Z"
   },
   {
    "duration": 18,
    "start_time": "2022-06-02T07:09:59.303Z"
   },
   {
    "duration": 665,
    "start_time": "2022-06-02T07:09:59.324Z"
   },
   {
    "duration": 230,
    "start_time": "2022-06-02T07:09:59.993Z"
   },
   {
    "duration": 335,
    "start_time": "2022-06-02T07:10:00.226Z"
   },
   {
    "duration": 205,
    "start_time": "2022-06-02T07:10:00.563Z"
   },
   {
    "duration": 308,
    "start_time": "2022-06-02T07:10:00.770Z"
   },
   {
    "duration": 148,
    "start_time": "2022-06-02T07:10:01.080Z"
   },
   {
    "duration": 5,
    "start_time": "2022-06-02T07:10:01.230Z"
   },
   {
    "duration": 270,
    "start_time": "2022-06-02T07:10:01.245Z"
   },
   {
    "duration": 5,
    "start_time": "2022-06-02T07:10:01.517Z"
   },
   {
    "duration": 331,
    "start_time": "2022-06-02T07:10:01.523Z"
   },
   {
    "duration": 224,
    "start_time": "2022-06-02T07:10:01.860Z"
   },
   {
    "duration": 15,
    "start_time": "2022-06-02T07:10:02.086Z"
   },
   {
    "duration": 42,
    "start_time": "2022-06-02T07:10:02.103Z"
   },
   {
    "duration": 97,
    "start_time": "2022-06-02T07:10:02.147Z"
   },
   {
    "duration": 28,
    "start_time": "2022-06-02T07:10:02.250Z"
   },
   {
    "duration": 76,
    "start_time": "2022-06-02T09:45:38.330Z"
   },
   {
    "duration": 1385,
    "start_time": "2022-06-02T09:45:42.224Z"
   },
   {
    "duration": 167,
    "start_time": "2022-06-02T09:45:43.612Z"
   },
   {
    "duration": 3,
    "start_time": "2022-06-02T09:45:45.454Z"
   },
   {
    "duration": 14,
    "start_time": "2022-06-02T09:45:56.584Z"
   },
   {
    "duration": 4,
    "start_time": "2022-06-02T09:46:08.678Z"
   },
   {
    "duration": 24,
    "start_time": "2022-06-02T09:46:10.432Z"
   },
   {
    "duration": 14,
    "start_time": "2022-06-02T09:46:26.423Z"
   },
   {
    "duration": 6,
    "start_time": "2022-06-02T09:50:35.301Z"
   },
   {
    "duration": 4,
    "start_time": "2022-06-02T09:57:38.660Z"
   },
   {
    "duration": 81,
    "start_time": "2022-06-02T09:57:38.666Z"
   },
   {
    "duration": 11,
    "start_time": "2022-06-02T09:57:38.749Z"
   },
   {
    "duration": 13,
    "start_time": "2022-06-02T09:57:38.762Z"
   },
   {
    "duration": 13,
    "start_time": "2022-06-02T09:57:38.777Z"
   },
   {
    "duration": 19,
    "start_time": "2022-06-02T09:57:38.791Z"
   },
   {
    "duration": 13,
    "start_time": "2022-06-02T09:57:38.811Z"
   },
   {
    "duration": 513,
    "start_time": "2022-06-02T09:57:38.826Z"
   },
   {
    "duration": 166,
    "start_time": "2022-06-02T09:57:39.341Z"
   },
   {
    "duration": 239,
    "start_time": "2022-06-02T09:57:39.509Z"
   },
   {
    "duration": 317,
    "start_time": "2022-06-02T09:57:39.750Z"
   },
   {
    "duration": 16,
    "start_time": "2022-06-02T09:57:40.070Z"
   },
   {
    "duration": 7,
    "start_time": "2022-06-02T09:57:40.088Z"
   },
   {
    "duration": 82,
    "start_time": "2022-06-02T09:57:40.098Z"
   },
   {
    "duration": 0,
    "start_time": "2022-06-02T09:57:40.182Z"
   },
   {
    "duration": 0,
    "start_time": "2022-06-02T09:57:40.183Z"
   },
   {
    "duration": 0,
    "start_time": "2022-06-02T09:57:40.185Z"
   },
   {
    "duration": 0,
    "start_time": "2022-06-02T09:57:40.187Z"
   },
   {
    "duration": 0,
    "start_time": "2022-06-02T09:57:40.188Z"
   },
   {
    "duration": 0,
    "start_time": "2022-06-02T09:57:40.189Z"
   },
   {
    "duration": 0,
    "start_time": "2022-06-02T09:57:40.191Z"
   },
   {
    "duration": 0,
    "start_time": "2022-06-02T09:57:40.192Z"
   },
   {
    "duration": 0,
    "start_time": "2022-06-02T09:57:40.194Z"
   },
   {
    "duration": 0,
    "start_time": "2022-06-02T09:57:40.195Z"
   },
   {
    "duration": 0,
    "start_time": "2022-06-02T09:57:40.197Z"
   },
   {
    "duration": 0,
    "start_time": "2022-06-02T09:57:40.226Z"
   },
   {
    "duration": 1,
    "start_time": "2022-06-02T09:57:40.227Z"
   },
   {
    "duration": 0,
    "start_time": "2022-06-02T09:57:40.229Z"
   },
   {
    "duration": 0,
    "start_time": "2022-06-02T09:57:40.231Z"
   },
   {
    "duration": 0,
    "start_time": "2022-06-02T09:57:40.232Z"
   },
   {
    "duration": 7,
    "start_time": "2022-06-02T09:58:36.430Z"
   },
   {
    "duration": 84,
    "start_time": "2022-06-02T09:58:36.439Z"
   },
   {
    "duration": 12,
    "start_time": "2022-06-02T09:58:36.526Z"
   },
   {
    "duration": 11,
    "start_time": "2022-06-02T09:58:36.541Z"
   },
   {
    "duration": 36,
    "start_time": "2022-06-02T09:58:36.554Z"
   },
   {
    "duration": 31,
    "start_time": "2022-06-02T09:58:36.593Z"
   },
   {
    "duration": 14,
    "start_time": "2022-06-02T09:58:36.626Z"
   },
   {
    "duration": 159,
    "start_time": "2022-06-02T09:58:36.642Z"
   },
   {
    "duration": 212,
    "start_time": "2022-06-02T09:58:36.803Z"
   },
   {
    "duration": 168,
    "start_time": "2022-06-02T09:58:37.025Z"
   },
   {
    "duration": 355,
    "start_time": "2022-06-02T09:58:37.195Z"
   },
   {
    "duration": 15,
    "start_time": "2022-06-02T09:58:37.553Z"
   },
   {
    "duration": 11,
    "start_time": "2022-06-02T09:58:37.570Z"
   },
   {
    "duration": 10,
    "start_time": "2022-06-02T09:58:37.582Z"
   },
   {
    "duration": 12,
    "start_time": "2022-06-02T09:58:37.593Z"
   },
   {
    "duration": 730,
    "start_time": "2022-06-02T09:58:37.626Z"
   },
   {
    "duration": 241,
    "start_time": "2022-06-02T09:58:38.362Z"
   },
   {
    "duration": 357,
    "start_time": "2022-06-02T09:58:38.604Z"
   },
   {
    "duration": 229,
    "start_time": "2022-06-02T09:58:38.963Z"
   },
   {
    "duration": 327,
    "start_time": "2022-06-02T09:58:39.193Z"
   },
   {
    "duration": 159,
    "start_time": "2022-06-02T09:58:39.526Z"
   },
   {
    "duration": 5,
    "start_time": "2022-06-02T09:58:39.687Z"
   },
   {
    "duration": 161,
    "start_time": "2022-06-02T09:58:39.694Z"
   },
   {
    "duration": 19,
    "start_time": "2022-06-02T09:58:39.857Z"
   },
   {
    "duration": 294,
    "start_time": "2022-06-02T09:58:39.882Z"
   },
   {
    "duration": 205,
    "start_time": "2022-06-02T09:58:40.178Z"
   },
   {
    "duration": 14,
    "start_time": "2022-06-02T09:58:40.385Z"
   },
   {
    "duration": 30,
    "start_time": "2022-06-02T09:58:40.402Z"
   },
   {
    "duration": 61,
    "start_time": "2022-06-02T09:58:40.434Z"
   },
   {
    "duration": 13,
    "start_time": "2022-06-02T09:58:40.497Z"
   },
   {
    "duration": 7,
    "start_time": "2022-06-02T10:05:36.587Z"
   },
   {
    "duration": 10,
    "start_time": "2022-06-02T10:27:10.983Z"
   },
   {
    "duration": 13,
    "start_time": "2022-06-02T10:27:19.822Z"
   },
   {
    "duration": 9,
    "start_time": "2022-06-02T10:30:07.337Z"
   },
   {
    "duration": 10,
    "start_time": "2022-06-02T10:30:17.203Z"
   },
   {
    "duration": 14,
    "start_time": "2022-06-02T10:30:30.610Z"
   },
   {
    "duration": 5,
    "start_time": "2022-06-02T10:33:41.422Z"
   },
   {
    "duration": 13,
    "start_time": "2022-06-02T10:33:43.839Z"
   },
   {
    "duration": 229,
    "start_time": "2022-06-02T10:33:45.102Z"
   },
   {
    "duration": 224,
    "start_time": "2022-06-02T10:33:54.911Z"
   },
   {
    "duration": 13,
    "start_time": "2022-06-02T10:34:42.982Z"
   },
   {
    "duration": 310,
    "start_time": "2022-06-02T10:34:44.181Z"
   },
   {
    "duration": 602,
    "start_time": "2022-06-02T10:35:58.565Z"
   },
   {
    "duration": 5,
    "start_time": "2022-06-02T10:39:55.606Z"
   },
   {
    "duration": 5,
    "start_time": "2022-06-02T10:48:36.978Z"
   },
   {
    "duration": 14,
    "start_time": "2022-06-02T10:49:01.672Z"
   },
   {
    "duration": 6,
    "start_time": "2022-06-02T10:49:49.778Z"
   },
   {
    "duration": 5,
    "start_time": "2022-06-02T10:50:23.591Z"
   },
   {
    "duration": 17,
    "start_time": "2022-06-02T10:50:33.831Z"
   },
   {
    "duration": 14,
    "start_time": "2022-06-02T10:50:50.872Z"
   },
   {
    "duration": 11,
    "start_time": "2022-06-02T10:51:52.674Z"
   },
   {
    "duration": 13,
    "start_time": "2022-06-02T10:52:02.337Z"
   },
   {
    "duration": 9,
    "start_time": "2022-06-02T10:52:06.701Z"
   },
   {
    "duration": 21,
    "start_time": "2022-06-02T11:10:40.246Z"
   },
   {
    "duration": 14,
    "start_time": "2022-06-02T11:10:44.608Z"
   },
   {
    "duration": 571,
    "start_time": "2022-06-02T11:14:37.173Z"
   },
   {
    "duration": 9,
    "start_time": "2022-06-02T12:47:33.876Z"
   },
   {
    "duration": 507,
    "start_time": "2022-06-02T12:48:04.840Z"
   },
   {
    "duration": 267,
    "start_time": "2022-06-02T12:49:12.306Z"
   },
   {
    "duration": 318,
    "start_time": "2022-06-02T12:49:35.908Z"
   },
   {
    "duration": 237,
    "start_time": "2022-06-02T12:50:09.539Z"
   },
   {
    "duration": 349,
    "start_time": "2022-06-02T12:50:16.316Z"
   },
   {
    "duration": 326,
    "start_time": "2022-06-02T12:50:55.131Z"
   },
   {
    "duration": 170,
    "start_time": "2022-06-02T12:52:33.298Z"
   },
   {
    "duration": 170,
    "start_time": "2022-06-02T12:54:20.025Z"
   },
   {
    "duration": 5,
    "start_time": "2022-06-02T12:54:51.051Z"
   },
   {
    "duration": 180,
    "start_time": "2022-06-02T12:58:48.012Z"
   },
   {
    "duration": 149,
    "start_time": "2022-06-02T13:01:14.331Z"
   },
   {
    "duration": 142,
    "start_time": "2022-06-02T13:01:23.242Z"
   },
   {
    "duration": 137,
    "start_time": "2022-06-02T13:02:44.450Z"
   },
   {
    "duration": 126,
    "start_time": "2022-06-02T13:03:04.373Z"
   },
   {
    "duration": 6,
    "start_time": "2022-06-02T13:04:59.551Z"
   },
   {
    "duration": 252,
    "start_time": "2022-06-02T13:05:24.855Z"
   },
   {
    "duration": 156,
    "start_time": "2022-06-02T13:11:28.096Z"
   },
   {
    "duration": 173,
    "start_time": "2022-06-02T13:11:35.278Z"
   },
   {
    "duration": 190,
    "start_time": "2022-06-02T13:12:26.849Z"
   },
   {
    "duration": 16,
    "start_time": "2022-06-02T13:12:57.878Z"
   },
   {
    "duration": 13,
    "start_time": "2022-06-02T13:15:16.994Z"
   },
   {
    "duration": 63,
    "start_time": "2022-06-02T13:16:59.369Z"
   },
   {
    "duration": 21,
    "start_time": "2022-06-02T13:19:29.084Z"
   },
   {
    "duration": 11,
    "start_time": "2022-06-02T14:58:36.650Z"
   },
   {
    "duration": 35,
    "start_time": "2022-06-02T14:58:52.061Z"
   },
   {
    "duration": 16,
    "start_time": "2022-06-02T14:59:52.089Z"
   },
   {
    "duration": 512,
    "start_time": "2022-06-02T15:03:31.998Z"
   },
   {
    "duration": 217,
    "start_time": "2022-06-02T15:03:41.126Z"
   },
   {
    "duration": 272,
    "start_time": "2022-06-02T15:03:46.638Z"
   },
   {
    "duration": 143,
    "start_time": "2022-06-02T15:04:28.005Z"
   },
   {
    "duration": 1143,
    "start_time": "2022-06-02T15:08:34.293Z"
   },
   {
    "duration": 69,
    "start_time": "2022-06-02T15:08:35.437Z"
   },
   {
    "duration": 14,
    "start_time": "2022-06-02T15:08:35.508Z"
   },
   {
    "duration": 4,
    "start_time": "2022-06-02T15:08:35.524Z"
   },
   {
    "duration": 16,
    "start_time": "2022-06-02T15:08:35.529Z"
   },
   {
    "duration": 12,
    "start_time": "2022-06-02T15:08:35.547Z"
   },
   {
    "duration": 7,
    "start_time": "2022-06-02T15:08:35.561Z"
   },
   {
    "duration": 188,
    "start_time": "2022-06-02T15:08:35.570Z"
   },
   {
    "duration": 166,
    "start_time": "2022-06-02T15:08:35.760Z"
   },
   {
    "duration": 230,
    "start_time": "2022-06-02T15:08:35.929Z"
   },
   {
    "duration": 315,
    "start_time": "2022-06-02T15:08:36.161Z"
   },
   {
    "duration": 15,
    "start_time": "2022-06-02T15:08:36.478Z"
   },
   {
    "duration": 14,
    "start_time": "2022-06-02T15:08:36.494Z"
   },
   {
    "duration": 23,
    "start_time": "2022-06-02T15:08:36.510Z"
   },
   {
    "duration": 608,
    "start_time": "2022-06-02T15:08:36.534Z"
   },
   {
    "duration": 241,
    "start_time": "2022-06-02T15:08:37.144Z"
   },
   {
    "duration": 317,
    "start_time": "2022-06-02T15:08:37.387Z"
   },
   {
    "duration": 215,
    "start_time": "2022-06-02T15:08:37.706Z"
   },
   {
    "duration": 306,
    "start_time": "2022-06-02T15:08:37.926Z"
   },
   {
    "duration": 181,
    "start_time": "2022-06-02T15:08:38.233Z"
   },
   {
    "duration": 13,
    "start_time": "2022-06-02T15:08:38.416Z"
   },
   {
    "duration": 276,
    "start_time": "2022-06-02T15:08:38.431Z"
   },
   {
    "duration": 5,
    "start_time": "2022-06-02T15:08:38.709Z"
   },
   {
    "duration": 261,
    "start_time": "2022-06-02T15:08:38.716Z"
   },
   {
    "duration": 193,
    "start_time": "2022-06-02T15:08:38.979Z"
   },
   {
    "duration": 12,
    "start_time": "2022-06-02T15:08:39.174Z"
   },
   {
    "duration": 25,
    "start_time": "2022-06-02T15:08:39.188Z"
   },
   {
    "duration": 40,
    "start_time": "2022-06-02T15:08:39.225Z"
   },
   {
    "duration": 18,
    "start_time": "2022-06-02T15:08:39.267Z"
   },
   {
    "duration": 13,
    "start_time": "2022-06-02T15:12:39.119Z"
   },
   {
    "duration": 1198,
    "start_time": "2022-06-02T15:12:58.475Z"
   },
   {
    "duration": 69,
    "start_time": "2022-06-02T15:12:59.675Z"
   },
   {
    "duration": 13,
    "start_time": "2022-06-02T15:12:59.746Z"
   },
   {
    "duration": 10,
    "start_time": "2022-06-02T15:12:59.761Z"
   },
   {
    "duration": 17,
    "start_time": "2022-06-02T15:12:59.773Z"
   },
   {
    "duration": 13,
    "start_time": "2022-06-02T15:12:59.792Z"
   },
   {
    "duration": 18,
    "start_time": "2022-06-02T15:12:59.807Z"
   },
   {
    "duration": 144,
    "start_time": "2022-06-02T15:12:59.828Z"
   },
   {
    "duration": 162,
    "start_time": "2022-06-02T15:12:59.974Z"
   },
   {
    "duration": 251,
    "start_time": "2022-06-02T15:13:00.139Z"
   },
   {
    "duration": 346,
    "start_time": "2022-06-02T15:13:00.392Z"
   },
   {
    "duration": 14,
    "start_time": "2022-06-02T15:13:00.740Z"
   },
   {
    "duration": 20,
    "start_time": "2022-06-02T15:13:00.756Z"
   },
   {
    "duration": 31,
    "start_time": "2022-06-02T15:13:00.778Z"
   },
   {
    "duration": 593,
    "start_time": "2022-06-02T15:13:00.811Z"
   },
   {
    "duration": 222,
    "start_time": "2022-06-02T15:13:01.406Z"
   },
   {
    "duration": 311,
    "start_time": "2022-06-02T15:13:01.631Z"
   },
   {
    "duration": 228,
    "start_time": "2022-06-02T15:13:01.944Z"
   },
   {
    "duration": 365,
    "start_time": "2022-06-02T15:13:02.174Z"
   },
   {
    "duration": 184,
    "start_time": "2022-06-02T15:13:02.542Z"
   },
   {
    "duration": 7,
    "start_time": "2022-06-02T15:13:02.728Z"
   },
   {
    "duration": 267,
    "start_time": "2022-06-02T15:13:02.737Z"
   },
   {
    "duration": 6,
    "start_time": "2022-06-02T15:13:03.006Z"
   },
   {
    "duration": 237,
    "start_time": "2022-06-02T15:13:03.025Z"
   },
   {
    "duration": 177,
    "start_time": "2022-06-02T15:13:03.264Z"
   },
   {
    "duration": 12,
    "start_time": "2022-06-02T15:13:03.443Z"
   },
   {
    "duration": 11,
    "start_time": "2022-06-02T15:13:03.456Z"
   },
   {
    "duration": 58,
    "start_time": "2022-06-02T15:13:03.471Z"
   },
   {
    "duration": 18,
    "start_time": "2022-06-02T15:13:03.532Z"
   },
   {
    "duration": 1044,
    "start_time": "2022-06-02T23:07:31.980Z"
   },
   {
    "duration": 71,
    "start_time": "2022-06-02T23:07:33.026Z"
   },
   {
    "duration": 11,
    "start_time": "2022-06-02T23:07:33.099Z"
   },
   {
    "duration": 3,
    "start_time": "2022-06-02T23:07:33.111Z"
   },
   {
    "duration": 12,
    "start_time": "2022-06-02T23:07:33.116Z"
   },
   {
    "duration": 9,
    "start_time": "2022-06-02T23:07:33.130Z"
   },
   {
    "duration": 5,
    "start_time": "2022-06-02T23:07:33.141Z"
   },
   {
    "duration": 139,
    "start_time": "2022-06-02T23:07:33.147Z"
   },
   {
    "duration": 139,
    "start_time": "2022-06-02T23:07:33.287Z"
   },
   {
    "duration": 184,
    "start_time": "2022-06-02T23:07:33.427Z"
   },
   {
    "duration": 267,
    "start_time": "2022-06-02T23:07:33.612Z"
   },
   {
    "duration": 18,
    "start_time": "2022-06-02T23:07:33.881Z"
   },
   {
    "duration": 10,
    "start_time": "2022-06-02T23:07:33.901Z"
   },
   {
    "duration": 14,
    "start_time": "2022-06-02T23:07:33.913Z"
   },
   {
    "duration": 547,
    "start_time": "2022-06-02T23:07:33.929Z"
   },
   {
    "duration": 177,
    "start_time": "2022-06-02T23:07:34.478Z"
   },
   {
    "duration": 258,
    "start_time": "2022-06-02T23:07:34.657Z"
   },
   {
    "duration": 178,
    "start_time": "2022-06-02T23:07:34.917Z"
   },
   {
    "duration": 290,
    "start_time": "2022-06-02T23:07:35.099Z"
   },
   {
    "duration": 145,
    "start_time": "2022-06-02T23:07:35.390Z"
   },
   {
    "duration": 5,
    "start_time": "2022-06-02T23:07:35.537Z"
   },
   {
    "duration": 228,
    "start_time": "2022-06-02T23:07:35.543Z"
   },
   {
    "duration": 5,
    "start_time": "2022-06-02T23:07:35.772Z"
   },
   {
    "duration": 224,
    "start_time": "2022-06-02T23:07:35.778Z"
   },
   {
    "duration": 151,
    "start_time": "2022-06-02T23:07:36.004Z"
   },
   {
    "duration": 9,
    "start_time": "2022-06-02T23:07:36.156Z"
   },
   {
    "duration": 8,
    "start_time": "2022-06-02T23:07:36.167Z"
   },
   {
    "duration": 47,
    "start_time": "2022-06-02T23:07:36.177Z"
   },
   {
    "duration": 12,
    "start_time": "2022-06-02T23:07:36.226Z"
   },
   {
    "duration": 121,
    "start_time": "2022-06-02T23:09:29.263Z"
   },
   {
    "duration": 6,
    "start_time": "2022-06-02T23:12:25.556Z"
   },
   {
    "duration": 3,
    "start_time": "2022-06-02T23:12:33.701Z"
   },
   {
    "duration": 4,
    "start_time": "2022-06-02T23:12:54.557Z"
   },
   {
    "duration": 1010,
    "start_time": "2022-06-02T23:19:35.415Z"
   },
   {
    "duration": 69,
    "start_time": "2022-06-02T23:19:36.426Z"
   },
   {
    "duration": 11,
    "start_time": "2022-06-02T23:19:36.497Z"
   },
   {
    "duration": 3,
    "start_time": "2022-06-02T23:19:36.510Z"
   },
   {
    "duration": 13,
    "start_time": "2022-06-02T23:19:36.515Z"
   },
   {
    "duration": 11,
    "start_time": "2022-06-02T23:19:36.530Z"
   },
   {
    "duration": 4,
    "start_time": "2022-06-02T23:19:36.542Z"
   },
   {
    "duration": 145,
    "start_time": "2022-06-02T23:19:36.548Z"
   },
   {
    "duration": 134,
    "start_time": "2022-06-02T23:19:36.695Z"
   },
   {
    "duration": 178,
    "start_time": "2022-06-02T23:19:36.830Z"
   },
   {
    "duration": 269,
    "start_time": "2022-06-02T23:19:37.010Z"
   },
   {
    "duration": 18,
    "start_time": "2022-06-02T23:19:37.281Z"
   },
   {
    "duration": 11,
    "start_time": "2022-06-02T23:19:37.301Z"
   },
   {
    "duration": 8,
    "start_time": "2022-06-02T23:19:37.315Z"
   },
   {
    "duration": 539,
    "start_time": "2022-06-02T23:19:37.324Z"
   },
   {
    "duration": 186,
    "start_time": "2022-06-02T23:19:37.865Z"
   },
   {
    "duration": 287,
    "start_time": "2022-06-02T23:19:38.053Z"
   },
   {
    "duration": 170,
    "start_time": "2022-06-02T23:19:38.342Z"
   },
   {
    "duration": 293,
    "start_time": "2022-06-02T23:19:38.514Z"
   },
   {
    "duration": 135,
    "start_time": "2022-06-02T23:19:38.808Z"
   },
   {
    "duration": 7,
    "start_time": "2022-06-02T23:19:38.944Z"
   },
   {
    "duration": 210,
    "start_time": "2022-06-02T23:19:38.952Z"
   },
   {
    "duration": 4,
    "start_time": "2022-06-02T23:19:39.164Z"
   },
   {
    "duration": 218,
    "start_time": "2022-06-02T23:19:39.170Z"
   },
   {
    "duration": 143,
    "start_time": "2022-06-02T23:19:39.390Z"
   },
   {
    "duration": 10,
    "start_time": "2022-06-02T23:19:39.535Z"
   },
   {
    "duration": 10,
    "start_time": "2022-06-02T23:19:39.546Z"
   },
   {
    "duration": 55,
    "start_time": "2022-06-02T23:19:39.557Z"
   },
   {
    "duration": 14,
    "start_time": "2022-06-02T23:19:39.614Z"
   }
  ],
  "kernelspec": {
   "display_name": "Python 3 (ipykernel)",
   "language": "python",
   "name": "python3"
  },
  "language_info": {
   "codemirror_mode": {
    "name": "ipython",
    "version": 3
   },
   "file_extension": ".py",
   "mimetype": "text/x-python",
   "name": "python",
   "nbconvert_exporter": "python",
   "pygments_lexer": "ipython3",
   "version": "3.9.7"
  },
  "toc": {
   "base_numbering": 1,
   "nav_menu": {},
   "number_sections": true,
   "sideBar": true,
   "skip_h1_title": true,
   "title_cell": "Table of Contents",
   "title_sidebar": "Contents",
   "toc_cell": false,
   "toc_position": {},
   "toc_section_display": true,
   "toc_window_display": true
  }
 },
 "nbformat": 4,
 "nbformat_minor": 5
}
