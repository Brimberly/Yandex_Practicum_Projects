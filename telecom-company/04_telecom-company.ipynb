{
 "cells": [
  {
   "cell_type": "markdown",
   "id": "9c327b40",
   "metadata": {},
   "source": [
    "# Определение перспективного тарифа для телеком-компании\n",
    "\n",
    "<font size=\"4,5\"><b>Задача</b></font>\n",
    "\n",
    "Компания «Мегалайн» — федеральный оператор сотовой связи — предлагает клиентам два тарифных плана: «Смарт» и «Ультра». Чтобы скорректировать рекламный бюджет, коммерческий департамент хочет понять, какой тариф приносит больше денег.\n",
    "\n",
    "Нужно провести предварительный анализ тарифов на небольшой выборке клиентов — предоставлена выборка из 500 клиентов оператора, — проанализировать поведение клиентов и сделать вывод — какой тариф лучше.\n",
    "\n",
    "<font size=\"4,5\"><b>Данные</b></font>\n",
    "\n",
    "Выборка 500 пользователей «Мегалайна»: кто они, откуда, каким тарифом пользуются, сколько звонков и сообщений каждый отправил за 2018 год.\n",
    "\n",
    "<font size=\"3\"><b>Тариф \"Смарт\"</b></font>\n",
    "\n",
    "Ежемесячная плата: 550 рублей\n",
    "\n",
    "Включено 500 минут разговора, 50 сообщений и 15 Гб интернет-трафика\n",
    "\n",
    "Стоимость услуг сверх тарифного пакета:\n",
    "\n",
    "- минута разговора: 3 рубля\n",
    "- сообщение: 3 рубля\n",
    "\n",
    "1 Гб интернет-трафика: 200 рублей\n",
    "\n",
    "<font size=\"3\"><b>Тариф \"Ультра\"</b></font>\n",
    "\n",
    "Ежемесячная плата: 1950 рублей\n",
    "\n",
    "Включено 3000 минут разговора, 1000 сообщений и 30 Гб интернет-трафика\n",
    "\n",
    "Стоимость услуг сверх тарифного пакета:\n",
    "\n",
    "- минута разговора: 1 рубль\n",
    "- сообщение: 1 рубль\n",
    "\n",
    "1 Гб интернет-трафика: 150 рублей\n",
    "\n",
    "<font size=\"4,5\"><b>Примечания</b></font>\n",
    "\n",
    "1. «Мегалайн» всегда округляет секунды до минут, а мегабайты — до гигабайт.\n",
    "\n",
    "2. Каждый звонок округляется отдельно: даже если он длился всего 1 секунду, будет засчитан как 1 минута.\n",
    "\n",
    "3. Для веб-трафика отдельные сессии не считаются. Вместо этого общая сумма за месяц округляется в бо́льшую сторону.\n",
    "\n",
    "<font size=\"4,5\"><b>План работы</b></font>\n",
    "\n",
    "1. Изучение и предобработка данных: \n",
    "- проверка на пропуски и дубликаты; \n",
    "- проверка типов данных; \n",
    "- поиск ошибок в данных и их исправление при необходимости;\n",
    "- проведение расчетов для дополнения имеющейся информации необходимыми для дальнейшего анализа данными.\n",
    "\n",
    "2. Проведение исследовательского анализа:\n",
    "- анализ поведения клиентов оператора, исходя из выборки — сколько минут разговора, сколько сообщений и какой объём интернет-трафика требуется пользователям каждого тарифа в месяц;\n",
    "- среднее количество, дисперсия и стандартное отклонение;\n",
    "- описание распределения.\n",
    "\n",
    "3. Формулирование и проверка гипотез:\n",
    "- средняя выручка пользователей тарифов «Ультра» и «Смарт» различаются;\n",
    "- средняя выручка пользователей из Москвы отличается от выручки пользователей из других регионов.\n",
    "\n",
    "4. Вывод."
   ]
  },
  {
   "cell_type": "markdown",
   "id": "c7bc29a7",
   "metadata": {},
   "source": [
    "# 1. Изучение и предобработка данных"
   ]
  },
  {
   "cell_type": "code",
   "execution_count": 1,
   "id": "2f3e544b",
   "metadata": {},
   "outputs": [],
   "source": [
    "import pandas as pd\n",
    "import numpy as np\n",
    "from scipy import stats as st\n",
    "import seaborn as sns\n",
    "import matplotlib.pyplot as plt\n",
    "%matplotlib inline"
   ]
  },
  {
   "cell_type": "code",
   "execution_count": 2,
   "id": "e8782dfe",
   "metadata": {},
   "outputs": [],
   "source": [
    "# подгружаем имеющиеся датасеты\n",
    "\n",
    "data_tariffs = pd.read_csv('/datasets/tariffs.csv')\n",
    "data_calls = pd.read_csv('/datasets/calls.csv')\n",
    "data_internet = pd.read_csv('/datasets/internet.csv')\n",
    "data_messages = pd.read_csv('/datasets/messages.csv')\n",
    "data_users = pd.read_csv('/datasets/users.csv')"
   ]
  },
  {
   "cell_type": "markdown",
   "id": "ac677b6f",
   "metadata": {},
   "source": [
    "## 1.1. Изучение данных"
   ]
  },
  {
   "cell_type": "markdown",
   "id": "4328eb54",
   "metadata": {},
   "source": [
    "Информация представлена в пяти отдельных датасетах, ознакомимся с их содержимым, прежде чем принимать решение, как будет правильно объединить данные в одну таблицу, и обработать их.\n",
    "\n",
    "Начнем с таблицы с информацией о звонках клиентов."
   ]
  },
  {
   "cell_type": "markdown",
   "id": "e6ac0f1d",
   "metadata": {},
   "source": [
    "### 1.1.1. Информация о звонках"
   ]
  },
  {
   "cell_type": "code",
   "execution_count": 3,
   "id": "33c77f7d",
   "metadata": {},
   "outputs": [
    {
     "data": {
      "text/html": [
       "<div>\n",
       "<style scoped>\n",
       "    .dataframe tbody tr th:only-of-type {\n",
       "        vertical-align: middle;\n",
       "    }\n",
       "\n",
       "    .dataframe tbody tr th {\n",
       "        vertical-align: top;\n",
       "    }\n",
       "\n",
       "    .dataframe thead th {\n",
       "        text-align: right;\n",
       "    }\n",
       "</style>\n",
       "<table border=\"1\" class=\"dataframe\">\n",
       "  <thead>\n",
       "    <tr style=\"text-align: right;\">\n",
       "      <th></th>\n",
       "      <th>id</th>\n",
       "      <th>call_date</th>\n",
       "      <th>duration</th>\n",
       "      <th>user_id</th>\n",
       "    </tr>\n",
       "  </thead>\n",
       "  <tbody>\n",
       "    <tr>\n",
       "      <th>0</th>\n",
       "      <td>1000_0</td>\n",
       "      <td>2018-07-25</td>\n",
       "      <td>0.00</td>\n",
       "      <td>1000</td>\n",
       "    </tr>\n",
       "    <tr>\n",
       "      <th>1</th>\n",
       "      <td>1000_1</td>\n",
       "      <td>2018-08-17</td>\n",
       "      <td>0.00</td>\n",
       "      <td>1000</td>\n",
       "    </tr>\n",
       "    <tr>\n",
       "      <th>2</th>\n",
       "      <td>1000_2</td>\n",
       "      <td>2018-06-11</td>\n",
       "      <td>2.85</td>\n",
       "      <td>1000</td>\n",
       "    </tr>\n",
       "    <tr>\n",
       "      <th>3</th>\n",
       "      <td>1000_3</td>\n",
       "      <td>2018-09-21</td>\n",
       "      <td>13.80</td>\n",
       "      <td>1000</td>\n",
       "    </tr>\n",
       "    <tr>\n",
       "      <th>4</th>\n",
       "      <td>1000_4</td>\n",
       "      <td>2018-12-15</td>\n",
       "      <td>5.18</td>\n",
       "      <td>1000</td>\n",
       "    </tr>\n",
       "  </tbody>\n",
       "</table>\n",
       "</div>"
      ],
      "text/plain": [
       "       id   call_date  duration  user_id\n",
       "0  1000_0  2018-07-25      0.00     1000\n",
       "1  1000_1  2018-08-17      0.00     1000\n",
       "2  1000_2  2018-06-11      2.85     1000\n",
       "3  1000_3  2018-09-21     13.80     1000\n",
       "4  1000_4  2018-12-15      5.18     1000"
      ]
     },
     "metadata": {},
     "output_type": "display_data"
    }
   ],
   "source": [
    "display(data_calls.head())"
   ]
  },
  {
   "cell_type": "markdown",
   "id": "858e81ce",
   "metadata": {},
   "source": [
    "Таблица `calls` (информация о звонках):\n",
    "- id — уникальный номер звонка;\n",
    "- call_date — дата звонка;\n",
    "- duration — длительность звонка в минутах;\n",
    "- user_id — идентификатор пользователя, сделавшего звонок."
   ]
  },
  {
   "cell_type": "code",
   "execution_count": 4,
   "id": "7ee874f3",
   "metadata": {},
   "outputs": [
    {
     "name": "stdout",
     "output_type": "stream",
     "text": [
      "<class 'pandas.core.frame.DataFrame'>\n",
      "RangeIndex: 202607 entries, 0 to 202606\n",
      "Data columns (total 4 columns):\n",
      " #   Column     Non-Null Count   Dtype  \n",
      "---  ------     --------------   -----  \n",
      " 0   id         202607 non-null  object \n",
      " 1   call_date  202607 non-null  object \n",
      " 2   duration   202607 non-null  float64\n",
      " 3   user_id    202607 non-null  int64  \n",
      "dtypes: float64(1), int64(1), object(2)\n",
      "memory usage: 6.2+ MB\n"
     ]
    }
   ],
   "source": [
    "data_calls.info()"
   ]
  },
  {
   "cell_type": "code",
   "execution_count": 5,
   "id": "13107336",
   "metadata": {},
   "outputs": [
    {
     "data": {
      "text/plain": [
       "count    202607.000000\n",
       "mean          6.755887\n",
       "std           5.843365\n",
       "min           0.000000\n",
       "25%           1.300000\n",
       "50%           6.000000\n",
       "75%          10.700000\n",
       "max          38.000000\n",
       "Name: duration, dtype: float64"
      ]
     },
     "execution_count": 5,
     "metadata": {},
     "output_type": "execute_result"
    },
    {
     "data": {
      "image/png": "[encoded data removed]",
      "text/plain": [
       "<Figure size 432x288 with 1 Axes>"
      ]
     },
     "metadata": {
      "needs_background": "light"
     },
     "output_type": "display_data"
    }
   ],
   "source": [
    "plt.boxplot(data_calls['duration']) # сформируем диграмму размаха столбца duration\n",
    "plt.ylim(1,45)\n",
    "data_calls['duration'].describe() # запросим описание столбца"
   ]
  },
  {
   "cell_type": "code",
   "execution_count": 6,
   "id": "4b30f553",
   "metadata": {},
   "outputs": [
    {
     "data": {
      "text/plain": [
       "0"
      ]
     },
     "execution_count": 6,
     "metadata": {},
     "output_type": "execute_result"
    }
   ],
   "source": [
    "data_calls.duplicated().sum()"
   ]
  },
  {
   "cell_type": "markdown",
   "id": "3badae2f",
   "metadata": {},
   "source": [
    "Данные полные, пропусков и дубликатов нет. Некорректных значений не обнаружено — среднее значение длительность звонка около 7 минут, но и звонки по 38 минут абсолютно реалистичны, отказываться от этих значений нельзя. \n",
    "\n",
    "Замечания:\n",
    "- в столбце `call_date` тип данных необходимо заменить на **datetime**;\n",
    "- длительность звонка в столбце `duration` можно представить целым числом, так как компания округляет секунды до минут, и изменить тип данных на `int`."
   ]
  },
  {
   "cell_type": "markdown",
   "id": "a41a9be7",
   "metadata": {},
   "source": [
    "### 1.1.2. Информация о сообщениях"
   ]
  },
  {
   "cell_type": "code",
   "execution_count": 7,
   "id": "76b80809",
   "metadata": {
    "scrolled": true
   },
   "outputs": [
    {
     "data": {
      "text/html": [
       "<div>\n",
       "<style scoped>\n",
       "    .dataframe tbody tr th:only-of-type {\n",
       "        vertical-align: middle;\n",
       "    }\n",
       "\n",
       "    .dataframe tbody tr th {\n",
       "        vertical-align: top;\n",
       "    }\n",
       "\n",
       "    .dataframe thead th {\n",
       "        text-align: right;\n",
       "    }\n",
       "</style>\n",
       "<table border=\"1\" class=\"dataframe\">\n",
       "  <thead>\n",
       "    <tr style=\"text-align: right;\">\n",
       "      <th></th>\n",
       "      <th>id</th>\n",
       "      <th>message_date</th>\n",
       "      <th>user_id</th>\n",
       "    </tr>\n",
       "  </thead>\n",
       "  <tbody>\n",
       "    <tr>\n",
       "      <th>0</th>\n",
       "      <td>1000_0</td>\n",
       "      <td>2018-06-27</td>\n",
       "      <td>1000</td>\n",
       "    </tr>\n",
       "    <tr>\n",
       "      <th>1</th>\n",
       "      <td>1000_1</td>\n",
       "      <td>2018-10-08</td>\n",
       "      <td>1000</td>\n",
       "    </tr>\n",
       "    <tr>\n",
       "      <th>2</th>\n",
       "      <td>1000_2</td>\n",
       "      <td>2018-08-04</td>\n",
       "      <td>1000</td>\n",
       "    </tr>\n",
       "    <tr>\n",
       "      <th>3</th>\n",
       "      <td>1000_3</td>\n",
       "      <td>2018-06-16</td>\n",
       "      <td>1000</td>\n",
       "    </tr>\n",
       "    <tr>\n",
       "      <th>4</th>\n",
       "      <td>1000_4</td>\n",
       "      <td>2018-12-05</td>\n",
       "      <td>1000</td>\n",
       "    </tr>\n",
       "  </tbody>\n",
       "</table>\n",
       "</div>"
      ],
      "text/plain": [
       "       id message_date  user_id\n",
       "0  1000_0   2018-06-27     1000\n",
       "1  1000_1   2018-10-08     1000\n",
       "2  1000_2   2018-08-04     1000\n",
       "3  1000_3   2018-06-16     1000\n",
       "4  1000_4   2018-12-05     1000"
      ]
     },
     "metadata": {},
     "output_type": "display_data"
    }
   ],
   "source": [
    "display(data_messages.head())"
   ]
  },
  {
   "cell_type": "markdown",
   "id": "514c260a",
   "metadata": {},
   "source": [
    "Описание данных таблицы `data_message`:\n",
    "- id — уникальный номер сообщения;\n",
    "- message_date — дата сообщения;\n",
    "- user_id — идентификатор пользователя, отправившего сообщение."
   ]
  },
  {
   "cell_type": "code",
   "execution_count": 8,
   "id": "9c40b35c",
   "metadata": {},
   "outputs": [
    {
     "name": "stdout",
     "output_type": "stream",
     "text": [
      "<class 'pandas.core.frame.DataFrame'>\n",
      "RangeIndex: 123036 entries, 0 to 123035\n",
      "Data columns (total 3 columns):\n",
      " #   Column        Non-Null Count   Dtype \n",
      "---  ------        --------------   ----- \n",
      " 0   id            123036 non-null  object\n",
      " 1   message_date  123036 non-null  object\n",
      " 2   user_id       123036 non-null  int64 \n",
      "dtypes: int64(1), object(2)\n",
      "memory usage: 2.8+ MB\n"
     ]
    }
   ],
   "source": [
    "data_messages.info()"
   ]
  },
  {
   "cell_type": "code",
   "execution_count": 9,
   "id": "d3ba1518",
   "metadata": {},
   "outputs": [
    {
     "data": {
      "text/plain": [
       "0"
      ]
     },
     "execution_count": 9,
     "metadata": {},
     "output_type": "execute_result"
    }
   ],
   "source": [
    "data_messages.duplicated().sum()"
   ]
  },
  {
   "cell_type": "markdown",
   "id": "c3819691",
   "metadata": {},
   "source": [
    "Данные полные, пропусков и дубликатов нет. Некорректных значений не обнаружено.\n",
    "\n",
    "Замечания:\n",
    "\n",
    "- в столбце `massage_date` тип данных необходимо заменить на datetime."
   ]
  },
  {
   "cell_type": "markdown",
   "id": "e62edbb2",
   "metadata": {},
   "source": [
    "### 1.1.3. Информация об интернет-сессиях"
   ]
  },
  {
   "cell_type": "code",
   "execution_count": 10,
   "id": "8a016cce",
   "metadata": {},
   "outputs": [
    {
     "data": {
      "text/html": [
       "<div>\n",
       "<style scoped>\n",
       "    .dataframe tbody tr th:only-of-type {\n",
       "        vertical-align: middle;\n",
       "    }\n",
       "\n",
       "    .dataframe tbody tr th {\n",
       "        vertical-align: top;\n",
       "    }\n",
       "\n",
       "    .dataframe thead th {\n",
       "        text-align: right;\n",
       "    }\n",
       "</style>\n",
       "<table border=\"1\" class=\"dataframe\">\n",
       "  <thead>\n",
       "    <tr style=\"text-align: right;\">\n",
       "      <th></th>\n",
       "      <th>Unnamed: 0</th>\n",
       "      <th>id</th>\n",
       "      <th>mb_used</th>\n",
       "      <th>session_date</th>\n",
       "      <th>user_id</th>\n",
       "    </tr>\n",
       "  </thead>\n",
       "  <tbody>\n",
       "    <tr>\n",
       "      <th>0</th>\n",
       "      <td>0</td>\n",
       "      <td>1000_0</td>\n",
       "      <td>112.95</td>\n",
       "      <td>2018-11-25</td>\n",
       "      <td>1000</td>\n",
       "    </tr>\n",
       "    <tr>\n",
       "      <th>1</th>\n",
       "      <td>1</td>\n",
       "      <td>1000_1</td>\n",
       "      <td>1052.81</td>\n",
       "      <td>2018-09-07</td>\n",
       "      <td>1000</td>\n",
       "    </tr>\n",
       "    <tr>\n",
       "      <th>2</th>\n",
       "      <td>2</td>\n",
       "      <td>1000_2</td>\n",
       "      <td>1197.26</td>\n",
       "      <td>2018-06-25</td>\n",
       "      <td>1000</td>\n",
       "    </tr>\n",
       "    <tr>\n",
       "      <th>3</th>\n",
       "      <td>3</td>\n",
       "      <td>1000_3</td>\n",
       "      <td>550.27</td>\n",
       "      <td>2018-08-22</td>\n",
       "      <td>1000</td>\n",
       "    </tr>\n",
       "    <tr>\n",
       "      <th>4</th>\n",
       "      <td>4</td>\n",
       "      <td>1000_4</td>\n",
       "      <td>302.56</td>\n",
       "      <td>2018-09-24</td>\n",
       "      <td>1000</td>\n",
       "    </tr>\n",
       "  </tbody>\n",
       "</table>\n",
       "</div>"
      ],
      "text/plain": [
       "   Unnamed: 0      id  mb_used session_date  user_id\n",
       "0           0  1000_0   112.95   2018-11-25     1000\n",
       "1           1  1000_1  1052.81   2018-09-07     1000\n",
       "2           2  1000_2  1197.26   2018-06-25     1000\n",
       "3           3  1000_3   550.27   2018-08-22     1000\n",
       "4           4  1000_4   302.56   2018-09-24     1000"
      ]
     },
     "metadata": {},
     "output_type": "display_data"
    }
   ],
   "source": [
    "display(data_internet.head())"
   ]
  },
  {
   "cell_type": "markdown",
   "id": "a883ac5e",
   "metadata": {},
   "source": [
    "Описание данных таблицы `data_internet`:\n",
    "- id — уникальный номер сессии;\n",
    "- mb_used — объём потраченного за сессию интернет-трафика (в мегабайтах);\n",
    "- session_date — дата интернет-сессии;\n",
    "- user_id — идентификатор пользователя."
   ]
  },
  {
   "cell_type": "code",
   "execution_count": 11,
   "id": "ce9a18d4",
   "metadata": {},
   "outputs": [
    {
     "name": "stdout",
     "output_type": "stream",
     "text": [
      "<class 'pandas.core.frame.DataFrame'>\n",
      "RangeIndex: 149396 entries, 0 to 149395\n",
      "Data columns (total 5 columns):\n",
      " #   Column        Non-Null Count   Dtype  \n",
      "---  ------        --------------   -----  \n",
      " 0   Unnamed: 0    149396 non-null  int64  \n",
      " 1   id            149396 non-null  object \n",
      " 2   mb_used       149396 non-null  float64\n",
      " 3   session_date  149396 non-null  object \n",
      " 4   user_id       149396 non-null  int64  \n",
      "dtypes: float64(1), int64(2), object(2)\n",
      "memory usage: 5.7+ MB\n"
     ]
    }
   ],
   "source": [
    "data_internet.info()"
   ]
  },
  {
   "cell_type": "code",
   "execution_count": 12,
   "id": "96fc49db",
   "metadata": {},
   "outputs": [
    {
     "data": {
      "text/plain": [
       "count    149396.000000\n",
       "mean        370.192426\n",
       "std         278.300951\n",
       "min           0.000000\n",
       "25%         138.187500\n",
       "50%         348.015000\n",
       "75%         559.552500\n",
       "max        1724.830000\n",
       "Name: mb_used, dtype: float64"
      ]
     },
     "execution_count": 12,
     "metadata": {},
     "output_type": "execute_result"
    },
    {
     "data": {
      "image/png": "[encoded data removed]",
      "text/plain": [
       "<Figure size 432x288 with 1 Axes>"
      ]
     },
     "metadata": {
      "needs_background": "light"
     },
     "output_type": "display_data"
    }
   ],
   "source": [
    "plt.boxplot(data_internet['mb_used'])\n",
    "plt.ylim(0,1800)\n",
    "data_internet['mb_used'].describe()"
   ]
  },
  {
   "cell_type": "code",
   "execution_count": 13,
   "id": "961fff4d",
   "metadata": {},
   "outputs": [
    {
     "data": {
      "text/plain": [
       "0"
      ]
     },
     "execution_count": 13,
     "metadata": {},
     "output_type": "execute_result"
    }
   ],
   "source": [
    "data_internet.duplicated().sum()"
   ]
  },
  {
   "cell_type": "markdown",
   "id": "4be66c99",
   "metadata": {},
   "source": [
    "Данные полные, пропусков и дубликатов нет. Некорректных значений не обнаружено.\n",
    "\n",
    "Замечания:\n",
    "\n",
    "- обнаружен столбец, не указанный в документации, и не несущий важной информации — `Unnamed: 0`, — судя по всему, в нем хранятся дубликаты индексов, можно удалить его;\n",
    "- в столбце `session_date` тип данных необходимо заменить на **datetime**;\n",
    "- объем мегабайт за одну сессию в столбце `mb_used` можно представить целым числом, так как компания округляет результаты в бОльшую сторону, и изменить тип данных на `int`."
   ]
  },
  {
   "cell_type": "markdown",
   "id": "3f24f9e1",
   "metadata": {},
   "source": [
    "### 1.1.4. Информация о пользователях"
   ]
  },
  {
   "cell_type": "code",
   "execution_count": 14,
   "id": "567903fd",
   "metadata": {},
   "outputs": [
    {
     "data": {
      "text/html": [
       "<div>\n",
       "<style scoped>\n",
       "    .dataframe tbody tr th:only-of-type {\n",
       "        vertical-align: middle;\n",
       "    }\n",
       "\n",
       "    .dataframe tbody tr th {\n",
       "        vertical-align: top;\n",
       "    }\n",
       "\n",
       "    .dataframe thead th {\n",
       "        text-align: right;\n",
       "    }\n",
       "</style>\n",
       "<table border=\"1\" class=\"dataframe\">\n",
       "  <thead>\n",
       "    <tr style=\"text-align: right;\">\n",
       "      <th></th>\n",
       "      <th>user_id</th>\n",
       "      <th>age</th>\n",
       "      <th>churn_date</th>\n",
       "      <th>city</th>\n",
       "      <th>first_name</th>\n",
       "      <th>last_name</th>\n",
       "      <th>reg_date</th>\n",
       "      <th>tariff</th>\n",
       "    </tr>\n",
       "  </thead>\n",
       "  <tbody>\n",
       "    <tr>\n",
       "      <th>0</th>\n",
       "      <td>1000</td>\n",
       "      <td>52</td>\n",
       "      <td>NaN</td>\n",
       "      <td>Краснодар</td>\n",
       "      <td>Рафаил</td>\n",
       "      <td>Верещагин</td>\n",
       "      <td>2018-05-25</td>\n",
       "      <td>ultra</td>\n",
       "    </tr>\n",
       "    <tr>\n",
       "      <th>1</th>\n",
       "      <td>1001</td>\n",
       "      <td>41</td>\n",
       "      <td>NaN</td>\n",
       "      <td>Москва</td>\n",
       "      <td>Иван</td>\n",
       "      <td>Ежов</td>\n",
       "      <td>2018-11-01</td>\n",
       "      <td>smart</td>\n",
       "    </tr>\n",
       "    <tr>\n",
       "      <th>2</th>\n",
       "      <td>1002</td>\n",
       "      <td>59</td>\n",
       "      <td>NaN</td>\n",
       "      <td>Стерлитамак</td>\n",
       "      <td>Евгений</td>\n",
       "      <td>Абрамович</td>\n",
       "      <td>2018-06-17</td>\n",
       "      <td>smart</td>\n",
       "    </tr>\n",
       "    <tr>\n",
       "      <th>3</th>\n",
       "      <td>1003</td>\n",
       "      <td>23</td>\n",
       "      <td>NaN</td>\n",
       "      <td>Москва</td>\n",
       "      <td>Белла</td>\n",
       "      <td>Белякова</td>\n",
       "      <td>2018-08-17</td>\n",
       "      <td>ultra</td>\n",
       "    </tr>\n",
       "    <tr>\n",
       "      <th>4</th>\n",
       "      <td>1004</td>\n",
       "      <td>68</td>\n",
       "      <td>NaN</td>\n",
       "      <td>Новокузнецк</td>\n",
       "      <td>Татьяна</td>\n",
       "      <td>Авдеенко</td>\n",
       "      <td>2018-05-14</td>\n",
       "      <td>ultra</td>\n",
       "    </tr>\n",
       "  </tbody>\n",
       "</table>\n",
       "</div>"
      ],
      "text/plain": [
       "   user_id  age churn_date         city first_name  last_name    reg_date  \\\n",
       "0     1000   52        NaN    Краснодар     Рафаил  Верещагин  2018-05-25   \n",
       "1     1001   41        NaN       Москва       Иван       Ежов  2018-11-01   \n",
       "2     1002   59        NaN  Стерлитамак    Евгений  Абрамович  2018-06-17   \n",
       "3     1003   23        NaN       Москва      Белла   Белякова  2018-08-17   \n",
       "4     1004   68        NaN  Новокузнецк    Татьяна   Авдеенко  2018-05-14   \n",
       "\n",
       "  tariff  \n",
       "0  ultra  \n",
       "1  smart  \n",
       "2  smart  \n",
       "3  ultra  \n",
       "4  ultra  "
      ]
     },
     "metadata": {},
     "output_type": "display_data"
    }
   ],
   "source": [
    "display(data_users.head())"
   ]
  },
  {
   "cell_type": "markdown",
   "id": "b4c03d5b",
   "metadata": {},
   "source": [
    "Описание данных таблицы `data_users`:\n",
    "- user_id — уникальный идентификатор пользователя;\n",
    "- first_name — имя пользователя;\n",
    "- last_name — фамилия пользователя;\n",
    "- age — возраст пользователя (годы);\n",
    "- reg_date — дата подключения тарифа (день, месяц, год);\n",
    "- churn_date — дата прекращения пользования тарифом (если значение пропущено, то тариф ещё действовал на момент выгрузки данных);\n",
    "- city — город проживания пользователя;\n",
    "- tariff — название тарифного плана."
   ]
  },
  {
   "cell_type": "code",
   "execution_count": 15,
   "id": "a1dee1ba",
   "metadata": {
    "scrolled": true
   },
   "outputs": [
    {
     "name": "stdout",
     "output_type": "stream",
     "text": [
      "<class 'pandas.core.frame.DataFrame'>\n",
      "RangeIndex: 500 entries, 0 to 499\n",
      "Data columns (total 8 columns):\n",
      " #   Column      Non-Null Count  Dtype \n",
      "---  ------      --------------  ----- \n",
      " 0   user_id     500 non-null    int64 \n",
      " 1   age         500 non-null    int64 \n",
      " 2   churn_date  38 non-null     object\n",
      " 3   city        500 non-null    object\n",
      " 4   first_name  500 non-null    object\n",
      " 5   last_name   500 non-null    object\n",
      " 6   reg_date    500 non-null    object\n",
      " 7   tariff      500 non-null    object\n",
      "dtypes: int64(2), object(6)\n",
      "memory usage: 31.4+ KB\n"
     ]
    }
   ],
   "source": [
    "data_users.info()"
   ]
  },
  {
   "cell_type": "code",
   "execution_count": 16,
   "id": "0abf559e",
   "metadata": {
    "scrolled": false
   },
   "outputs": [
    {
     "data": {
      "text/plain": [
       "count    500.00000\n",
       "mean      46.58800\n",
       "std       16.66763\n",
       "min       18.00000\n",
       "25%       32.00000\n",
       "50%       46.00000\n",
       "75%       62.00000\n",
       "max       75.00000\n",
       "Name: age, dtype: float64"
      ]
     },
     "execution_count": 16,
     "metadata": {},
     "output_type": "execute_result"
    }
   ],
   "source": [
    "data_users['age'].describe()"
   ]
  },
  {
   "cell_type": "code",
   "execution_count": 17,
   "id": "94244761",
   "metadata": {},
   "outputs": [
    {
     "data": {
      "text/plain": [
       "0"
      ]
     },
     "execution_count": 17,
     "metadata": {},
     "output_type": "execute_result"
    }
   ],
   "source": [
    "data_users.duplicated().sum()"
   ]
  },
  {
   "cell_type": "markdown",
   "id": "c4ad014f",
   "metadata": {},
   "source": [
    "Данные полные, пропуски в столбце `churn_date` обусловлены количеством отказавшихся от тарифа пользователей — их всего 38. Некорректных значений и дубликатов не обнаружено.\n",
    "\n",
    "Средний возраст пользователя — 46 лет, самый молодой абонет 18 лет, самый пожилой — 75 лет.\n",
    "\n",
    "Замечания:\n",
    "\n",
    "- в столбцах `reg_data` и `churn_date` тип данных необходимо заменить на **datetime**;\n",
    "- заменим значения NaN в столбце `churn_date` на 0."
   ]
  },
  {
   "cell_type": "markdown",
   "id": "97a4b6f1",
   "metadata": {},
   "source": [
    "### 1.1.5. Информация о тарифах"
   ]
  },
  {
   "cell_type": "markdown",
   "id": "99459254",
   "metadata": {},
   "source": [
    "Проверим и таблицу с информацией о тарифах на соответствие данных их типам."
   ]
  },
  {
   "cell_type": "code",
   "execution_count": 18,
   "id": "41d1b72d",
   "metadata": {
    "scrolled": true
   },
   "outputs": [
    {
     "name": "stdout",
     "output_type": "stream",
     "text": [
      "<class 'pandas.core.frame.DataFrame'>\n",
      "RangeIndex: 2 entries, 0 to 1\n",
      "Data columns (total 8 columns):\n",
      " #   Column                 Non-Null Count  Dtype \n",
      "---  ------                 --------------  ----- \n",
      " 0   messages_included      2 non-null      int64 \n",
      " 1   mb_per_month_included  2 non-null      int64 \n",
      " 2   minutes_included       2 non-null      int64 \n",
      " 3   rub_monthly_fee        2 non-null      int64 \n",
      " 4   rub_per_gb             2 non-null      int64 \n",
      " 5   rub_per_message        2 non-null      int64 \n",
      " 6   rub_per_minute         2 non-null      int64 \n",
      " 7   tariff_name            2 non-null      object\n",
      "dtypes: int64(7), object(1)\n",
      "memory usage: 256.0+ bytes\n"
     ]
    }
   ],
   "source": [
    "data_tariffs.info()"
   ]
  },
  {
   "cell_type": "markdown",
   "id": "60bf1522",
   "metadata": {},
   "source": [
    "Все типы соответствуют представленным данным."
   ]
  },
  {
   "cell_type": "markdown",
   "id": "2866d54b",
   "metadata": {},
   "source": [
    "## 1.2. Подготовка пользовательских данных"
   ]
  },
  {
   "cell_type": "markdown",
   "id": "b77b6d22",
   "metadata": {},
   "source": [
    "### 1.2.1. Замена типов данных"
   ]
  },
  {
   "cell_type": "markdown",
   "id": "0ecf2ef5",
   "metadata": {},
   "source": [
    "Изменим типы данных во всех столбцах с датами:"
   ]
  },
  {
   "cell_type": "code",
   "execution_count": 19,
   "id": "ea452254",
   "metadata": {},
   "outputs": [
    {
     "name": "stdout",
     "output_type": "stream",
     "text": [
      "<class 'pandas.core.frame.DataFrame'>\n",
      "RangeIndex: 202607 entries, 0 to 202606\n",
      "Data columns (total 4 columns):\n",
      " #   Column     Non-Null Count   Dtype         \n",
      "---  ------     --------------   -----         \n",
      " 0   id         202607 non-null  object        \n",
      " 1   call_date  202607 non-null  datetime64[ns]\n",
      " 2   duration   202607 non-null  float64       \n",
      " 3   user_id    202607 non-null  int64         \n",
      "dtypes: datetime64[ns](1), float64(1), int64(1), object(1)\n",
      "memory usage: 6.2+ MB\n",
      "<class 'pandas.core.frame.DataFrame'>\n",
      "RangeIndex: 149396 entries, 0 to 149395\n",
      "Data columns (total 5 columns):\n",
      " #   Column        Non-Null Count   Dtype         \n",
      "---  ------        --------------   -----         \n",
      " 0   Unnamed: 0    149396 non-null  int64         \n",
      " 1   id            149396 non-null  object        \n",
      " 2   mb_used       149396 non-null  float64       \n",
      " 3   session_date  149396 non-null  datetime64[ns]\n",
      " 4   user_id       149396 non-null  int64         \n",
      "dtypes: datetime64[ns](1), float64(1), int64(2), object(1)\n",
      "memory usage: 5.7+ MB\n",
      "<class 'pandas.core.frame.DataFrame'>\n",
      "RangeIndex: 123036 entries, 0 to 123035\n",
      "Data columns (total 3 columns):\n",
      " #   Column        Non-Null Count   Dtype         \n",
      "---  ------        --------------   -----         \n",
      " 0   id            123036 non-null  object        \n",
      " 1   message_date  123036 non-null  datetime64[ns]\n",
      " 2   user_id       123036 non-null  int64         \n",
      "dtypes: datetime64[ns](1), int64(1), object(1)\n",
      "memory usage: 2.8+ MB\n",
      "<class 'pandas.core.frame.DataFrame'>\n",
      "RangeIndex: 500 entries, 0 to 499\n",
      "Data columns (total 8 columns):\n",
      " #   Column      Non-Null Count  Dtype         \n",
      "---  ------      --------------  -----         \n",
      " 0   user_id     500 non-null    int64         \n",
      " 1   age         500 non-null    int64         \n",
      " 2   churn_date  38 non-null     datetime64[ns]\n",
      " 3   city        500 non-null    object        \n",
      " 4   first_name  500 non-null    object        \n",
      " 5   last_name   500 non-null    object        \n",
      " 6   reg_date    500 non-null    datetime64[ns]\n",
      " 7   tariff      500 non-null    object        \n",
      "dtypes: datetime64[ns](2), int64(2), object(4)\n",
      "memory usage: 31.4+ KB\n"
     ]
    }
   ],
   "source": [
    "# проводим замену типа данных\n",
    "data_calls['call_date'] = pd.to_datetime(data_calls['call_date'])\n",
    "data_internet['session_date'] = pd.to_datetime(data_internet['session_date'])\n",
    "data_messages['message_date'] = pd.to_datetime(data_messages['message_date'])\n",
    "data_users['reg_date'] = pd.to_datetime(data_users['reg_date'])\n",
    "data_users['churn_date'] = pd.to_datetime(data_users['churn_date'])\n",
    "\n",
    "# проверяем результат\n",
    "data_calls.info()\n",
    "data_internet.info()\n",
    "data_messages.info()\n",
    "data_users.info()"
   ]
  },
  {
   "cell_type": "markdown",
   "id": "91e5503a",
   "metadata": {},
   "source": [
    "Округлим значения длительности звонка и изменим тип данных столбца:"
   ]
  },
  {
   "cell_type": "code",
   "execution_count": 20,
   "id": "08583aac",
   "metadata": {},
   "outputs": [
    {
     "data": {
      "text/html": [
       "<div>\n",
       "<style scoped>\n",
       "    .dataframe tbody tr th:only-of-type {\n",
       "        vertical-align: middle;\n",
       "    }\n",
       "\n",
       "    .dataframe tbody tr th {\n",
       "        vertical-align: top;\n",
       "    }\n",
       "\n",
       "    .dataframe thead th {\n",
       "        text-align: right;\n",
       "    }\n",
       "</style>\n",
       "<table border=\"1\" class=\"dataframe\">\n",
       "  <thead>\n",
       "    <tr style=\"text-align: right;\">\n",
       "      <th></th>\n",
       "      <th>id</th>\n",
       "      <th>call_date</th>\n",
       "      <th>duration</th>\n",
       "      <th>user_id</th>\n",
       "    </tr>\n",
       "  </thead>\n",
       "  <tbody>\n",
       "    <tr>\n",
       "      <th>0</th>\n",
       "      <td>1000_0</td>\n",
       "      <td>2018-07-25</td>\n",
       "      <td>0</td>\n",
       "      <td>1000</td>\n",
       "    </tr>\n",
       "    <tr>\n",
       "      <th>1</th>\n",
       "      <td>1000_1</td>\n",
       "      <td>2018-08-17</td>\n",
       "      <td>0</td>\n",
       "      <td>1000</td>\n",
       "    </tr>\n",
       "    <tr>\n",
       "      <th>2</th>\n",
       "      <td>1000_2</td>\n",
       "      <td>2018-06-11</td>\n",
       "      <td>3</td>\n",
       "      <td>1000</td>\n",
       "    </tr>\n",
       "    <tr>\n",
       "      <th>3</th>\n",
       "      <td>1000_3</td>\n",
       "      <td>2018-09-21</td>\n",
       "      <td>14</td>\n",
       "      <td>1000</td>\n",
       "    </tr>\n",
       "    <tr>\n",
       "      <th>4</th>\n",
       "      <td>1000_4</td>\n",
       "      <td>2018-12-15</td>\n",
       "      <td>6</td>\n",
       "      <td>1000</td>\n",
       "    </tr>\n",
       "  </tbody>\n",
       "</table>\n",
       "</div>"
      ],
      "text/plain": [
       "       id  call_date  duration  user_id\n",
       "0  1000_0 2018-07-25         0     1000\n",
       "1  1000_1 2018-08-17         0     1000\n",
       "2  1000_2 2018-06-11         3     1000\n",
       "3  1000_3 2018-09-21        14     1000\n",
       "4  1000_4 2018-12-15         6     1000"
      ]
     },
     "metadata": {},
     "output_type": "display_data"
    }
   ],
   "source": [
    "data_calls['duration'] = np.ceil(data_calls['duration']).astype('int')\n",
    "display(data_calls.head())"
   ]
  },
  {
   "cell_type": "markdown",
   "id": "0753159a",
   "metadata": {},
   "source": [
    "<!-- Удалим лишний столбец в таблице `data_internet`, округлим значения потраченных мегабайт и заменим тип данных столбца: -->"
   ]
  },
  {
   "cell_type": "markdown",
   "id": "49fac04c",
   "metadata": {},
   "source": [
    "### 1.2.2. Сортировка по месяцам"
   ]
  },
  {
   "cell_type": "markdown",
   "id": "75c531ac",
   "metadata": {},
   "source": [
    "Добавим в таблицы `data_calls`, `data_internet`, `data_messages` столбец с обозначением месяца для дальнейшего удобства работы с данными."
   ]
  },
  {
   "cell_type": "code",
   "execution_count": 22,
   "id": "5f2b29d3",
   "metadata": {
    "scrolled": false
   },
   "outputs": [
    {
     "data": {
      "text/html": [
       "<div>\n",
       "<style scoped>\n",
       "    .dataframe tbody tr th:only-of-type {\n",
       "        vertical-align: middle;\n",
       "    }\n",
       "\n",
       "    .dataframe tbody tr th {\n",
       "        vertical-align: top;\n",
       "    }\n",
       "\n",
       "    .dataframe thead th {\n",
       "        text-align: right;\n",
       "    }\n",
       "</style>\n",
       "<table border=\"1\" class=\"dataframe\">\n",
       "  <thead>\n",
       "    <tr style=\"text-align: right;\">\n",
       "      <th></th>\n",
       "      <th>id</th>\n",
       "      <th>call_date</th>\n",
       "      <th>duration</th>\n",
       "      <th>user_id</th>\n",
       "      <th>month</th>\n",
       "    </tr>\n",
       "  </thead>\n",
       "  <tbody>\n",
       "    <tr>\n",
       "      <th>0</th>\n",
       "      <td>1000_0</td>\n",
       "      <td>2018-07-25</td>\n",
       "      <td>0</td>\n",
       "      <td>1000</td>\n",
       "      <td>7</td>\n",
       "    </tr>\n",
       "    <tr>\n",
       "      <th>1</th>\n",
       "      <td>1000_1</td>\n",
       "      <td>2018-08-17</td>\n",
       "      <td>0</td>\n",
       "      <td>1000</td>\n",
       "      <td>8</td>\n",
       "    </tr>\n",
       "    <tr>\n",
       "      <th>2</th>\n",
       "      <td>1000_2</td>\n",
       "      <td>2018-06-11</td>\n",
       "      <td>3</td>\n",
       "      <td>1000</td>\n",
       "      <td>6</td>\n",
       "    </tr>\n",
       "    <tr>\n",
       "      <th>3</th>\n",
       "      <td>1000_3</td>\n",
       "      <td>2018-09-21</td>\n",
       "      <td>14</td>\n",
       "      <td>1000</td>\n",
       "      <td>9</td>\n",
       "    </tr>\n",
       "    <tr>\n",
       "      <th>4</th>\n",
       "      <td>1000_4</td>\n",
       "      <td>2018-12-15</td>\n",
       "      <td>6</td>\n",
       "      <td>1000</td>\n",
       "      <td>12</td>\n",
       "    </tr>\n",
       "  </tbody>\n",
       "</table>\n",
       "</div>"
      ],
      "text/plain": [
       "       id  call_date  duration  user_id  month\n",
       "0  1000_0 2018-07-25         0     1000      7\n",
       "1  1000_1 2018-08-17         0     1000      8\n",
       "2  1000_2 2018-06-11         3     1000      6\n",
       "3  1000_3 2018-09-21        14     1000      9\n",
       "4  1000_4 2018-12-15         6     1000     12"
      ]
     },
     "metadata": {},
     "output_type": "display_data"
    },
    {
     "data": {
      "text/html": [
       "<div>\n",
       "<style scoped>\n",
       "    .dataframe tbody tr th:only-of-type {\n",
       "        vertical-align: middle;\n",
       "    }\n",
       "\n",
       "    .dataframe tbody tr th {\n",
       "        vertical-align: top;\n",
       "    }\n",
       "\n",
       "    .dataframe thead th {\n",
       "        text-align: right;\n",
       "    }\n",
       "</style>\n",
       "<table border=\"1\" class=\"dataframe\">\n",
       "  <thead>\n",
       "    <tr style=\"text-align: right;\">\n",
       "      <th></th>\n",
       "      <th>Unnamed: 0</th>\n",
       "      <th>id</th>\n",
       "      <th>mb_used</th>\n",
       "      <th>session_date</th>\n",
       "      <th>user_id</th>\n",
       "      <th>month</th>\n",
       "    </tr>\n",
       "  </thead>\n",
       "  <tbody>\n",
       "    <tr>\n",
       "      <th>0</th>\n",
       "      <td>0</td>\n",
       "      <td>1000_0</td>\n",
       "      <td>112.95</td>\n",
       "      <td>2018-11-25</td>\n",
       "      <td>1000</td>\n",
       "      <td>11</td>\n",
       "    </tr>\n",
       "    <tr>\n",
       "      <th>1</th>\n",
       "      <td>1</td>\n",
       "      <td>1000_1</td>\n",
       "      <td>1052.81</td>\n",
       "      <td>2018-09-07</td>\n",
       "      <td>1000</td>\n",
       "      <td>9</td>\n",
       "    </tr>\n",
       "    <tr>\n",
       "      <th>2</th>\n",
       "      <td>2</td>\n",
       "      <td>1000_2</td>\n",
       "      <td>1197.26</td>\n",
       "      <td>2018-06-25</td>\n",
       "      <td>1000</td>\n",
       "      <td>6</td>\n",
       "    </tr>\n",
       "    <tr>\n",
       "      <th>3</th>\n",
       "      <td>3</td>\n",
       "      <td>1000_3</td>\n",
       "      <td>550.27</td>\n",
       "      <td>2018-08-22</td>\n",
       "      <td>1000</td>\n",
       "      <td>8</td>\n",
       "    </tr>\n",
       "    <tr>\n",
       "      <th>4</th>\n",
       "      <td>4</td>\n",
       "      <td>1000_4</td>\n",
       "      <td>302.56</td>\n",
       "      <td>2018-09-24</td>\n",
       "      <td>1000</td>\n",
       "      <td>9</td>\n",
       "    </tr>\n",
       "  </tbody>\n",
       "</table>\n",
       "</div>"
      ],
      "text/plain": [
       "   Unnamed: 0      id  mb_used session_date  user_id  month\n",
       "0           0  1000_0   112.95   2018-11-25     1000     11\n",
       "1           1  1000_1  1052.81   2018-09-07     1000      9\n",
       "2           2  1000_2  1197.26   2018-06-25     1000      6\n",
       "3           3  1000_3   550.27   2018-08-22     1000      8\n",
       "4           4  1000_4   302.56   2018-09-24     1000      9"
      ]
     },
     "metadata": {},
     "output_type": "display_data"
    },
    {
     "data": {
      "text/html": [
       "<div>\n",
       "<style scoped>\n",
       "    .dataframe tbody tr th:only-of-type {\n",
       "        vertical-align: middle;\n",
       "    }\n",
       "\n",
       "    .dataframe tbody tr th {\n",
       "        vertical-align: top;\n",
       "    }\n",
       "\n",
       "    .dataframe thead th {\n",
       "        text-align: right;\n",
       "    }\n",
       "</style>\n",
       "<table border=\"1\" class=\"dataframe\">\n",
       "  <thead>\n",
       "    <tr style=\"text-align: right;\">\n",
       "      <th></th>\n",
       "      <th>id</th>\n",
       "      <th>message_date</th>\n",
       "      <th>user_id</th>\n",
       "      <th>month</th>\n",
       "    </tr>\n",
       "  </thead>\n",
       "  <tbody>\n",
       "    <tr>\n",
       "      <th>0</th>\n",
       "      <td>1000_0</td>\n",
       "      <td>2018-06-27</td>\n",
       "      <td>1000</td>\n",
       "      <td>6</td>\n",
       "    </tr>\n",
       "    <tr>\n",
       "      <th>1</th>\n",
       "      <td>1000_1</td>\n",
       "      <td>2018-10-08</td>\n",
       "      <td>1000</td>\n",
       "      <td>10</td>\n",
       "    </tr>\n",
       "    <tr>\n",
       "      <th>2</th>\n",
       "      <td>1000_2</td>\n",
       "      <td>2018-08-04</td>\n",
       "      <td>1000</td>\n",
       "      <td>8</td>\n",
       "    </tr>\n",
       "    <tr>\n",
       "      <th>3</th>\n",
       "      <td>1000_3</td>\n",
       "      <td>2018-06-16</td>\n",
       "      <td>1000</td>\n",
       "      <td>6</td>\n",
       "    </tr>\n",
       "    <tr>\n",
       "      <th>4</th>\n",
       "      <td>1000_4</td>\n",
       "      <td>2018-12-05</td>\n",
       "      <td>1000</td>\n",
       "      <td>12</td>\n",
       "    </tr>\n",
       "  </tbody>\n",
       "</table>\n",
       "</div>"
      ],
      "text/plain": [
       "       id message_date  user_id  month\n",
       "0  1000_0   2018-06-27     1000      6\n",
       "1  1000_1   2018-10-08     1000     10\n",
       "2  1000_2   2018-08-04     1000      8\n",
       "3  1000_3   2018-06-16     1000      6\n",
       "4  1000_4   2018-12-05     1000     12"
      ]
     },
     "metadata": {},
     "output_type": "display_data"
    }
   ],
   "source": [
    "# добавим столбец с обозначением месяца\n",
    "data_calls['month'] = pd.DatetimeIndex(data_calls['call_date']).month\n",
    "data_internet['month'] = pd.DatetimeIndex(data_internet['session_date']).month\n",
    "data_messages['month'] = pd.DatetimeIndex(data_messages['message_date']).month\n",
    "\n",
    "# проверим результат\n",
    "display(data_calls.head())\n",
    "display(data_internet.head())\n",
    "display(data_messages.head())"
   ]
  },
  {
   "cell_type": "markdown",
   "id": "9b9b2127",
   "metadata": {},
   "source": [
    "Теперь посчитаем количество сделанных звонков и израсходованных минут разговора по месяцам для каждого пользователя."
   ]
  },
  {
   "cell_type": "code",
   "execution_count": 23,
   "id": "966e48e5",
   "metadata": {},
   "outputs": [
    {
     "data": {
      "text/html": [
       "<div>\n",
       "<style scoped>\n",
       "    .dataframe tbody tr th:only-of-type {\n",
       "        vertical-align: middle;\n",
       "    }\n",
       "\n",
       "    .dataframe tbody tr th {\n",
       "        vertical-align: top;\n",
       "    }\n",
       "\n",
       "    .dataframe thead th {\n",
       "        text-align: right;\n",
       "    }\n",
       "</style>\n",
       "<table border=\"1\" class=\"dataframe\">\n",
       "  <thead>\n",
       "    <tr style=\"text-align: right;\">\n",
       "      <th></th>\n",
       "      <th></th>\n",
       "      <th>duration_call</th>\n",
       "    </tr>\n",
       "    <tr>\n",
       "      <th>month</th>\n",
       "      <th>user_id</th>\n",
       "      <th></th>\n",
       "    </tr>\n",
       "  </thead>\n",
       "  <tbody>\n",
       "    <tr>\n",
       "      <th rowspan=\"5\" valign=\"top\">1</th>\n",
       "      <th>1005</th>\n",
       "      <td>95</td>\n",
       "    </tr>\n",
       "    <tr>\n",
       "      <th>1032</th>\n",
       "      <td>380</td>\n",
       "    </tr>\n",
       "    <tr>\n",
       "      <th>1045</th>\n",
       "      <td>9</td>\n",
       "    </tr>\n",
       "    <tr>\n",
       "      <th>1055</th>\n",
       "      <td>551</td>\n",
       "    </tr>\n",
       "    <tr>\n",
       "      <th>1071</th>\n",
       "      <td>194</td>\n",
       "    </tr>\n",
       "    <tr>\n",
       "      <th>...</th>\n",
       "      <th>...</th>\n",
       "      <td>...</td>\n",
       "    </tr>\n",
       "    <tr>\n",
       "      <th rowspan=\"5\" valign=\"top\">12</th>\n",
       "      <th>1494</th>\n",
       "      <td>418</td>\n",
       "    </tr>\n",
       "    <tr>\n",
       "      <th>1495</th>\n",
       "      <td>1031</td>\n",
       "    </tr>\n",
       "    <tr>\n",
       "      <th>1496</th>\n",
       "      <td>518</td>\n",
       "    </tr>\n",
       "    <tr>\n",
       "      <th>1497</th>\n",
       "      <td>545</td>\n",
       "    </tr>\n",
       "    <tr>\n",
       "      <th>1499</th>\n",
       "      <td>492</td>\n",
       "    </tr>\n",
       "  </tbody>\n",
       "</table>\n",
       "<p>3174 rows × 1 columns</p>\n",
       "</div>"
      ],
      "text/plain": [
       "               duration_call\n",
       "month user_id               \n",
       "1     1005                95\n",
       "      1032               380\n",
       "      1045                 9\n",
       "      1055               551\n",
       "      1071               194\n",
       "...                      ...\n",
       "12    1494               418\n",
       "      1495              1031\n",
       "      1496               518\n",
       "      1497               545\n",
       "      1499               492\n",
       "\n",
       "[3174 rows x 1 columns]"
      ]
     },
     "metadata": {},
     "output_type": "display_data"
    }
   ],
   "source": [
    "# сгруппируем данные о звонках по месяцу и id пользователя\n",
    "data_calls_per_month = data_calls.groupby(['month', 'user_id'])['duration'].agg(['sum'])\n",
    "# переименуем столбец для удобства чтения таблицы\n",
    "data_calls_per_month = data_calls_per_month.rename(columns={'sum': 'duration_call'})\n",
    "display(data_calls_per_month)"
   ]
  },
  {
   "cell_type": "markdown",
   "id": "d7452814",
   "metadata": {},
   "source": [
    "Соберем информацию о количестве сообщений в месяц, отправленных каждым пользователем."
   ]
  },
  {
   "cell_type": "code",
   "execution_count": 24,
   "id": "d2dea654",
   "metadata": {},
   "outputs": [
    {
     "data": {
      "text/html": [
       "<div>\n",
       "<style scoped>\n",
       "    .dataframe tbody tr th:only-of-type {\n",
       "        vertical-align: middle;\n",
       "    }\n",
       "\n",
       "    .dataframe tbody tr th {\n",
       "        vertical-align: top;\n",
       "    }\n",
       "\n",
       "    .dataframe thead th {\n",
       "        text-align: right;\n",
       "    }\n",
       "</style>\n",
       "<table border=\"1\" class=\"dataframe\">\n",
       "  <thead>\n",
       "    <tr style=\"text-align: right;\">\n",
       "      <th></th>\n",
       "      <th></th>\n",
       "      <th>messages_per_month</th>\n",
       "    </tr>\n",
       "    <tr>\n",
       "      <th>month</th>\n",
       "      <th>user_id</th>\n",
       "      <th></th>\n",
       "    </tr>\n",
       "  </thead>\n",
       "  <tbody>\n",
       "    <tr>\n",
       "      <th rowspan=\"5\" valign=\"top\">1</th>\n",
       "      <th>1005</th>\n",
       "      <td>7</td>\n",
       "    </tr>\n",
       "    <tr>\n",
       "      <th>1032</th>\n",
       "      <td>38</td>\n",
       "    </tr>\n",
       "    <tr>\n",
       "      <th>1045</th>\n",
       "      <td>5</td>\n",
       "    </tr>\n",
       "    <tr>\n",
       "      <th>1055</th>\n",
       "      <td>30</td>\n",
       "    </tr>\n",
       "    <tr>\n",
       "      <th>1071</th>\n",
       "      <td>16</td>\n",
       "    </tr>\n",
       "    <tr>\n",
       "      <th>...</th>\n",
       "      <th>...</th>\n",
       "      <td>...</td>\n",
       "    </tr>\n",
       "    <tr>\n",
       "      <th rowspan=\"5\" valign=\"top\">12</th>\n",
       "      <th>1493</th>\n",
       "      <td>78</td>\n",
       "    </tr>\n",
       "    <tr>\n",
       "      <th>1495</th>\n",
       "      <td>84</td>\n",
       "    </tr>\n",
       "    <tr>\n",
       "      <th>1496</th>\n",
       "      <td>51</td>\n",
       "    </tr>\n",
       "    <tr>\n",
       "      <th>1497</th>\n",
       "      <td>17</td>\n",
       "    </tr>\n",
       "    <tr>\n",
       "      <th>1499</th>\n",
       "      <td>66</td>\n",
       "    </tr>\n",
       "  </tbody>\n",
       "</table>\n",
       "<p>2717 rows × 1 columns</p>\n",
       "</div>"
      ],
      "text/plain": [
       "               messages_per_month\n",
       "month user_id                    \n",
       "1     1005                      7\n",
       "      1032                     38\n",
       "      1045                      5\n",
       "      1055                     30\n",
       "      1071                     16\n",
       "...                           ...\n",
       "12    1493                     78\n",
       "      1495                     84\n",
       "      1496                     51\n",
       "      1497                     17\n",
       "      1499                     66\n",
       "\n",
       "[2717 rows x 1 columns]"
      ]
     },
     "metadata": {},
     "output_type": "display_data"
    }
   ],
   "source": [
    "data_messages_per_month = data_messages.groupby(['month', 'user_id'])['message_date'].agg(['count'])\n",
    "data_messages_per_month = data_messages_per_month.rename(columns={'count': 'messages_per_month'})\n",
    "display(data_messages_per_month)"
   ]
  },
  {
   "cell_type": "markdown",
   "id": "5a906d08",
   "metadata": {},
   "source": [
    "Посчитаем объем израсходованного за каждый месяц интернет-трафика:"
   ]
  },
  {
   "cell_type": "code",
   "execution_count": 25,
   "id": "e9267c14",
   "metadata": {},
   "outputs": [
    {
     "data": {
      "text/html": [
       "<div>\n",
       "<style scoped>\n",
       "    .dataframe tbody tr th:only-of-type {\n",
       "        vertical-align: middle;\n",
       "    }\n",
       "\n",
       "    .dataframe tbody tr th {\n",
       "        vertical-align: top;\n",
       "    }\n",
       "\n",
       "    .dataframe thead th {\n",
       "        text-align: right;\n",
       "    }\n",
       "</style>\n",
       "<table border=\"1\" class=\"dataframe\">\n",
       "  <thead>\n",
       "    <tr style=\"text-align: right;\">\n",
       "      <th></th>\n",
       "      <th></th>\n",
       "      <th>mb_per_month</th>\n",
       "    </tr>\n",
       "    <tr>\n",
       "      <th>month</th>\n",
       "      <th>user_id</th>\n",
       "      <th></th>\n",
       "    </tr>\n",
       "  </thead>\n",
       "  <tbody>\n",
       "    <tr>\n",
       "      <th rowspan=\"5\" valign=\"top\">1</th>\n",
       "      <th>1005</th>\n",
       "      <td>2727.97</td>\n",
       "    </tr>\n",
       "    <tr>\n",
       "      <th>1032</th>\n",
       "      <td>24127.69</td>\n",
       "    </tr>\n",
       "    <tr>\n",
       "      <th>1045</th>\n",
       "      <td>2346.71</td>\n",
       "    </tr>\n",
       "    <tr>\n",
       "      <th>1055</th>\n",
       "      <td>17090.88</td>\n",
       "    </tr>\n",
       "    <tr>\n",
       "      <th>1071</th>\n",
       "      <td>15604.34</td>\n",
       "    </tr>\n",
       "    <tr>\n",
       "      <th>...</th>\n",
       "      <th>...</th>\n",
       "      <td>...</td>\n",
       "    </tr>\n",
       "    <tr>\n",
       "      <th rowspan=\"5\" valign=\"top\">12</th>\n",
       "      <th>1494</th>\n",
       "      <td>17621.21</td>\n",
       "    </tr>\n",
       "    <tr>\n",
       "      <th>1495</th>\n",
       "      <td>23426.76</td>\n",
       "    </tr>\n",
       "    <tr>\n",
       "      <th>1496</th>\n",
       "      <td>20736.15</td>\n",
       "    </tr>\n",
       "    <tr>\n",
       "      <th>1497</th>\n",
       "      <td>19918.60</td>\n",
       "    </tr>\n",
       "    <tr>\n",
       "      <th>1499</th>\n",
       "      <td>13055.58</td>\n",
       "    </tr>\n",
       "  </tbody>\n",
       "</table>\n",
       "<p>3203 rows × 1 columns</p>\n",
       "</div>"
      ],
      "text/plain": [
       "               mb_per_month\n",
       "month user_id              \n",
       "1     1005          2727.97\n",
       "      1032         24127.69\n",
       "      1045          2346.71\n",
       "      1055         17090.88\n",
       "      1071         15604.34\n",
       "...                     ...\n",
       "12    1494         17621.21\n",
       "      1495         23426.76\n",
       "      1496         20736.15\n",
       "      1497         19918.60\n",
       "      1499         13055.58\n",
       "\n",
       "[3203 rows x 1 columns]"
      ]
     },
     "metadata": {},
     "output_type": "display_data"
    }
   ],
   "source": [
    "data_internet_per_month = data_internet.groupby(['month', 'user_id'])['mb_used'].agg(['sum'])\n",
    "data_internet_per_month = data_internet_per_month.rename(columns={'sum': 'mb_per_month'})\n",
    "display(data_internet_per_month)"
   ]
  },
  {
   "cell_type": "markdown",
   "id": "a05516b0",
   "metadata": {},
   "source": [
    "Соединим получившиеся таблицы в одну и определим, какой тариф у каждого из клиентов."
   ]
  },
  {
   "cell_type": "code",
   "execution_count": 26,
   "id": "5f79ed7f",
   "metadata": {},
   "outputs": [
    {
     "data": {
      "text/html": [
       "<div>\n",
       "<style scoped>\n",
       "    .dataframe tbody tr th:only-of-type {\n",
       "        vertical-align: middle;\n",
       "    }\n",
       "\n",
       "    .dataframe tbody tr th {\n",
       "        vertical-align: top;\n",
       "    }\n",
       "\n",
       "    .dataframe thead th {\n",
       "        text-align: right;\n",
       "    }\n",
       "</style>\n",
       "<table border=\"1\" class=\"dataframe\">\n",
       "  <thead>\n",
       "    <tr style=\"text-align: right;\">\n",
       "      <th></th>\n",
       "      <th>month</th>\n",
       "      <th>user_id</th>\n",
       "      <th>duration_call</th>\n",
       "      <th>messages_per_month</th>\n",
       "      <th>mb_per_month</th>\n",
       "      <th>tariff</th>\n",
       "    </tr>\n",
       "  </thead>\n",
       "  <tbody>\n",
       "    <tr>\n",
       "      <th>0</th>\n",
       "      <td>1.0</td>\n",
       "      <td>1005</td>\n",
       "      <td>95.0</td>\n",
       "      <td>7.0</td>\n",
       "      <td>2727.97</td>\n",
       "      <td>smart</td>\n",
       "    </tr>\n",
       "    <tr>\n",
       "      <th>1</th>\n",
       "      <td>2.0</td>\n",
       "      <td>1005</td>\n",
       "      <td>456.0</td>\n",
       "      <td>38.0</td>\n",
       "      <td>7383.93</td>\n",
       "      <td>smart</td>\n",
       "    </tr>\n",
       "    <tr>\n",
       "      <th>2</th>\n",
       "      <td>3.0</td>\n",
       "      <td>1005</td>\n",
       "      <td>606.0</td>\n",
       "      <td>56.0</td>\n",
       "      <td>11104.25</td>\n",
       "      <td>smart</td>\n",
       "    </tr>\n",
       "    <tr>\n",
       "      <th>3</th>\n",
       "      <td>4.0</td>\n",
       "      <td>1005</td>\n",
       "      <td>712.0</td>\n",
       "      <td>41.0</td>\n",
       "      <td>9351.72</td>\n",
       "      <td>smart</td>\n",
       "    </tr>\n",
       "    <tr>\n",
       "      <th>4</th>\n",
       "      <td>5.0</td>\n",
       "      <td>1005</td>\n",
       "      <td>595.0</td>\n",
       "      <td>42.0</td>\n",
       "      <td>7865.53</td>\n",
       "      <td>smart</td>\n",
       "    </tr>\n",
       "    <tr>\n",
       "      <th>...</th>\n",
       "      <td>...</td>\n",
       "      <td>...</td>\n",
       "      <td>...</td>\n",
       "      <td>...</td>\n",
       "      <td>...</td>\n",
       "      <td>...</td>\n",
       "    </tr>\n",
       "    <tr>\n",
       "      <th>3211</th>\n",
       "      <td>10.0</td>\n",
       "      <td>1328</td>\n",
       "      <td>NaN</td>\n",
       "      <td>6.0</td>\n",
       "      <td>22427.98</td>\n",
       "      <td>ultra</td>\n",
       "    </tr>\n",
       "    <tr>\n",
       "      <th>3212</th>\n",
       "      <td>11.0</td>\n",
       "      <td>1328</td>\n",
       "      <td>NaN</td>\n",
       "      <td>8.0</td>\n",
       "      <td>35525.58</td>\n",
       "      <td>ultra</td>\n",
       "    </tr>\n",
       "    <tr>\n",
       "      <th>3213</th>\n",
       "      <td>12.0</td>\n",
       "      <td>1328</td>\n",
       "      <td>NaN</td>\n",
       "      <td>7.0</td>\n",
       "      <td>39419.73</td>\n",
       "      <td>ultra</td>\n",
       "    </tr>\n",
       "    <tr>\n",
       "      <th>3214</th>\n",
       "      <td>NaN</td>\n",
       "      <td>1128</td>\n",
       "      <td>NaN</td>\n",
       "      <td>NaN</td>\n",
       "      <td>NaN</td>\n",
       "      <td>ultra</td>\n",
       "    </tr>\n",
       "    <tr>\n",
       "      <th>3215</th>\n",
       "      <td>NaN</td>\n",
       "      <td>1371</td>\n",
       "      <td>NaN</td>\n",
       "      <td>NaN</td>\n",
       "      <td>NaN</td>\n",
       "      <td>smart</td>\n",
       "    </tr>\n",
       "  </tbody>\n",
       "</table>\n",
       "<p>3216 rows × 6 columns</p>\n",
       "</div>"
      ],
      "text/plain": [
       "      month  user_id  duration_call  messages_per_month  mb_per_month tariff\n",
       "0       1.0     1005           95.0                 7.0       2727.97  smart\n",
       "1       2.0     1005          456.0                38.0       7383.93  smart\n",
       "2       3.0     1005          606.0                56.0      11104.25  smart\n",
       "3       4.0     1005          712.0                41.0       9351.72  smart\n",
       "4       5.0     1005          595.0                42.0       7865.53  smart\n",
       "...     ...      ...            ...                 ...           ...    ...\n",
       "3211   10.0     1328            NaN                 6.0      22427.98  ultra\n",
       "3212   11.0     1328            NaN                 8.0      35525.58  ultra\n",
       "3213   12.0     1328            NaN                 7.0      39419.73  ultra\n",
       "3214    NaN     1128            NaN                 NaN           NaN  ultra\n",
       "3215    NaN     1371            NaN                 NaN           NaN  smart\n",
       "\n",
       "[3216 rows x 6 columns]"
      ]
     },
     "metadata": {},
     "output_type": "display_data"
    }
   ],
   "source": [
    "data = data_calls_per_month.merge(data_messages_per_month, on=['month', 'user_id'], how='outer').reset_index()\n",
    "data = data.merge(data_internet_per_month, on=['month', 'user_id'], how='outer')\n",
    "data = data.merge(data_users[['user_id', 'tariff']], on='user_id', how='outer')\n",
    "display(data)"
   ]
  },
  {
   "cell_type": "code",
   "execution_count": 27,
   "id": "7bc2a8fd",
   "metadata": {},
   "outputs": [
    {
     "name": "stdout",
     "output_type": "stream",
     "text": [
      "<class 'pandas.core.frame.DataFrame'>\n",
      "Int64Index: 3216 entries, 0 to 3215\n",
      "Data columns (total 6 columns):\n",
      " #   Column              Non-Null Count  Dtype  \n",
      "---  ------              --------------  -----  \n",
      " 0   month               3214 non-null   float64\n",
      " 1   user_id             3216 non-null   int64  \n",
      " 2   duration_call       3174 non-null   float64\n",
      " 3   messages_per_month  2717 non-null   float64\n",
      " 4   mb_per_month        3203 non-null   float64\n",
      " 5   tariff              3216 non-null   object \n",
      "dtypes: float64(4), int64(1), object(1)\n",
      "memory usage: 175.9+ KB\n"
     ]
    }
   ],
   "source": [
    "data.info()"
   ]
  },
  {
   "cell_type": "markdown",
   "id": "9f9a08cd",
   "metadata": {},
   "source": [
    "У нас образовались пропуски в столбцах `month`,`duration_call`, `messages_per_month`, `mb_per_month`.\n",
    "\n",
    "Заменим все возникшие NaN на нули, запомним, что в месяце тоже появятся нули, которые будут обозначать пользователей, не использовавших тариф вообще."
   ]
  },
  {
   "cell_type": "code",
   "execution_count": 28,
   "id": "0839b289",
   "metadata": {},
   "outputs": [],
   "source": [
    "data[['month', 'duration_call', 'messages_per_month', 'mb_per_month']] = data[['month', 'duration_call', 'messages_per_month', 'mb_per_month']].fillna(0)"
   ]
  },
  {
   "cell_type": "markdown",
   "id": "172803a4",
   "metadata": {},
   "source": [
    "Заменим тип данных в столбцах `month`,`duration_call`, `messages_per_month` на **int**."
   ]
  },
  {
   "cell_type": "code",
   "execution_count": 29,
   "id": "eea66095",
   "metadata": {},
   "outputs": [
    {
     "data": {
      "text/html": [
       "<div>\n",
       "<style scoped>\n",
       "    .dataframe tbody tr th:only-of-type {\n",
       "        vertical-align: middle;\n",
       "    }\n",
       "\n",
       "    .dataframe tbody tr th {\n",
       "        vertical-align: top;\n",
       "    }\n",
       "\n",
       "    .dataframe thead th {\n",
       "        text-align: right;\n",
       "    }\n",
       "</style>\n",
       "<table border=\"1\" class=\"dataframe\">\n",
       "  <thead>\n",
       "    <tr style=\"text-align: right;\">\n",
       "      <th></th>\n",
       "      <th>month</th>\n",
       "      <th>user_id</th>\n",
       "      <th>duration_call</th>\n",
       "      <th>messages_per_month</th>\n",
       "      <th>mb_per_month</th>\n",
       "      <th>tariff</th>\n",
       "    </tr>\n",
       "  </thead>\n",
       "  <tbody>\n",
       "    <tr>\n",
       "      <th>1702</th>\n",
       "      <td>5</td>\n",
       "      <td>1000</td>\n",
       "      <td>159</td>\n",
       "      <td>22</td>\n",
       "      <td>2253.49</td>\n",
       "      <td>ultra</td>\n",
       "    </tr>\n",
       "    <tr>\n",
       "      <th>1703</th>\n",
       "      <td>6</td>\n",
       "      <td>1000</td>\n",
       "      <td>172</td>\n",
       "      <td>60</td>\n",
       "      <td>23233.77</td>\n",
       "      <td>ultra</td>\n",
       "    </tr>\n",
       "    <tr>\n",
       "      <th>1704</th>\n",
       "      <td>7</td>\n",
       "      <td>1000</td>\n",
       "      <td>340</td>\n",
       "      <td>75</td>\n",
       "      <td>14003.64</td>\n",
       "      <td>ultra</td>\n",
       "    </tr>\n",
       "    <tr>\n",
       "      <th>1705</th>\n",
       "      <td>8</td>\n",
       "      <td>1000</td>\n",
       "      <td>408</td>\n",
       "      <td>81</td>\n",
       "      <td>14055.93</td>\n",
       "      <td>ultra</td>\n",
       "    </tr>\n",
       "    <tr>\n",
       "      <th>1706</th>\n",
       "      <td>9</td>\n",
       "      <td>1000</td>\n",
       "      <td>466</td>\n",
       "      <td>57</td>\n",
       "      <td>14568.91</td>\n",
       "      <td>ultra</td>\n",
       "    </tr>\n",
       "    <tr>\n",
       "      <th>...</th>\n",
       "      <td>...</td>\n",
       "      <td>...</td>\n",
       "      <td>...</td>\n",
       "      <td>...</td>\n",
       "      <td>...</td>\n",
       "      <td>...</td>\n",
       "    </tr>\n",
       "    <tr>\n",
       "      <th>2551</th>\n",
       "      <td>10</td>\n",
       "      <td>1498</td>\n",
       "      <td>247</td>\n",
       "      <td>42</td>\n",
       "      <td>20579.36</td>\n",
       "      <td>smart</td>\n",
       "    </tr>\n",
       "    <tr>\n",
       "      <th>2923</th>\n",
       "      <td>9</td>\n",
       "      <td>1499</td>\n",
       "      <td>70</td>\n",
       "      <td>11</td>\n",
       "      <td>1845.75</td>\n",
       "      <td>smart</td>\n",
       "    </tr>\n",
       "    <tr>\n",
       "      <th>2924</th>\n",
       "      <td>10</td>\n",
       "      <td>1499</td>\n",
       "      <td>449</td>\n",
       "      <td>48</td>\n",
       "      <td>17788.51</td>\n",
       "      <td>smart</td>\n",
       "    </tr>\n",
       "    <tr>\n",
       "      <th>2925</th>\n",
       "      <td>11</td>\n",
       "      <td>1499</td>\n",
       "      <td>612</td>\n",
       "      <td>59</td>\n",
       "      <td>17963.31</td>\n",
       "      <td>smart</td>\n",
       "    </tr>\n",
       "    <tr>\n",
       "      <th>2926</th>\n",
       "      <td>12</td>\n",
       "      <td>1499</td>\n",
       "      <td>492</td>\n",
       "      <td>66</td>\n",
       "      <td>13055.58</td>\n",
       "      <td>smart</td>\n",
       "    </tr>\n",
       "  </tbody>\n",
       "</table>\n",
       "<p>3216 rows × 6 columns</p>\n",
       "</div>"
      ],
      "text/plain": [
       "      month  user_id  duration_call  messages_per_month  mb_per_month tariff\n",
       "1702      5     1000            159                  22       2253.49  ultra\n",
       "1703      6     1000            172                  60      23233.77  ultra\n",
       "1704      7     1000            340                  75      14003.64  ultra\n",
       "1705      8     1000            408                  81      14055.93  ultra\n",
       "1706      9     1000            466                  57      14568.91  ultra\n",
       "...     ...      ...            ...                 ...           ...    ...\n",
       "2551     10     1498            247                  42      20579.36  smart\n",
       "2923      9     1499             70                  11       1845.75  smart\n",
       "2924     10     1499            449                  48      17788.51  smart\n",
       "2925     11     1499            612                  59      17963.31  smart\n",
       "2926     12     1499            492                  66      13055.58  smart\n",
       "\n",
       "[3216 rows x 6 columns]"
      ]
     },
     "metadata": {},
     "output_type": "display_data"
    }
   ],
   "source": [
    "data[['month', 'duration_call', 'messages_per_month']] = data[['month', 'duration_call', 'messages_per_month']].astype('int')\n",
    "display(data.sort_values(by=['user_id', 'month']))"
   ]
  },
  {
   "cell_type": "markdown",
   "id": "722d2410",
   "metadata": {},
   "source": [
    "### 1.2.3. Помесячная выручка"
   ]
  },
  {
   "cell_type": "markdown",
   "id": "44b4e1ed",
   "metadata": {},
   "source": [
    "Теперь посчитаем помесячную выручку с каждого пользователя.\n",
    "\n",
    "Обратимся к данным о тарифах:"
   ]
  },
  {
   "cell_type": "code",
   "execution_count": 30,
   "id": "402143de",
   "metadata": {},
   "outputs": [
    {
     "data": {
      "text/html": [
       "<div>\n",
       "<style scoped>\n",
       "    .dataframe tbody tr th:only-of-type {\n",
       "        vertical-align: middle;\n",
       "    }\n",
       "\n",
       "    .dataframe tbody tr th {\n",
       "        vertical-align: top;\n",
       "    }\n",
       "\n",
       "    .dataframe thead th {\n",
       "        text-align: right;\n",
       "    }\n",
       "</style>\n",
       "<table border=\"1\" class=\"dataframe\">\n",
       "  <thead>\n",
       "    <tr style=\"text-align: right;\">\n",
       "      <th></th>\n",
       "      <th>messages_included</th>\n",
       "      <th>mb_per_month_included</th>\n",
       "      <th>minutes_included</th>\n",
       "      <th>rub_monthly_fee</th>\n",
       "      <th>rub_per_gb</th>\n",
       "      <th>rub_per_message</th>\n",
       "      <th>rub_per_minute</th>\n",
       "      <th>tariff_name</th>\n",
       "    </tr>\n",
       "  </thead>\n",
       "  <tbody>\n",
       "    <tr>\n",
       "      <th>0</th>\n",
       "      <td>50</td>\n",
       "      <td>15360</td>\n",
       "      <td>500</td>\n",
       "      <td>550</td>\n",
       "      <td>200</td>\n",
       "      <td>3</td>\n",
       "      <td>3</td>\n",
       "      <td>smart</td>\n",
       "    </tr>\n",
       "    <tr>\n",
       "      <th>1</th>\n",
       "      <td>1000</td>\n",
       "      <td>30720</td>\n",
       "      <td>3000</td>\n",
       "      <td>1950</td>\n",
       "      <td>150</td>\n",
       "      <td>1</td>\n",
       "      <td>1</td>\n",
       "      <td>ultra</td>\n",
       "    </tr>\n",
       "  </tbody>\n",
       "</table>\n",
       "</div>"
      ],
      "text/plain": [
       "   messages_included  mb_per_month_included  minutes_included  \\\n",
       "0                 50                  15360               500   \n",
       "1               1000                  30720              3000   \n",
       "\n",
       "   rub_monthly_fee  rub_per_gb  rub_per_message  rub_per_minute tariff_name  \n",
       "0              550         200                3               3       smart  \n",
       "1             1950         150                1               1       ultra  "
      ]
     },
     "metadata": {},
     "output_type": "display_data"
    }
   ],
   "source": [
    "display(data_tariffs)"
   ]
  },
  {
   "cell_type": "markdown",
   "id": "9dd79926",
   "metadata": {},
   "source": [
    "Напишем функцию для расчета выручки."
   ]
  },
  {
   "cell_type": "code",
   "execution_count": 31,
   "id": "601de550",
   "metadata": {},
   "outputs": [],
   "source": [
    "# задаем имя функции и переменные внутри функции, обозначающие нужные нам столбцы\n",
    "def revenue(df):\n",
    "    calls = df['duration_call']\n",
    "    messages = df['messages_per_month']\n",
    "    internet = df['mb_per_month']\n",
    "    tariff = df['tariff']\n",
    "    \n",
    "# задаем условие, по которому будем определять, каким тарифом пользуется абонент\n",
    "    if tariff == 'smart':\n",
    "        i = 0\n",
    "    else:\n",
    "        i = 1\n",
    "\n",
    "# прописываем логику проверки разности фактической длительности звонков в месяц и количества минут, заложенных в тарифе\n",
    "    remainder_calls = calls - data_tariffs['minutes_included'][i]\n",
    "    if remainder_calls > 0:\n",
    "        revenue_calls = remainder_calls * data_tariffs['rub_per_minute'][i]\n",
    "    else:\n",
    "        revenue_calls = 0\n",
    "\n",
    "# аналогично поступаем с сообщениями и интернет-трафиком\n",
    "    remainder_messages = messages - data_tariffs['messages_included'][i]\n",
    "    if remainder_messages > 0:\n",
    "        revenue_messages = remainder_messages * data_tariffs['rub_per_message'][i]\n",
    "    else:\n",
    "        revenue_messages = 0\n",
    "        \n",
    "    remainder_internet = internet - data_tariffs['mb_per_month_included'][i] \n",
    "    if remainder_internet > 0:\n",
    "        revenue_internet = (np.ceil(remainder_internet / 1024)) * data_tariffs['rub_per_gb'][i] # парарллельно переводим mb в Gb\n",
    "    else:\n",
    "        revenue_internet = 0\n",
    "\n",
    "# считаем прибыль\n",
    "    revenue = revenue_calls + revenue_messages + revenue_internet + data_tariffs['rub_monthly_fee'][i]\n",
    "    return revenue"
   ]
  },
  {
   "cell_type": "code",
   "execution_count": 32,
   "id": "93a457c3",
   "metadata": {
    "scrolled": false
   },
   "outputs": [
    {
     "data": {
      "text/html": [
       "<div>\n",
       "<style scoped>\n",
       "    .dataframe tbody tr th:only-of-type {\n",
       "        vertical-align: middle;\n",
       "    }\n",
       "\n",
       "    .dataframe tbody tr th {\n",
       "        vertical-align: top;\n",
       "    }\n",
       "\n",
       "    .dataframe thead th {\n",
       "        text-align: right;\n",
       "    }\n",
       "</style>\n",
       "<table border=\"1\" class=\"dataframe\">\n",
       "  <thead>\n",
       "    <tr style=\"text-align: right;\">\n",
       "      <th></th>\n",
       "      <th>month</th>\n",
       "      <th>user_id</th>\n",
       "      <th>duration_call</th>\n",
       "      <th>messages_per_month</th>\n",
       "      <th>mb_per_month</th>\n",
       "      <th>tariff</th>\n",
       "      <th>revenue</th>\n",
       "    </tr>\n",
       "  </thead>\n",
       "  <tbody>\n",
       "    <tr>\n",
       "      <th>0</th>\n",
       "      <td>1</td>\n",
       "      <td>1005</td>\n",
       "      <td>95</td>\n",
       "      <td>7</td>\n",
       "      <td>2727.97</td>\n",
       "      <td>smart</td>\n",
       "      <td>550.0</td>\n",
       "    </tr>\n",
       "    <tr>\n",
       "      <th>1</th>\n",
       "      <td>2</td>\n",
       "      <td>1005</td>\n",
       "      <td>456</td>\n",
       "      <td>38</td>\n",
       "      <td>7383.93</td>\n",
       "      <td>smart</td>\n",
       "      <td>550.0</td>\n",
       "    </tr>\n",
       "    <tr>\n",
       "      <th>2</th>\n",
       "      <td>3</td>\n",
       "      <td>1005</td>\n",
       "      <td>606</td>\n",
       "      <td>56</td>\n",
       "      <td>11104.25</td>\n",
       "      <td>smart</td>\n",
       "      <td>886.0</td>\n",
       "    </tr>\n",
       "    <tr>\n",
       "      <th>3</th>\n",
       "      <td>4</td>\n",
       "      <td>1005</td>\n",
       "      <td>712</td>\n",
       "      <td>41</td>\n",
       "      <td>9351.72</td>\n",
       "      <td>smart</td>\n",
       "      <td>1186.0</td>\n",
       "    </tr>\n",
       "    <tr>\n",
       "      <th>4</th>\n",
       "      <td>5</td>\n",
       "      <td>1005</td>\n",
       "      <td>595</td>\n",
       "      <td>42</td>\n",
       "      <td>7865.53</td>\n",
       "      <td>smart</td>\n",
       "      <td>835.0</td>\n",
       "    </tr>\n",
       "    <tr>\n",
       "      <th>...</th>\n",
       "      <td>...</td>\n",
       "      <td>...</td>\n",
       "      <td>...</td>\n",
       "      <td>...</td>\n",
       "      <td>...</td>\n",
       "      <td>...</td>\n",
       "      <td>...</td>\n",
       "    </tr>\n",
       "    <tr>\n",
       "      <th>3211</th>\n",
       "      <td>10</td>\n",
       "      <td>1328</td>\n",
       "      <td>0</td>\n",
       "      <td>6</td>\n",
       "      <td>22427.98</td>\n",
       "      <td>ultra</td>\n",
       "      <td>1950.0</td>\n",
       "    </tr>\n",
       "    <tr>\n",
       "      <th>3212</th>\n",
       "      <td>11</td>\n",
       "      <td>1328</td>\n",
       "      <td>0</td>\n",
       "      <td>8</td>\n",
       "      <td>35525.58</td>\n",
       "      <td>ultra</td>\n",
       "      <td>2700.0</td>\n",
       "    </tr>\n",
       "    <tr>\n",
       "      <th>3213</th>\n",
       "      <td>12</td>\n",
       "      <td>1328</td>\n",
       "      <td>0</td>\n",
       "      <td>7</td>\n",
       "      <td>39419.73</td>\n",
       "      <td>ultra</td>\n",
       "      <td>3300.0</td>\n",
       "    </tr>\n",
       "    <tr>\n",
       "      <th>3214</th>\n",
       "      <td>0</td>\n",
       "      <td>1128</td>\n",
       "      <td>0</td>\n",
       "      <td>0</td>\n",
       "      <td>0.00</td>\n",
       "      <td>ultra</td>\n",
       "      <td>1950.0</td>\n",
       "    </tr>\n",
       "    <tr>\n",
       "      <th>3215</th>\n",
       "      <td>0</td>\n",
       "      <td>1371</td>\n",
       "      <td>0</td>\n",
       "      <td>0</td>\n",
       "      <td>0.00</td>\n",
       "      <td>smart</td>\n",
       "      <td>550.0</td>\n",
       "    </tr>\n",
       "  </tbody>\n",
       "</table>\n",
       "<p>3216 rows × 7 columns</p>\n",
       "</div>"
      ],
      "text/plain": [
       "      month  user_id  duration_call  messages_per_month  mb_per_month tariff  \\\n",
       "0         1     1005             95                   7       2727.97  smart   \n",
       "1         2     1005            456                  38       7383.93  smart   \n",
       "2         3     1005            606                  56      11104.25  smart   \n",
       "3         4     1005            712                  41       9351.72  smart   \n",
       "4         5     1005            595                  42       7865.53  smart   \n",
       "...     ...      ...            ...                 ...           ...    ...   \n",
       "3211     10     1328              0                   6      22427.98  ultra   \n",
       "3212     11     1328              0                   8      35525.58  ultra   \n",
       "3213     12     1328              0                   7      39419.73  ultra   \n",
       "3214      0     1128              0                   0          0.00  ultra   \n",
       "3215      0     1371              0                   0          0.00  smart   \n",
       "\n",
       "      revenue  \n",
       "0       550.0  \n",
       "1       550.0  \n",
       "2       886.0  \n",
       "3      1186.0  \n",
       "4       835.0  \n",
       "...       ...  \n",
       "3211   1950.0  \n",
       "3212   2700.0  \n",
       "3213   3300.0  \n",
       "3214   1950.0  \n",
       "3215    550.0  \n",
       "\n",
       "[3216 rows x 7 columns]"
      ]
     },
     "metadata": {},
     "output_type": "display_data"
    }
   ],
   "source": [
    "data ['revenue'] = data.apply(revenue,axis=1) # используем функцию для формирвоания нового столбца в таблице с прибылью\n",
    "display(data)"
   ]
  },
  {
   "cell_type": "markdown",
   "id": "bffbdfc2",
   "metadata": {},
   "source": [
    "## 1.3. Вывод"
   ]
  },
  {
   "cell_type": "markdown",
   "id": "a3ff7bd4",
   "metadata": {},
   "source": [
    "В целом состояние предоставленных данных хорошее — пропусков обнаружено не было, дубликатов также не выявлено.\n",
    "\n",
    "Были исправлены типы данных в столбцах, содержащих даты. Данные приведены к целочисленным значениям — округлены в бОльшую сторону в соответствии с политикой компании.\n",
    "\n",
    "Пропущенные значения заменены на 0, так как обозначают именно отсутствие данных — абонент не использовал ту или иную возможность тарифа или связь вообще.\n",
    "\n",
    "Мы отсортировали траты пользователей по месяцам и посчитали ежемесячную выручку с каждого абонента. Эта информация позволит нам в дальнейшем проанализировать прибыльность тарифов."
   ]
  },
  {
   "cell_type": "markdown",
   "id": "f1362592",
   "metadata": {},
   "source": [
    "## 2. Анализ данных"
   ]
  },
  {
   "cell_type": "markdown",
   "id": "2188614b",
   "metadata": {},
   "source": [
    "Добавим в получившуюся таблицу информацию о клиентах, чтобы получить более полную картину:"
   ]
  },
  {
   "cell_type": "code",
   "execution_count": 34,
   "id": "04d57141",
   "metadata": {},
   "outputs": [
    {
     "data": {
      "text/html": [
       "<div>\n",
       "<style scoped>\n",
       "    .dataframe tbody tr th:only-of-type {\n",
       "        vertical-align: middle;\n",
       "    }\n",
       "\n",
       "    .dataframe tbody tr th {\n",
       "        vertical-align: top;\n",
       "    }\n",
       "\n",
       "    .dataframe thead th {\n",
       "        text-align: right;\n",
       "    }\n",
       "</style>\n",
       "<table border=\"1\" class=\"dataframe\">\n",
       "  <thead>\n",
       "    <tr style=\"text-align: right;\">\n",
       "      <th></th>\n",
       "      <th>month</th>\n",
       "      <th>user_id</th>\n",
       "      <th>duration_call</th>\n",
       "      <th>messages_per_month</th>\n",
       "      <th>mb_per_month</th>\n",
       "      <th>tariff</th>\n",
       "      <th>revenue</th>\n",
       "      <th>first_name</th>\n",
       "      <th>age</th>\n",
       "      <th>churn_date</th>\n",
       "      <th>city</th>\n",
       "      <th>reg_date</th>\n",
       "    </tr>\n",
       "  </thead>\n",
       "  <tbody>\n",
       "    <tr>\n",
       "      <th>0</th>\n",
       "      <td>0</td>\n",
       "      <td>1128</td>\n",
       "      <td>0</td>\n",
       "      <td>0</td>\n",
       "      <td>0.00</td>\n",
       "      <td>ultra</td>\n",
       "      <td>1950.0</td>\n",
       "      <td>Ксения</td>\n",
       "      <td>51</td>\n",
       "      <td>2018-12-23</td>\n",
       "      <td>Волжский</td>\n",
       "      <td>2018-12-15</td>\n",
       "    </tr>\n",
       "    <tr>\n",
       "      <th>1</th>\n",
       "      <td>0</td>\n",
       "      <td>1371</td>\n",
       "      <td>0</td>\n",
       "      <td>0</td>\n",
       "      <td>0.00</td>\n",
       "      <td>smart</td>\n",
       "      <td>550.0</td>\n",
       "      <td>Ириней</td>\n",
       "      <td>50</td>\n",
       "      <td>2018-12-30</td>\n",
       "      <td>Омск</td>\n",
       "      <td>2018-12-25</td>\n",
       "    </tr>\n",
       "    <tr>\n",
       "      <th>2</th>\n",
       "      <td>1</td>\n",
       "      <td>1005</td>\n",
       "      <td>95</td>\n",
       "      <td>7</td>\n",
       "      <td>2727.97</td>\n",
       "      <td>smart</td>\n",
       "      <td>550.0</td>\n",
       "      <td>Афанасий</td>\n",
       "      <td>67</td>\n",
       "      <td>NaT</td>\n",
       "      <td>Набережные Челны</td>\n",
       "      <td>2018-01-25</td>\n",
       "    </tr>\n",
       "    <tr>\n",
       "      <th>3</th>\n",
       "      <td>1</td>\n",
       "      <td>1032</td>\n",
       "      <td>380</td>\n",
       "      <td>38</td>\n",
       "      <td>24127.69</td>\n",
       "      <td>smart</td>\n",
       "      <td>2350.0</td>\n",
       "      <td>Инна</td>\n",
       "      <td>31</td>\n",
       "      <td>NaT</td>\n",
       "      <td>Ульяновск</td>\n",
       "      <td>2018-01-04</td>\n",
       "    </tr>\n",
       "    <tr>\n",
       "      <th>4</th>\n",
       "      <td>1</td>\n",
       "      <td>1045</td>\n",
       "      <td>9</td>\n",
       "      <td>5</td>\n",
       "      <td>2346.71</td>\n",
       "      <td>smart</td>\n",
       "      <td>550.0</td>\n",
       "      <td>Джемма</td>\n",
       "      <td>48</td>\n",
       "      <td>NaT</td>\n",
       "      <td>Улан-Удэ</td>\n",
       "      <td>2018-01-30</td>\n",
       "    </tr>\n",
       "  </tbody>\n",
       "</table>\n",
       "</div>"
      ],
      "text/plain": [
       "   month  user_id  duration_call  messages_per_month  mb_per_month tariff  \\\n",
       "0      0     1128              0                   0          0.00  ultra   \n",
       "1      0     1371              0                   0          0.00  smart   \n",
       "2      1     1005             95                   7       2727.97  smart   \n",
       "3      1     1032            380                  38      24127.69  smart   \n",
       "4      1     1045              9                   5       2346.71  smart   \n",
       "\n",
       "   revenue first_name  age churn_date              city   reg_date  \n",
       "0   1950.0     Ксения   51 2018-12-23          Волжский 2018-12-15  \n",
       "1    550.0     Ириней   50 2018-12-30              Омск 2018-12-25  \n",
       "2    550.0   Афанасий   67        NaT  Набережные Челны 2018-01-25  \n",
       "3   2350.0       Инна   31        NaT         Ульяновск 2018-01-04  \n",
       "4    550.0     Джемма   48        NaT          Улан-Удэ 2018-01-30  "
      ]
     },
     "metadata": {},
     "output_type": "display_data"
    }
   ],
   "source": [
    "data = data.merge(data_users[['user_id', 'first_name', 'age', 'churn_date', 'city', 'reg_date']], on='user_id', how='outer')\n",
    "data = data.sort_values(by=['month', 'user_id']).reset_index(drop=True) # соритируем таблицу по месяцам и пользователям\n",
    "display(data.head())"
   ]
  },
  {
   "cell_type": "code",
   "execution_count": 35,
   "id": "0e4cab9d",
   "metadata": {
    "scrolled": false
   },
   "outputs": [
    {
     "name": "stdout",
     "output_type": "stream",
     "text": [
      "<class 'pandas.core.frame.DataFrame'>\n",
      "RangeIndex: 3216 entries, 0 to 3215\n",
      "Data columns (total 12 columns):\n",
      " #   Column              Non-Null Count  Dtype         \n",
      "---  ------              --------------  -----         \n",
      " 0   month               3216 non-null   int64         \n",
      " 1   user_id             3216 non-null   int64         \n",
      " 2   duration_call       3216 non-null   int64         \n",
      " 3   messages_per_month  3216 non-null   int64         \n",
      " 4   mb_per_month        3216 non-null   float64       \n",
      " 5   tariff              3216 non-null   object        \n",
      " 6   revenue             3216 non-null   float64       \n",
      " 7   first_name          3216 non-null   object        \n",
      " 8   age                 3216 non-null   int64         \n",
      " 9   churn_date          189 non-null    datetime64[ns]\n",
      " 10  city                3216 non-null   object        \n",
      " 11  reg_date            3216 non-null   datetime64[ns]\n",
      "dtypes: datetime64[ns](2), float64(2), int64(5), object(3)\n",
      "memory usage: 301.6+ KB\n"
     ]
    }
   ],
   "source": [
    "data.info()"
   ]
  },
  {
   "cell_type": "markdown",
   "id": "9b7a6b55",
   "metadata": {},
   "source": [
    "Уберем информацию об абонентах, которые не пользовались связью вообще, в следующих вычислениях они будут только мешать:"
   ]
  },
  {
   "cell_type": "code",
   "execution_count": 36,
   "id": "ef1a62fe",
   "metadata": {},
   "outputs": [],
   "source": [
    "data = data[data['month'] > 0].reset_index(drop=True)"
   ]
  },
  {
   "cell_type": "markdown",
   "id": "9207694a",
   "metadata": {},
   "source": [
    "Распределим пользователей по тарифам:"
   ]
  },
  {
   "cell_type": "code",
   "execution_count": 37,
   "id": "4397b83a",
   "metadata": {},
   "outputs": [
    {
     "data": {
      "text/html": [
       "<div>\n",
       "<style scoped>\n",
       "    .dataframe tbody tr th:only-of-type {\n",
       "        vertical-align: middle;\n",
       "    }\n",
       "\n",
       "    .dataframe tbody tr th {\n",
       "        vertical-align: top;\n",
       "    }\n",
       "\n",
       "    .dataframe thead th {\n",
       "        text-align: right;\n",
       "    }\n",
       "</style>\n",
       "<table border=\"1\" class=\"dataframe\">\n",
       "  <thead>\n",
       "    <tr style=\"text-align: right;\">\n",
       "      <th></th>\n",
       "      <th>month</th>\n",
       "      <th>user_id</th>\n",
       "      <th>duration_call</th>\n",
       "      <th>messages_per_month</th>\n",
       "      <th>mb_per_month</th>\n",
       "      <th>tariff</th>\n",
       "      <th>revenue</th>\n",
       "      <th>first_name</th>\n",
       "      <th>age</th>\n",
       "      <th>churn_date</th>\n",
       "      <th>city</th>\n",
       "      <th>reg_date</th>\n",
       "    </tr>\n",
       "  </thead>\n",
       "  <tbody>\n",
       "    <tr>\n",
       "      <th>0</th>\n",
       "      <td>1</td>\n",
       "      <td>1005</td>\n",
       "      <td>95</td>\n",
       "      <td>7</td>\n",
       "      <td>2727.97</td>\n",
       "      <td>smart</td>\n",
       "      <td>550.0</td>\n",
       "      <td>Афанасий</td>\n",
       "      <td>67</td>\n",
       "      <td>NaT</td>\n",
       "      <td>Набережные Челны</td>\n",
       "      <td>2018-01-25</td>\n",
       "    </tr>\n",
       "    <tr>\n",
       "      <th>1</th>\n",
       "      <td>1</td>\n",
       "      <td>1032</td>\n",
       "      <td>380</td>\n",
       "      <td>38</td>\n",
       "      <td>24127.69</td>\n",
       "      <td>smart</td>\n",
       "      <td>2350.0</td>\n",
       "      <td>Инна</td>\n",
       "      <td>31</td>\n",
       "      <td>NaT</td>\n",
       "      <td>Ульяновск</td>\n",
       "      <td>2018-01-04</td>\n",
       "    </tr>\n",
       "    <tr>\n",
       "      <th>2</th>\n",
       "      <td>1</td>\n",
       "      <td>1045</td>\n",
       "      <td>9</td>\n",
       "      <td>5</td>\n",
       "      <td>2346.71</td>\n",
       "      <td>smart</td>\n",
       "      <td>550.0</td>\n",
       "      <td>Джемма</td>\n",
       "      <td>48</td>\n",
       "      <td>NaT</td>\n",
       "      <td>Улан-Удэ</td>\n",
       "      <td>2018-01-30</td>\n",
       "    </tr>\n",
       "    <tr>\n",
       "      <th>3</th>\n",
       "      <td>1</td>\n",
       "      <td>1055</td>\n",
       "      <td>551</td>\n",
       "      <td>30</td>\n",
       "      <td>17090.88</td>\n",
       "      <td>smart</td>\n",
       "      <td>1103.0</td>\n",
       "      <td>Луиза</td>\n",
       "      <td>39</td>\n",
       "      <td>NaT</td>\n",
       "      <td>Казань</td>\n",
       "      <td>2018-01-02</td>\n",
       "    </tr>\n",
       "    <tr>\n",
       "      <th>4</th>\n",
       "      <td>1</td>\n",
       "      <td>1071</td>\n",
       "      <td>194</td>\n",
       "      <td>16</td>\n",
       "      <td>15604.34</td>\n",
       "      <td>smart</td>\n",
       "      <td>750.0</td>\n",
       "      <td>Гектор</td>\n",
       "      <td>20</td>\n",
       "      <td>2018-08-31</td>\n",
       "      <td>Омск</td>\n",
       "      <td>2018-01-09</td>\n",
       "    </tr>\n",
       "  </tbody>\n",
       "</table>\n",
       "</div>"
      ],
      "text/plain": [
       "   month  user_id  duration_call  messages_per_month  mb_per_month tariff  \\\n",
       "0      1     1005             95                   7       2727.97  smart   \n",
       "1      1     1032            380                  38      24127.69  smart   \n",
       "2      1     1045              9                   5       2346.71  smart   \n",
       "3      1     1055            551                  30      17090.88  smart   \n",
       "4      1     1071            194                  16      15604.34  smart   \n",
       "\n",
       "   revenue first_name  age churn_date              city   reg_date  \n",
       "0    550.0   Афанасий   67        NaT  Набережные Челны 2018-01-25  \n",
       "1   2350.0       Инна   31        NaT         Ульяновск 2018-01-04  \n",
       "2    550.0     Джемма   48        NaT          Улан-Удэ 2018-01-30  \n",
       "3   1103.0      Луиза   39        NaT            Казань 2018-01-02  \n",
       "4    750.0     Гектор   20 2018-08-31              Омск 2018-01-09  "
      ]
     },
     "execution_count": 37,
     "metadata": {},
     "output_type": "execute_result"
    }
   ],
   "source": [
    "tariff_smart = data.query('tariff == \"smart\"').reset_index(drop=True)\n",
    "tariff_smart.head()"
   ]
  },
  {
   "cell_type": "markdown",
   "id": "47b487db",
   "metadata": {},
   "source": [
    "### 2.1. Звонки"
   ]
  },
  {
   "cell_type": "code",
   "execution_count": 38,
   "id": "d4282470",
   "metadata": {
    "scrolled": true
   },
   "outputs": [
    {
     "data": {
      "text/html": [
       "<div>\n",
       "<style scoped>\n",
       "    .dataframe tbody tr th:only-of-type {\n",
       "        vertical-align: middle;\n",
       "    }\n",
       "\n",
       "    .dataframe tbody tr th {\n",
       "        vertical-align: top;\n",
       "    }\n",
       "\n",
       "    .dataframe thead th {\n",
       "        text-align: right;\n",
       "    }\n",
       "</style>\n",
       "<table border=\"1\" class=\"dataframe\">\n",
       "  <thead>\n",
       "    <tr style=\"text-align: right;\">\n",
       "      <th></th>\n",
       "      <th>duration_call</th>\n",
       "    </tr>\n",
       "  </thead>\n",
       "  <tbody>\n",
       "    <tr>\n",
       "      <th>count</th>\n",
       "      <td>2229.000000</td>\n",
       "    </tr>\n",
       "    <tr>\n",
       "      <th>mean</th>\n",
       "      <td>417.934948</td>\n",
       "    </tr>\n",
       "    <tr>\n",
       "      <th>std</th>\n",
       "      <td>190.313730</td>\n",
       "    </tr>\n",
       "    <tr>\n",
       "      <th>min</th>\n",
       "      <td>0.000000</td>\n",
       "    </tr>\n",
       "    <tr>\n",
       "      <th>25%</th>\n",
       "      <td>282.000000</td>\n",
       "    </tr>\n",
       "    <tr>\n",
       "      <th>50%</th>\n",
       "      <td>422.000000</td>\n",
       "    </tr>\n",
       "    <tr>\n",
       "      <th>75%</th>\n",
       "      <td>545.000000</td>\n",
       "    </tr>\n",
       "    <tr>\n",
       "      <th>max</th>\n",
       "      <td>1435.000000</td>\n",
       "    </tr>\n",
       "  </tbody>\n",
       "</table>\n",
       "</div>"
      ],
      "text/plain": [
       "       duration_call\n",
       "count    2229.000000\n",
       "mean      417.934948\n",
       "std       190.313730\n",
       "min         0.000000\n",
       "25%       282.000000\n",
       "50%       422.000000\n",
       "75%       545.000000\n",
       "max      1435.000000"
      ]
     },
     "execution_count": 38,
     "metadata": {},
     "output_type": "execute_result"
    }
   ],
   "source": [
    "tariff_smart[['duration_call']].describe()"
   ]
  },
  {
   "cell_type": "code",
   "execution_count": 39,
   "id": "d5aedfbe",
   "metadata": {
    "scrolled": true
   },
   "outputs": [
    {
     "name": "stdout",
     "output_type": "stream",
     "text": [
      "Дисперсия длительности звонков тарифа Smart: 36219.31578434428\n"
     ]
    }
   ],
   "source": [
    "print('Дисперсия длительности звонков тарифа Smart:', np.var(tariff_smart['duration_call'], ddof=1))"
   ]
  },
  {
   "cell_type": "code",
   "execution_count": 40,
   "id": "75332c2c",
   "metadata": {
    "scrolled": true
   },
   "outputs": [
    {
     "data": {
      "text/html": [
       "<div>\n",
       "<style scoped>\n",
       "    .dataframe tbody tr th:only-of-type {\n",
       "        vertical-align: middle;\n",
       "    }\n",
       "\n",
       "    .dataframe tbody tr th {\n",
       "        vertical-align: top;\n",
       "    }\n",
       "\n",
       "    .dataframe thead th {\n",
       "        text-align: right;\n",
       "    }\n",
       "</style>\n",
       "<table border=\"1\" class=\"dataframe\">\n",
       "  <thead>\n",
       "    <tr style=\"text-align: right;\">\n",
       "      <th></th>\n",
       "      <th>month</th>\n",
       "      <th>user_id</th>\n",
       "      <th>duration_call</th>\n",
       "      <th>messages_per_month</th>\n",
       "      <th>mb_per_month</th>\n",
       "      <th>tariff</th>\n",
       "      <th>revenue</th>\n",
       "      <th>first_name</th>\n",
       "      <th>age</th>\n",
       "      <th>churn_date</th>\n",
       "      <th>city</th>\n",
       "      <th>reg_date</th>\n",
       "    </tr>\n",
       "  </thead>\n",
       "  <tbody>\n",
       "    <tr>\n",
       "      <th>0</th>\n",
       "      <td>1</td>\n",
       "      <td>1120</td>\n",
       "      <td>55</td>\n",
       "      <td>0</td>\n",
       "      <td>656.75</td>\n",
       "      <td>ultra</td>\n",
       "      <td>1950.0</td>\n",
       "      <td>Агнесса</td>\n",
       "      <td>25</td>\n",
       "      <td>NaT</td>\n",
       "      <td>Краснодар</td>\n",
       "      <td>2018-01-24</td>\n",
       "    </tr>\n",
       "    <tr>\n",
       "      <th>1</th>\n",
       "      <td>1</td>\n",
       "      <td>1126</td>\n",
       "      <td>272</td>\n",
       "      <td>4</td>\n",
       "      <td>16363.03</td>\n",
       "      <td>ultra</td>\n",
       "      <td>1950.0</td>\n",
       "      <td>Яна</td>\n",
       "      <td>71</td>\n",
       "      <td>NaT</td>\n",
       "      <td>Санкт-Петербург</td>\n",
       "      <td>2018-01-19</td>\n",
       "    </tr>\n",
       "    <tr>\n",
       "      <th>2</th>\n",
       "      <td>1</td>\n",
       "      <td>1168</td>\n",
       "      <td>277</td>\n",
       "      <td>14</td>\n",
       "      <td>8152.07</td>\n",
       "      <td>ultra</td>\n",
       "      <td>1950.0</td>\n",
       "      <td>Лилия</td>\n",
       "      <td>28</td>\n",
       "      <td>NaT</td>\n",
       "      <td>Кострома</td>\n",
       "      <td>2018-01-24</td>\n",
       "    </tr>\n",
       "    <tr>\n",
       "      <th>3</th>\n",
       "      <td>1</td>\n",
       "      <td>1254</td>\n",
       "      <td>466</td>\n",
       "      <td>0</td>\n",
       "      <td>19685.01</td>\n",
       "      <td>ultra</td>\n",
       "      <td>1950.0</td>\n",
       "      <td>Александра</td>\n",
       "      <td>75</td>\n",
       "      <td>2018-08-17</td>\n",
       "      <td>Москва</td>\n",
       "      <td>2018-01-04</td>\n",
       "    </tr>\n",
       "    <tr>\n",
       "      <th>4</th>\n",
       "      <td>1</td>\n",
       "      <td>1375</td>\n",
       "      <td>852</td>\n",
       "      <td>75</td>\n",
       "      <td>14550.66</td>\n",
       "      <td>ultra</td>\n",
       "      <td>1950.0</td>\n",
       "      <td>Мария</td>\n",
       "      <td>53</td>\n",
       "      <td>NaT</td>\n",
       "      <td>Пенза</td>\n",
       "      <td>2018-01-04</td>\n",
       "    </tr>\n",
       "  </tbody>\n",
       "</table>\n",
       "</div>"
      ],
      "text/plain": [
       "   month  user_id  duration_call  messages_per_month  mb_per_month tariff  \\\n",
       "0      1     1120             55                   0        656.75  ultra   \n",
       "1      1     1126            272                   4      16363.03  ultra   \n",
       "2      1     1168            277                  14       8152.07  ultra   \n",
       "3      1     1254            466                   0      19685.01  ultra   \n",
       "4      1     1375            852                  75      14550.66  ultra   \n",
       "\n",
       "   revenue  first_name  age churn_date             city   reg_date  \n",
       "0   1950.0     Агнесса   25        NaT        Краснодар 2018-01-24  \n",
       "1   1950.0         Яна   71        NaT  Санкт-Петербург 2018-01-19  \n",
       "2   1950.0       Лилия   28        NaT         Кострома 2018-01-24  \n",
       "3   1950.0  Александра   75 2018-08-17           Москва 2018-01-04  \n",
       "4   1950.0       Мария   53        NaT            Пенза 2018-01-04  "
      ]
     },
     "execution_count": 40,
     "metadata": {},
     "output_type": "execute_result"
    }
   ],
   "source": [
    "tariff_ultra = data.query('tariff == \"ultra\"').reset_index(drop=True)\n",
    "tariff_ultra.head()"
   ]
  },
  {
   "cell_type": "code",
   "execution_count": 41,
   "id": "ba79bac8",
   "metadata": {
    "scrolled": false
   },
   "outputs": [
    {
     "data": {
      "text/html": [
       "<div>\n",
       "<style scoped>\n",
       "    .dataframe tbody tr th:only-of-type {\n",
       "        vertical-align: middle;\n",
       "    }\n",
       "\n",
       "    .dataframe tbody tr th {\n",
       "        vertical-align: top;\n",
       "    }\n",
       "\n",
       "    .dataframe thead th {\n",
       "        text-align: right;\n",
       "    }\n",
       "</style>\n",
       "<table border=\"1\" class=\"dataframe\">\n",
       "  <thead>\n",
       "    <tr style=\"text-align: right;\">\n",
       "      <th></th>\n",
       "      <th>duration_call</th>\n",
       "    </tr>\n",
       "  </thead>\n",
       "  <tbody>\n",
       "    <tr>\n",
       "      <th>count</th>\n",
       "      <td>985.000000</td>\n",
       "    </tr>\n",
       "    <tr>\n",
       "      <th>mean</th>\n",
       "      <td>526.623350</td>\n",
       "    </tr>\n",
       "    <tr>\n",
       "      <th>std</th>\n",
       "      <td>317.606098</td>\n",
       "    </tr>\n",
       "    <tr>\n",
       "      <th>min</th>\n",
       "      <td>0.000000</td>\n",
       "    </tr>\n",
       "    <tr>\n",
       "      <th>25%</th>\n",
       "      <td>284.000000</td>\n",
       "    </tr>\n",
       "    <tr>\n",
       "      <th>50%</th>\n",
       "      <td>518.000000</td>\n",
       "    </tr>\n",
       "    <tr>\n",
       "      <th>75%</th>\n",
       "      <td>752.000000</td>\n",
       "    </tr>\n",
       "    <tr>\n",
       "      <th>max</th>\n",
       "      <td>1673.000000</td>\n",
       "    </tr>\n",
       "  </tbody>\n",
       "</table>\n",
       "</div>"
      ],
      "text/plain": [
       "       duration_call\n",
       "count     985.000000\n",
       "mean      526.623350\n",
       "std       317.606098\n",
       "min         0.000000\n",
       "25%       284.000000\n",
       "50%       518.000000\n",
       "75%       752.000000\n",
       "max      1673.000000"
      ]
     },
     "execution_count": 41,
     "metadata": {},
     "output_type": "execute_result"
    }
   ],
   "source": [
    "tariff_ultra[['duration_call']].describe()"
   ]
  },
  {
   "cell_type": "code",
   "execution_count": 42,
   "id": "3c7a8af0",
   "metadata": {},
   "outputs": [
    {
     "name": "stdout",
     "output_type": "stream",
     "text": [
      "Дисперсия длительности звонков тарифа Ultra: 100873.63339730098\n"
     ]
    }
   ],
   "source": [
    "print('Дисперсия длительности звонков тарифа Ultra:', np.var(tariff_ultra['duration_call'], ddof=1))"
   ]
  },
  {
   "cell_type": "code",
   "execution_count": 43,
   "id": "590bc86e",
   "metadata": {
    "scrolled": true
   },
   "outputs": [
    {
     "data": {
      "image/png": "[encoded data removed]",
      "text/plain": [
       "<Figure size 720x360 with 1 Axes>"
      ]
     },
     "metadata": {
      "needs_background": "light"
     },
     "output_type": "display_data"
    }
   ],
   "source": [
    "plt.figure(figsize=(10,5))\n",
    "sns.kdeplot(tariff_smart['duration_call'], shade=True, color=\"yellowgreen\", label=\"Smart\", alpha=.7)\n",
    "sns.kdeplot(tariff_ultra['duration_call'], shade=True, color=\"khaki\", label=\"Ultra\", alpha=.7)\n",
    "plt.title('Density Plot of Call Duration', fontsize=12)\n",
    "plt.legend()\n",
    "plt.show()"
   ]
  },
  {
   "cell_type": "markdown",
   "id": "2485efca",
   "metadata": {},
   "source": [
    "Нормальное распределение.\n",
    "\n",
    "Несмотря на то, что среднее количество минут в рамках лимита, более 25% абонентов абонентов тарифа Smart используют дополнительные минуты.\n",
    "\n",
    "Половина абонентов тарифа Ultra используют до 518 минут в месяц из возможных 3000 минут и 25% абонентов используют только 284 минуты, что составляет 9,4% от лимита.\n",
    "\n",
    "Также видно, что часть клиентов в обоих тарифах не использует минуты вовсе. Скорее всего, эти клиенты более активно используют интернет."
   ]
  },
  {
   "cell_type": "markdown",
   "id": "285a2ce5",
   "metadata": {},
   "source": [
    "### 2.2. Сообщения"
   ]
  },
  {
   "cell_type": "code",
   "execution_count": 49,
   "id": "91a025e2",
   "metadata": {},
   "outputs": [
    {
     "data": {
      "text/html": [
       "<div>\n",
       "<style scoped>\n",
       "    .dataframe tbody tr th:only-of-type {\n",
       "        vertical-align: middle;\n",
       "    }\n",
       "\n",
       "    .dataframe tbody tr th {\n",
       "        vertical-align: top;\n",
       "    }\n",
       "\n",
       "    .dataframe thead th {\n",
       "        text-align: right;\n",
       "    }\n",
       "</style>\n",
       "<table border=\"1\" class=\"dataframe\">\n",
       "  <thead>\n",
       "    <tr style=\"text-align: right;\">\n",
       "      <th></th>\n",
       "      <th>messages_per_month</th>\n",
       "    </tr>\n",
       "  </thead>\n",
       "  <tbody>\n",
       "    <tr>\n",
       "      <th>count</th>\n",
       "      <td>2229.000000</td>\n",
       "    </tr>\n",
       "    <tr>\n",
       "      <th>mean</th>\n",
       "      <td>33.384029</td>\n",
       "    </tr>\n",
       "    <tr>\n",
       "      <th>std</th>\n",
       "      <td>28.227876</td>\n",
       "    </tr>\n",
       "    <tr>\n",
       "      <th>min</th>\n",
       "      <td>0.000000</td>\n",
       "    </tr>\n",
       "    <tr>\n",
       "      <th>25%</th>\n",
       "      <td>10.000000</td>\n",
       "    </tr>\n",
       "    <tr>\n",
       "      <th>50%</th>\n",
       "      <td>28.000000</td>\n",
       "    </tr>\n",
       "    <tr>\n",
       "      <th>75%</th>\n",
       "      <td>51.000000</td>\n",
       "    </tr>\n",
       "    <tr>\n",
       "      <th>max</th>\n",
       "      <td>143.000000</td>\n",
       "    </tr>\n",
       "  </tbody>\n",
       "</table>\n",
       "</div>"
      ],
      "text/plain": [
       "       messages_per_month\n",
       "count         2229.000000\n",
       "mean            33.384029\n",
       "std             28.227876\n",
       "min              0.000000\n",
       "25%             10.000000\n",
       "50%             28.000000\n",
       "75%             51.000000\n",
       "max            143.000000"
      ]
     },
     "execution_count": 49,
     "metadata": {},
     "output_type": "execute_result"
    }
   ],
   "source": [
    "tariff_smart[['messages_per_month']].describe()"
   ]
  },
  {
   "cell_type": "code",
   "execution_count": 50,
   "id": "53e951a5",
   "metadata": {},
   "outputs": [
    {
     "name": "stdout",
     "output_type": "stream",
     "text": [
      "Дисперсия количества сообщений тарифа Smart: 796.8129584480083\n"
     ]
    }
   ],
   "source": [
    "print('Дисперсия количества сообщений тарифа Smart:', np.var(tariff_smart['messages_per_month'], ddof=1))"
   ]
  },
  {
   "cell_type": "code",
   "execution_count": 51,
   "id": "204cbd7c",
   "metadata": {},
   "outputs": [
    {
     "data": {
      "text/html": [
       "<div>\n",
       "<style scoped>\n",
       "    .dataframe tbody tr th:only-of-type {\n",
       "        vertical-align: middle;\n",
       "    }\n",
       "\n",
       "    .dataframe tbody tr th {\n",
       "        vertical-align: top;\n",
       "    }\n",
       "\n",
       "    .dataframe thead th {\n",
       "        text-align: right;\n",
       "    }\n",
       "</style>\n",
       "<table border=\"1\" class=\"dataframe\">\n",
       "  <thead>\n",
       "    <tr style=\"text-align: right;\">\n",
       "      <th></th>\n",
       "      <th>messages_per_month</th>\n",
       "    </tr>\n",
       "  </thead>\n",
       "  <tbody>\n",
       "    <tr>\n",
       "      <th>count</th>\n",
       "      <td>985.000000</td>\n",
       "    </tr>\n",
       "    <tr>\n",
       "      <th>mean</th>\n",
       "      <td>49.363452</td>\n",
       "    </tr>\n",
       "    <tr>\n",
       "      <th>std</th>\n",
       "      <td>47.804457</td>\n",
       "    </tr>\n",
       "    <tr>\n",
       "      <th>min</th>\n",
       "      <td>0.000000</td>\n",
       "    </tr>\n",
       "    <tr>\n",
       "      <th>25%</th>\n",
       "      <td>6.000000</td>\n",
       "    </tr>\n",
       "    <tr>\n",
       "      <th>50%</th>\n",
       "      <td>38.000000</td>\n",
       "    </tr>\n",
       "    <tr>\n",
       "      <th>75%</th>\n",
       "      <td>79.000000</td>\n",
       "    </tr>\n",
       "    <tr>\n",
       "      <th>max</th>\n",
       "      <td>224.000000</td>\n",
       "    </tr>\n",
       "  </tbody>\n",
       "</table>\n",
       "</div>"
      ],
      "text/plain": [
       "       messages_per_month\n",
       "count          985.000000\n",
       "mean            49.363452\n",
       "std             47.804457\n",
       "min              0.000000\n",
       "25%              6.000000\n",
       "50%             38.000000\n",
       "75%             79.000000\n",
       "max            224.000000"
      ]
     },
     "execution_count": 51,
     "metadata": {},
     "output_type": "execute_result"
    }
   ],
   "source": [
    "tariff_ultra[['messages_per_month']].describe()"
   ]
  },
  {
   "cell_type": "code",
   "execution_count": 52,
   "id": "a5101d9c",
   "metadata": {
    "scrolled": true
   },
   "outputs": [
    {
     "name": "stdout",
     "output_type": "stream",
     "text": [
      "Дисперсия количества сообщений тарифа Ultra: 2285.266142544674\n"
     ]
    }
   ],
   "source": [
    "print('Дисперсия количества сообщений тарифа Ultra:', np.var(tariff_ultra['messages_per_month'], ddof=1))"
   ]
  },
  {
   "cell_type": "code",
   "execution_count": 53,
   "id": "8236adfe",
   "metadata": {},
   "outputs": [
    {
     "data": {
      "image/png": "[encoded data removed]",
      "text/plain": [
       "<Figure size 720x360 with 1 Axes>"
      ]
     },
     "metadata": {
      "needs_background": "light"
     },
     "output_type": "display_data"
    }
   ],
   "source": [
    "plt.figure(figsize=(10,5))\n",
    "sns.kdeplot(tariff_smart['messages_per_month'], shade=True, color=\"chocolate\", label=\"Smart\", alpha=.7)\n",
    "sns.kdeplot(tariff_ultra['messages_per_month'], shade=True, color=\"wheat\", label=\"Ultra\", alpha=.7)\n",
    "plt.title('Density Plot of Messages', fontsize=12)\n",
    "plt.legend()\n",
    "plt.show()"
   ]
  },
  {
   "cell_type": "markdown",
   "id": "1ea95f69",
   "metadata": {},
   "source": [
    "Распределение скошено влево.\n",
    "\n",
    "Пакет тарифа Smart включает 50 сообщений в месяц, 25% абонентов превышает лимит и дополнительно оплачивает сообщения.\n",
    "\n",
    "Пользователи тарифа Ultra имеют 1000 включенных сообщений в месяц, но максимум используется только 22,4% от всего пакета."
   ]
  },
  {
   "cell_type": "markdown",
   "id": "6703826f",
   "metadata": {},
   "source": [
    "### 2.3. Интернет-трафик"
   ]
  },
  {
   "cell_type": "code",
   "execution_count": 56,
   "id": "104fb2f5",
   "metadata": {},
   "outputs": [
    {
     "data": {
      "text/html": [
       "<div>\n",
       "<style scoped>\n",
       "    .dataframe tbody tr th:only-of-type {\n",
       "        vertical-align: middle;\n",
       "    }\n",
       "\n",
       "    .dataframe tbody tr th {\n",
       "        vertical-align: top;\n",
       "    }\n",
       "\n",
       "    .dataframe thead th {\n",
       "        text-align: right;\n",
       "    }\n",
       "</style>\n",
       "<table border=\"1\" class=\"dataframe\">\n",
       "  <thead>\n",
       "    <tr style=\"text-align: right;\">\n",
       "      <th></th>\n",
       "      <th>mb_per_month</th>\n",
       "    </tr>\n",
       "  </thead>\n",
       "  <tbody>\n",
       "    <tr>\n",
       "      <th>count</th>\n",
       "      <td>2229.000000</td>\n",
       "    </tr>\n",
       "    <tr>\n",
       "      <th>mean</th>\n",
       "      <td>16208.386990</td>\n",
       "    </tr>\n",
       "    <tr>\n",
       "      <th>std</th>\n",
       "      <td>5870.476681</td>\n",
       "    </tr>\n",
       "    <tr>\n",
       "      <th>min</th>\n",
       "      <td>0.000000</td>\n",
       "    </tr>\n",
       "    <tr>\n",
       "      <th>25%</th>\n",
       "      <td>12643.010000</td>\n",
       "    </tr>\n",
       "    <tr>\n",
       "      <th>50%</th>\n",
       "      <td>16506.840000</td>\n",
       "    </tr>\n",
       "    <tr>\n",
       "      <th>75%</th>\n",
       "      <td>20042.930000</td>\n",
       "    </tr>\n",
       "    <tr>\n",
       "      <th>max</th>\n",
       "      <td>38552.450000</td>\n",
       "    </tr>\n",
       "  </tbody>\n",
       "</table>\n",
       "</div>"
      ],
      "text/plain": [
       "       mb_per_month\n",
       "count   2229.000000\n",
       "mean   16208.386990\n",
       "std     5870.476681\n",
       "min        0.000000\n",
       "25%    12643.010000\n",
       "50%    16506.840000\n",
       "75%    20042.930000\n",
       "max    38552.450000"
      ]
     },
     "execution_count": 56,
     "metadata": {},
     "output_type": "execute_result"
    }
   ],
   "source": [
    "tariff_smart[['mb_per_month']].describe()"
   ]
  },
  {
   "cell_type": "code",
   "execution_count": 57,
   "id": "d5aa371f",
   "metadata": {},
   "outputs": [
    {
     "name": "stdout",
     "output_type": "stream",
     "text": [
      "Дисперсия интернет-трафика тарифа Smart: 34462496.46274241\n"
     ]
    }
   ],
   "source": [
    "print('Дисперсия интернет-трафика тарифа Smart:', np.var(tariff_smart['mb_per_month'], ddof=1))"
   ]
  },
  {
   "cell_type": "code",
   "execution_count": 58,
   "id": "563fba49",
   "metadata": {},
   "outputs": [
    {
     "data": {
      "text/html": [
       "<div>\n",
       "<style scoped>\n",
       "    .dataframe tbody tr th:only-of-type {\n",
       "        vertical-align: middle;\n",
       "    }\n",
       "\n",
       "    .dataframe tbody tr th {\n",
       "        vertical-align: top;\n",
       "    }\n",
       "\n",
       "    .dataframe thead th {\n",
       "        text-align: right;\n",
       "    }\n",
       "</style>\n",
       "<table border=\"1\" class=\"dataframe\">\n",
       "  <thead>\n",
       "    <tr style=\"text-align: right;\">\n",
       "      <th></th>\n",
       "      <th>mb_per_month</th>\n",
       "    </tr>\n",
       "  </thead>\n",
       "  <tbody>\n",
       "    <tr>\n",
       "      <th>count</th>\n",
       "      <td>985.000000</td>\n",
       "    </tr>\n",
       "    <tr>\n",
       "      <th>mean</th>\n",
       "      <td>19468.805208</td>\n",
       "    </tr>\n",
       "    <tr>\n",
       "      <th>std</th>\n",
       "      <td>10087.170752</td>\n",
       "    </tr>\n",
       "    <tr>\n",
       "      <th>min</th>\n",
       "      <td>0.000000</td>\n",
       "    </tr>\n",
       "    <tr>\n",
       "      <th>25%</th>\n",
       "      <td>11770.260000</td>\n",
       "    </tr>\n",
       "    <tr>\n",
       "      <th>50%</th>\n",
       "      <td>19308.010000</td>\n",
       "    </tr>\n",
       "    <tr>\n",
       "      <th>75%</th>\n",
       "      <td>26837.690000</td>\n",
       "    </tr>\n",
       "    <tr>\n",
       "      <th>max</th>\n",
       "      <td>49745.690000</td>\n",
       "    </tr>\n",
       "  </tbody>\n",
       "</table>\n",
       "</div>"
      ],
      "text/plain": [
       "       mb_per_month\n",
       "count    985.000000\n",
       "mean   19468.805208\n",
       "std    10087.170752\n",
       "min        0.000000\n",
       "25%    11770.260000\n",
       "50%    19308.010000\n",
       "75%    26837.690000\n",
       "max    49745.690000"
      ]
     },
     "execution_count": 58,
     "metadata": {},
     "output_type": "execute_result"
    }
   ],
   "source": [
    "tariff_ultra[['mb_per_month']].describe()"
   ]
  },
  {
   "cell_type": "code",
   "execution_count": 59,
   "id": "8051f210",
   "metadata": {},
   "outputs": [
    {
     "name": "stdout",
     "output_type": "stream",
     "text": [
      "Дисперсия интернет-трафика тарифа Ultra: 101751013.78335385\n"
     ]
    }
   ],
   "source": [
    "print('Дисперсия интернет-трафика тарифа Ultra:', np.var(tariff_ultra['mb_per_month'], ddof=1))"
   ]
  },
  {
   "cell_type": "code",
   "execution_count": 60,
   "id": "b43bb0b5",
   "metadata": {},
   "outputs": [
    {
     "data": {
      "image/png": "[encoded data removed]",
      "text/plain": [
       "<Figure size 720x360 with 1 Axes>"
      ]
     },
     "metadata": {
      "needs_background": "light"
     },
     "output_type": "display_data"
    }
   ],
   "source": [
    "# переведем мб в гб\n",
    "tariff_smart_gb = np.ceil(tariff_smart['mb_per_month'] / 1024)\n",
    "tariff_ultra_gb = np.ceil(tariff_ultra['mb_per_month'] / 1024)\n",
    "\n",
    "# построим график\n",
    "plt.figure(figsize=(10,5))\n",
    "sns.kdeplot(tariff_smart_gb, shade=True, color=\"orchid\", label=\"Smart\", alpha=.7)\n",
    "sns.kdeplot(tariff_ultra_gb, shade=True, color=\"thistle\", label=\"Ultra\", alpha=.7)\n",
    "plt.title('Density Plot of Internet Traffic', fontsize=12)\n",
    "plt.xlabel('Gb_per_month')\n",
    "plt.legend()\n",
    "plt.show()"
   ]
  },
  {
   "cell_type": "markdown",
   "id": "ae021252",
   "metadata": {},
   "source": [
    "Лимит тарифа Smart — 15 Гб. Мы видим, что больше половины абонентов превышают лимит и вынуждены доплачивать за дополнительный интернет.\n",
    "\n",
    "Абоненты тарифа Ultra имеют лимит в 30 Гб, но чуть меньше 25% все равно не укладываются в имеющееся ограничение."
   ]
  },
  {
   "cell_type": "markdown",
   "id": "c2a6a37c",
   "metadata": {},
   "source": [
    "Оценим количество абонентов каждого тарифа."
   ]
  },
  {
   "cell_type": "code",
   "execution_count": 76,
   "id": "c9c4b488",
   "metadata": {},
   "outputs": [
    {
     "name": "stdout",
     "output_type": "stream",
     "text": [
      "Всего пользователей тарифа Smart из выборки: 351\n",
      "Процент оттока абонентов: 6.55\n"
     ]
    }
   ],
   "source": [
    "users_smart = data_users.query('tariff == \"smart\"')['tariff'].count()\n",
    "churn_smart = data_users.query('tariff == \"smart\" and churn_date != \"NaN\"')['tariff'].count()\n",
    "procent_churn_smart = churn_smart / users_smart * 100\n",
    "print('Всего пользователей тарифа Smart из выборки:', users_smart)\n",
    "print('Процент оттока абонентов:', round((procent_churn_smart), 2))"
   ]
  },
  {
   "cell_type": "code",
   "execution_count": 77,
   "id": "1f66e22e",
   "metadata": {},
   "outputs": [
    {
     "name": "stdout",
     "output_type": "stream",
     "text": [
      "Всего пользователей тарифа Ultra из выборки: 149\n",
      "Процент оттока абонентов: 10.07\n"
     ]
    }
   ],
   "source": [
    "users_ultra = data_users.query('tariff == \"ultra\"')['tariff'].count()\n",
    "churn_ultra = data_users.query('tariff == \"ultra\" and churn_date != \"NaN\"')['tariff'].count()\n",
    "procent_churn_ultra = churn_ultra / users_ultra * 100\n",
    "print('Всего пользователей тарифа Ultra из выборки:', users_ultra)\n",
    "print('Процент оттока абонентов:', round((procent_churn_ultra), 2))"
   ]
  },
  {
   "cell_type": "markdown",
   "id": "651472db",
   "metadata": {},
   "source": [
    "### 2.4. Вывод"
   ]
  },
  {
   "cell_type": "markdown",
   "id": "062357c7",
   "metadata": {},
   "source": [
    "<!-- Проанализировав средние показатели, мы пришли к выводу, что тариф Ultra демонстрирует более высокие значения, чем тариф Smart. Абоненты тарифа Ultra в среднем дольше разговаривают по телефону, отправляют больше сообщений и имеют больший интернет-трафик. \n",
    " \n",
    "При этом дисперсия при анализе значений тарифа Ultra высокая, разброс значений внутри этого тарифа гораздо больше, чем у тарифа Smart. Стандартное отклонение также выше. -->\n",
    "Анализ демонстрирует несбалансированность обоих тарифов: Smart не закрывает все потребности абонентов, из-за чего им приходится доплачивать за дополнительные минуты, сообщения и интернет, тогда как пользователи тарифа Ultra зачастую не используют даже половину включенного пакета. Исключение для тарифа Ultra составляет интернет-трафик, где почти 25% превышает имеющийся лимит.\n",
    "\n",
    "Сетка тарифов требует доработки и расширения возможностей абонентов."
   ]
  },
  {
   "cell_type": "markdown",
   "id": "dc9be808",
   "metadata": {},
   "source": [
    "# 3. Проверка гипотез"
   ]
  },
  {
   "cell_type": "markdown",
   "id": "ca50b903",
   "metadata": {},
   "source": [
    "Сформулируем две гипотезы и проверим их на имеющихся данных. Для проверки используем t-критерий Стьюдента, который позволяет работать с выборками любого размера."
   ]
  },
  {
   "cell_type": "markdown",
   "id": "db1f6fd4",
   "metadata": {},
   "source": [
    "## 3.1. Проверка №1"
   ]
  },
  {
   "cell_type": "markdown",
   "id": "261e57a9",
   "metadata": {},
   "source": [
    "Формулируем гипотезы:\n",
    "\n",
    "- Нулевая гипотеза — выручка абонентов тарифа Smart равна выручке абонентов тарифа Ultra.\n",
    "- Альтернативная гипотеза — выручка абонентов тарифа Smart не равна выручке абонентов тарифа Ultra."
   ]
  },
  {
   "cell_type": "code",
   "execution_count": 78,
   "id": "5aaa54e9",
   "metadata": {},
   "outputs": [],
   "source": [
    "# создадим переменные с информацией о выручке каждого из тарифов\n",
    "revenue_smart = data.query('tariff == \"smart\"')[['revenue']].reset_index(drop=True)\n",
    "\n",
    "revenue_ultra = data.query('tariff == \"ultra\"')[['revenue']].reset_index(drop=True)"
   ]
  },
  {
   "cell_type": "code",
   "execution_count": 79,
   "id": "6187d618",
   "metadata": {},
   "outputs": [
    {
     "name": "stdout",
     "output_type": "stream",
     "text": [
      "p-значение: 2.1303156965538042e-250\n",
      "Отвергаем нулевую гипотезу\n"
     ]
    }
   ],
   "source": [
    "alpha = 0.05\n",
    "\n",
    "results = st.ttest_ind(revenue_smart['revenue'], revenue_ultra['revenue'], equal_var=False)\n",
    "\n",
    "print('p-значение:', results.pvalue / 2) # делим на 2, так как наша гипотеза двусторонняя\n",
    "\n",
    "if (results.pvalue / 2 < alpha):\n",
    "    print('Отвергаем нулевую гипотезу')\n",
    "else:\n",
    "    print('Не получилось отвергнуть нулевую гипотезу')"
   ]
  },
  {
   "cell_type": "markdown",
   "id": "233f1bdf",
   "metadata": {},
   "source": [
    "Нулевая гипотеза отвергнута: выручка абонентов тарифа Smart не равна выручке абонентов тарифа Ultra."
   ]
  },
  {
   "cell_type": "code",
   "execution_count": 80,
   "id": "9bcdaa40",
   "metadata": {
    "scrolled": true
   },
   "outputs": [
    {
     "data": {
      "text/plain": [
       "2875351.0"
      ]
     },
     "execution_count": 80,
     "metadata": {},
     "output_type": "execute_result"
    }
   ],
   "source": [
    "revenue_smart['revenue'].sum()"
   ]
  },
  {
   "cell_type": "code",
   "execution_count": 81,
   "id": "934b6a90",
   "metadata": {},
   "outputs": [
    {
     "data": {
      "text/plain": [
       "2039100.0"
      ]
     },
     "execution_count": 81,
     "metadata": {},
     "output_type": "execute_result"
    }
   ],
   "source": [
    "revenue_ultra['revenue'].sum()"
   ]
  },
  {
   "cell_type": "markdown",
   "id": "f89a03a5",
   "metadata": {},
   "source": [
    "Мы видим, что суммарная выручка абонентов тарифа Smart больше, чем абонентов тарифа Ultra."
   ]
  },
  {
   "cell_type": "markdown",
   "id": "b86f29a3",
   "metadata": {},
   "source": [
    "## 3.2. Проверка №2"
   ]
  },
  {
   "cell_type": "markdown",
   "id": "23e3bd6c",
   "metadata": {},
   "source": [
    "Формулируем гипотезы:\n",
    "\n",
    "- Нулевая гипотеза — средняя выручка пользователей из Москвы равна выручке пользователей из других регионов.\n",
    "- Альтернативная гипотеза — средняя выручка пользователей из Москвы отличается от выручки пользователей из других регионов."
   ]
  },
  {
   "cell_type": "code",
   "execution_count": 83,
   "id": "5e3652e5",
   "metadata": {},
   "outputs": [],
   "source": [
    "moscow_revenue = data.query('city == \"Москва\"')[['revenue']].reset_index()\n",
    "\n",
    "other_city_revenue = data.query('city != \"Москва\"')[['revenue']].reset_index()"
   ]
  },
  {
   "cell_type": "code",
   "execution_count": 84,
   "id": "0bc2a420",
   "metadata": {},
   "outputs": [
    {
     "name": "stdout",
     "output_type": "stream",
     "text": [
      "p-значение: 0.2628688331864649\n",
      "Не получилось отвергнуть нулевую гипотезу\n"
     ]
    }
   ],
   "source": [
    "alpha = 0.05\n",
    "\n",
    "results = st.ttest_ind(moscow_revenue['revenue'], other_city_revenue['revenue'], equal_var=False)\n",
    "\n",
    "print('p-значение:', results.pvalue / 2)\n",
    "\n",
    "if (results.pvalue / 2 < alpha):\n",
    "    print('Отвергаем нулевую гипотезу')\n",
    "else:\n",
    "    print('Не получилось отвергнуть нулевую гипотезу')"
   ]
  },
  {
   "cell_type": "markdown",
   "id": "8d3081b2",
   "metadata": {},
   "source": [
    "Нулевая гипотеза подтверждена: средняя выручка пользователей из Москвы равна выручке пользователей из других регионов."
   ]
  },
  {
   "cell_type": "code",
   "execution_count": 85,
   "id": "11e1d107",
   "metadata": {},
   "outputs": [
    {
     "data": {
      "text/plain": [
       "1546.7135842880523"
      ]
     },
     "execution_count": 85,
     "metadata": {},
     "output_type": "execute_result"
    }
   ],
   "source": [
    "moscow_revenue['revenue'].mean()"
   ]
  },
  {
   "cell_type": "code",
   "execution_count": 86,
   "id": "29b63107",
   "metadata": {},
   "outputs": [
    {
     "data": {
      "text/plain": [
       "1524.9362274298885"
      ]
     },
     "execution_count": 86,
     "metadata": {},
     "output_type": "execute_result"
    }
   ],
   "source": [
    "other_city_revenue['revenue'].mean()"
   ]
  },
  {
   "cell_type": "markdown",
   "id": "091a1eef",
   "metadata": {},
   "source": [
    "Средняя выручка пользователей из Москвы статистически не критично отличается от средней выручки по другим городам."
   ]
  },
  {
   "cell_type": "markdown",
   "id": "4f7c8f28",
   "metadata": {},
   "source": [
    "## 3.3. Вывод"
   ]
  },
  {
   "cell_type": "markdown",
   "id": "f53eec10",
   "metadata": {},
   "source": [
    "Так как у нас не было уверенности в рандомности изначальной выборки, мы провели дополнительный рандомный отборы половины значений из имеющейся выборки клиентов.\n",
    " \n",
    "В рамках первой проверки была сформулирована нулевая гипотеза: выручка абонентов тарифа Smart равна выручке абонентов тарифа Ultra.\n",
    " \n",
    "И альтернативная гипотеза двусторонняя гипотеза: выручка абонентов тарифа Smart не равна выручке абонентов тарифа Ultra.\n",
    " \n",
    "В результате проведения t-теста Стьюдента, который был выбран, так как позволяет не фокусироваться на объеме имеющейся выборки, нулевая гипотеза была отвергнута.\n",
    " \n",
    "<!-- Построенный график прибыльности для обоих тарифов наглядно продемонстрировал, что тариф Ultra более прибыльный, несмотря на то, что превышение тарифных лимитов у него небольшое. -->\n",
    " \n",
    "В рамках второй гипотезы была сформулирована нулевая гипотеза: средняя выручка пользователей из Москвы равна выручке пользователей из других регионов.\n",
    " \n",
    "И альтернативная двусторонняя гипотеза: средняя выручка пользователей из Москвы отличается от выручки пользователей из других регионов.\n",
    " \n",
    "Проведенный t-тест не позволил отбросить нулевую гипотезу."
   ]
  },
  {
   "cell_type": "markdown",
   "id": "53219dbc",
   "metadata": {},
   "source": [
    "# 4. Общий вывод"
   ]
  },
  {
   "cell_type": "markdown",
   "id": "cc638890",
   "metadata": {},
   "source": [
    "Мы проверили и обработали данные, предоставленные на анализ, — пропусков и дубликатов не обнаружено, были исправлены типы данных и округлены значения в соответствии с подходом компании в отношении минут и интернет-трафика.\n",
    " \n",
    "Пропущенные значения в датасете были заменены на нули, так как пропуски обозначали те возможности тарифов, которые клиенты не использовали.\n",
    " \n",
    "Траты абонентов были отсортированы по месяцам, проведены расчеты ежемесячной выручки с каждого абонента.\n",
    "\n",
    "**Выводы**\n",
    "\n",
    "1. Абоненты тарифа Smart регулярно превышают лимиты тарифа, тогда как абоненты тарифа Ultra не расходуют большую часть включенных пакетов. \n",
    " \n",
    "Компании следует уделить внимание разработке дополнительных тарифов для абонентов, иначе есть риск потерять имеющихся клиентов: процент оттока с тарифа Ultra выше, чем с тарифа Smart. Клиенты, не вписывающиеся в лимиты тарифа Smart, но не нуждающиеся в больших пакетах как на тарифе Ultra, чтобы платить такую высокую абонентскую плату, ищут более выгодные предложения.\n",
    " \n",
    "Есть смысл продумать тариф, имеющий большой пакет интернета, но не увеличивающий пакеты звонков и сообщений, так как пользователи тарифа Smart не выходят за рамки этих пакетов, но с каждым месяцем все больше превышают лимит интернет-трафика.\n",
    " \n",
    "2. Гипотеза о том, что выручка абонентов тарифа Smart равна выручке абонентов тарифа Ultra, была отвергнута.\n",
    " \n",
    "Тариф Smart более прибыльный по сравнению с тарифом Ultra за счет превышения тарифных пакетов, но в долгосрочной перспективе это минус — абоненты будут искать более выгодные тарифы у конкурентов, если компания не предложит им другие варианты.\n",
    " \n",
    "3. Гипотеза о том, что средняя выручка пользователей из Москвы равна выручке пользователей из других регионов, не была отвергнута.\n",
    " \n",
    "Таким образом, нет смысла фокусироваться только на московских клиентах, рекламная кампания будет актуальна для всех регионов."
   ]
  }
 ],
 "metadata": {
  "ExecuteTimeLog": [
   {
    "duration": 2134,
    "start_time": "2022-04-20T13:05:33.378Z"
   },
   {
    "duration": 347,
    "start_time": "2022-04-20T13:05:35.524Z"
   },
   {
    "duration": 0,
    "start_time": "2022-04-20T13:05:35.883Z"
   },
   {
    "duration": 0,
    "start_time": "2022-04-20T13:05:35.884Z"
   },
   {
    "duration": 0,
    "start_time": "2022-04-20T13:05:35.887Z"
   },
   {
    "duration": 0,
    "start_time": "2022-04-20T13:05:35.889Z"
   },
   {
    "duration": 0,
    "start_time": "2022-04-20T13:05:35.892Z"
   },
   {
    "duration": 0,
    "start_time": "2022-04-20T13:05:35.894Z"
   },
   {
    "duration": 0,
    "start_time": "2022-04-20T13:05:35.896Z"
   },
   {
    "duration": 0,
    "start_time": "2022-04-20T13:05:35.897Z"
   },
   {
    "duration": 0,
    "start_time": "2022-04-20T13:05:35.900Z"
   },
   {
    "duration": 0,
    "start_time": "2022-04-20T13:05:35.902Z"
   },
   {
    "duration": 0,
    "start_time": "2022-04-20T13:05:35.904Z"
   },
   {
    "duration": 1,
    "start_time": "2022-04-20T13:05:35.906Z"
   },
   {
    "duration": 0,
    "start_time": "2022-04-20T13:05:35.915Z"
   },
   {
    "duration": 0,
    "start_time": "2022-04-20T13:05:35.917Z"
   },
   {
    "duration": 0,
    "start_time": "2022-04-20T13:05:35.919Z"
   },
   {
    "duration": 0,
    "start_time": "2022-04-20T13:05:35.921Z"
   },
   {
    "duration": 0,
    "start_time": "2022-04-20T13:05:35.924Z"
   },
   {
    "duration": 0,
    "start_time": "2022-04-20T13:05:35.927Z"
   },
   {
    "duration": 0,
    "start_time": "2022-04-20T13:05:35.928Z"
   },
   {
    "duration": 0,
    "start_time": "2022-04-20T13:05:35.929Z"
   },
   {
    "duration": 0,
    "start_time": "2022-04-20T13:05:35.956Z"
   },
   {
    "duration": 0,
    "start_time": "2022-04-20T13:05:35.968Z"
   },
   {
    "duration": 1,
    "start_time": "2022-04-20T13:05:35.969Z"
   },
   {
    "duration": 0,
    "start_time": "2022-04-20T13:05:35.971Z"
   },
   {
    "duration": 0,
    "start_time": "2022-04-20T13:05:35.973Z"
   },
   {
    "duration": 0,
    "start_time": "2022-04-20T13:05:35.980Z"
   },
   {
    "duration": 0,
    "start_time": "2022-04-20T13:05:35.982Z"
   },
   {
    "duration": 1,
    "start_time": "2022-04-20T13:05:35.983Z"
   },
   {
    "duration": 0,
    "start_time": "2022-04-20T13:05:35.985Z"
   },
   {
    "duration": 0,
    "start_time": "2022-04-20T13:05:35.987Z"
   },
   {
    "duration": 0,
    "start_time": "2022-04-20T13:05:35.989Z"
   },
   {
    "duration": 0,
    "start_time": "2022-04-20T13:05:35.990Z"
   },
   {
    "duration": 0,
    "start_time": "2022-04-20T13:05:35.992Z"
   },
   {
    "duration": 0,
    "start_time": "2022-04-20T13:05:35.994Z"
   },
   {
    "duration": 0,
    "start_time": "2022-04-20T13:05:36.004Z"
   },
   {
    "duration": 0,
    "start_time": "2022-04-20T13:05:36.006Z"
   },
   {
    "duration": 0,
    "start_time": "2022-04-20T13:05:36.007Z"
   },
   {
    "duration": 0,
    "start_time": "2022-04-20T13:05:36.008Z"
   },
   {
    "duration": 0,
    "start_time": "2022-04-20T13:05:36.010Z"
   },
   {
    "duration": 0,
    "start_time": "2022-04-20T13:05:36.011Z"
   },
   {
    "duration": 0,
    "start_time": "2022-04-20T13:05:36.018Z"
   },
   {
    "duration": 0,
    "start_time": "2022-04-20T13:05:36.020Z"
   },
   {
    "duration": 0,
    "start_time": "2022-04-20T13:05:36.021Z"
   },
   {
    "duration": 0,
    "start_time": "2022-04-20T13:05:36.022Z"
   },
   {
    "duration": 0,
    "start_time": "2022-04-20T13:05:36.023Z"
   },
   {
    "duration": 0,
    "start_time": "2022-04-20T13:05:36.025Z"
   },
   {
    "duration": 0,
    "start_time": "2022-04-20T13:05:36.029Z"
   },
   {
    "duration": 0,
    "start_time": "2022-04-20T13:05:36.032Z"
   },
   {
    "duration": 0,
    "start_time": "2022-04-20T13:05:36.034Z"
   },
   {
    "duration": 0,
    "start_time": "2022-04-20T13:05:36.036Z"
   },
   {
    "duration": 0,
    "start_time": "2022-04-20T13:05:36.040Z"
   },
   {
    "duration": 0,
    "start_time": "2022-04-20T13:05:36.041Z"
   },
   {
    "duration": 0,
    "start_time": "2022-04-20T13:05:36.042Z"
   },
   {
    "duration": 0,
    "start_time": "2022-04-20T13:05:36.054Z"
   },
   {
    "duration": 0,
    "start_time": "2022-04-20T13:05:36.055Z"
   },
   {
    "duration": 0,
    "start_time": "2022-04-20T13:05:36.064Z"
   },
   {
    "duration": 0,
    "start_time": "2022-04-20T13:05:36.065Z"
   },
   {
    "duration": 0,
    "start_time": "2022-04-20T13:05:36.066Z"
   },
   {
    "duration": 0,
    "start_time": "2022-04-20T13:05:36.067Z"
   },
   {
    "duration": 0,
    "start_time": "2022-04-20T13:05:36.073Z"
   },
   {
    "duration": 0,
    "start_time": "2022-04-20T13:05:36.076Z"
   },
   {
    "duration": 1918,
    "start_time": "2022-04-20T13:06:24.977Z"
   },
   {
    "duration": 661,
    "start_time": "2022-04-20T13:06:26.901Z"
   },
   {
    "duration": 29,
    "start_time": "2022-04-20T13:06:27.565Z"
   },
   {
    "duration": 89,
    "start_time": "2022-04-20T13:06:27.598Z"
   },
   {
    "duration": 231,
    "start_time": "2022-04-20T13:06:27.691Z"
   },
   {
    "duration": 205,
    "start_time": "2022-04-20T13:06:27.925Z"
   },
   {
    "duration": 24,
    "start_time": "2022-04-20T13:06:28.132Z"
   },
   {
    "duration": 57,
    "start_time": "2022-04-20T13:06:28.168Z"
   },
   {
    "duration": 103,
    "start_time": "2022-04-20T13:06:28.228Z"
   },
   {
    "duration": 23,
    "start_time": "2022-04-20T13:06:28.334Z"
   },
   {
    "duration": 79,
    "start_time": "2022-04-20T13:06:28.366Z"
   },
   {
    "duration": 234,
    "start_time": "2022-04-20T13:06:28.448Z"
   },
   {
    "duration": 138,
    "start_time": "2022-04-20T13:06:28.687Z"
   },
   {
    "duration": 24,
    "start_time": "2022-04-20T13:06:28.830Z"
   },
   {
    "duration": 50,
    "start_time": "2022-04-20T13:06:28.856Z"
   },
   {
    "duration": 25,
    "start_time": "2022-04-20T13:06:28.910Z"
   },
   {
    "duration": 11,
    "start_time": "2022-04-20T13:06:28.938Z"
   },
   {
    "duration": 36,
    "start_time": "2022-04-20T13:06:28.964Z"
   },
   {
    "duration": 273,
    "start_time": "2022-04-20T13:06:29.002Z"
   },
   {
    "duration": 17,
    "start_time": "2022-04-20T13:06:29.278Z"
   },
   {
    "duration": 68,
    "start_time": "2022-04-20T13:06:29.298Z"
   },
   {
    "duration": 133,
    "start_time": "2022-04-20T13:06:29.371Z"
   },
   {
    "duration": 58,
    "start_time": "2022-04-20T13:06:29.507Z"
   },
   {
    "duration": 46,
    "start_time": "2022-04-20T13:06:29.568Z"
   },
   {
    "duration": 51,
    "start_time": "2022-04-20T13:06:29.617Z"
   },
   {
    "duration": 79,
    "start_time": "2022-04-20T13:06:29.675Z"
   },
   {
    "duration": 27,
    "start_time": "2022-04-20T13:06:29.761Z"
   },
   {
    "duration": 37,
    "start_time": "2022-04-20T13:06:29.797Z"
   },
   {
    "duration": 23,
    "start_time": "2022-04-20T13:06:29.837Z"
   },
   {
    "duration": 36,
    "start_time": "2022-04-20T13:06:29.863Z"
   },
   {
    "duration": 21,
    "start_time": "2022-04-20T13:06:29.909Z"
   },
   {
    "duration": 417,
    "start_time": "2022-04-20T13:06:29.934Z"
   },
   {
    "duration": 53,
    "start_time": "2022-04-20T13:06:30.363Z"
   },
   {
    "duration": 95,
    "start_time": "2022-04-20T13:06:30.419Z"
   },
   {
    "duration": 32,
    "start_time": "2022-04-20T13:06:30.518Z"
   },
   {
    "duration": 93,
    "start_time": "2022-04-20T13:06:30.553Z"
   },
   {
    "duration": 123,
    "start_time": "2022-04-20T13:06:30.649Z"
   },
   {
    "duration": 574,
    "start_time": "2022-04-20T13:06:30.775Z"
   },
   {
    "duration": 450,
    "start_time": "2022-04-20T13:06:31.360Z"
   },
   {
    "duration": 547,
    "start_time": "2022-04-20T13:06:31.814Z"
   },
   {
    "duration": 5,
    "start_time": "2022-04-20T13:06:32.373Z"
   },
   {
    "duration": 87,
    "start_time": "2022-04-20T13:06:32.382Z"
   },
   {
    "duration": 52,
    "start_time": "2022-04-20T13:06:32.471Z"
   },
   {
    "duration": 405,
    "start_time": "2022-04-20T13:06:32.526Z"
   },
   {
    "duration": 390,
    "start_time": "2022-04-20T13:06:32.933Z"
   },
   {
    "duration": 396,
    "start_time": "2022-04-20T13:06:33.330Z"
   },
   {
    "duration": 5,
    "start_time": "2022-04-20T13:06:33.729Z"
   },
   {
    "duration": 63,
    "start_time": "2022-04-20T13:06:33.737Z"
   },
   {
    "duration": 68,
    "start_time": "2022-04-20T13:06:33.802Z"
   },
   {
    "duration": 486,
    "start_time": "2022-04-20T13:06:33.873Z"
   },
   {
    "duration": 382,
    "start_time": "2022-04-20T13:06:34.362Z"
   },
   {
    "duration": 342,
    "start_time": "2022-04-20T13:06:34.747Z"
   },
   {
    "duration": 392,
    "start_time": "2022-04-20T13:06:35.091Z"
   },
   {
    "duration": 414,
    "start_time": "2022-04-20T13:06:35.490Z"
   },
   {
    "duration": 435,
    "start_time": "2022-04-20T13:06:35.906Z"
   },
   {
    "duration": 24,
    "start_time": "2022-04-20T13:06:36.344Z"
   },
   {
    "duration": 70,
    "start_time": "2022-04-20T13:06:36.372Z"
   },
   {
    "duration": 48,
    "start_time": "2022-04-20T13:06:36.445Z"
   },
   {
    "duration": 41,
    "start_time": "2022-04-20T13:06:36.495Z"
   },
   {
    "duration": 499,
    "start_time": "2022-04-20T13:06:36.539Z"
   },
   {
    "duration": 79,
    "start_time": "2022-04-20T13:06:37.041Z"
   },
   {
    "duration": 21,
    "start_time": "2022-04-20T13:06:37.124Z"
   },
   {
    "duration": 433,
    "start_time": "2022-04-20T13:06:37.148Z"
   },
   {
    "duration": 22,
    "start_time": "2022-04-20T13:09:53.202Z"
   },
   {
    "duration": 9,
    "start_time": "2022-04-20T13:11:28.701Z"
   },
   {
    "duration": 11,
    "start_time": "2022-04-20T13:12:30.425Z"
   },
   {
    "duration": 17,
    "start_time": "2022-04-20T13:12:42.589Z"
   },
   {
    "duration": 1453,
    "start_time": "2022-04-20T14:49:17.114Z"
   },
   {
    "duration": 430,
    "start_time": "2022-04-20T14:49:18.570Z"
   },
   {
    "duration": 15,
    "start_time": "2022-04-20T14:49:19.001Z"
   },
   {
    "duration": 39,
    "start_time": "2022-04-20T14:49:19.019Z"
   },
   {
    "duration": 205,
    "start_time": "2022-04-20T14:49:19.060Z"
   },
   {
    "duration": 131,
    "start_time": "2022-04-20T14:49:19.267Z"
   },
   {
    "duration": 12,
    "start_time": "2022-04-20T14:49:19.400Z"
   },
   {
    "duration": 31,
    "start_time": "2022-04-20T14:49:19.414Z"
   },
   {
    "duration": 77,
    "start_time": "2022-04-20T14:49:19.447Z"
   },
   {
    "duration": 11,
    "start_time": "2022-04-20T14:49:19.527Z"
   },
   {
    "duration": 26,
    "start_time": "2022-04-20T14:49:19.540Z"
   },
   {
    "duration": 174,
    "start_time": "2022-04-20T14:49:19.568Z"
   },
   {
    "duration": 81,
    "start_time": "2022-04-20T14:49:19.744Z"
   },
   {
    "duration": 14,
    "start_time": "2022-04-20T14:49:19.827Z"
   },
   {
    "duration": 27,
    "start_time": "2022-04-20T14:49:19.843Z"
   },
   {
    "duration": 17,
    "start_time": "2022-04-20T14:49:19.872Z"
   },
   {
    "duration": 23,
    "start_time": "2022-04-20T14:49:19.891Z"
   },
   {
    "duration": 17,
    "start_time": "2022-04-20T14:49:19.915Z"
   },
   {
    "duration": 210,
    "start_time": "2022-04-20T14:49:19.934Z"
   },
   {
    "duration": 11,
    "start_time": "2022-04-20T14:49:20.146Z"
   },
   {
    "duration": 19,
    "start_time": "2022-04-20T14:49:25.519Z"
   },
   {
    "duration": 4,
    "start_time": "2022-04-20T14:49:58.736Z"
   },
   {
    "duration": 413,
    "start_time": "2022-04-20T14:49:58.742Z"
   },
   {
    "duration": 11,
    "start_time": "2022-04-20T14:49:59.157Z"
   },
   {
    "duration": 27,
    "start_time": "2022-04-20T14:49:59.169Z"
   },
   {
    "duration": 132,
    "start_time": "2022-04-20T14:49:59.198Z"
   },
   {
    "duration": 118,
    "start_time": "2022-04-20T14:49:59.334Z"
   },
   {
    "duration": 7,
    "start_time": "2022-04-20T14:49:59.454Z"
   },
   {
    "duration": 30,
    "start_time": "2022-04-20T14:49:59.463Z"
   },
   {
    "duration": 68,
    "start_time": "2022-04-20T14:49:59.507Z"
   },
   {
    "duration": 9,
    "start_time": "2022-04-20T14:49:59.576Z"
   },
   {
    "duration": 54,
    "start_time": "2022-04-20T14:49:59.588Z"
   },
   {
    "duration": 137,
    "start_time": "2022-04-20T14:49:59.644Z"
   },
   {
    "duration": 77,
    "start_time": "2022-04-20T14:49:59.783Z"
   },
   {
    "duration": 10,
    "start_time": "2022-04-20T14:49:59.862Z"
   },
   {
    "duration": 12,
    "start_time": "2022-04-20T14:49:59.873Z"
   },
   {
    "duration": 16,
    "start_time": "2022-04-20T14:49:59.907Z"
   },
   {
    "duration": 7,
    "start_time": "2022-04-20T14:49:59.925Z"
   },
   {
    "duration": 12,
    "start_time": "2022-04-20T14:49:59.934Z"
   },
   {
    "duration": 182,
    "start_time": "2022-04-20T14:49:59.948Z"
   },
   {
    "duration": 15,
    "start_time": "2022-04-20T14:50:00.132Z"
   },
   {
    "duration": 3,
    "start_time": "2022-04-20T14:50:27.950Z"
   },
   {
    "duration": 91,
    "start_time": "2022-04-20T14:50:32.202Z"
   },
   {
    "duration": 39,
    "start_time": "2022-04-20T14:50:42.266Z"
   },
   {
    "duration": 27,
    "start_time": "2022-04-20T14:50:48.616Z"
   },
   {
    "duration": 32,
    "start_time": "2022-04-20T14:50:56.068Z"
   },
   {
    "duration": 31,
    "start_time": "2022-04-20T14:51:07.740Z"
   },
   {
    "duration": 12,
    "start_time": "2022-04-20T14:51:20.388Z"
   },
   {
    "duration": 6,
    "start_time": "2022-04-20T14:51:25.455Z"
   },
   {
    "duration": 16,
    "start_time": "2022-04-20T14:51:54.518Z"
   },
   {
    "duration": 4,
    "start_time": "2022-04-20T14:52:25.397Z"
   },
   {
    "duration": 395,
    "start_time": "2022-04-20T14:52:25.403Z"
   },
   {
    "duration": 8,
    "start_time": "2022-04-20T14:52:25.800Z"
   },
   {
    "duration": 35,
    "start_time": "2022-04-20T14:52:25.810Z"
   },
   {
    "duration": 129,
    "start_time": "2022-04-20T14:52:25.847Z"
   },
   {
    "duration": 105,
    "start_time": "2022-04-20T14:52:25.978Z"
   },
   {
    "duration": 9,
    "start_time": "2022-04-20T14:52:26.084Z"
   },
   {
    "duration": 41,
    "start_time": "2022-04-20T14:52:26.095Z"
   },
   {
    "duration": 51,
    "start_time": "2022-04-20T14:52:26.138Z"
   },
   {
    "duration": 26,
    "start_time": "2022-04-20T14:52:26.191Z"
   },
   {
    "duration": 35,
    "start_time": "2022-04-20T14:52:26.221Z"
   },
   {
    "duration": 141,
    "start_time": "2022-04-20T14:52:26.258Z"
   },
   {
    "duration": 73,
    "start_time": "2022-04-20T14:52:26.400Z"
   },
   {
    "duration": 10,
    "start_time": "2022-04-20T14:52:26.475Z"
   },
   {
    "duration": 36,
    "start_time": "2022-04-20T14:52:26.486Z"
   },
   {
    "duration": 7,
    "start_time": "2022-04-20T14:52:26.524Z"
   },
   {
    "duration": 9,
    "start_time": "2022-04-20T14:52:26.533Z"
   },
   {
    "duration": 10,
    "start_time": "2022-04-20T14:52:26.543Z"
   },
   {
    "duration": 148,
    "start_time": "2022-04-20T14:52:26.555Z"
   },
   {
    "duration": 12,
    "start_time": "2022-04-20T14:52:26.707Z"
   },
   {
    "duration": 3,
    "start_time": "2022-04-20T14:52:26.721Z"
   },
   {
    "duration": 94,
    "start_time": "2022-04-20T14:52:26.727Z"
   },
   {
    "duration": 35,
    "start_time": "2022-04-20T14:52:26.823Z"
   },
   {
    "duration": 26,
    "start_time": "2022-04-20T14:52:26.860Z"
   },
   {
    "duration": 43,
    "start_time": "2022-04-20T14:52:26.889Z"
   },
   {
    "duration": 29,
    "start_time": "2022-04-20T14:52:26.934Z"
   },
   {
    "duration": 11,
    "start_time": "2022-04-20T14:52:26.964Z"
   },
   {
    "duration": 5,
    "start_time": "2022-04-20T14:52:26.977Z"
   },
   {
    "duration": 21,
    "start_time": "2022-04-20T14:53:00.809Z"
   },
   {
    "duration": 8,
    "start_time": "2022-04-20T15:04:30.458Z"
   },
   {
    "duration": 9,
    "start_time": "2022-04-20T15:05:22.411Z"
   },
   {
    "duration": 186,
    "start_time": "2022-04-20T15:05:24.985Z"
   },
   {
    "duration": 6,
    "start_time": "2022-04-20T15:05:54.360Z"
   },
   {
    "duration": 172,
    "start_time": "2022-04-20T15:05:55.640Z"
   },
   {
    "duration": 17,
    "start_time": "2022-04-20T15:07:51.862Z"
   },
   {
    "duration": 23,
    "start_time": "2022-04-20T15:14:17.563Z"
   },
   {
    "duration": 18,
    "start_time": "2022-04-20T15:14:22.903Z"
   },
   {
    "duration": 7,
    "start_time": "2022-04-20T15:14:25.863Z"
   },
   {
    "duration": 22,
    "start_time": "2022-04-20T15:27:07.938Z"
   },
   {
    "duration": 6,
    "start_time": "2022-04-20T15:27:50.427Z"
   },
   {
    "duration": 19649,
    "start_time": "2022-04-20T15:27:57.089Z"
   },
   {
    "duration": 3,
    "start_time": "2022-04-20T15:46:07.113Z"
   },
   {
    "duration": 3,
    "start_time": "2022-04-20T15:46:15.224Z"
   },
   {
    "duration": 30,
    "start_time": "2022-04-20T15:47:04.520Z"
   },
   {
    "duration": 14,
    "start_time": "2022-04-20T15:49:54.239Z"
   },
   {
    "duration": 28,
    "start_time": "2022-04-20T15:50:13.444Z"
   },
   {
    "duration": 15,
    "start_time": "2022-04-20T15:55:56.329Z"
   },
   {
    "duration": 27,
    "start_time": "2022-04-20T15:56:11.364Z"
   },
   {
    "duration": 119,
    "start_time": "2022-04-20T16:12:18.385Z"
   },
   {
    "duration": 24,
    "start_time": "2022-04-20T16:12:32.255Z"
   },
   {
    "duration": 223,
    "start_time": "2022-04-20T16:26:51.129Z"
   },
   {
    "duration": 225,
    "start_time": "2022-04-20T16:50:05.050Z"
   },
   {
    "duration": 2,
    "start_time": "2022-04-20T17:10:00.148Z"
   },
   {
    "duration": 672,
    "start_time": "2022-04-20T17:43:53.681Z"
   },
   {
    "duration": 6,
    "start_time": "2022-04-20T18:16:21.091Z"
   },
   {
    "duration": 5,
    "start_time": "2022-04-20T18:16:23.584Z"
   },
   {
    "duration": 4,
    "start_time": "2022-04-20T18:18:24.632Z"
   },
   {
    "duration": 3,
    "start_time": "2022-04-20T18:18:26.053Z"
   },
   {
    "duration": 554,
    "start_time": "2022-04-20T18:22:09.538Z"
   },
   {
    "duration": 9,
    "start_time": "2022-04-20T18:22:22.141Z"
   },
   {
    "duration": 1082,
    "start_time": "2022-04-20T18:22:31.974Z"
   },
   {
    "duration": 16,
    "start_time": "2022-04-20T18:22:50.788Z"
   },
   {
    "duration": 18,
    "start_time": "2022-04-20T18:23:04.253Z"
   },
   {
    "duration": 3,
    "start_time": "2022-04-20T18:35:00.576Z"
   },
   {
    "duration": 2,
    "start_time": "2022-04-20T18:37:05.182Z"
   },
   {
    "duration": 8,
    "start_time": "2022-04-20T18:37:53.706Z"
   },
   {
    "duration": 12,
    "start_time": "2022-04-20T18:37:59.337Z"
   },
   {
    "duration": 12,
    "start_time": "2022-04-20T18:38:12.632Z"
   },
   {
    "duration": 13,
    "start_time": "2022-04-20T18:38:41.658Z"
   },
   {
    "duration": 4,
    "start_time": "2022-04-20T18:39:40.974Z"
   },
   {
    "duration": 13,
    "start_time": "2022-04-20T18:39:42.398Z"
   },
   {
    "duration": 4,
    "start_time": "2022-04-20T18:39:44.102Z"
   },
   {
    "duration": 214,
    "start_time": "2022-04-20T18:40:17.575Z"
   },
   {
    "duration": 10,
    "start_time": "2022-04-20T18:46:29.702Z"
   },
   {
    "duration": 19,
    "start_time": "2022-04-20T18:46:41.712Z"
   },
   {
    "duration": 2,
    "start_time": "2022-04-20T18:49:12.883Z"
   },
   {
    "duration": 3,
    "start_time": "2022-04-20T18:49:21.695Z"
   },
   {
    "duration": 13,
    "start_time": "2022-04-20T18:49:51.667Z"
   },
   {
    "duration": 5,
    "start_time": "2022-04-20T18:51:05.059Z"
   },
   {
    "duration": 5,
    "start_time": "2022-04-20T18:51:07.253Z"
   },
   {
    "duration": 4,
    "start_time": "2022-04-20T18:51:36.500Z"
   },
   {
    "duration": 11,
    "start_time": "2022-04-20T18:51:37.193Z"
   },
   {
    "duration": 4,
    "start_time": "2022-04-20T18:51:41.498Z"
   },
   {
    "duration": 191,
    "start_time": "2022-04-20T18:52:13.311Z"
   },
   {
    "duration": 4,
    "start_time": "2022-04-20T18:53:41.840Z"
   },
   {
    "duration": 385,
    "start_time": "2022-04-20T18:53:41.846Z"
   },
   {
    "duration": 9,
    "start_time": "2022-04-20T18:53:42.232Z"
   },
   {
    "duration": 29,
    "start_time": "2022-04-20T18:53:42.242Z"
   },
   {
    "duration": 118,
    "start_time": "2022-04-20T18:53:42.273Z"
   },
   {
    "duration": 115,
    "start_time": "2022-04-20T18:53:42.393Z"
   },
   {
    "duration": 7,
    "start_time": "2022-04-20T18:53:42.510Z"
   },
   {
    "duration": 21,
    "start_time": "2022-04-20T18:53:42.519Z"
   },
   {
    "duration": 66,
    "start_time": "2022-04-20T18:53:42.542Z"
   },
   {
    "duration": 9,
    "start_time": "2022-04-20T18:53:42.610Z"
   },
   {
    "duration": 21,
    "start_time": "2022-04-20T18:53:42.622Z"
   },
   {
    "duration": 132,
    "start_time": "2022-04-20T18:53:42.645Z"
   },
   {
    "duration": 71,
    "start_time": "2022-04-20T18:53:42.778Z"
   },
   {
    "duration": 9,
    "start_time": "2022-04-20T18:53:42.850Z"
   },
   {
    "duration": 15,
    "start_time": "2022-04-20T18:53:42.860Z"
   },
   {
    "duration": 8,
    "start_time": "2022-04-20T18:53:42.877Z"
   },
   {
    "duration": 22,
    "start_time": "2022-04-20T18:53:42.886Z"
   },
   {
    "duration": 15,
    "start_time": "2022-04-20T18:53:42.910Z"
   },
   {
    "duration": 128,
    "start_time": "2022-04-20T18:53:42.927Z"
   },
   {
    "duration": 10,
    "start_time": "2022-04-20T18:53:43.056Z"
   },
   {
    "duration": 3,
    "start_time": "2022-04-20T18:53:43.067Z"
   },
   {
    "duration": 87,
    "start_time": "2022-04-20T18:53:43.072Z"
   },
   {
    "duration": 20,
    "start_time": "2022-04-20T18:53:43.160Z"
   },
   {
    "duration": 33,
    "start_time": "2022-04-20T18:53:43.182Z"
   },
   {
    "duration": 19,
    "start_time": "2022-04-20T18:53:43.216Z"
   },
   {
    "duration": 27,
    "start_time": "2022-04-20T18:53:43.237Z"
   },
   {
    "duration": 11,
    "start_time": "2022-04-20T18:53:43.265Z"
   },
   {
    "duration": 34,
    "start_time": "2022-04-20T18:53:43.277Z"
   },
   {
    "duration": 16,
    "start_time": "2022-04-20T18:53:43.315Z"
   },
   {
    "duration": 8,
    "start_time": "2022-04-20T18:53:43.332Z"
   },
   {
    "duration": 6,
    "start_time": "2022-04-20T18:53:43.341Z"
   },
   {
    "duration": 177,
    "start_time": "2022-04-20T18:53:43.349Z"
   },
   {
    "duration": 2,
    "start_time": "2022-04-20T18:53:43.528Z"
   },
   {
    "duration": 22,
    "start_time": "2022-04-20T18:53:43.532Z"
   },
   {
    "duration": 12,
    "start_time": "2022-04-20T18:53:43.556Z"
   },
   {
    "duration": 4,
    "start_time": "2022-04-20T18:53:43.569Z"
   },
   {
    "duration": 42,
    "start_time": "2022-04-20T18:53:43.575Z"
   },
   {
    "duration": 12,
    "start_time": "2022-04-20T18:53:43.619Z"
   },
   {
    "duration": 6,
    "start_time": "2022-04-20T18:53:43.632Z"
   },
   {
    "duration": 15,
    "start_time": "2022-04-20T18:53:43.639Z"
   },
   {
    "duration": 11,
    "start_time": "2022-04-20T18:53:43.655Z"
   },
   {
    "duration": 5,
    "start_time": "2022-04-20T18:53:43.668Z"
   },
   {
    "duration": 194,
    "start_time": "2022-04-20T18:53:43.707Z"
   },
   {
    "duration": 3,
    "start_time": "2022-04-20T18:53:43.906Z"
   },
   {
    "duration": 5,
    "start_time": "2022-04-20T18:53:43.910Z"
   },
   {
    "duration": 4,
    "start_time": "2022-04-20T18:53:43.916Z"
   },
   {
    "duration": 5,
    "start_time": "2022-04-20T18:53:43.922Z"
   },
   {
    "duration": 4,
    "start_time": "2022-04-20T18:53:43.928Z"
   },
   {
    "duration": 13,
    "start_time": "2022-04-20T18:53:43.934Z"
   },
   {
    "duration": 4,
    "start_time": "2022-04-20T18:53:43.948Z"
   },
   {
    "duration": 54,
    "start_time": "2022-04-20T18:53:43.953Z"
   },
   {
    "duration": 4,
    "start_time": "2022-04-20T18:53:44.009Z"
   },
   {
    "duration": 214,
    "start_time": "2022-04-20T18:53:44.014Z"
   },
   {
    "duration": 2,
    "start_time": "2022-04-20T18:53:44.230Z"
   },
   {
    "duration": 5,
    "start_time": "2022-04-20T18:53:44.233Z"
   },
   {
    "duration": 15,
    "start_time": "2022-04-20T18:53:44.239Z"
   },
   {
    "duration": 4,
    "start_time": "2022-04-20T18:53:44.255Z"
   },
   {
    "duration": 12,
    "start_time": "2022-04-20T18:53:44.261Z"
   },
   {
    "duration": 34,
    "start_time": "2022-04-20T18:53:44.275Z"
   },
   {
    "duration": 198,
    "start_time": "2022-04-20T18:53:44.311Z"
   },
   {
    "duration": 215,
    "start_time": "2022-04-20T18:53:50.495Z"
   },
   {
    "duration": 192,
    "start_time": "2022-04-20T18:57:26.640Z"
   },
   {
    "duration": 8,
    "start_time": "2022-04-20T19:09:11.383Z"
   },
   {
    "duration": 21,
    "start_time": "2022-04-20T19:09:15.021Z"
   },
   {
    "duration": 7,
    "start_time": "2022-04-20T19:09:16.356Z"
   },
   {
    "duration": 11,
    "start_time": "2022-04-20T19:11:34.819Z"
   },
   {
    "duration": 20,
    "start_time": "2022-04-20T19:11:52.103Z"
   },
   {
    "duration": 11,
    "start_time": "2022-04-20T19:12:21.789Z"
   },
   {
    "duration": 5,
    "start_time": "2022-04-20T19:12:23.513Z"
   },
   {
    "duration": 3,
    "start_time": "2022-04-20T19:12:40.222Z"
   },
   {
    "duration": 17469,
    "start_time": "2022-04-20T19:13:12.557Z"
   },
   {
    "duration": 3,
    "start_time": "2022-04-20T19:13:45.862Z"
   },
   {
    "duration": 11,
    "start_time": "2022-04-20T19:15:11.315Z"
   },
   {
    "duration": 5,
    "start_time": "2022-04-20T19:15:13.321Z"
   },
   {
    "duration": 1144,
    "start_time": "2022-04-20T19:15:17.944Z"
   },
   {
    "duration": 20,
    "start_time": "2022-04-20T19:16:10.676Z"
   },
   {
    "duration": 2,
    "start_time": "2022-04-20T19:18:19.910Z"
   },
   {
    "duration": 7,
    "start_time": "2022-04-20T19:28:22.440Z"
   },
   {
    "duration": 8,
    "start_time": "2022-04-20T19:28:30.768Z"
   },
   {
    "duration": 6,
    "start_time": "2022-04-20T19:28:31.788Z"
   },
   {
    "duration": 6,
    "start_time": "2022-04-20T19:28:34.594Z"
   },
   {
    "duration": 15,
    "start_time": "2022-04-20T19:28:49.862Z"
   },
   {
    "duration": 5,
    "start_time": "2022-04-20T19:28:58.170Z"
   },
   {
    "duration": 11,
    "start_time": "2022-04-20T19:29:03.646Z"
   },
   {
    "duration": 5,
    "start_time": "2022-04-20T19:29:14.854Z"
   },
   {
    "duration": 4,
    "start_time": "2022-04-20T19:30:39.288Z"
   },
   {
    "duration": 5,
    "start_time": "2022-04-20T19:30:55.273Z"
   },
   {
    "duration": 5,
    "start_time": "2022-04-20T19:31:37.139Z"
   },
   {
    "duration": 4,
    "start_time": "2022-04-20T19:31:39.140Z"
   },
   {
    "duration": 1146,
    "start_time": "2022-04-20T19:37:59.387Z"
   },
   {
    "duration": 360,
    "start_time": "2022-04-20T19:38:00.535Z"
   },
   {
    "duration": 12,
    "start_time": "2022-04-20T19:38:00.897Z"
   },
   {
    "duration": 36,
    "start_time": "2022-04-20T19:38:00.911Z"
   },
   {
    "duration": 122,
    "start_time": "2022-04-20T19:38:00.948Z"
   },
   {
    "duration": 115,
    "start_time": "2022-04-20T19:38:01.072Z"
   },
   {
    "duration": 9,
    "start_time": "2022-04-20T19:38:01.189Z"
   },
   {
    "duration": 26,
    "start_time": "2022-04-20T19:38:01.208Z"
   },
   {
    "duration": 49,
    "start_time": "2022-04-20T19:38:01.236Z"
   },
   {
    "duration": 20,
    "start_time": "2022-04-20T19:38:01.289Z"
   },
   {
    "duration": 25,
    "start_time": "2022-04-20T19:38:01.310Z"
   },
   {
    "duration": 120,
    "start_time": "2022-04-20T19:38:01.336Z"
   },
   {
    "duration": 73,
    "start_time": "2022-04-20T19:38:01.457Z"
   },
   {
    "duration": 9,
    "start_time": "2022-04-20T19:38:01.531Z"
   },
   {
    "duration": 15,
    "start_time": "2022-04-20T19:38:01.542Z"
   },
   {
    "duration": 12,
    "start_time": "2022-04-20T19:38:01.559Z"
   },
   {
    "duration": 16,
    "start_time": "2022-04-20T19:38:01.572Z"
   },
   {
    "duration": 22,
    "start_time": "2022-04-20T19:38:01.589Z"
   },
   {
    "duration": 122,
    "start_time": "2022-04-20T19:38:01.613Z"
   },
   {
    "duration": 9,
    "start_time": "2022-04-20T19:38:01.737Z"
   },
   {
    "duration": 3,
    "start_time": "2022-04-20T19:38:01.747Z"
   },
   {
    "duration": 75,
    "start_time": "2022-04-20T19:38:01.751Z"
   },
   {
    "duration": 27,
    "start_time": "2022-04-20T19:38:01.827Z"
   },
   {
    "duration": 18,
    "start_time": "2022-04-20T19:38:01.855Z"
   },
   {
    "duration": 46,
    "start_time": "2022-04-20T19:38:01.875Z"
   },
   {
    "duration": 27,
    "start_time": "2022-04-20T19:38:01.923Z"
   },
   {
    "duration": 10,
    "start_time": "2022-04-20T19:38:01.952Z"
   },
   {
    "duration": 5,
    "start_time": "2022-04-20T19:38:01.966Z"
   },
   {
    "duration": 43,
    "start_time": "2022-04-20T19:38:01.972Z"
   },
   {
    "duration": 6,
    "start_time": "2022-04-20T19:38:02.017Z"
   },
   {
    "duration": 5,
    "start_time": "2022-04-20T19:38:02.025Z"
   },
   {
    "duration": 166,
    "start_time": "2022-04-20T19:38:02.031Z"
   },
   {
    "duration": 25,
    "start_time": "2022-04-20T19:38:02.199Z"
   },
   {
    "duration": 12,
    "start_time": "2022-04-20T19:38:02.226Z"
   },
   {
    "duration": 7,
    "start_time": "2022-04-20T19:38:02.239Z"
   },
   {
    "duration": 21,
    "start_time": "2022-04-20T19:38:02.248Z"
   },
   {
    "duration": 41,
    "start_time": "2022-04-20T19:38:02.271Z"
   },
   {
    "duration": 5,
    "start_time": "2022-04-20T19:38:02.313Z"
   },
   {
    "duration": 15,
    "start_time": "2022-04-20T19:38:02.320Z"
   },
   {
    "duration": 11,
    "start_time": "2022-04-20T19:38:02.337Z"
   },
   {
    "duration": 5,
    "start_time": "2022-04-20T19:38:02.349Z"
   },
   {
    "duration": 219,
    "start_time": "2022-04-20T19:38:02.356Z"
   },
   {
    "duration": 3,
    "start_time": "2022-04-20T19:38:02.576Z"
   },
   {
    "duration": 5,
    "start_time": "2022-04-20T19:38:02.580Z"
   },
   {
    "duration": 5,
    "start_time": "2022-04-20T19:38:02.586Z"
   },
   {
    "duration": 15,
    "start_time": "2022-04-20T19:38:02.593Z"
   },
   {
    "duration": 3,
    "start_time": "2022-04-20T19:38:02.610Z"
   },
   {
    "duration": 13,
    "start_time": "2022-04-20T19:38:02.615Z"
   },
   {
    "duration": 5,
    "start_time": "2022-04-20T19:38:02.629Z"
   },
   {
    "duration": 12,
    "start_time": "2022-04-20T19:38:02.635Z"
   },
   {
    "duration": 5,
    "start_time": "2022-04-20T19:38:02.649Z"
   },
   {
    "duration": 228,
    "start_time": "2022-04-20T19:38:02.656Z"
   },
   {
    "duration": 3,
    "start_time": "2022-04-20T19:38:02.885Z"
   },
   {
    "duration": 5,
    "start_time": "2022-04-20T19:38:02.889Z"
   },
   {
    "duration": 20,
    "start_time": "2022-04-20T19:38:02.896Z"
   },
   {
    "duration": 4,
    "start_time": "2022-04-20T19:38:02.917Z"
   },
   {
    "duration": 11,
    "start_time": "2022-04-20T19:38:02.923Z"
   },
   {
    "duration": 5,
    "start_time": "2022-04-20T19:38:02.936Z"
   },
   {
    "duration": 229,
    "start_time": "2022-04-20T19:38:02.942Z"
   },
   {
    "duration": 2,
    "start_time": "2022-04-20T19:38:03.173Z"
   },
   {
    "duration": 5,
    "start_time": "2022-04-20T19:38:03.177Z"
   },
   {
    "duration": 9,
    "start_time": "2022-04-20T19:38:03.183Z"
   },
   {
    "duration": 7,
    "start_time": "2022-04-20T19:38:03.193Z"
   },
   {
    "duration": 3,
    "start_time": "2022-04-20T19:38:03.207Z"
   },
   {
    "duration": 4,
    "start_time": "2022-04-20T19:38:03.212Z"
   },
   {
    "duration": 4,
    "start_time": "2022-04-20T19:38:03.218Z"
   },
   {
    "duration": 4,
    "start_time": "2022-04-20T19:38:03.224Z"
   },
   {
    "duration": 6,
    "start_time": "2022-04-20T19:38:03.230Z"
   },
   {
    "duration": 4,
    "start_time": "2022-04-20T19:38:03.239Z"
   },
   {
    "duration": 7,
    "start_time": "2022-04-20T19:38:03.245Z"
   },
   {
    "duration": 7,
    "start_time": "2022-04-20T19:38:03.255Z"
   },
   {
    "duration": 6,
    "start_time": "2022-04-20T19:38:03.264Z"
   },
   {
    "duration": 5,
    "start_time": "2022-04-20T19:38:03.272Z"
   },
   {
    "duration": 29,
    "start_time": "2022-04-20T19:38:03.279Z"
   },
   {
    "duration": 16,
    "start_time": "2022-04-20T19:38:03.311Z"
   },
   {
    "duration": 10,
    "start_time": "2022-04-20T19:38:03.329Z"
   },
   {
    "duration": 11,
    "start_time": "2022-04-20T19:38:03.340Z"
   },
   {
    "duration": 5,
    "start_time": "2022-04-20T19:38:03.353Z"
   },
   {
    "duration": 5,
    "start_time": "2022-04-20T19:38:03.360Z"
   },
   {
    "duration": 5,
    "start_time": "2022-04-20T19:38:03.407Z"
   },
   {
    "duration": 6,
    "start_time": "2022-04-20T19:38:03.413Z"
   },
   {
    "duration": 10,
    "start_time": "2022-04-20T19:38:03.424Z"
   },
   {
    "duration": 5,
    "start_time": "2022-04-20T19:38:03.436Z"
   },
   {
    "duration": 7,
    "start_time": "2022-04-20T19:38:03.443Z"
   },
   {
    "duration": 5,
    "start_time": "2022-04-20T19:38:03.452Z"
   },
   {
    "duration": 4,
    "start_time": "2022-04-20T19:38:03.458Z"
   },
   {
    "duration": 51,
    "start_time": "2022-04-21T09:19:33.439Z"
   },
   {
    "duration": 1302,
    "start_time": "2022-04-21T09:19:42.369Z"
   },
   {
    "duration": 384,
    "start_time": "2022-04-21T09:19:43.673Z"
   },
   {
    "duration": 14,
    "start_time": "2022-04-21T09:19:44.058Z"
   },
   {
    "duration": 32,
    "start_time": "2022-04-21T09:19:44.074Z"
   },
   {
    "duration": 139,
    "start_time": "2022-04-21T09:19:44.107Z"
   },
   {
    "duration": 116,
    "start_time": "2022-04-21T09:19:44.248Z"
   },
   {
    "duration": 8,
    "start_time": "2022-04-21T09:19:44.365Z"
   },
   {
    "duration": 37,
    "start_time": "2022-04-21T09:19:44.375Z"
   },
   {
    "duration": 55,
    "start_time": "2022-04-21T09:19:44.414Z"
   },
   {
    "duration": 9,
    "start_time": "2022-04-21T09:19:44.472Z"
   },
   {
    "duration": 29,
    "start_time": "2022-04-21T09:19:44.493Z"
   },
   {
    "duration": 130,
    "start_time": "2022-04-21T09:19:44.524Z"
   },
   {
    "duration": 80,
    "start_time": "2022-04-21T09:19:44.656Z"
   },
   {
    "duration": 10,
    "start_time": "2022-04-21T09:19:44.738Z"
   },
   {
    "duration": 20,
    "start_time": "2022-04-21T09:19:44.750Z"
   },
   {
    "duration": 30,
    "start_time": "2022-04-21T09:19:44.773Z"
   },
   {
    "duration": 24,
    "start_time": "2022-04-21T09:19:44.805Z"
   },
   {
    "duration": 18,
    "start_time": "2022-04-21T09:19:44.831Z"
   },
   {
    "duration": 154,
    "start_time": "2022-04-21T09:19:44.850Z"
   },
   {
    "duration": 10,
    "start_time": "2022-04-21T09:19:45.006Z"
   },
   {
    "duration": 20,
    "start_time": "2022-04-21T09:19:45.018Z"
   },
   {
    "duration": 96,
    "start_time": "2022-04-21T09:19:45.040Z"
   },
   {
    "duration": 31,
    "start_time": "2022-04-21T09:19:45.137Z"
   },
   {
    "duration": 34,
    "start_time": "2022-04-21T09:19:45.170Z"
   },
   {
    "duration": 32,
    "start_time": "2022-04-21T09:19:45.207Z"
   },
   {
    "duration": 61,
    "start_time": "2022-04-21T09:19:45.241Z"
   },
   {
    "duration": 15,
    "start_time": "2022-04-21T09:19:45.304Z"
   },
   {
    "duration": 16,
    "start_time": "2022-04-21T09:19:45.325Z"
   },
   {
    "duration": 40,
    "start_time": "2022-04-21T09:19:45.342Z"
   },
   {
    "duration": 10,
    "start_time": "2022-04-21T09:19:45.385Z"
   },
   {
    "duration": 19,
    "start_time": "2022-04-21T09:19:45.397Z"
   },
   {
    "duration": 169,
    "start_time": "2022-04-21T09:19:45.418Z"
   },
   {
    "duration": 112,
    "start_time": "2022-04-21T09:19:45.588Z"
   },
   {
    "duration": 1,
    "start_time": "2022-04-21T09:19:45.701Z"
   },
   {
    "duration": 0,
    "start_time": "2022-04-21T09:19:45.703Z"
   },
   {
    "duration": 0,
    "start_time": "2022-04-21T09:19:45.704Z"
   },
   {
    "duration": 0,
    "start_time": "2022-04-21T09:19:45.705Z"
   },
   {
    "duration": 0,
    "start_time": "2022-04-21T09:19:45.706Z"
   },
   {
    "duration": 0,
    "start_time": "2022-04-21T09:19:45.707Z"
   },
   {
    "duration": 0,
    "start_time": "2022-04-21T09:19:45.708Z"
   },
   {
    "duration": 0,
    "start_time": "2022-04-21T09:19:45.709Z"
   },
   {
    "duration": 0,
    "start_time": "2022-04-21T09:19:45.710Z"
   },
   {
    "duration": 0,
    "start_time": "2022-04-21T09:19:45.711Z"
   },
   {
    "duration": 0,
    "start_time": "2022-04-21T09:19:45.712Z"
   },
   {
    "duration": 0,
    "start_time": "2022-04-21T09:19:45.713Z"
   },
   {
    "duration": 0,
    "start_time": "2022-04-21T09:19:45.714Z"
   },
   {
    "duration": 0,
    "start_time": "2022-04-21T09:19:45.715Z"
   },
   {
    "duration": 0,
    "start_time": "2022-04-21T09:19:45.716Z"
   },
   {
    "duration": 0,
    "start_time": "2022-04-21T09:19:45.717Z"
   },
   {
    "duration": 0,
    "start_time": "2022-04-21T09:19:45.718Z"
   },
   {
    "duration": 0,
    "start_time": "2022-04-21T09:19:45.719Z"
   },
   {
    "duration": 0,
    "start_time": "2022-04-21T09:19:45.720Z"
   },
   {
    "duration": 0,
    "start_time": "2022-04-21T09:19:45.721Z"
   },
   {
    "duration": 0,
    "start_time": "2022-04-21T09:19:45.722Z"
   },
   {
    "duration": 0,
    "start_time": "2022-04-21T09:19:45.723Z"
   },
   {
    "duration": 0,
    "start_time": "2022-04-21T09:19:45.724Z"
   },
   {
    "duration": 0,
    "start_time": "2022-04-21T09:19:45.725Z"
   },
   {
    "duration": 0,
    "start_time": "2022-04-21T09:19:45.726Z"
   },
   {
    "duration": 0,
    "start_time": "2022-04-21T09:19:45.727Z"
   },
   {
    "duration": 0,
    "start_time": "2022-04-21T09:19:45.728Z"
   },
   {
    "duration": 0,
    "start_time": "2022-04-21T09:19:45.729Z"
   },
   {
    "duration": 0,
    "start_time": "2022-04-21T09:19:45.730Z"
   },
   {
    "duration": 0,
    "start_time": "2022-04-21T09:19:45.731Z"
   },
   {
    "duration": 0,
    "start_time": "2022-04-21T09:19:45.732Z"
   },
   {
    "duration": 0,
    "start_time": "2022-04-21T09:19:45.733Z"
   },
   {
    "duration": 0,
    "start_time": "2022-04-21T09:19:45.734Z"
   },
   {
    "duration": 0,
    "start_time": "2022-04-21T09:19:45.735Z"
   },
   {
    "duration": 0,
    "start_time": "2022-04-21T09:19:45.736Z"
   },
   {
    "duration": 0,
    "start_time": "2022-04-21T09:19:45.792Z"
   },
   {
    "duration": 1,
    "start_time": "2022-04-21T09:19:45.793Z"
   },
   {
    "duration": 0,
    "start_time": "2022-04-21T09:19:45.795Z"
   },
   {
    "duration": 0,
    "start_time": "2022-04-21T09:19:45.796Z"
   },
   {
    "duration": 0,
    "start_time": "2022-04-21T09:19:45.796Z"
   },
   {
    "duration": 0,
    "start_time": "2022-04-21T09:19:45.797Z"
   },
   {
    "duration": 0,
    "start_time": "2022-04-21T09:19:45.798Z"
   },
   {
    "duration": 0,
    "start_time": "2022-04-21T09:19:45.799Z"
   },
   {
    "duration": 0,
    "start_time": "2022-04-21T09:19:45.800Z"
   },
   {
    "duration": 0,
    "start_time": "2022-04-21T09:19:45.802Z"
   },
   {
    "duration": 0,
    "start_time": "2022-04-21T09:19:45.803Z"
   },
   {
    "duration": 0,
    "start_time": "2022-04-21T09:19:45.804Z"
   },
   {
    "duration": 0,
    "start_time": "2022-04-21T09:19:45.805Z"
   },
   {
    "duration": 0,
    "start_time": "2022-04-21T09:19:45.806Z"
   },
   {
    "duration": 0,
    "start_time": "2022-04-21T09:19:45.807Z"
   },
   {
    "duration": 0,
    "start_time": "2022-04-21T09:19:45.808Z"
   },
   {
    "duration": 0,
    "start_time": "2022-04-21T09:19:45.810Z"
   },
   {
    "duration": 0,
    "start_time": "2022-04-21T09:19:45.811Z"
   },
   {
    "duration": 0,
    "start_time": "2022-04-21T09:19:45.812Z"
   },
   {
    "duration": 0,
    "start_time": "2022-04-21T09:19:45.813Z"
   },
   {
    "duration": 15,
    "start_time": "2022-04-21T09:19:54.064Z"
   },
   {
    "duration": 15,
    "start_time": "2022-04-21T09:19:58.585Z"
   },
   {
    "duration": 22,
    "start_time": "2022-04-21T09:19:58.603Z"
   },
   {
    "duration": 12,
    "start_time": "2022-04-21T09:19:58.626Z"
   },
   {
    "duration": 9,
    "start_time": "2022-04-21T09:19:58.641Z"
   },
   {
    "duration": 56,
    "start_time": "2022-04-21T09:19:58.652Z"
   },
   {
    "duration": 14,
    "start_time": "2022-04-21T09:19:58.710Z"
   },
   {
    "duration": 5,
    "start_time": "2022-04-21T09:19:58.725Z"
   },
   {
    "duration": 18,
    "start_time": "2022-04-21T09:19:58.731Z"
   },
   {
    "duration": 52,
    "start_time": "2022-04-21T09:19:58.751Z"
   },
   {
    "duration": 4,
    "start_time": "2022-04-21T09:19:58.807Z"
   },
   {
    "duration": 210,
    "start_time": "2022-04-21T09:19:58.813Z"
   },
   {
    "duration": 3,
    "start_time": "2022-04-21T09:19:59.025Z"
   },
   {
    "duration": 8,
    "start_time": "2022-04-21T09:19:59.030Z"
   },
   {
    "duration": 7,
    "start_time": "2022-04-21T09:19:59.040Z"
   },
   {
    "duration": 7,
    "start_time": "2022-04-21T09:19:59.048Z"
   },
   {
    "duration": 4,
    "start_time": "2022-04-21T09:19:59.057Z"
   },
   {
    "duration": 17,
    "start_time": "2022-04-21T09:19:59.063Z"
   },
   {
    "duration": 4,
    "start_time": "2022-04-21T09:19:59.093Z"
   },
   {
    "duration": 16,
    "start_time": "2022-04-21T09:19:59.099Z"
   },
   {
    "duration": 8,
    "start_time": "2022-04-21T09:19:59.116Z"
   },
   {
    "duration": 215,
    "start_time": "2022-04-21T09:19:59.125Z"
   },
   {
    "duration": 3,
    "start_time": "2022-04-21T09:19:59.342Z"
   },
   {
    "duration": 6,
    "start_time": "2022-04-21T09:19:59.347Z"
   },
   {
    "duration": 13,
    "start_time": "2022-04-21T09:19:59.354Z"
   },
   {
    "duration": 5,
    "start_time": "2022-04-21T09:19:59.368Z"
   },
   {
    "duration": 13,
    "start_time": "2022-04-21T09:19:59.393Z"
   },
   {
    "duration": 4,
    "start_time": "2022-04-21T09:19:59.408Z"
   },
   {
    "duration": 209,
    "start_time": "2022-04-21T09:19:59.416Z"
   },
   {
    "duration": 3,
    "start_time": "2022-04-21T09:19:59.627Z"
   },
   {
    "duration": 6,
    "start_time": "2022-04-21T09:19:59.631Z"
   },
   {
    "duration": 7,
    "start_time": "2022-04-21T09:19:59.638Z"
   },
   {
    "duration": 6,
    "start_time": "2022-04-21T09:19:59.646Z"
   },
   {
    "duration": 4,
    "start_time": "2022-04-21T09:19:59.654Z"
   },
   {
    "duration": 5,
    "start_time": "2022-04-21T09:19:59.660Z"
   },
   {
    "duration": 26,
    "start_time": "2022-04-21T09:19:59.667Z"
   },
   {
    "duration": 6,
    "start_time": "2022-04-21T09:19:59.695Z"
   },
   {
    "duration": 9,
    "start_time": "2022-04-21T09:19:59.702Z"
   },
   {
    "duration": 7,
    "start_time": "2022-04-21T09:19:59.713Z"
   },
   {
    "duration": 17,
    "start_time": "2022-04-21T09:19:59.721Z"
   },
   {
    "duration": 8,
    "start_time": "2022-04-21T09:19:59.739Z"
   },
   {
    "duration": 8,
    "start_time": "2022-04-21T09:19:59.749Z"
   },
   {
    "duration": 8,
    "start_time": "2022-04-21T09:19:59.759Z"
   },
   {
    "duration": 8,
    "start_time": "2022-04-21T09:19:59.769Z"
   },
   {
    "duration": 23,
    "start_time": "2022-04-21T09:19:59.779Z"
   },
   {
    "duration": 14,
    "start_time": "2022-04-21T09:19:59.804Z"
   },
   {
    "duration": 11,
    "start_time": "2022-04-21T09:19:59.820Z"
   },
   {
    "duration": 7,
    "start_time": "2022-04-21T09:19:59.833Z"
   },
   {
    "duration": 12,
    "start_time": "2022-04-21T09:19:59.842Z"
   },
   {
    "duration": 11,
    "start_time": "2022-04-21T09:19:59.855Z"
   },
   {
    "duration": 9,
    "start_time": "2022-04-21T09:19:59.868Z"
   },
   {
    "duration": 18,
    "start_time": "2022-04-21T09:19:59.878Z"
   },
   {
    "duration": 5,
    "start_time": "2022-04-21T09:19:59.898Z"
   },
   {
    "duration": 9,
    "start_time": "2022-04-21T09:19:59.905Z"
   },
   {
    "duration": 9,
    "start_time": "2022-04-21T09:19:59.916Z"
   },
   {
    "duration": 9,
    "start_time": "2022-04-21T09:19:59.926Z"
   },
   {
    "duration": 18,
    "start_time": "2022-04-21T09:20:14.438Z"
   },
   {
    "duration": 39,
    "start_time": "2022-04-21T09:20:27.211Z"
   },
   {
    "duration": 1630,
    "start_time": "2022-08-10T10:24:11.982Z"
   },
   {
    "duration": 1247,
    "start_time": "2022-08-10T10:24:13.614Z"
   },
   {
    "duration": 12,
    "start_time": "2022-08-10T10:24:14.863Z"
   },
   {
    "duration": 34,
    "start_time": "2022-08-10T10:24:14.877Z"
   },
   {
    "duration": 139,
    "start_time": "2022-08-10T10:24:14.913Z"
   },
   {
    "duration": 141,
    "start_time": "2022-08-10T10:24:15.055Z"
   },
   {
    "duration": 8,
    "start_time": "2022-08-10T10:24:15.198Z"
   },
   {
    "duration": 18,
    "start_time": "2022-08-10T10:24:15.208Z"
   },
   {
    "duration": 80,
    "start_time": "2022-08-10T10:24:15.228Z"
   },
   {
    "duration": 10,
    "start_time": "2022-08-10T10:24:15.311Z"
   },
   {
    "duration": 23,
    "start_time": "2022-08-10T10:24:15.323Z"
   },
   {
    "duration": 145,
    "start_time": "2022-08-10T10:24:15.347Z"
   },
   {
    "duration": 92,
    "start_time": "2022-08-10T10:24:15.494Z"
   },
   {
    "duration": 11,
    "start_time": "2022-08-10T10:24:15.587Z"
   },
   {
    "duration": 14,
    "start_time": "2022-08-10T10:24:15.599Z"
   },
   {
    "duration": 11,
    "start_time": "2022-08-10T10:24:15.614Z"
   },
   {
    "duration": 8,
    "start_time": "2022-08-10T10:24:15.626Z"
   },
   {
    "duration": 35,
    "start_time": "2022-08-10T10:24:15.635Z"
   },
   {
    "duration": 129,
    "start_time": "2022-08-10T10:24:15.672Z"
   },
   {
    "duration": 10,
    "start_time": "2022-08-10T10:24:15.803Z"
   },
   {
    "duration": 2,
    "start_time": "2022-08-10T10:24:15.815Z"
   },
   {
    "duration": 87,
    "start_time": "2022-08-10T10:24:15.819Z"
   },
   {
    "duration": 32,
    "start_time": "2022-08-10T10:24:15.908Z"
   },
   {
    "duration": 42,
    "start_time": "2022-08-10T10:24:15.941Z"
   },
   {
    "duration": 25,
    "start_time": "2022-08-10T10:24:15.985Z"
   },
   {
    "duration": 33,
    "start_time": "2022-08-10T10:24:16.012Z"
   },
   {
    "duration": 11,
    "start_time": "2022-08-10T10:24:16.068Z"
   },
   {
    "duration": 5,
    "start_time": "2022-08-10T10:24:16.084Z"
   },
   {
    "duration": 17,
    "start_time": "2022-08-10T10:24:16.091Z"
   },
   {
    "duration": 7,
    "start_time": "2022-08-10T10:24:16.110Z"
   },
   {
    "duration": 6,
    "start_time": "2022-08-10T10:24:16.119Z"
   },
   {
    "duration": 209,
    "start_time": "2022-08-10T10:24:16.126Z"
   },
   {
    "duration": 46,
    "start_time": "2022-08-10T10:24:16.337Z"
   },
   {
    "duration": 20,
    "start_time": "2022-08-10T10:24:16.385Z"
   },
   {
    "duration": 12,
    "start_time": "2022-08-10T10:24:16.407Z"
   },
   {
    "duration": 4,
    "start_time": "2022-08-10T10:24:16.421Z"
   },
   {
    "duration": 48,
    "start_time": "2022-08-10T10:24:16.427Z"
   },
   {
    "duration": 14,
    "start_time": "2022-08-10T10:24:16.479Z"
   },
   {
    "duration": 22,
    "start_time": "2022-08-10T10:24:16.495Z"
   },
   {
    "duration": 28,
    "start_time": "2022-08-10T10:24:16.519Z"
   },
   {
    "duration": 23,
    "start_time": "2022-08-10T10:24:16.549Z"
   },
   {
    "duration": 8,
    "start_time": "2022-08-10T10:24:16.574Z"
   },
   {
    "duration": 256,
    "start_time": "2022-08-10T10:24:16.584Z"
   },
   {
    "duration": 2,
    "start_time": "2022-08-10T10:24:16.842Z"
   },
   {
    "duration": 7,
    "start_time": "2022-08-10T10:24:16.846Z"
   },
   {
    "duration": 13,
    "start_time": "2022-08-10T10:24:16.855Z"
   },
   {
    "duration": 3,
    "start_time": "2022-08-10T10:24:16.869Z"
   },
   {
    "duration": 7,
    "start_time": "2022-08-10T10:24:16.874Z"
   },
   {
    "duration": 16,
    "start_time": "2022-08-10T10:24:16.883Z"
   },
   {
    "duration": 5,
    "start_time": "2022-08-10T10:24:16.901Z"
   },
   {
    "duration": 14,
    "start_time": "2022-08-10T10:24:16.908Z"
   },
   {
    "duration": 6,
    "start_time": "2022-08-10T10:24:16.924Z"
   },
   {
    "duration": 253,
    "start_time": "2022-08-10T10:24:16.931Z"
   },
   {
    "duration": 2,
    "start_time": "2022-08-10T10:24:17.186Z"
   },
   {
    "duration": 10,
    "start_time": "2022-08-10T10:24:17.190Z"
   },
   {
    "duration": 18,
    "start_time": "2022-08-10T10:24:17.201Z"
   },
   {
    "duration": 5,
    "start_time": "2022-08-10T10:24:17.221Z"
   },
   {
    "duration": 14,
    "start_time": "2022-08-10T10:24:17.228Z"
   },
   {
    "duration": 4,
    "start_time": "2022-08-10T10:24:17.267Z"
   },
   {
    "duration": 217,
    "start_time": "2022-08-10T10:24:17.274Z"
   },
   {
    "duration": 2,
    "start_time": "2022-08-10T10:24:17.493Z"
   },
   {
    "duration": 7,
    "start_time": "2022-08-10T10:24:17.498Z"
   },
   {
    "duration": 9,
    "start_time": "2022-08-10T10:24:17.506Z"
   },
   {
    "duration": 9,
    "start_time": "2022-08-10T10:24:17.517Z"
   },
   {
    "duration": 12,
    "start_time": "2022-08-10T10:24:17.528Z"
   },
   {
    "duration": 15,
    "start_time": "2022-08-10T10:24:17.541Z"
   },
   {
    "duration": 7,
    "start_time": "2022-08-10T10:24:17.558Z"
   },
   {
    "duration": 13,
    "start_time": "2022-08-10T10:24:17.566Z"
   },
   {
    "duration": 6,
    "start_time": "2022-08-10T10:24:17.582Z"
   },
   {
    "duration": 19,
    "start_time": "2022-08-10T10:24:17.590Z"
   },
   {
    "duration": 10,
    "start_time": "2022-08-10T10:24:17.612Z"
   },
   {
    "duration": 10,
    "start_time": "2022-08-10T10:24:17.624Z"
   },
   {
    "duration": 8,
    "start_time": "2022-08-10T10:24:17.636Z"
   },
   {
    "duration": 13,
    "start_time": "2022-08-10T10:24:17.646Z"
   },
   {
    "duration": 6,
    "start_time": "2022-08-10T10:24:17.661Z"
   },
   {
    "duration": 16,
    "start_time": "2022-08-10T10:24:17.669Z"
   },
   {
    "duration": 13,
    "start_time": "2022-08-10T10:24:17.687Z"
   },
   {
    "duration": 12,
    "start_time": "2022-08-10T10:24:17.702Z"
   },
   {
    "duration": 7,
    "start_time": "2022-08-10T10:24:17.716Z"
   },
   {
    "duration": 11,
    "start_time": "2022-08-10T10:24:17.725Z"
   },
   {
    "duration": 6,
    "start_time": "2022-08-10T10:24:17.738Z"
   },
   {
    "duration": 3,
    "start_time": "2022-08-10T10:24:17.769Z"
   },
   {
    "duration": 15,
    "start_time": "2022-08-10T10:24:17.773Z"
   },
   {
    "duration": 9,
    "start_time": "2022-08-10T10:24:17.790Z"
   },
   {
    "duration": 8,
    "start_time": "2022-08-10T10:24:17.801Z"
   },
   {
    "duration": 9,
    "start_time": "2022-08-10T10:24:17.811Z"
   },
   {
    "duration": 9,
    "start_time": "2022-08-10T10:24:17.821Z"
   },
   {
    "duration": 1242,
    "start_time": "2022-09-12T12:42:50.817Z"
   },
   {
    "duration": 1091,
    "start_time": "2022-09-12T12:42:52.061Z"
   },
   {
    "duration": 13,
    "start_time": "2022-09-12T12:42:53.153Z"
   },
   {
    "duration": 24,
    "start_time": "2022-09-12T12:42:53.168Z"
   },
   {
    "duration": 132,
    "start_time": "2022-09-12T12:42:53.194Z"
   },
   {
    "duration": 114,
    "start_time": "2022-09-12T12:42:53.327Z"
   },
   {
    "duration": 7,
    "start_time": "2022-09-12T12:42:53.443Z"
   },
   {
    "duration": 38,
    "start_time": "2022-09-12T12:42:53.452Z"
   },
   {
    "duration": 51,
    "start_time": "2022-09-12T12:42:53.491Z"
   },
   {
    "duration": 8,
    "start_time": "2022-09-12T12:42:53.545Z"
   },
   {
    "duration": 39,
    "start_time": "2022-09-12T12:42:53.555Z"
   },
   {
    "duration": 121,
    "start_time": "2022-09-12T12:42:53.596Z"
   },
   {
    "duration": 70,
    "start_time": "2022-09-12T12:42:53.719Z"
   },
   {
    "duration": 9,
    "start_time": "2022-09-12T12:42:53.791Z"
   },
   {
    "duration": 13,
    "start_time": "2022-09-12T12:42:53.801Z"
   },
   {
    "duration": 13,
    "start_time": "2022-09-12T12:42:53.815Z"
   },
   {
    "duration": 7,
    "start_time": "2022-09-12T12:42:53.829Z"
   },
   {
    "duration": 13,
    "start_time": "2022-09-12T12:42:53.837Z"
   },
   {
    "duration": 131,
    "start_time": "2022-09-12T12:42:53.852Z"
   },
   {
    "duration": 11,
    "start_time": "2022-09-12T12:42:53.985Z"
   },
   {
    "duration": 3,
    "start_time": "2022-09-12T12:42:53.998Z"
   },
   {
    "duration": 85,
    "start_time": "2022-09-12T12:42:54.002Z"
   },
   {
    "duration": 28,
    "start_time": "2022-09-12T12:42:54.089Z"
   },
   {
    "duration": 20,
    "start_time": "2022-09-12T12:42:54.119Z"
   },
   {
    "duration": 43,
    "start_time": "2022-09-12T12:42:54.140Z"
   },
   {
    "duration": 28,
    "start_time": "2022-09-12T12:42:54.184Z"
   },
   {
    "duration": 10,
    "start_time": "2022-09-12T12:42:54.213Z"
   },
   {
    "duration": 5,
    "start_time": "2022-09-12T12:42:54.227Z"
   },
   {
    "duration": 21,
    "start_time": "2022-09-12T12:42:54.233Z"
   },
   {
    "duration": 25,
    "start_time": "2022-09-12T12:42:54.256Z"
   },
   {
    "duration": 6,
    "start_time": "2022-09-12T12:42:54.282Z"
   },
   {
    "duration": 168,
    "start_time": "2022-09-12T12:42:54.290Z"
   },
   {
    "duration": 44,
    "start_time": "2022-09-12T12:42:54.459Z"
   },
   {
    "duration": 19,
    "start_time": "2022-09-12T12:42:54.505Z"
   },
   {
    "duration": 11,
    "start_time": "2022-09-12T12:42:54.525Z"
   },
   {
    "duration": 4,
    "start_time": "2022-09-12T12:42:54.538Z"
   },
   {
    "duration": 45,
    "start_time": "2022-09-12T12:42:54.544Z"
   },
   {
    "duration": 13,
    "start_time": "2022-09-12T12:42:54.591Z"
   },
   {
    "duration": 12,
    "start_time": "2022-09-12T12:42:54.606Z"
   },
   {
    "duration": 25,
    "start_time": "2022-09-12T12:42:54.620Z"
   },
   {
    "duration": 11,
    "start_time": "2022-09-12T12:42:54.647Z"
   },
   {
    "duration": 35,
    "start_time": "2022-09-12T12:42:54.661Z"
   },
   {
    "duration": 210,
    "start_time": "2022-09-12T12:42:54.698Z"
   },
   {
    "duration": 3,
    "start_time": "2022-09-12T12:42:54.910Z"
   },
   {
    "duration": 18,
    "start_time": "2022-09-12T12:42:54.915Z"
   },
   {
    "duration": 88,
    "start_time": "2022-09-12T12:42:54.935Z"
   },
   {
    "duration": 30,
    "start_time": "2022-09-12T12:42:55.025Z"
   },
   {
    "duration": 29,
    "start_time": "2022-09-12T12:42:55.056Z"
   },
   {
    "duration": 25,
    "start_time": "2022-09-12T12:42:55.087Z"
   },
   {
    "duration": 31,
    "start_time": "2022-09-12T12:42:55.114Z"
   },
   {
    "duration": 21,
    "start_time": "2022-09-12T12:42:55.147Z"
   },
   {
    "duration": 34,
    "start_time": "2022-09-12T12:42:55.170Z"
   },
   {
    "duration": 271,
    "start_time": "2022-09-12T12:42:55.207Z"
   },
   {
    "duration": 2,
    "start_time": "2022-09-12T12:42:55.481Z"
   },
   {
    "duration": 21,
    "start_time": "2022-09-12T12:42:55.485Z"
   },
   {
    "duration": 27,
    "start_time": "2022-09-12T12:42:55.508Z"
   },
   {
    "duration": 17,
    "start_time": "2022-09-12T12:42:55.536Z"
   },
   {
    "duration": 32,
    "start_time": "2022-09-12T12:42:55.555Z"
   },
   {
    "duration": 13,
    "start_time": "2022-09-12T12:42:55.589Z"
   },
   {
    "duration": 198,
    "start_time": "2022-09-12T12:42:55.604Z"
   },
   {
    "duration": 3,
    "start_time": "2022-09-12T12:42:55.803Z"
   },
   {
    "duration": 8,
    "start_time": "2022-09-12T12:42:55.808Z"
   },
   {
    "duration": 24,
    "start_time": "2022-09-12T12:42:55.818Z"
   },
   {
    "duration": 14,
    "start_time": "2022-09-12T12:42:55.844Z"
   },
   {
    "duration": 7,
    "start_time": "2022-09-12T12:42:55.860Z"
   },
   {
    "duration": 26,
    "start_time": "2022-09-12T12:42:55.868Z"
   },
   {
    "duration": 20,
    "start_time": "2022-09-12T12:42:55.895Z"
   },
   {
    "duration": 27,
    "start_time": "2022-09-12T12:42:55.917Z"
   },
   {
    "duration": 18,
    "start_time": "2022-09-12T12:42:55.946Z"
   },
   {
    "duration": 13,
    "start_time": "2022-09-12T12:42:55.966Z"
   },
   {
    "duration": 12,
    "start_time": "2022-09-12T12:42:55.981Z"
   },
   {
    "duration": 12,
    "start_time": "2022-09-12T12:42:55.995Z"
   },
   {
    "duration": 23,
    "start_time": "2022-09-12T12:42:56.008Z"
   },
   {
    "duration": 11,
    "start_time": "2022-09-12T12:42:56.033Z"
   },
   {
    "duration": 19,
    "start_time": "2022-09-12T12:42:56.045Z"
   },
   {
    "duration": 29,
    "start_time": "2022-09-12T12:42:56.066Z"
   },
   {
    "duration": 27,
    "start_time": "2022-09-12T12:42:56.097Z"
   },
   {
    "duration": 14,
    "start_time": "2022-09-12T12:42:56.126Z"
   },
   {
    "duration": 17,
    "start_time": "2022-09-12T12:42:56.142Z"
   },
   {
    "duration": 27,
    "start_time": "2022-09-12T12:42:56.162Z"
   },
   {
    "duration": 20,
    "start_time": "2022-09-12T12:42:56.191Z"
   },
   {
    "duration": 15,
    "start_time": "2022-09-12T12:42:56.218Z"
   },
   {
    "duration": 48,
    "start_time": "2022-09-12T12:42:56.235Z"
   },
   {
    "duration": 6,
    "start_time": "2022-09-12T12:42:56.285Z"
   },
   {
    "duration": 11,
    "start_time": "2022-09-12T12:42:56.293Z"
   },
   {
    "duration": 15,
    "start_time": "2022-09-12T12:42:56.305Z"
   },
   {
    "duration": 15,
    "start_time": "2022-09-12T12:42:56.322Z"
   }
  ],
  "kernelspec": {
   "display_name": "Python 3 (ipykernel)",
   "language": "python",
   "name": "python3"
  },
  "language_info": {
   "codemirror_mode": {
    "name": "ipython",
    "version": 3
   },
   "file_extension": ".py",
   "mimetype": "text/x-python",
   "name": "python",
   "nbconvert_exporter": "python",
   "pygments_lexer": "ipython3",
   "version": "3.9.7"
  },
  "toc": {
   "base_numbering": 1,
   "nav_menu": {},
   "number_sections": false,
   "sideBar": true,
   "skip_h1_title": false,
   "title_cell": "Table of Contents",
   "title_sidebar": "Contents",
   "toc_cell": false,
   "toc_position": {
    "height": "calc(100% - 180px)",
    "left": "10px",
    "top": "150px",
    "width": "165px"
   },
   "toc_section_display": true,
   "toc_window_display": true
  }
 },
 "nbformat": 4,
 "nbformat_minor": 5
}
