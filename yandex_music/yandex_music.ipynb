{
 "cells": [
  {
   "cell_type": "markdown",
   "metadata": {
    "id": "E0vqbgi9ay0H"
   },
   "source": [
    "# Исследование данных сервиса \"Яндекс.Музыка\". Сравнение пользователей двух городов"
   ]
  },
  {
   "cell_type": "markdown",
   "metadata": {
    "id": "VUC88oWjTJw2"
   },
   "source": [
    "Сравнение поведения пользователей из Москвы и Санкт-Петербурга на данных сервиса \"Яндекс.Музыка\".\n",
    "\n",
    "**Цель исследования:** \n",
    "\n",
    "Проверить три гипотезы:\n",
    "1. Активность пользователей зависит от дня недели. Причём в Москве и Петербурге это проявляется по-разному.\n",
    "\n",
    "\n",
    "2. В понедельник утром в Москве преобладают одни жанры, а в Петербурге — другие. Так же и вечером пятницы преобладают разные жанры — в зависимости от города. \n",
    "\n",
    "\n",
    "3. Москва и Петербург предпочитают разные жанры музыки. В Москве чаще слушают поп-музыку, в Петербурге — русский рэп.\n",
    "\n",
    "**Ход исследования:**\n",
    "\n",
    " 1. Обзор данных.\n",
    " \n",
    " \n",
    " 2. Предобработка данных.\n",
    " \n",
    " \n",
    " 3. Проверка гипотез."
   ]
  },
  {
   "cell_type": "markdown",
   "metadata": {
    "id": "Ml1hmfXC_Zcs"
   },
   "source": [
    "## Обзор данных\n",
    "\n",
    "Составим первое представление о данных Яндекс.Музыки."
   ]
  },
  {
   "cell_type": "code",
   "execution_count": 1,
   "metadata": {
    "id": "AXN7PHPN_Zcs"
   },
   "outputs": [],
   "source": [
    "import pandas as pd # импорт библиотеки pandas"
   ]
  },
  {
   "cell_type": "code",
   "execution_count": 2,
   "metadata": {
    "id": "fFVu7vqh_Zct"
   },
   "outputs": [],
   "source": [
    "df = pd.read_csv('/datasets/yandex_music_project.csv') # чтение файла с данными и сохранение в df"
   ]
  },
  {
   "cell_type": "code",
   "execution_count": 3,
   "metadata": {
    "id": "oWTVX3gW_Zct",
    "scrolled": true
   },
   "outputs": [
    {
     "data": {
      "text/html": [
       "<div>\n",
       "<style scoped>\n",
       "    .dataframe tbody tr th:only-of-type {\n",
       "        vertical-align: middle;\n",
       "    }\n",
       "\n",
       "    .dataframe tbody tr th {\n",
       "        vertical-align: top;\n",
       "    }\n",
       "\n",
       "    .dataframe thead th {\n",
       "        text-align: right;\n",
       "    }\n",
       "</style>\n",
       "<table border=\"1\" class=\"dataframe\">\n",
       "  <thead>\n",
       "    <tr style=\"text-align: right;\">\n",
       "      <th></th>\n",
       "      <th>userID</th>\n",
       "      <th>Track</th>\n",
       "      <th>artist</th>\n",
       "      <th>genre</th>\n",
       "      <th>City</th>\n",
       "      <th>time</th>\n",
       "      <th>Day</th>\n",
       "    </tr>\n",
       "  </thead>\n",
       "  <tbody>\n",
       "    <tr>\n",
       "      <td>0</td>\n",
       "      <td>FFB692EC</td>\n",
       "      <td>Kamigata To Boots</td>\n",
       "      <td>The Mass Missile</td>\n",
       "      <td>rock</td>\n",
       "      <td>Saint-Petersburg</td>\n",
       "      <td>20:28:33</td>\n",
       "      <td>Wednesday</td>\n",
       "    </tr>\n",
       "    <tr>\n",
       "      <td>1</td>\n",
       "      <td>55204538</td>\n",
       "      <td>Delayed Because of Accident</td>\n",
       "      <td>Andreas Rönnberg</td>\n",
       "      <td>rock</td>\n",
       "      <td>Moscow</td>\n",
       "      <td>14:07:09</td>\n",
       "      <td>Friday</td>\n",
       "    </tr>\n",
       "    <tr>\n",
       "      <td>2</td>\n",
       "      <td>20EC38</td>\n",
       "      <td>Funiculì funiculà</td>\n",
       "      <td>Mario Lanza</td>\n",
       "      <td>pop</td>\n",
       "      <td>Saint-Petersburg</td>\n",
       "      <td>20:58:07</td>\n",
       "      <td>Wednesday</td>\n",
       "    </tr>\n",
       "    <tr>\n",
       "      <td>3</td>\n",
       "      <td>A3DD03C9</td>\n",
       "      <td>Dragons in the Sunset</td>\n",
       "      <td>Fire + Ice</td>\n",
       "      <td>folk</td>\n",
       "      <td>Saint-Petersburg</td>\n",
       "      <td>08:37:09</td>\n",
       "      <td>Monday</td>\n",
       "    </tr>\n",
       "    <tr>\n",
       "      <td>4</td>\n",
       "      <td>E2DC1FAE</td>\n",
       "      <td>Soul People</td>\n",
       "      <td>Space Echo</td>\n",
       "      <td>dance</td>\n",
       "      <td>Moscow</td>\n",
       "      <td>08:34:34</td>\n",
       "      <td>Monday</td>\n",
       "    </tr>\n",
       "    <tr>\n",
       "      <td>5</td>\n",
       "      <td>842029A1</td>\n",
       "      <td>Преданная</td>\n",
       "      <td>IMPERVTOR</td>\n",
       "      <td>rusrap</td>\n",
       "      <td>Saint-Petersburg</td>\n",
       "      <td>13:09:41</td>\n",
       "      <td>Friday</td>\n",
       "    </tr>\n",
       "    <tr>\n",
       "      <td>6</td>\n",
       "      <td>4CB90AA5</td>\n",
       "      <td>True</td>\n",
       "      <td>Roman Messer</td>\n",
       "      <td>dance</td>\n",
       "      <td>Moscow</td>\n",
       "      <td>13:00:07</td>\n",
       "      <td>Wednesday</td>\n",
       "    </tr>\n",
       "    <tr>\n",
       "      <td>7</td>\n",
       "      <td>F03E1C1F</td>\n",
       "      <td>Feeling This Way</td>\n",
       "      <td>Polina Griffith</td>\n",
       "      <td>dance</td>\n",
       "      <td>Moscow</td>\n",
       "      <td>20:47:49</td>\n",
       "      <td>Wednesday</td>\n",
       "    </tr>\n",
       "    <tr>\n",
       "      <td>8</td>\n",
       "      <td>8FA1D3BE</td>\n",
       "      <td>И вновь продолжается бой</td>\n",
       "      <td>NaN</td>\n",
       "      <td>ruspop</td>\n",
       "      <td>Moscow</td>\n",
       "      <td>09:17:40</td>\n",
       "      <td>Friday</td>\n",
       "    </tr>\n",
       "    <tr>\n",
       "      <td>9</td>\n",
       "      <td>E772D5C0</td>\n",
       "      <td>Pessimist</td>\n",
       "      <td>NaN</td>\n",
       "      <td>dance</td>\n",
       "      <td>Saint-Petersburg</td>\n",
       "      <td>21:20:49</td>\n",
       "      <td>Wednesday</td>\n",
       "    </tr>\n",
       "  </tbody>\n",
       "</table>\n",
       "</div>"
      ],
      "text/plain": [
       "     userID                        Track            artist   genre  \\\n",
       "0  FFB692EC            Kamigata To Boots  The Mass Missile    rock   \n",
       "1  55204538  Delayed Because of Accident  Andreas Rönnberg    rock   \n",
       "2    20EC38            Funiculì funiculà       Mario Lanza     pop   \n",
       "3  A3DD03C9        Dragons in the Sunset        Fire + Ice    folk   \n",
       "4  E2DC1FAE                  Soul People        Space Echo   dance   \n",
       "5  842029A1                    Преданная         IMPERVTOR  rusrap   \n",
       "6  4CB90AA5                         True      Roman Messer   dance   \n",
       "7  F03E1C1F             Feeling This Way   Polina Griffith   dance   \n",
       "8  8FA1D3BE     И вновь продолжается бой               NaN  ruspop   \n",
       "9  E772D5C0                    Pessimist               NaN   dance   \n",
       "\n",
       "             City        time        Day  \n",
       "0  Saint-Petersburg  20:28:33  Wednesday  \n",
       "1            Moscow  14:07:09     Friday  \n",
       "2  Saint-Petersburg  20:58:07  Wednesday  \n",
       "3  Saint-Petersburg  08:37:09     Monday  \n",
       "4            Moscow  08:34:34     Monday  \n",
       "5  Saint-Petersburg  13:09:41     Friday  \n",
       "6            Moscow  13:00:07  Wednesday  \n",
       "7            Moscow  20:47:49  Wednesday  \n",
       "8            Moscow  09:17:40     Friday  \n",
       "9  Saint-Petersburg  21:20:49  Wednesday  "
      ]
     },
     "metadata": {},
     "output_type": "display_data"
    }
   ],
   "source": [
    "display(df.head(10)) # получение первых 10 строк таблицы df"
   ]
  },
  {
   "cell_type": "code",
   "execution_count": 4,
   "metadata": {
    "id": "DSf2kIb-_Zct",
    "scrolled": true
   },
   "outputs": [
    {
     "name": "stdout",
     "output_type": "stream",
     "text": [
      "<class 'pandas.core.frame.DataFrame'>\n",
      "RangeIndex: 65079 entries, 0 to 65078\n",
      "Data columns (total 7 columns):\n",
      "  userID    65079 non-null object\n",
      "Track       63848 non-null object\n",
      "artist      57876 non-null object\n",
      "genre       63881 non-null object\n",
      "  City      65079 non-null object\n",
      "time        65079 non-null object\n",
      "Day         65079 non-null object\n",
      "dtypes: object(7)\n",
      "memory usage: 3.5+ MB\n"
     ]
    }
   ],
   "source": [
    "df.info() # получение общей информации о данных в таблице df"
   ]
  },
  {
   "cell_type": "markdown",
   "metadata": {
    "id": "TaQ2Iwbr_Zct"
   },
   "source": [
    "Итак, в таблице семь столбцов. Тип данных во всех столбцах — `object`.\n",
    "\n",
    "Согласно документации к данным:\n",
    "* `userID` — идентификатор пользователя;\n",
    "* `Track` — название трека;  \n",
    "* `artist` — имя исполнителя;\n",
    "* `genre` — название жанра;\n",
    "* `City` — город пользователя;\n",
    "* `time` — время начала прослушивания;\n",
    "* `Day` — день недели.\n",
    "\n",
    "В названиях колонок видны три нарушения стиля:\n",
    "1. Строчные буквы сочетаются с прописными.\n",
    "2. Встречаются пробелы.\n",
    "3. Не используется \"змеиный_регистр\".\n",
    "\n",
    "\n",
    "\n",
    "Количество значений в столбцах различается. Значит, в данных есть пропущенные значения.\n"
   ]
  },
  {
   "cell_type": "markdown",
   "metadata": {
    "id": "MCB6-dXG_Zct"
   },
   "source": [
    "**Выводы**\n",
    "\n",
    "В каждой строке таблицы — данные о прослушанном треке. Часть колонок описывает саму композицию: название, исполнителя и жанр. Остальные данные рассказывают о пользователе: из какого он города, когда он слушал музыку. \n",
    "\n",
    "Предварительно можно утверждать, что, данных достаточно для проверки гипотез. Но встречаются пропуски в данных, а в названиях колонок — расхождения с хорошим стилем.\n",
    "\n",
    "Чтобы двигаться дальше, нужно устранить проблемы в данных."
   ]
  },
  {
   "cell_type": "markdown",
   "metadata": {
    "id": "SjYF6Ub9_Zct"
   },
   "source": [
    "## Предобработка данных\n",
    "Исправим стиль в заголовках столбцов, исключим пропуски. Затем проверим данные на дубликаты."
   ]
  },
  {
   "cell_type": "markdown",
   "metadata": {
    "id": "dIaKXr29_Zct"
   },
   "source": [
    "### Стиль заголовков"
   ]
  },
  {
   "cell_type": "code",
   "execution_count": 5,
   "metadata": {
    "id": "oKOTdF_Q_Zct"
   },
   "outputs": [
    {
     "data": {
      "text/plain": [
       "Index(['  userID', 'Track', 'artist', 'genre', '  City  ', 'time', 'Day'], dtype='object')"
      ]
     },
     "execution_count": 5,
     "metadata": {},
     "output_type": "execute_result"
    }
   ],
   "source": [
    "df.columns # перечень названий столбцов таблицы df"
   ]
  },
  {
   "cell_type": "markdown",
   "metadata": {
    "id": "zj5534cv_Zct"
   },
   "source": [
    "Приведем названия в соответствие с хорошим стилем:\n",
    "* несколько слов в названии запишем в «змеином_регистре»,\n",
    "* все символы сделаем строчными,\n",
    "* устраним пробелы.\n",
    "\n",
    "Для этого переименуем колонки:\n",
    "* `'  userID'` → `'user_id'`;\n",
    "* `'Track'` → `'track'`;\n",
    "* `'  City  '` → `'city'`;\n",
    "* `'Day'` → `'day'`."
   ]
  },
  {
   "cell_type": "code",
   "execution_count": 6,
   "metadata": {
    "id": "ISlFqs5y_Zct"
   },
   "outputs": [],
   "source": [
    "df = df.rename(columns={'  userID':'user_id', 'Track':'track', '  City  ':'city', 'Day':'day'}) # переименование столбцов"
   ]
  },
  {
   "cell_type": "markdown",
   "metadata": {
    "id": "1dqbh00J_Zct"
   },
   "source": [
    "Проверим результат:"
   ]
  },
  {
   "cell_type": "code",
   "execution_count": 7,
   "metadata": {
    "id": "d4NOAmTW_Zct"
   },
   "outputs": [
    {
     "data": {
      "text/plain": [
       "Index(['user_id', 'track', 'artist', 'genre', 'city', 'time', 'day'], dtype='object')"
      ]
     },
     "execution_count": 7,
     "metadata": {},
     "output_type": "execute_result"
    }
   ],
   "source": [
    "df.columns # проверка результатов - перечень названий столбцов"
   ]
  },
  {
   "cell_type": "markdown",
   "metadata": {
    "id": "5ISfbcfY_Zct"
   },
   "source": [
    "### Пропуски значений\n",
    "Сначала посчитаем, сколько в таблице пропущенных значений:"
   ]
  },
  {
   "cell_type": "code",
   "execution_count": 8,
   "metadata": {
    "id": "RskX29qr_Zct",
    "scrolled": true
   },
   "outputs": [
    {
     "data": {
      "text/plain": [
       "user_id       0\n",
       "track      1231\n",
       "artist     7203\n",
       "genre      1198\n",
       "city          0\n",
       "time          0\n",
       "day           0\n",
       "dtype: int64"
      ]
     },
     "execution_count": 8,
     "metadata": {},
     "output_type": "execute_result"
    }
   ],
   "source": [
    "df.isna().sum() # подсчёт пропусков"
   ]
  },
  {
   "cell_type": "markdown",
   "metadata": {
    "id": "qubhgnlO_Zct"
   },
   "source": [
    "Не все пропущенные значения влияют на исследование. Так в `track` и `artist` пропуски не важны для текущей задачи, достаточно заменить их явными обозначениями.\n",
    "\n",
    "Но пропуски в `genre` могут помешать работе. Мы не можем установить причину пропусков и восстановить данные, поэтому сделаем так:\n",
    "* заполним эти пропуски явными обозначениями,\n",
    "* оценим, насколько они повредят расчётам. "
   ]
  },
  {
   "cell_type": "markdown",
   "metadata": {
    "id": "fSv2laPA_Zct"
   },
   "source": [
    "Заменим пропущенные значения в столбцах `track`, `artist` и `genre` на строку `'unknown'`. Для этого создадим список `columns_to_replace`, переберем его элементы циклом `for` и для каждого столбца выполним замену пропущенных значений:"
   ]
  },
  {
   "cell_type": "code",
   "execution_count": 9,
   "metadata": {
    "id": "KplB5qWs_Zct"
   },
   "outputs": [],
   "source": [
    "columns_to_replace = ['track', 'artist', 'genre']\n",
    "for columns in columns_to_replace:\n",
    "    df[columns_to_replace] = df[columns_to_replace].fillna('unknown') # перебор названий столбцов в цикле и замена пропущенных значений на 'unknown'"
   ]
  },
  {
   "cell_type": "markdown",
   "metadata": {
    "id": "Ilsm-MZo_Zct"
   },
   "source": [
    "Убедимся, что в таблице не осталось пропусков. Для этого ещё раз посчитаеме пропущенные значения."
   ]
  },
  {
   "cell_type": "code",
   "execution_count": 10,
   "metadata": {
    "id": "Tq4nYRX4_Zct",
    "scrolled": true
   },
   "outputs": [
    {
     "data": {
      "text/plain": [
       "user_id    0\n",
       "track      0\n",
       "artist     0\n",
       "genre      0\n",
       "city       0\n",
       "time       0\n",
       "day        0\n",
       "dtype: int64"
      ]
     },
     "execution_count": 10,
     "metadata": {},
     "output_type": "execute_result"
    }
   ],
   "source": [
    "df.isna().sum() # подсчёт пропусков"
   ]
  },
  {
   "cell_type": "markdown",
   "metadata": {
    "id": "BWKRtBJ3_Zct"
   },
   "source": [
    "### Дубликаты\n",
    "Посчитаем явные дубликаты в таблице:"
   ]
  },
  {
   "cell_type": "code",
   "execution_count": 11,
   "metadata": {
    "id": "36eES_S0_Zct"
   },
   "outputs": [
    {
     "data": {
      "text/plain": [
       "3826"
      ]
     },
     "execution_count": 11,
     "metadata": {},
     "output_type": "execute_result"
    }
   ],
   "source": [
    "df.duplicated().sum() # подсчёт явных дубликатов"
   ]
  },
  {
   "cell_type": "markdown",
   "metadata": {
    "id": "Ot25h6XR_Zct"
   },
   "source": [
    "Вызовем специальный метод `pandas`, чтобы удалить явные дубликаты:"
   ]
  },
  {
   "cell_type": "code",
   "execution_count": 12,
   "metadata": {
    "id": "exFHq6tt_Zct"
   },
   "outputs": [],
   "source": [
    "df = df.drop_duplicates().reset_index(drop=True) # удаление явных дубликатов (с удалением старых индексов и формированием новых)"
   ]
  },
  {
   "cell_type": "markdown",
   "metadata": {
    "id": "Im2YwBEG_Zct"
   },
   "source": [
    "Ещё раз посчитаем явные дубликаты в таблице, чтобы убедиться, что полностью от них избавились:"
   ]
  },
  {
   "cell_type": "code",
   "execution_count": 13,
   "metadata": {
    "id": "-8PuNWQ0_Zct",
    "scrolled": true
   },
   "outputs": [
    {
     "data": {
      "text/plain": [
       "0"
      ]
     },
     "execution_count": 13,
     "metadata": {},
     "output_type": "execute_result"
    }
   ],
   "source": [
    "df.duplicated().sum() # проверка на отсутствие дубликатов"
   ]
  },
  {
   "cell_type": "markdown",
   "metadata": {
    "id": "QlFBsxAr_Zct"
   },
   "source": [
    "Теперь избавимся от неявных дубликатов в колонке `genre`. Например, название одного и того же жанра может быть записано немного по-разному. Такие ошибки тоже повлияют на результат исследования."
   ]
  },
  {
   "cell_type": "markdown",
   "metadata": {
    "id": "eSjWwsOh_Zct"
   },
   "source": [
    "Выведем на экран список уникальных названий жанров, отсортированный в алфавитном порядке. Для этого:\n",
    "* извлечем нужный столбец датафрейма, \n",
    "* применим к нему метод сортировки,\n",
    "* для отсортированного столбца вызовем метод, который вернёт уникальные значения из столбца."
   ]
  },
  {
   "cell_type": "code",
   "execution_count": 14,
   "metadata": {
    "id": "JIUcqzZN_Zct"
   },
   "outputs": [
    {
     "data": {
      "text/plain": [
       "array(['acid', 'acoustic', 'action', 'adult', 'africa', 'afrikaans',\n",
       "       'alternative', 'alternativepunk', 'ambient', 'americana',\n",
       "       'animated', 'anime', 'arabesk', 'arabic', 'arena',\n",
       "       'argentinetango', 'art', 'audiobook', 'author', 'avantgarde',\n",
       "       'axé', 'baile', 'balkan', 'beats', 'bigroom', 'black', 'bluegrass',\n",
       "       'blues', 'bollywood', 'bossa', 'brazilian', 'breakbeat', 'breaks',\n",
       "       'broadway', 'cantautori', 'cantopop', 'canzone', 'caribbean',\n",
       "       'caucasian', 'celtic', 'chamber', 'chanson', 'children', 'chill',\n",
       "       'chinese', 'choral', 'christian', 'christmas', 'classical',\n",
       "       'classicmetal', 'club', 'colombian', 'comedy', 'conjazz',\n",
       "       'contemporary', 'country', 'cuban', 'dance', 'dancehall',\n",
       "       'dancepop', 'dark', 'death', 'deep', 'deutschrock', 'deutschspr',\n",
       "       'dirty', 'disco', 'dnb', 'documentary', 'downbeat', 'downtempo',\n",
       "       'drum', 'dub', 'dubstep', 'eastern', 'easy', 'electronic',\n",
       "       'electropop', 'emo', 'entehno', 'epicmetal', 'estrada', 'ethnic',\n",
       "       'eurofolk', 'european', 'experimental', 'extrememetal', 'fado',\n",
       "       'fairytail', 'film', 'fitness', 'flamenco', 'folk', 'folklore',\n",
       "       'folkmetal', 'folkrock', 'folktronica', 'forró', 'frankreich',\n",
       "       'französisch', 'french', 'funk', 'future', 'gangsta', 'garage',\n",
       "       'german', 'ghazal', 'gitarre', 'glitch', 'gospel', 'gothic',\n",
       "       'grime', 'grunge', 'gypsy', 'handsup', \"hard'n'heavy\", 'hardcore',\n",
       "       'hardstyle', 'hardtechno', 'hip', 'hip-hop', 'hiphop',\n",
       "       'historisch', 'holiday', 'hop', 'horror', 'house', 'hymn', 'idm',\n",
       "       'independent', 'indian', 'indie', 'indipop', 'industrial',\n",
       "       'inspirational', 'instrumental', 'international', 'irish', 'jam',\n",
       "       'japanese', 'jazz', 'jewish', 'jpop', 'jungle', 'k-pop',\n",
       "       'karadeniz', 'karaoke', 'kayokyoku', 'korean', 'laiko', 'latin',\n",
       "       'latino', 'leftfield', 'local', 'lounge', 'loungeelectronic',\n",
       "       'lovers', 'malaysian', 'mandopop', 'marschmusik', 'meditative',\n",
       "       'mediterranean', 'melodic', 'metal', 'metalcore', 'mexican',\n",
       "       'middle', 'minimal', 'miscellaneous', 'modern', 'mood', 'mpb',\n",
       "       'muslim', 'native', 'neoklassik', 'neue', 'new', 'newage',\n",
       "       'newwave', 'nu', 'nujazz', 'numetal', 'oceania', 'old', 'opera',\n",
       "       'orchestral', 'other', 'piano', 'podcasts', 'pop', 'popdance',\n",
       "       'popelectronic', 'popeurodance', 'poprussian', 'post',\n",
       "       'posthardcore', 'postrock', 'power', 'progmetal', 'progressive',\n",
       "       'psychedelic', 'punjabi', 'punk', 'quebecois', 'ragga', 'ram',\n",
       "       'rancheras', 'rap', 'rave', 'reggae', 'reggaeton', 'regional',\n",
       "       'relax', 'religious', 'retro', 'rhythm', 'rnb', 'rnr', 'rock',\n",
       "       'rockabilly', 'rockalternative', 'rockindie', 'rockother',\n",
       "       'romance', 'roots', 'ruspop', 'rusrap', 'rusrock', 'russian',\n",
       "       'salsa', 'samba', 'scenic', 'schlager', 'self', 'sertanejo',\n",
       "       'shanson', 'shoegazing', 'showtunes', 'singer', 'ska', 'skarock',\n",
       "       'slow', 'smooth', 'soft', 'soul', 'soulful', 'sound', 'soundtrack',\n",
       "       'southern', 'specialty', 'speech', 'spiritual', 'sport',\n",
       "       'stonerrock', 'surf', 'swing', 'synthpop', 'synthrock',\n",
       "       'sängerportrait', 'tango', 'tanzorchester', 'taraftar', 'tatar',\n",
       "       'tech', 'techno', 'teen', 'thrash', 'top', 'traditional',\n",
       "       'tradjazz', 'trance', 'tribal', 'trip', 'triphop', 'tropical',\n",
       "       'türk', 'türkçe', 'ukrrock', 'unknown', 'urban', 'uzbek',\n",
       "       'variété', 'vi', 'videogame', 'vocal', 'western', 'world',\n",
       "       'worldbeat', 'ïîï', 'электроника'], dtype=object)"
      ]
     },
     "execution_count": 14,
     "metadata": {},
     "output_type": "execute_result"
    }
   ],
   "source": [
    "df['genre'].sort_values().unique() # просмотр уникальных названий жанров"
   ]
  },
  {
   "cell_type": "markdown",
   "metadata": {
    "id": "qej-Qmuo_Zct"
   },
   "source": [
    "Просмотрим список и найдем неявные дубликаты названия `hiphop`. Это могут быть названия с ошибками или альтернативные названия того же жанра.\n",
    "\n",
    "Обнаружены следующие неявные дубликаты:\n",
    "* *hip*,\n",
    "* *hop*,\n",
    "* *hip-hop*.\n",
    "\n",
    "Чтобы очистить от них таблицу, напишем функцию `replace_wrong_genres()` с двумя параметрами: \n",
    "* `wrong_genres` — список дубликатов,\n",
    "* `correct_genre` — строка с правильным значением.\n",
    "\n",
    "Функция должна исправить колонку `genre` в таблице `df`: заменить каждое значение из списка `wrong_genres` на значение из `correct_genre`."
   ]
  },
  {
   "cell_type": "code",
   "execution_count": 15,
   "metadata": {
    "id": "ErNDkmns_Zct"
   },
   "outputs": [],
   "source": [
    "def replace_wrong_genres(wrong_genres, correct_genre): # функция для замены неявных дубликатов\n",
    "    for wrong_genre in wrong_genres: # проходим по всем неправильным названиям\n",
    "        df['genre'] = df['genre'].replace(wrong_genres, correct_genre) # вызов метода replace() для замены каждого неправильного названия\n",
    "duplicates = ['hip', 'hop', 'hip-hop'] # создаем список неправильных названий\n",
    "genre = 'hiphop' # задаем правильное название"
   ]
  },
  {
   "cell_type": "markdown",
   "metadata": {
    "id": "aDoBJxbA_Zct"
   },
   "source": [
    "Вызовем `replace_wrong_genres()` и передадим ей такие аргументы, чтобы она устранила неявные дубликаты: вместо `hip`, `hop` и `hip-hop` в таблице должно быть значение `hiphop`:"
   ]
  },
  {
   "cell_type": "code",
   "execution_count": 16,
   "metadata": {
    "id": "YN5i2hpmSo09"
   },
   "outputs": [],
   "source": [
    "replace_wrong_genres(duplicates, genre) # устранение неявных дубликатов"
   ]
  },
  {
   "cell_type": "markdown",
   "metadata": {
    "id": "zQKF16_RG15m"
   },
   "source": [
    "Проверим, что заменили неправильные названия:\n",
    "\n",
    "*   hip\n",
    "*   hop\n",
    "*   hip-hop\n",
    "\n",
    "Выведем отсортированный список уникальных значений столбца `genre`:"
   ]
  },
  {
   "cell_type": "code",
   "execution_count": 17,
   "metadata": {
    "id": "wvixALnFG15m",
    "scrolled": false
   },
   "outputs": [
    {
     "data": {
      "text/plain": [
       "array(['acid', 'acoustic', 'action', 'adult', 'africa', 'afrikaans',\n",
       "       'alternative', 'alternativepunk', 'ambient', 'americana',\n",
       "       'animated', 'anime', 'arabesk', 'arabic', 'arena',\n",
       "       'argentinetango', 'art', 'audiobook', 'author', 'avantgarde',\n",
       "       'axé', 'baile', 'balkan', 'beats', 'bigroom', 'black', 'bluegrass',\n",
       "       'blues', 'bollywood', 'bossa', 'brazilian', 'breakbeat', 'breaks',\n",
       "       'broadway', 'cantautori', 'cantopop', 'canzone', 'caribbean',\n",
       "       'caucasian', 'celtic', 'chamber', 'chanson', 'children', 'chill',\n",
       "       'chinese', 'choral', 'christian', 'christmas', 'classical',\n",
       "       'classicmetal', 'club', 'colombian', 'comedy', 'conjazz',\n",
       "       'contemporary', 'country', 'cuban', 'dance', 'dancehall',\n",
       "       'dancepop', 'dark', 'death', 'deep', 'deutschrock', 'deutschspr',\n",
       "       'dirty', 'disco', 'dnb', 'documentary', 'downbeat', 'downtempo',\n",
       "       'drum', 'dub', 'dubstep', 'eastern', 'easy', 'electronic',\n",
       "       'electropop', 'emo', 'entehno', 'epicmetal', 'estrada', 'ethnic',\n",
       "       'eurofolk', 'european', 'experimental', 'extrememetal', 'fado',\n",
       "       'fairytail', 'film', 'fitness', 'flamenco', 'folk', 'folklore',\n",
       "       'folkmetal', 'folkrock', 'folktronica', 'forró', 'frankreich',\n",
       "       'französisch', 'french', 'funk', 'future', 'gangsta', 'garage',\n",
       "       'german', 'ghazal', 'gitarre', 'glitch', 'gospel', 'gothic',\n",
       "       'grime', 'grunge', 'gypsy', 'handsup', \"hard'n'heavy\", 'hardcore',\n",
       "       'hardstyle', 'hardtechno', 'hiphop', 'historisch', 'holiday',\n",
       "       'horror', 'house', 'hymn', 'idm', 'independent', 'indian', 'indie',\n",
       "       'indipop', 'industrial', 'inspirational', 'instrumental',\n",
       "       'international', 'irish', 'jam', 'japanese', 'jazz', 'jewish',\n",
       "       'jpop', 'jungle', 'k-pop', 'karadeniz', 'karaoke', 'kayokyoku',\n",
       "       'korean', 'laiko', 'latin', 'latino', 'leftfield', 'local',\n",
       "       'lounge', 'loungeelectronic', 'lovers', 'malaysian', 'mandopop',\n",
       "       'marschmusik', 'meditative', 'mediterranean', 'melodic', 'metal',\n",
       "       'metalcore', 'mexican', 'middle', 'minimal', 'miscellaneous',\n",
       "       'modern', 'mood', 'mpb', 'muslim', 'native', 'neoklassik', 'neue',\n",
       "       'new', 'newage', 'newwave', 'nu', 'nujazz', 'numetal', 'oceania',\n",
       "       'old', 'opera', 'orchestral', 'other', 'piano', 'podcasts', 'pop',\n",
       "       'popdance', 'popelectronic', 'popeurodance', 'poprussian', 'post',\n",
       "       'posthardcore', 'postrock', 'power', 'progmetal', 'progressive',\n",
       "       'psychedelic', 'punjabi', 'punk', 'quebecois', 'ragga', 'ram',\n",
       "       'rancheras', 'rap', 'rave', 'reggae', 'reggaeton', 'regional',\n",
       "       'relax', 'religious', 'retro', 'rhythm', 'rnb', 'rnr', 'rock',\n",
       "       'rockabilly', 'rockalternative', 'rockindie', 'rockother',\n",
       "       'romance', 'roots', 'ruspop', 'rusrap', 'rusrock', 'russian',\n",
       "       'salsa', 'samba', 'scenic', 'schlager', 'self', 'sertanejo',\n",
       "       'shanson', 'shoegazing', 'showtunes', 'singer', 'ska', 'skarock',\n",
       "       'slow', 'smooth', 'soft', 'soul', 'soulful', 'sound', 'soundtrack',\n",
       "       'southern', 'specialty', 'speech', 'spiritual', 'sport',\n",
       "       'stonerrock', 'surf', 'swing', 'synthpop', 'synthrock',\n",
       "       'sängerportrait', 'tango', 'tanzorchester', 'taraftar', 'tatar',\n",
       "       'tech', 'techno', 'teen', 'thrash', 'top', 'traditional',\n",
       "       'tradjazz', 'trance', 'tribal', 'trip', 'triphop', 'tropical',\n",
       "       'türk', 'türkçe', 'ukrrock', 'unknown', 'urban', 'uzbek',\n",
       "       'variété', 'vi', 'videogame', 'vocal', 'western', 'world',\n",
       "       'worldbeat', 'ïîï', 'электроника'], dtype=object)"
      ]
     },
     "execution_count": 17,
     "metadata": {},
     "output_type": "execute_result"
    }
   ],
   "source": [
    "df['genre'].sort_values().unique() # проверка на неявные дубликаты"
   ]
  },
  {
   "cell_type": "markdown",
   "metadata": {},
   "source": [
    "Помимо вариантов названия `'hiphop'` неявным дубликатом является написание жанра на русском языке – `'электроника'` вместо `'electronic'`. Так как здесь лишь один вариант неправильного написания, заменить его можно без использования функции:"
   ]
  },
  {
   "cell_type": "code",
   "execution_count": 18,
   "metadata": {},
   "outputs": [],
   "source": [
    "df['genre'] = df['genre'].replace('электроника', 'electronic') # вызов метода replace() для замены неправильного названия"
   ]
  },
  {
   "cell_type": "markdown",
   "metadata": {},
   "source": [
    "Проверяем результат:"
   ]
  },
  {
   "cell_type": "code",
   "execution_count": 19,
   "metadata": {
    "scrolled": false
   },
   "outputs": [
    {
     "data": {
      "text/plain": [
       "array(['acid', 'acoustic', 'action', 'adult', 'africa', 'afrikaans',\n",
       "       'alternative', 'alternativepunk', 'ambient', 'americana',\n",
       "       'animated', 'anime', 'arabesk', 'arabic', 'arena',\n",
       "       'argentinetango', 'art', 'audiobook', 'author', 'avantgarde',\n",
       "       'axé', 'baile', 'balkan', 'beats', 'bigroom', 'black', 'bluegrass',\n",
       "       'blues', 'bollywood', 'bossa', 'brazilian', 'breakbeat', 'breaks',\n",
       "       'broadway', 'cantautori', 'cantopop', 'canzone', 'caribbean',\n",
       "       'caucasian', 'celtic', 'chamber', 'chanson', 'children', 'chill',\n",
       "       'chinese', 'choral', 'christian', 'christmas', 'classical',\n",
       "       'classicmetal', 'club', 'colombian', 'comedy', 'conjazz',\n",
       "       'contemporary', 'country', 'cuban', 'dance', 'dancehall',\n",
       "       'dancepop', 'dark', 'death', 'deep', 'deutschrock', 'deutschspr',\n",
       "       'dirty', 'disco', 'dnb', 'documentary', 'downbeat', 'downtempo',\n",
       "       'drum', 'dub', 'dubstep', 'eastern', 'easy', 'electronic',\n",
       "       'electropop', 'emo', 'entehno', 'epicmetal', 'estrada', 'ethnic',\n",
       "       'eurofolk', 'european', 'experimental', 'extrememetal', 'fado',\n",
       "       'fairytail', 'film', 'fitness', 'flamenco', 'folk', 'folklore',\n",
       "       'folkmetal', 'folkrock', 'folktronica', 'forró', 'frankreich',\n",
       "       'französisch', 'french', 'funk', 'future', 'gangsta', 'garage',\n",
       "       'german', 'ghazal', 'gitarre', 'glitch', 'gospel', 'gothic',\n",
       "       'grime', 'grunge', 'gypsy', 'handsup', \"hard'n'heavy\", 'hardcore',\n",
       "       'hardstyle', 'hardtechno', 'hiphop', 'historisch', 'holiday',\n",
       "       'horror', 'house', 'hymn', 'idm', 'independent', 'indian', 'indie',\n",
       "       'indipop', 'industrial', 'inspirational', 'instrumental',\n",
       "       'international', 'irish', 'jam', 'japanese', 'jazz', 'jewish',\n",
       "       'jpop', 'jungle', 'k-pop', 'karadeniz', 'karaoke', 'kayokyoku',\n",
       "       'korean', 'laiko', 'latin', 'latino', 'leftfield', 'local',\n",
       "       'lounge', 'loungeelectronic', 'lovers', 'malaysian', 'mandopop',\n",
       "       'marschmusik', 'meditative', 'mediterranean', 'melodic', 'metal',\n",
       "       'metalcore', 'mexican', 'middle', 'minimal', 'miscellaneous',\n",
       "       'modern', 'mood', 'mpb', 'muslim', 'native', 'neoklassik', 'neue',\n",
       "       'new', 'newage', 'newwave', 'nu', 'nujazz', 'numetal', 'oceania',\n",
       "       'old', 'opera', 'orchestral', 'other', 'piano', 'podcasts', 'pop',\n",
       "       'popdance', 'popelectronic', 'popeurodance', 'poprussian', 'post',\n",
       "       'posthardcore', 'postrock', 'power', 'progmetal', 'progressive',\n",
       "       'psychedelic', 'punjabi', 'punk', 'quebecois', 'ragga', 'ram',\n",
       "       'rancheras', 'rap', 'rave', 'reggae', 'reggaeton', 'regional',\n",
       "       'relax', 'religious', 'retro', 'rhythm', 'rnb', 'rnr', 'rock',\n",
       "       'rockabilly', 'rockalternative', 'rockindie', 'rockother',\n",
       "       'romance', 'roots', 'ruspop', 'rusrap', 'rusrock', 'russian',\n",
       "       'salsa', 'samba', 'scenic', 'schlager', 'self', 'sertanejo',\n",
       "       'shanson', 'shoegazing', 'showtunes', 'singer', 'ska', 'skarock',\n",
       "       'slow', 'smooth', 'soft', 'soul', 'soulful', 'sound', 'soundtrack',\n",
       "       'southern', 'specialty', 'speech', 'spiritual', 'sport',\n",
       "       'stonerrock', 'surf', 'swing', 'synthpop', 'synthrock',\n",
       "       'sängerportrait', 'tango', 'tanzorchester', 'taraftar', 'tatar',\n",
       "       'tech', 'techno', 'teen', 'thrash', 'top', 'traditional',\n",
       "       'tradjazz', 'trance', 'tribal', 'trip', 'triphop', 'tropical',\n",
       "       'türk', 'türkçe', 'ukrrock', 'unknown', 'urban', 'uzbek',\n",
       "       'variété', 'vi', 'videogame', 'vocal', 'western', 'world',\n",
       "       'worldbeat', 'ïîï'], dtype=object)"
      ]
     },
     "execution_count": 19,
     "metadata": {},
     "output_type": "execute_result"
    }
   ],
   "source": [
    "df['genre'].sort_values().unique() # проверка на неявные дубликаты"
   ]
  },
  {
   "cell_type": "markdown",
   "metadata": {
    "id": "jz6a9-7HQUDd"
   },
   "source": [
    "**Выводы**\n",
    "\n",
    "Предобработка обнаружила три проблемы в данных:\n",
    "\n",
    "- нарушения в стиле заголовков;\n",
    "- пропущенные значения;\n",
    "- дубликаты — явные и неявные.\n",
    "\n",
    "Мы исправили заголовки, чтобы упростить работу с таблицей. Без дубликатов исследование станет более точным.\n",
    "\n",
    "Пропущенные значения заменили на `'unknown'`. Ещё предстоит увидеть, не повредят ли исследованию пропуски в колонке `genre`.\n",
    "\n",
    "Теперь можно перейти к проверке гипотез. "
   ]
  },
  {
   "cell_type": "markdown",
   "metadata": {
    "id": "WttZHXH0SqKk"
   },
   "source": [
    "## Проверка гипотез"
   ]
  },
  {
   "cell_type": "markdown",
   "metadata": {
    "id": "Im936VVi_Zcu"
   },
   "source": [
    "### Сравнение поведения пользователей двух столиц"
   ]
  },
  {
   "cell_type": "markdown",
   "metadata": {
    "id": "nwt_MuaL_Zcu"
   },
   "source": [
    "Первая гипотеза утверждает, что пользователи по-разному слушают музыку в Москве и Санкт-Петербурге. Проверим это предположение по данным о трёх днях недели — понедельнике, среде и пятнице. Для этого:\n",
    "\n",
    "* разделим пользователей Москвы и Санкт-Петербурга;\n",
    "* сравним, сколько треков послушала каждая группа пользователей в понедельник, среду и пятницу.\n"
   ]
  },
  {
   "cell_type": "markdown",
   "metadata": {
    "id": "8Dw_YMmT_Zcu"
   },
   "source": [
    "Сначала выполним каждый из расчётов по отдельности. \n",
    "\n",
    "Оценим активность пользователей в каждом городе. Сгруппируем данные по городу и посчитаем прослушивания в каждой группе."
   ]
  },
  {
   "cell_type": "code",
   "execution_count": 20,
   "metadata": {
    "id": "0_Qs96oh_Zcu"
   },
   "outputs": [
    {
     "data": {
      "text/plain": [
       "city\n",
       "Moscow              42741\n",
       "Saint-Petersburg    18512\n",
       "Name: time, dtype: int64"
      ]
     },
     "execution_count": 20,
     "metadata": {},
     "output_type": "execute_result"
    }
   ],
   "source": [
    "df.groupby('city')['time'].count() # подсчёт прослушиваний в каждом городе"
   ]
  },
  {
   "cell_type": "markdown",
   "metadata": {
    "id": "dzli3w8o_Zcu"
   },
   "source": [
    "В Москве прослушиваний больше, чем в Петербурге. Из этого не следует, что московские пользователи чаще слушают музыку. Просто самих пользователей в Москве больше.\n",
    "\n",
    "Теперь сгруппируем данные по дню недели и подсчитаем прослушивания в понедельник, среду и пятницу. В данных есть информация о прослушиваниях только за эти дни."
   ]
  },
  {
   "cell_type": "code",
   "execution_count": 21,
   "metadata": {
    "id": "uZMKjiJz_Zcu",
    "scrolled": true
   },
   "outputs": [
    {
     "data": {
      "text/plain": [
       "day\n",
       "Friday       21840\n",
       "Monday       21354\n",
       "Wednesday    18059\n",
       "Name: time, dtype: int64"
      ]
     },
     "execution_count": 21,
     "metadata": {},
     "output_type": "execute_result"
    }
   ],
   "source": [
    "df.groupby('day')['time'].count() # подсчёт прослушиваний в каждый из трёх дней"
   ]
  },
  {
   "cell_type": "markdown",
   "metadata": {
    "id": "cC2tNrlL_Zcu"
   },
   "source": [
    "В среднем пользователи из двух городов менее активны по средам. Но картина может измениться, если рассмотреть каждый город в отдельности."
   ]
  },
  {
   "cell_type": "markdown",
   "metadata": {
    "id": "POzs8bGa_Zcu"
   },
   "source": [
    "Теперь напишем функцию, которая объединит два эти расчёта: `number_tracks()` посчитает прослушивания для заданного дня и города. Ей понадобятся два параметра:\n",
    "  * день недели;\n",
    "  * название города.\n",
    "\n",
    "В функции сохраним в переменную строки исходной таблицы, у которых значение:\n",
    "  * в колонке `day` равно параметру `day`;\n",
    "  * в колонке `city` равно параметру `city`.\n",
    "\n",
    "Для этого применим последовательную фильтрацию с логической индексацией.\n",
    "\n",
    "Затем посчитаем значения в столбце `user_id` получившейся таблицы. Результат сохраним в новую переменную. Вернем эту переменную из функции."
   ]
  },
  {
   "cell_type": "code",
   "execution_count": 22,
   "metadata": {
    "id": "Nz3GdQB1_Zcu"
   },
   "outputs": [],
   "source": [
    "# Объявляется функция с двумя параметрами: day, city.\n",
    "# В переменной track_list сохраняются те строки таблицы df, для которых \n",
    "# значение в столбце 'day' равно параметру day и одновременно значение\n",
    "# в столбце 'city' равно параметру city.\n",
    "# В переменной track_list_count сохраняется число значений столбца 'user_id',\n",
    "# рассчитанное методом count() для таблицы track_list.\n",
    "# Функция возвращает число - значение track_list_count.\n",
    "# Функция для подсчёта прослушиваний для конкретного города и дня.\n",
    "# С помощью последовательной фильтрации с логической индексацией она \n",
    "# сначала получит из исходной таблицы строки с нужным днём,\n",
    "# затем из результата отфильтрует строки с нужным городом,\n",
    "# методом count() посчитает количество значений в колонке user_id. \n",
    "# Это количество функция вернёт в качестве результата\n",
    "\n",
    "def number_tracks(day, city): \n",
    "    track_list = df[\n",
    "        (df['day'] == day) \n",
    "        & (df['city'] == city)\n",
    "    ]\n",
    "    track_list_count = track_list['user_id'].count()\n",
    "    return track_list_count\n"
   ]
  },
  {
   "cell_type": "markdown",
   "metadata": {
    "id": "ytf7xFrFJQ2r"
   },
   "source": [
    "Вызовем `number_tracks()` шесть раз, меняя значение параметров так, чтобы получить данные для каждого города в каждый из трёх дней."
   ]
  },
  {
   "cell_type": "code",
   "execution_count": 23,
   "metadata": {
    "id": "rJcRATNQ_Zcu",
    "scrolled": true
   },
   "outputs": [
    {
     "data": {
      "text/plain": [
       "15740"
      ]
     },
     "execution_count": 23,
     "metadata": {},
     "output_type": "execute_result"
    }
   ],
   "source": [
    "number_tracks('Monday', 'Moscow') # количество прослушиваний в Москве по понедельникам"
   ]
  },
  {
   "cell_type": "code",
   "execution_count": 24,
   "metadata": {
    "id": "hq_ncZ5T_Zcu"
   },
   "outputs": [
    {
     "data": {
      "text/plain": [
       "5614"
      ]
     },
     "execution_count": 24,
     "metadata": {},
     "output_type": "execute_result"
    }
   ],
   "source": [
    "number_tracks('Monday', 'Saint-Petersburg') # количество прослушиваний в Санкт-Петербурге по понедельникам"
   ]
  },
  {
   "cell_type": "code",
   "execution_count": 25,
   "metadata": {
    "id": "_NTy2VPU_Zcu"
   },
   "outputs": [
    {
     "data": {
      "text/plain": [
       "11056"
      ]
     },
     "execution_count": 25,
     "metadata": {},
     "output_type": "execute_result"
    }
   ],
   "source": [
    "number_tracks('Wednesday', 'Moscow') # количество прослушиваний в Москве по средам"
   ]
  },
  {
   "cell_type": "code",
   "execution_count": 26,
   "metadata": {
    "id": "j2y3TAwo_Zcu"
   },
   "outputs": [
    {
     "data": {
      "text/plain": [
       "7003"
      ]
     },
     "execution_count": 26,
     "metadata": {},
     "output_type": "execute_result"
    }
   ],
   "source": [
    "number_tracks('Wednesday', 'Saint-Petersburg') # количество прослушиваний в Санкт-Петербурге по средам"
   ]
  },
  {
   "cell_type": "code",
   "execution_count": 27,
   "metadata": {
    "id": "vYDw5u_K_Zcu"
   },
   "outputs": [
    {
     "data": {
      "text/plain": [
       "15945"
      ]
     },
     "execution_count": 27,
     "metadata": {},
     "output_type": "execute_result"
    }
   ],
   "source": [
    "number_tracks('Friday', 'Moscow') # количество прослушиваний в Москве по пятницам"
   ]
  },
  {
   "cell_type": "code",
   "execution_count": 28,
   "metadata": {
    "id": "8_yzFtW3_Zcu",
    "scrolled": true
   },
   "outputs": [
    {
     "data": {
      "text/plain": [
       "5895"
      ]
     },
     "execution_count": 28,
     "metadata": {},
     "output_type": "execute_result"
    }
   ],
   "source": [
    "number_tracks('Friday', 'Saint-Petersburg') # количество прослушиваний в Санкт-Петербурге по пятницам"
   ]
  },
  {
   "cell_type": "markdown",
   "metadata": {
    "id": "7QXffbO-_Zcu"
   },
   "source": [
    "Создадим c помощью конструктора `pd.DataFrame` таблицу, где\n",
    "* названия колонок — `['city', 'monday', 'wednesday', 'friday']`;\n",
    "* данные — результаты, которые мы получили с помощью `number_tracks`."
   ]
  },
  {
   "cell_type": "code",
   "execution_count": 29,
   "metadata": {
    "id": "APAcLpOr_Zcu"
   },
   "outputs": [
    {
     "data": {
      "text/html": [
       "<div>\n",
       "<style scoped>\n",
       "    .dataframe tbody tr th:only-of-type {\n",
       "        vertical-align: middle;\n",
       "    }\n",
       "\n",
       "    .dataframe tbody tr th {\n",
       "        vertical-align: top;\n",
       "    }\n",
       "\n",
       "    .dataframe thead th {\n",
       "        text-align: right;\n",
       "    }\n",
       "</style>\n",
       "<table border=\"1\" class=\"dataframe\">\n",
       "  <thead>\n",
       "    <tr style=\"text-align: right;\">\n",
       "      <th></th>\n",
       "      <th>city</th>\n",
       "      <th>monday</th>\n",
       "      <th>wednesday</th>\n",
       "      <th>friday</th>\n",
       "    </tr>\n",
       "  </thead>\n",
       "  <tbody>\n",
       "    <tr>\n",
       "      <td>0</td>\n",
       "      <td>Moscow</td>\n",
       "      <td>15740</td>\n",
       "      <td>11056</td>\n",
       "      <td>15945</td>\n",
       "    </tr>\n",
       "    <tr>\n",
       "      <td>1</td>\n",
       "      <td>Saint-Petersburg</td>\n",
       "      <td>5614</td>\n",
       "      <td>7003</td>\n",
       "      <td>5895</td>\n",
       "    </tr>\n",
       "  </tbody>\n",
       "</table>\n",
       "</div>"
      ],
      "text/plain": [
       "               city  monday  wednesday  friday\n",
       "0            Moscow   15740      11056   15945\n",
       "1  Saint-Petersburg    5614       7003    5895"
      ]
     },
     "metadata": {},
     "output_type": "display_data"
    }
   ],
   "source": [
    "values = [\n",
    "    ['Moscow', 15740, 11056, 15945],\n",
    "    ['Saint-Petersburg', 5614, 7003, 5895]\n",
    "    ]\n",
    "entries = ['city', 'monday', 'wednesday', 'friday']\n",
    "tracks_on_day = pd.DataFrame(data=values, columns=entries)\n",
    "display(tracks_on_day)"
   ]
  },
  {
   "cell_type": "markdown",
   "metadata": {
    "id": "-EgPIHYu_Zcu"
   },
   "source": [
    "**Выводы**\n",
    "\n",
    "Данные показывают разницу поведения пользователей:\n",
    "\n",
    "- В Москве пик прослушиваний приходится на понедельник и пятницу, а в среду заметен спад.\n",
    "- В Петербурге, наоборот, больше слушают музыку по средам. Активность в понедельник и пятницу здесь почти в равной мере уступает среде.\n",
    "\n",
    "Значит, данные говорят в пользу первой гипотезы."
   ]
  },
  {
   "cell_type": "markdown",
   "metadata": {
    "id": "atZAxtq4_Zcu"
   },
   "source": [
    "### Музыка в начале и в конце недели"
   ]
  },
  {
   "cell_type": "markdown",
   "metadata": {
    "id": "eXrQqXFH_Zcu"
   },
   "source": [
    "Согласно второй гипотезе, утром в понедельник в Москве преобладают одни жанры, а в Петербурге — другие. Также вечером пятницы преобладают разные жанры — в зависимости от города."
   ]
  },
  {
   "cell_type": "markdown",
   "metadata": {
    "id": "S8UcW6Hw_Zcu"
   },
   "source": [
    "Сохраним таблицы с данными в две переменные:\n",
    "* по Москве — в `moscow_general`;\n",
    "* по Санкт-Петербургу — в `spb_general`."
   ]
  },
  {
   "cell_type": "code",
   "execution_count": 30,
   "metadata": {
    "id": "qeaFfM_P_Zcu"
   },
   "outputs": [],
   "source": [
    "# получение таблицы moscow_general из тех строк таблицы df, \n",
    "# для которых значение в столбце 'city' равно 'Moscow'\n",
    "moscow_general = df[df['city'] == 'Moscow'] \n",
    "\n",
    "# получение таблицы spb_general из тех строк таблицы df,\n",
    "# для которых значение в столбце 'city' равно 'Saint-Petersburg'\n",
    "spb_general = df[df['city'] == 'Saint-Petersburg']"
   ]
  },
  {
   "cell_type": "markdown",
   "metadata": {
    "id": "MEJV-CX2_Zcu"
   },
   "source": [
    "Создадим функцию `genre_weekday()` с четырьмя параметрами:\n",
    "* таблица (датафрейм) с данными;\n",
    "* день недели;\n",
    "* начальная временная метка в формате 'hh:mm'; \n",
    "* последняя временная метка в формате 'hh:mm'.\n",
    "\n",
    "Функция должна вернуть информацию о топ-10 жанров тех треков, которые прослушивали в указанный день в промежутке между двумя отметками времени."
   ]
  },
  {
   "cell_type": "code",
   "execution_count": 32,
   "metadata": {
    "id": "laJT9BYl_Zcu"
   },
   "outputs": [],
   "source": [
    "# Объявление функции, которая возвращает информацию \n",
    "# о самых популярных жанрах в указанный день в заданное время\n",
    "def genre_weekday(table, day, time1, time2): \n",
    "    \n",
    "    genre_df = table[ # Задаем переменную\n",
    "        (table['day'] == day) # Значение столбца day должно быть равно значению аргумента day\n",
    "        & (table['time'] > time1) # Одновременно с предыдущим условием должны выполняться условия для значений столбца time\n",
    "        & (table['time'] < time2)\n",
    "    ]\n",
    "    \n",
    "    # Группировка датафрейма по столбцу genre, с помощью метода count() по выбранному столбцу считаем \n",
    "    # количество записей для каждого из жанров, а получившийся Series записываем в переменную\n",
    "    genre_df_count = genre_df.groupby('genre')['genre'].count() \n",
    "\n",
    "    # Сортировка переменной genre_df_count по убыванию и запись результата в новую переменную\n",
    "    genre_df_sorted = genre_df_count.sort_values(ascending=False) \n",
    "    \n",
    "    # Функция возвращает Series из первых 10 значений genre_df_sorted, это топ-10 популярных жанров\n",
    "    # (в указанный день, в заданное время)    \n",
    "    return display(genre_df_sorted.head(10))"
   ]
  },
  {
   "cell_type": "markdown",
   "metadata": {
    "id": "la2s2_PF_Zcu"
   },
   "source": [
    "Cравним результаты функции `genre_weekday()` для Москвы и Санкт-Петербурга в понедельник утром (с 7:00 до 11:00) и в пятницу вечером (с 17:00 до 23:00):"
   ]
  },
  {
   "cell_type": "code",
   "execution_count": 33,
   "metadata": {
    "id": "yz7itPUQ_Zcu"
   },
   "outputs": [
    {
     "data": {
      "text/plain": [
       "genre\n",
       "pop            781\n",
       "dance          549\n",
       "electronic     480\n",
       "rock           474\n",
       "hiphop         286\n",
       "ruspop         186\n",
       "world          181\n",
       "rusrap         175\n",
       "alternative    164\n",
       "unknown        161\n",
       "Name: genre, dtype: int64"
      ]
     },
     "metadata": {},
     "output_type": "display_data"
    }
   ],
   "source": [
    "# вызов функции для утра понедельника в Москве (вместо df — таблица moscow_general)\n",
    "# объекты, хранящие время, являются строками и сравниваются как строки\n",
    "# пример вызова: genre_weekday(moscow_general, 'Monday', '07:00', '11:00')\n",
    "genre_weekday(moscow_general, 'Monday', '07:00', '11:00') "
   ]
  },
  {
   "cell_type": "code",
   "execution_count": 34,
   "metadata": {
    "id": "kwUcHPdy_Zcu"
   },
   "outputs": [
    {
     "data": {
      "text/plain": [
       "genre\n",
       "pop            218\n",
       "dance          182\n",
       "rock           162\n",
       "electronic     147\n",
       "hiphop          80\n",
       "ruspop          64\n",
       "alternative     58\n",
       "rusrap          55\n",
       "jazz            44\n",
       "classical       40\n",
       "Name: genre, dtype: int64"
      ]
     },
     "metadata": {},
     "output_type": "display_data"
    }
   ],
   "source": [
    "# вызов функции для утра понедельника в Петербурге (вместо df — таблица spb_general)\n",
    "genre_weekday(spb_general, 'Monday', '07:00', '11:00')"
   ]
  },
  {
   "cell_type": "code",
   "execution_count": 35,
   "metadata": {
    "id": "EzXVRE1o_Zcu"
   },
   "outputs": [
    {
     "data": {
      "text/plain": [
       "genre\n",
       "pop            713\n",
       "rock           517\n",
       "dance          495\n",
       "electronic     482\n",
       "hiphop         273\n",
       "world          208\n",
       "ruspop         170\n",
       "alternative    163\n",
       "classical      163\n",
       "rusrap         142\n",
       "Name: genre, dtype: int64"
      ]
     },
     "metadata": {},
     "output_type": "display_data"
    }
   ],
   "source": [
    "# вызов функции для вечера пятницы в Москве\n",
    "genre_weekday(moscow_general, 'Friday', '17:00', '23:00') "
   ]
  },
  {
   "cell_type": "code",
   "execution_count": 36,
   "metadata": {
    "id": "JZaEKu5v_Zcu",
    "scrolled": true
   },
   "outputs": [
    {
     "data": {
      "text/plain": [
       "genre\n",
       "pop            256\n",
       "rock           216\n",
       "electronic     216\n",
       "dance          210\n",
       "hiphop          97\n",
       "alternative     63\n",
       "jazz            61\n",
       "classical       60\n",
       "rusrap          59\n",
       "world           54\n",
       "Name: genre, dtype: int64"
      ]
     },
     "metadata": {},
     "output_type": "display_data"
    }
   ],
   "source": [
    "# вызов функции для вечера пятницы в Петербурге\n",
    "genre_weekday(spb_general, 'Friday', '17:00', '23:00') "
   ]
  },
  {
   "cell_type": "markdown",
   "metadata": {
    "id": "wrCe4MNX_Zcu"
   },
   "source": [
    "**Выводы**\n",
    "\n",
    "Если сравнить топ-10 жанров в понедельник утром, можно сделать такие выводы:\n",
    "\n",
    "1. В Москве и Петербурге слушают похожую музыку. Единственное отличие — в московский рейтинг вошёл жанр world, а в петербургский — джаз и классика.\n",
    "\n",
    "2. В Москве пропущенных значений оказалось так много, что значение `'unknown'` заняло десятое место среди самых популярных жанров. Значит, пропущенные значения занимают существенную долю в данных и угрожают достоверности исследования.\n",
    "\n",
    "Вечер пятницы не меняет эту картину. Некоторые жанры поднимаются немного выше, другие опускаются, но в целом топ-10 остаётся тем же самым.\n",
    "\n",
    "Таким образом, вторая гипотеза подтвердилась лишь частично:\n",
    "* пользователи слушают похожую музыку в начале недели и в конце;\n",
    "* разница между Москвой и Петербургом не слишком выражена: в Москве чаще слушают русскую популярную музыку, в Петербурге — джаз.\n",
    "\n",
    "Однако пропуски в данных ставят под сомнение этот результат. В Москве их так много, что рейтинг топ-10 мог бы выглядеть иначе, если бы не утерянные данные о жанрах."
   ]
  },
  {
   "cell_type": "markdown",
   "metadata": {
    "id": "JolODAqr_Zcu"
   },
   "source": [
    "### Жанровые предпочтения в Москве и Петербурге\n",
    "\n",
    "Гипотеза: Петербург — столица рэпа, музыку этого жанра там слушают чаще, чем в Москве.  А Москва — город контрастов, в котором, тем не менее, преобладает поп-музыка."
   ]
  },
  {
   "cell_type": "markdown",
   "metadata": {
    "id": "DlegSvaT_Zcu"
   },
   "source": [
    "Сгруппируем таблицу `moscow_general` по жанру и посчитаем прослушивания треков каждого жанра методом `count()`. Затем отсортируем результат в порядке убывания и сохраним его в таблице `moscow_genres`."
   ]
  },
  {
   "cell_type": "code",
   "execution_count": 37,
   "metadata": {
    "id": "r19lIPke_Zcu"
   },
   "outputs": [],
   "source": [
    "# группировка таблицы moscow_general по столбцу 'genre', \n",
    "# подсчёт числа значений 'genre' в этой группировке методом count(), \n",
    "# сортировка получившегося Series в порядке убывания и сохранение в moscow_genres\n",
    "moscow_genres = moscow_general.groupby('genre')['time'].count().sort_values(ascending=False) "
   ]
  },
  {
   "cell_type": "markdown",
   "metadata": {
    "id": "6kMuomxTiIr8"
   },
   "source": [
    "Выведите на экран первые десять строк `moscow_genres`:"
   ]
  },
  {
   "cell_type": "code",
   "execution_count": 38,
   "metadata": {
    "id": "WhCSooF8_Zcv"
   },
   "outputs": [
    {
     "data": {
      "text/plain": [
       "genre\n",
       "pop            5892\n",
       "dance          4435\n",
       "rock           3965\n",
       "electronic     3786\n",
       "hiphop         2096\n",
       "classical      1616\n",
       "world          1432\n",
       "alternative    1379\n",
       "ruspop         1372\n",
       "rusrap         1161\n",
       "Name: time, dtype: int64"
      ]
     },
     "metadata": {},
     "output_type": "display_data"
    }
   ],
   "source": [
    "display(moscow_genres.head(10)) # просмотр первых 10 строк moscow_genres"
   ]
  },
  {
   "cell_type": "markdown",
   "metadata": {
    "id": "cnPG2vnN_Zcv"
   },
   "source": [
    "Теперь повторите то же и для Петербурга.\n",
    "\n",
    "Сгруппируем таблицу `spb_general` по жанру. Посчитаем прослушивания треков каждого жанра. Результат отсортируем в порядке убывания и сохраним в таблице `spb_genres`:"
   ]
  },
  {
   "cell_type": "code",
   "execution_count": 39,
   "metadata": {
    "id": "gluLIpE7_Zcv"
   },
   "outputs": [],
   "source": [
    "# группировка таблицы spb_general по столбцу 'genre', \n",
    "# подсчёт числа значений 'genre' в этой группировке методом count(), \n",
    "# сортировка получившегося Series в порядке убывания и сохранение в spb_genres\n",
    "spb_genres = spb_general.groupby('genre')['time'].count().sort_values(ascending=False) "
   ]
  },
  {
   "cell_type": "markdown",
   "metadata": {
    "id": "5Doha_ODgyQ8"
   },
   "source": [
    "Выведите на экран первые десять строк `spb_genres`:"
   ]
  },
  {
   "cell_type": "code",
   "execution_count": 40,
   "metadata": {
    "id": "uaGJHjVU_Zcv",
    "scrolled": true
   },
   "outputs": [
    {
     "data": {
      "text/plain": [
       "genre\n",
       "pop            2431\n",
       "dance          1932\n",
       "rock           1879\n",
       "electronic     1737\n",
       "hiphop          960\n",
       "alternative     649\n",
       "classical       646\n",
       "rusrap          564\n",
       "ruspop          538\n",
       "world           515\n",
       "Name: time, dtype: int64"
      ]
     },
     "metadata": {},
     "output_type": "display_data"
    }
   ],
   "source": [
    "display(spb_genres.head(10)) # просмотр первых 10 строк spb_genres"
   ]
  },
  {
   "cell_type": "markdown",
   "metadata": {
    "id": "RY51YJYu_Zcv"
   },
   "source": [
    "**Выводы**"
   ]
  },
  {
   "cell_type": "markdown",
   "metadata": {
    "id": "nVhnJEm__Zcv"
   },
   "source": [
    "Гипотеза частично подтвердилась:\n",
    "* поп-музыка — самый популярный жанр в Москве, как и предполагала гипотеза, более того: в топ-10 жанров встречается близкий жанр — русская популярная музыка;\n",
    "* вопреки ожиданиям, рэп одинаково популярен в Москве и Петербурге. "
   ]
  },
  {
   "cell_type": "markdown",
   "metadata": {
    "id": "ykKQ0N65_Zcv"
   },
   "source": [
    "## Итоги исследования"
   ]
  },
  {
   "cell_type": "markdown",
   "metadata": {
    "id": "tjUwbHb3_Zcv"
   },
   "source": [
    "Мы проверили три гипотезы и установили:\n",
    "\n",
    "1. День недели по-разному влияет на активность пользователей в Москве и Петербурге. \n",
    "\n",
    "Первая гипотеза полностью подтвердилась.\n",
    "\n",
    "2. Музыкальные предпочтения не сильно меняются в течение недели — будь то Москва или Петербург. Небольшие различия заметны в начале недели, по понедельникам:\n",
    "* в Москве слушают музыку жанра “world”,\n",
    "* в Петербурге — джаз и классику.\n",
    "\n",
    "Таким образом, вторая гипотеза подтвердилась лишь отчасти. Этот результат мог оказаться иным, если бы не пропуски в данных.\n",
    "\n",
    "3. Во вкусах пользователей Москвы и Петербурга больше общего чем различий. Вопреки ожиданиям, предпочтения жанров в Петербурге напоминают московские.\n",
    "\n",
    "Третья гипотеза не подтвердилась. Если различия в предпочтениях и существуют, на основной массе пользователей они незаметны.\n",
    "\n",
    "**На практике исследования содержат проверки статистических гипотез.**\n",
    "Из данных одного сервиса не всегда можно сделать вывод о всех жителях города.\n",
    "Проверки статистических гипотез покажут, насколько они достоверны, исходя из имеющихся данных. \n",
    "С методами проверок гипотез вы ещё познакомитесь в следующих темах."
   ]
  }
 ],
 "metadata": {
  "ExecuteTimeLog": [
   {
    "duration": 757,
    "start_time": "2022-02-21T12:13:07.178Z"
   },
   {
    "duration": 180,
    "start_time": "2022-02-21T12:13:10.895Z"
   },
   {
    "duration": 27,
    "start_time": "2022-02-21T12:13:13.550Z"
   },
   {
    "duration": 36,
    "start_time": "2022-02-21T12:13:22.079Z"
   },
   {
    "duration": 5,
    "start_time": "2022-02-21T12:30:43.741Z"
   },
   {
    "duration": 33,
    "start_time": "2022-02-21T12:33:24.972Z"
   },
   {
    "duration": 5,
    "start_time": "2022-02-21T12:33:43.560Z"
   },
   {
    "duration": 30,
    "start_time": "2022-02-21T12:38:37.043Z"
   },
   {
    "duration": 8822,
    "start_time": "2022-02-21T12:46:00.285Z"
   },
   {
    "duration": 85,
    "start_time": "2022-02-21T12:46:56.553Z"
   },
   {
    "duration": 30,
    "start_time": "2022-02-21T12:47:31.275Z"
   },
   {
    "duration": 809,
    "start_time": "2022-02-21T15:13:43.463Z"
   },
   {
    "duration": 427,
    "start_time": "2022-02-21T15:13:44.275Z"
   },
   {
    "duration": 35,
    "start_time": "2022-02-21T15:13:44.706Z"
   },
   {
    "duration": 291,
    "start_time": "2022-02-21T15:13:44.745Z"
   },
   {
    "duration": 320,
    "start_time": "2022-02-21T15:13:45.039Z"
   },
   {
    "duration": 307,
    "start_time": "2022-02-21T15:13:45.362Z"
   },
   {
    "duration": 228,
    "start_time": "2022-02-21T15:13:45.671Z"
   },
   {
    "duration": 326,
    "start_time": "2022-02-21T15:13:45.903Z"
   },
   {
    "duration": 318,
    "start_time": "2022-02-21T15:13:46.232Z"
   },
   {
    "duration": 209,
    "start_time": "2022-02-21T15:13:46.552Z"
   },
   {
    "duration": 326,
    "start_time": "2022-02-21T15:13:46.764Z"
   },
   {
    "duration": 243,
    "start_time": "2022-02-21T15:13:47.092Z"
   },
   {
    "duration": 146,
    "start_time": "2022-02-21T15:13:47.338Z"
   },
   {
    "duration": 120,
    "start_time": "2022-02-21T15:13:47.487Z"
   },
   {
    "duration": 186,
    "start_time": "2022-02-21T15:13:47.609Z"
   },
   {
    "duration": 230,
    "start_time": "2022-02-21T15:13:47.797Z"
   },
   {
    "duration": 339,
    "start_time": "2022-02-21T15:13:48.029Z"
   },
   {
    "duration": 222,
    "start_time": "2022-02-21T15:13:48.370Z"
   },
   {
    "duration": 223,
    "start_time": "2022-02-21T15:13:48.595Z"
   },
   {
    "duration": 225,
    "start_time": "2022-02-21T15:13:48.820Z"
   },
   {
    "duration": 5,
    "start_time": "2022-02-21T18:07:12.979Z"
   },
   {
    "duration": 722,
    "start_time": "2022-02-21T18:10:30.422Z"
   },
   {
    "duration": 933,
    "start_time": "2022-02-21T18:11:08.936Z"
   },
   {
    "duration": 4,
    "start_time": "2022-02-21T18:12:25.848Z"
   },
   {
    "duration": 3543,
    "start_time": "2022-02-21T18:12:29.733Z"
   },
   {
    "duration": 4,
    "start_time": "2022-02-21T18:15:20.840Z"
   },
   {
    "duration": 569,
    "start_time": "2022-02-21T18:15:24.003Z"
   },
   {
    "duration": 4,
    "start_time": "2022-02-21T18:16:45.359Z"
   },
   {
    "duration": 389,
    "start_time": "2022-02-21T18:16:45.371Z"
   },
   {
    "duration": 17,
    "start_time": "2022-02-21T18:16:45.763Z"
   },
   {
    "duration": 427,
    "start_time": "2022-02-21T18:16:45.784Z"
   },
   {
    "duration": 189,
    "start_time": "2022-02-21T18:16:46.214Z"
   },
   {
    "duration": 199,
    "start_time": "2022-02-21T18:16:46.405Z"
   },
   {
    "duration": 146,
    "start_time": "2022-02-21T18:16:46.606Z"
   },
   {
    "duration": 207,
    "start_time": "2022-02-21T18:16:46.754Z"
   },
   {
    "duration": 240,
    "start_time": "2022-02-21T18:16:46.964Z"
   },
   {
    "duration": 177,
    "start_time": "2022-02-21T18:16:47.210Z"
   },
   {
    "duration": 332,
    "start_time": "2022-02-21T18:16:47.390Z"
   },
   {
    "duration": 272,
    "start_time": "2022-02-21T18:16:47.725Z"
   },
   {
    "duration": 262,
    "start_time": "2022-02-21T18:16:48.000Z"
   },
   {
    "duration": 220,
    "start_time": "2022-02-21T18:16:48.265Z"
   },
   {
    "duration": 250,
    "start_time": "2022-02-21T18:16:48.489Z"
   },
   {
    "duration": 371,
    "start_time": "2022-02-21T18:16:48.741Z"
   },
   {
    "duration": 250,
    "start_time": "2022-02-21T18:16:49.115Z"
   },
   {
    "duration": 266,
    "start_time": "2022-02-21T18:16:49.367Z"
   },
   {
    "duration": 249,
    "start_time": "2022-02-21T18:16:49.635Z"
   },
   {
    "duration": 257,
    "start_time": "2022-02-21T18:16:49.887Z"
   },
   {
    "duration": 206,
    "start_time": "2022-02-21T18:16:50.147Z"
   },
   {
    "duration": 231,
    "start_time": "2022-02-21T18:16:50.355Z"
   },
   {
    "duration": 614,
    "start_time": "2022-02-21T18:17:00.429Z"
   },
   {
    "duration": 4,
    "start_time": "2022-02-21T18:18:18.067Z"
   },
   {
    "duration": 1447,
    "start_time": "2022-02-21T18:18:20.339Z"
   },
   {
    "duration": 5,
    "start_time": "2022-02-21T18:21:15.865Z"
   },
   {
    "duration": 21,
    "start_time": "2022-02-21T18:21:20.689Z"
   },
   {
    "duration": 19,
    "start_time": "2022-02-21T18:22:37.194Z"
   },
   {
    "duration": 20,
    "start_time": "2022-02-21T18:22:50.681Z"
   },
   {
    "duration": 5,
    "start_time": "2022-02-21T18:23:38.700Z"
   },
   {
    "duration": 22,
    "start_time": "2022-02-21T18:23:47.102Z"
   },
   {
    "duration": 19,
    "start_time": "2022-02-21T18:24:25.359Z"
   },
   {
    "duration": 19,
    "start_time": "2022-02-21T18:25:04.372Z"
   },
   {
    "duration": 466,
    "start_time": "2022-02-21T18:37:14.792Z"
   },
   {
    "duration": 301,
    "start_time": "2022-02-21T18:38:58.459Z"
   },
   {
    "duration": 288,
    "start_time": "2022-02-21T18:39:16.885Z"
   },
   {
    "duration": 291,
    "start_time": "2022-02-21T18:42:11.513Z"
   },
   {
    "duration": 376,
    "start_time": "2022-02-21T18:42:39.526Z"
   },
   {
    "duration": 13,
    "start_time": "2022-02-21T18:45:15.704Z"
   },
   {
    "duration": 5,
    "start_time": "2022-02-21T19:01:45.789Z"
   },
   {
    "duration": 5,
    "start_time": "2022-02-21T19:01:47.314Z"
   },
   {
    "duration": 13,
    "start_time": "2022-02-21T19:02:20.696Z"
   },
   {
    "duration": 12,
    "start_time": "2022-02-21T19:02:52.285Z"
   },
   {
    "duration": 4,
    "start_time": "2022-02-21T19:05:14.451Z"
   },
   {
    "duration": 415,
    "start_time": "2022-02-21T19:05:14.461Z"
   },
   {
    "duration": 85,
    "start_time": "2022-02-21T19:05:14.880Z"
   },
   {
    "duration": 247,
    "start_time": "2022-02-21T19:05:14.969Z"
   },
   {
    "duration": 214,
    "start_time": "2022-02-21T19:05:15.220Z"
   },
   {
    "duration": 208,
    "start_time": "2022-02-21T19:05:15.437Z"
   },
   {
    "duration": 157,
    "start_time": "2022-02-21T19:05:15.647Z"
   },
   {
    "duration": 270,
    "start_time": "2022-02-21T19:05:15.807Z"
   },
   {
    "duration": 358,
    "start_time": "2022-02-21T19:05:16.081Z"
   },
   {
    "duration": 213,
    "start_time": "2022-02-21T19:05:16.442Z"
   },
   {
    "duration": 181,
    "start_time": "2022-02-21T19:05:16.662Z"
   },
   {
    "duration": 247,
    "start_time": "2022-02-21T19:05:16.846Z"
   },
   {
    "duration": 186,
    "start_time": "2022-02-21T19:05:17.095Z"
   },
   {
    "duration": 203,
    "start_time": "2022-02-21T19:05:17.283Z"
   },
   {
    "duration": 234,
    "start_time": "2022-02-21T19:05:17.488Z"
   },
   {
    "duration": 216,
    "start_time": "2022-02-21T19:05:17.726Z"
   },
   {
    "duration": 215,
    "start_time": "2022-02-21T19:05:17.944Z"
   },
   {
    "duration": 178,
    "start_time": "2022-02-21T19:05:18.161Z"
   },
   {
    "duration": 176,
    "start_time": "2022-02-21T19:05:18.341Z"
   },
   {
    "duration": 242,
    "start_time": "2022-02-21T19:05:18.519Z"
   },
   {
    "duration": 207,
    "start_time": "2022-02-21T19:05:18.763Z"
   },
   {
    "duration": 177,
    "start_time": "2022-02-21T19:05:18.973Z"
   },
   {
    "duration": 279,
    "start_time": "2022-02-21T19:05:19.152Z"
   },
   {
    "duration": 216,
    "start_time": "2022-02-21T19:05:19.438Z"
   },
   {
    "duration": 215,
    "start_time": "2022-02-21T19:05:19.657Z"
   },
   {
    "duration": 269,
    "start_time": "2022-02-21T19:05:19.874Z"
   },
   {
    "duration": 223,
    "start_time": "2022-02-21T19:05:20.146Z"
   },
   {
    "duration": 224,
    "start_time": "2022-02-21T19:05:20.372Z"
   },
   {
    "duration": 234,
    "start_time": "2022-02-21T19:05:20.599Z"
   },
   {
    "duration": 188,
    "start_time": "2022-02-21T19:05:20.836Z"
   },
   {
    "duration": 20,
    "start_time": "2022-02-21T19:05:35.484Z"
   },
   {
    "duration": 23,
    "start_time": "2022-02-21T19:05:37.218Z"
   },
   {
    "duration": 29,
    "start_time": "2022-02-21T19:05:51.149Z"
   },
   {
    "duration": 20,
    "start_time": "2022-02-21T19:05:58.781Z"
   },
   {
    "duration": 5,
    "start_time": "2022-02-21T19:24:33.553Z"
   },
   {
    "duration": 29,
    "start_time": "2022-02-21T19:24:36.357Z"
   },
   {
    "duration": 20,
    "start_time": "2022-02-21T19:26:04.319Z"
   },
   {
    "duration": 26,
    "start_time": "2022-02-21T19:26:10.412Z"
   },
   {
    "duration": 20,
    "start_time": "2022-02-21T19:26:16.511Z"
   },
   {
    "duration": 332,
    "start_time": "2022-02-21T19:58:49.402Z"
   },
   {
    "duration": 288,
    "start_time": "2022-02-21T20:04:01.577Z"
   },
   {
    "duration": 12,
    "start_time": "2022-02-21T20:04:14.224Z"
   },
   {
    "duration": 6,
    "start_time": "2022-02-21T20:05:18.600Z"
   },
   {
    "duration": 12,
    "start_time": "2022-02-21T20:06:10.472Z"
   },
   {
    "duration": 11,
    "start_time": "2022-02-21T20:06:20.421Z"
   },
   {
    "duration": 7,
    "start_time": "2022-02-21T20:06:37.849Z"
   },
   {
    "duration": 4,
    "start_time": "2022-02-21T20:09:09.199Z"
   },
   {
    "duration": 201,
    "start_time": "2022-02-21T20:09:09.214Z"
   },
   {
    "duration": 17,
    "start_time": "2022-02-21T20:09:09.418Z"
   },
   {
    "duration": 51,
    "start_time": "2022-02-21T20:09:09.438Z"
   },
   {
    "duration": 4,
    "start_time": "2022-02-21T20:09:09.492Z"
   },
   {
    "duration": 29,
    "start_time": "2022-02-21T20:09:09.499Z"
   },
   {
    "duration": 33,
    "start_time": "2022-02-21T20:09:09.531Z"
   },
   {
    "duration": 33,
    "start_time": "2022-02-21T20:09:09.567Z"
   },
   {
    "duration": 110,
    "start_time": "2022-02-21T20:09:09.602Z"
   },
   {
    "duration": 32,
    "start_time": "2022-02-21T20:09:09.717Z"
   },
   {
    "duration": 82,
    "start_time": "2022-02-21T20:09:09.762Z"
   },
   {
    "duration": 121,
    "start_time": "2022-02-21T20:09:09.847Z"
   },
   {
    "duration": 91,
    "start_time": "2022-02-21T20:09:09.971Z"
   },
   {
    "duration": 15,
    "start_time": "2022-02-21T20:09:10.065Z"
   },
   {
    "duration": 5,
    "start_time": "2022-02-21T20:09:10.082Z"
   },
   {
    "duration": 22,
    "start_time": "2022-02-21T20:09:10.091Z"
   },
   {
    "duration": 53,
    "start_time": "2022-02-21T20:09:10.116Z"
   },
   {
    "duration": 7,
    "start_time": "2022-02-21T20:09:10.171Z"
   },
   {
    "duration": 50,
    "start_time": "2022-02-21T20:09:10.181Z"
   },
   {
    "duration": 16,
    "start_time": "2022-02-21T20:09:10.234Z"
   },
   {
    "duration": 20,
    "start_time": "2022-02-21T20:09:10.252Z"
   },
   {
    "duration": 4,
    "start_time": "2022-02-21T20:09:10.275Z"
   },
   {
    "duration": 25,
    "start_time": "2022-02-21T20:09:10.282Z"
   },
   {
    "duration": 57,
    "start_time": "2022-02-21T20:09:10.310Z"
   },
   {
    "duration": 23,
    "start_time": "2022-02-21T20:09:10.371Z"
   },
   {
    "duration": 19,
    "start_time": "2022-02-21T20:09:10.396Z"
   },
   {
    "duration": 46,
    "start_time": "2022-02-21T20:09:10.417Z"
   },
   {
    "duration": 20,
    "start_time": "2022-02-21T20:09:10.470Z"
   },
   {
    "duration": 12,
    "start_time": "2022-02-21T20:09:10.492Z"
   },
   {
    "duration": 57,
    "start_time": "2022-02-21T20:09:10.507Z"
   },
   {
    "duration": 17,
    "start_time": "2022-02-21T20:09:10.567Z"
   },
   {
    "duration": 7,
    "start_time": "2022-02-21T20:09:10.587Z"
   },
   {
    "duration": 28,
    "start_time": "2022-02-21T20:09:10.596Z"
   },
   {
    "duration": 41,
    "start_time": "2022-02-21T20:09:10.627Z"
   },
   {
    "duration": 23,
    "start_time": "2022-02-21T20:09:10.671Z"
   },
   {
    "duration": 19,
    "start_time": "2022-02-21T20:09:10.696Z"
   },
   {
    "duration": 53,
    "start_time": "2022-02-21T20:09:10.718Z"
   },
   {
    "duration": 6,
    "start_time": "2022-02-21T20:09:10.774Z"
   },
   {
    "duration": 10,
    "start_time": "2022-02-21T20:09:10.783Z"
   },
   {
    "duration": 6,
    "start_time": "2022-02-21T20:09:10.796Z"
   },
   {
    "duration": 12,
    "start_time": "2022-02-21T20:18:43.481Z"
   },
   {
    "duration": 20,
    "start_time": "2022-02-21T20:19:44.193Z"
   },
   {
    "duration": 22,
    "start_time": "2022-02-21T20:19:45.223Z"
   },
   {
    "duration": 31,
    "start_time": "2022-02-21T20:19:46.099Z"
   },
   {
    "duration": 46,
    "start_time": "2022-02-21T20:19:46.941Z"
   },
   {
    "duration": 33,
    "start_time": "2022-02-21T20:19:48.237Z"
   },
   {
    "duration": 21,
    "start_time": "2022-02-21T20:19:51.672Z"
   },
   {
    "duration": 18,
    "start_time": "2022-02-21T20:20:49.851Z"
   },
   {
    "duration": 27,
    "start_time": "2022-02-21T20:23:47.959Z"
   },
   {
    "duration": 33,
    "start_time": "2022-02-21T20:23:59.424Z"
   },
   {
    "duration": 136,
    "start_time": "2022-03-03T15:47:02.553Z"
   },
   {
    "duration": 91,
    "start_time": "2022-03-03T15:57:39.301Z"
   },
   {
    "duration": 118,
    "start_time": "2022-03-03T16:04:50.885Z"
   },
   {
    "duration": 343,
    "start_time": "2022-03-03T20:41:35.473Z"
   },
   {
    "duration": 789,
    "start_time": "2022-03-03T21:24:57.156Z"
   },
   {
    "duration": 221,
    "start_time": "2022-03-03T21:24:57.948Z"
   },
   {
    "duration": 26,
    "start_time": "2022-03-03T21:24:58.174Z"
   },
   {
    "duration": 34,
    "start_time": "2022-03-03T21:24:58.202Z"
   },
   {
    "duration": 6,
    "start_time": "2022-03-03T21:24:58.238Z"
   },
   {
    "duration": 30,
    "start_time": "2022-03-03T21:24:58.274Z"
   },
   {
    "duration": 7,
    "start_time": "2022-03-03T21:24:58.307Z"
   },
   {
    "duration": 58,
    "start_time": "2022-03-03T21:24:58.319Z"
   },
   {
    "duration": 103,
    "start_time": "2022-03-03T21:24:58.381Z"
   },
   {
    "duration": 30,
    "start_time": "2022-03-03T21:24:58.487Z"
   },
   {
    "duration": 109,
    "start_time": "2022-03-03T21:24:58.520Z"
   },
   {
    "duration": 122,
    "start_time": "2022-03-03T21:24:58.631Z"
   },
   {
    "duration": 84,
    "start_time": "2022-03-03T21:24:58.757Z"
   },
   {
    "duration": 318,
    "start_time": "2022-03-03T21:24:58.843Z"
   },
   {
    "duration": -180,
    "start_time": "2022-03-03T21:24:59.345Z"
   },
   {
    "duration": -181,
    "start_time": "2022-03-03T21:24:59.347Z"
   },
   {
    "duration": -185,
    "start_time": "2022-03-03T21:24:59.353Z"
   },
   {
    "duration": -187,
    "start_time": "2022-03-03T21:24:59.356Z"
   },
   {
    "duration": -188,
    "start_time": "2022-03-03T21:24:59.358Z"
   },
   {
    "duration": -188,
    "start_time": "2022-03-03T21:24:59.360Z"
   },
   {
    "duration": -189,
    "start_time": "2022-03-03T21:24:59.362Z"
   },
   {
    "duration": -189,
    "start_time": "2022-03-03T21:24:59.364Z"
   },
   {
    "duration": -191,
    "start_time": "2022-03-03T21:24:59.367Z"
   },
   {
    "duration": -195,
    "start_time": "2022-03-03T21:24:59.373Z"
   },
   {
    "duration": -196,
    "start_time": "2022-03-03T21:24:59.375Z"
   },
   {
    "duration": -196,
    "start_time": "2022-03-03T21:24:59.377Z"
   },
   {
    "duration": -197,
    "start_time": "2022-03-03T21:24:59.379Z"
   },
   {
    "duration": -198,
    "start_time": "2022-03-03T21:24:59.381Z"
   },
   {
    "duration": -200,
    "start_time": "2022-03-03T21:24:59.385Z"
   },
   {
    "duration": -202,
    "start_time": "2022-03-03T21:24:59.388Z"
   },
   {
    "duration": -207,
    "start_time": "2022-03-03T21:24:59.394Z"
   },
   {
    "duration": -208,
    "start_time": "2022-03-03T21:24:59.397Z"
   },
   {
    "duration": -209,
    "start_time": "2022-03-03T21:24:59.399Z"
   },
   {
    "duration": -209,
    "start_time": "2022-03-03T21:24:59.401Z"
   },
   {
    "duration": -210,
    "start_time": "2022-03-03T21:24:59.403Z"
   },
   {
    "duration": -211,
    "start_time": "2022-03-03T21:24:59.405Z"
   },
   {
    "duration": -210,
    "start_time": "2022-03-03T21:24:59.406Z"
   },
   {
    "duration": -211,
    "start_time": "2022-03-03T21:24:59.408Z"
   },
   {
    "duration": -212,
    "start_time": "2022-03-03T21:24:59.411Z"
   },
   {
    "duration": -213,
    "start_time": "2022-03-03T21:24:59.413Z"
   },
   {
    "duration": 58,
    "start_time": "2022-03-03T21:26:55.941Z"
   },
   {
    "duration": 5,
    "start_time": "2022-03-03T21:27:37.172Z"
   },
   {
    "duration": 21,
    "start_time": "2022-03-03T21:27:43.556Z"
   },
   {
    "duration": 256,
    "start_time": "2022-03-03T21:27:48.172Z"
   },
   {
    "duration": 58,
    "start_time": "2022-03-03T21:27:53.637Z"
   },
   {
    "duration": 6,
    "start_time": "2022-03-03T21:28:07.835Z"
   },
   {
    "duration": 15,
    "start_time": "2022-03-03T21:28:13.271Z"
   },
   {
    "duration": 242,
    "start_time": "2022-03-03T21:28:47.611Z"
   },
   {
    "duration": 260,
    "start_time": "2022-03-03T21:29:04.843Z"
   },
   {
    "duration": 58,
    "start_time": "2022-03-03T21:29:14.075Z"
   },
   {
    "duration": 759,
    "start_time": "2022-03-03T21:29:26.976Z"
   },
   {
    "duration": 191,
    "start_time": "2022-03-03T21:29:27.738Z"
   },
   {
    "duration": 28,
    "start_time": "2022-03-03T21:29:27.932Z"
   },
   {
    "duration": 40,
    "start_time": "2022-03-03T21:29:27.975Z"
   },
   {
    "duration": 7,
    "start_time": "2022-03-03T21:29:28.020Z"
   },
   {
    "duration": 61,
    "start_time": "2022-03-03T21:29:28.030Z"
   },
   {
    "duration": 5,
    "start_time": "2022-03-03T21:29:28.094Z"
   },
   {
    "duration": 32,
    "start_time": "2022-03-03T21:29:28.103Z"
   },
   {
    "duration": 113,
    "start_time": "2022-03-03T21:29:28.138Z"
   },
   {
    "duration": 40,
    "start_time": "2022-03-03T21:29:28.254Z"
   },
   {
    "duration": 102,
    "start_time": "2022-03-03T21:29:28.297Z"
   },
   {
    "duration": 107,
    "start_time": "2022-03-03T21:29:28.401Z"
   },
   {
    "duration": 87,
    "start_time": "2022-03-03T21:29:28.511Z"
   },
   {
    "duration": 73,
    "start_time": "2022-03-03T21:29:28.600Z"
   },
   {
    "duration": 4,
    "start_time": "2022-03-03T21:29:28.676Z"
   },
   {
    "duration": 25,
    "start_time": "2022-03-03T21:29:28.683Z"
   },
   {
    "duration": 75,
    "start_time": "2022-03-03T21:29:28.711Z"
   },
   {
    "duration": 7,
    "start_time": "2022-03-03T21:29:28.788Z"
   },
   {
    "duration": 78,
    "start_time": "2022-03-03T21:29:28.797Z"
   },
   {
    "duration": 16,
    "start_time": "2022-03-03T21:29:28.877Z"
   },
   {
    "duration": 14,
    "start_time": "2022-03-03T21:29:28.895Z"
   },
   {
    "duration": 5,
    "start_time": "2022-03-03T21:29:28.911Z"
   },
   {
    "duration": 56,
    "start_time": "2022-03-03T21:29:28.920Z"
   },
   {
    "duration": 18,
    "start_time": "2022-03-03T21:29:28.978Z"
   },
   {
    "duration": 19,
    "start_time": "2022-03-03T21:29:28.999Z"
   },
   {
    "duration": 18,
    "start_time": "2022-03-03T21:29:29.020Z"
   },
   {
    "duration": 22,
    "start_time": "2022-03-03T21:29:29.074Z"
   },
   {
    "duration": 19,
    "start_time": "2022-03-03T21:29:29.098Z"
   },
   {
    "duration": 12,
    "start_time": "2022-03-03T21:29:29.120Z"
   },
   {
    "duration": 49,
    "start_time": "2022-03-03T21:29:29.135Z"
   },
   {
    "duration": 16,
    "start_time": "2022-03-03T21:29:29.186Z"
   },
   {
    "duration": 10,
    "start_time": "2022-03-03T21:29:29.205Z"
   },
   {
    "duration": 39,
    "start_time": "2022-03-03T21:29:29.217Z"
   },
   {
    "duration": 26,
    "start_time": "2022-03-03T21:29:29.258Z"
   },
   {
    "duration": 34,
    "start_time": "2022-03-03T21:29:29.286Z"
   },
   {
    "duration": 20,
    "start_time": "2022-03-03T21:29:29.322Z"
   },
   {
    "duration": 33,
    "start_time": "2022-03-03T21:29:29.344Z"
   },
   {
    "duration": 6,
    "start_time": "2022-03-03T21:29:29.379Z"
   },
   {
    "duration": 10,
    "start_time": "2022-03-03T21:29:29.387Z"
   },
   {
    "duration": 8,
    "start_time": "2022-03-03T21:29:29.399Z"
   },
   {
    "duration": 723,
    "start_time": "2022-03-03T21:37:29.218Z"
   },
   {
    "duration": 200,
    "start_time": "2022-03-03T21:37:29.944Z"
   },
   {
    "duration": 30,
    "start_time": "2022-03-03T21:37:30.147Z"
   },
   {
    "duration": 38,
    "start_time": "2022-03-03T21:37:30.181Z"
   },
   {
    "duration": 12,
    "start_time": "2022-03-03T21:37:30.222Z"
   },
   {
    "duration": 60,
    "start_time": "2022-03-03T21:37:30.237Z"
   },
   {
    "duration": 18,
    "start_time": "2022-03-03T21:37:30.299Z"
   },
   {
    "duration": 51,
    "start_time": "2022-03-03T21:37:30.323Z"
   },
   {
    "duration": 104,
    "start_time": "2022-03-03T21:37:30.379Z"
   },
   {
    "duration": 30,
    "start_time": "2022-03-03T21:37:30.485Z"
   },
   {
    "duration": 104,
    "start_time": "2022-03-03T21:37:30.518Z"
   },
   {
    "duration": 116,
    "start_time": "2022-03-03T21:37:30.625Z"
   },
   {
    "duration": 87,
    "start_time": "2022-03-03T21:37:30.743Z"
   },
   {
    "duration": 66,
    "start_time": "2022-03-03T21:37:30.833Z"
   },
   {
    "duration": 18,
    "start_time": "2022-03-03T21:37:30.901Z"
   },
   {
    "duration": 45,
    "start_time": "2022-03-03T21:37:30.921Z"
   },
   {
    "duration": 60,
    "start_time": "2022-03-03T21:37:30.968Z"
   },
   {
    "duration": 26,
    "start_time": "2022-03-03T21:37:31.031Z"
   },
   {
    "duration": 76,
    "start_time": "2022-03-03T21:37:31.059Z"
   },
   {
    "duration": 29,
    "start_time": "2022-03-03T21:37:31.137Z"
   },
   {
    "duration": 20,
    "start_time": "2022-03-03T21:37:31.168Z"
   },
   {
    "duration": 22,
    "start_time": "2022-03-03T21:37:31.190Z"
   },
   {
    "duration": 34,
    "start_time": "2022-03-03T21:37:31.217Z"
   },
   {
    "duration": 29,
    "start_time": "2022-03-03T21:37:31.253Z"
   },
   {
    "duration": 28,
    "start_time": "2022-03-03T21:37:31.284Z"
   },
   {
    "duration": 34,
    "start_time": "2022-03-03T21:37:31.314Z"
   },
   {
    "duration": 51,
    "start_time": "2022-03-03T21:37:31.350Z"
   },
   {
    "duration": 31,
    "start_time": "2022-03-03T21:37:31.403Z"
   },
   {
    "duration": 18,
    "start_time": "2022-03-03T21:37:31.437Z"
   },
   {
    "duration": 33,
    "start_time": "2022-03-03T21:37:31.457Z"
   },
   {
    "duration": 15,
    "start_time": "2022-03-03T21:37:31.492Z"
   },
   {
    "duration": 16,
    "start_time": "2022-03-03T21:37:31.509Z"
   },
   {
    "duration": 42,
    "start_time": "2022-03-03T21:37:31.527Z"
   },
   {
    "duration": 23,
    "start_time": "2022-03-03T21:37:31.572Z"
   },
   {
    "duration": 35,
    "start_time": "2022-03-03T21:37:31.598Z"
   },
   {
    "duration": 28,
    "start_time": "2022-03-03T21:37:31.636Z"
   },
   {
    "duration": 25,
    "start_time": "2022-03-03T21:37:31.666Z"
   },
   {
    "duration": 24,
    "start_time": "2022-03-03T21:37:31.694Z"
   },
   {
    "duration": 20,
    "start_time": "2022-03-03T21:37:31.721Z"
   },
   {
    "duration": 21,
    "start_time": "2022-03-03T21:37:31.744Z"
   },
   {
    "duration": 214,
    "start_time": "2022-03-04T16:35:44.288Z"
   }
  ],
  "colab": {
   "collapsed_sections": [
    "E0vqbgi9ay0H",
    "VUC88oWjTJw2"
   ],
   "name": "yandex_music_project_2021.2.ipynb",
   "provenance": []
  },
  "kernelspec": {
   "display_name": "Python 3 (ipykernel)",
   "language": "python",
   "name": "python3"
  },
  "language_info": {
   "codemirror_mode": {
    "name": "ipython",
    "version": 3
   },
   "file_extension": ".py",
   "mimetype": "text/x-python",
   "name": "python",
   "nbconvert_exporter": "python",
   "pygments_lexer": "ipython3",
   "version": "3.9.7"
  },
  "toc": {
   "base_numbering": 1,
   "nav_menu": {},
   "number_sections": true,
   "sideBar": true,
   "skip_h1_title": true,
   "title_cell": "Table of Contents",
   "title_sidebar": "Contents",
   "toc_cell": false,
   "toc_position": {},
   "toc_section_display": true,
   "toc_window_display": true
  }
 },
 "nbformat": 4,
 "nbformat_minor": 1
}
